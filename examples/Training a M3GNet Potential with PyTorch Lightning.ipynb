{
 "cells": [
  {
   "cell_type": "markdown",
   "id": "35c97a76",
   "metadata": {},
   "source": [
    "# Introduction\n",
    "\n",
    "This notebook demonstrates how to fit a M3GNet potential using PyTorch Lightning with MatGL."
   ]
  },
  {
   "cell_type": "code",
   "execution_count": null,
   "id": "6355190a",
   "metadata": {},
   "outputs": [],
   "source": [
    "from __future__ import annotations\n",
    "\n",
    "import os\n",
    "import shutil\n",
    "import warnings\n",
    "\n",
    "import numpy as np\n",
    "import pytorch_lightning as pl\n",
    "from dgl.data.utils import split_dataset\n",
    "from pymatgen.ext.matproj import MPRester\n",
    "from pytorch_lightning.loggers import CSVLogger\n",
    "\n",
    "from matgl.ext.pymatgen import Structure2Graph, get_element_list\n",
    "from matgl.graph.data import M3GNetDataset, MGLDataLoader, collate_fn_efs\n",
    "from matgl.models import M3GNet\n",
    "from matgl.utils.training import PotentialLightningModule\n",
    "\n",
    "# To suppress warnings for clearer output\n",
    "warnings.simplefilter(\"ignore\")"
   ]
  },
  {
   "cell_type": "markdown",
   "id": "eaafc0bd",
   "metadata": {},
   "source": [
    "For the purposes of demonstration, we will download all Si-O compounds in the Materials Project via the MPRester. The forces and stresses are set to zero, though in a real context, these would be non-zero and obtained from DFT calculations."
   ]
  },
  {
   "cell_type": "code",
   "execution_count": null,
   "id": "ad359f9f",
   "metadata": {},
   "outputs": [
    {
     "data": {
      "application/vnd.jupyter.widget-view+json": {
       "model_id": "a59577f6cc7447bdb16cae332fd741c6",
       "version_major": 2,
       "version_minor": 0
      },
      "text/plain": [
       "Retrieving ThermoDoc documents:   0%|          | 0/407 [00:00<?, ?it/s]"
      ]
     },
     "metadata": {},
     "output_type": "display_data"
    },
    {
     "name": "stdout",
     "output_type": "stream",
     "text": [
      "407 downloaded from MP.\n"
     ]
    }
   ],
   "source": [
    "mpr = MPRester()\n",
    "\n",
    "entries = mpr.get_entries_in_chemsys([\"Si\", \"O\"])\n",
    "structures = [e.structure for e in entries]\n",
    "energies = [e.energy for e in entries]\n",
    "forces = [np.zeros((len(s), 3)).tolist() for s in structures]\n",
    "stresses = [np.zeros((3, 3)).tolist() for s in structures]\n",
    "\n",
    "print(f\"{len(structures)} downloaded from MP.\")"
   ]
  },
  {
   "cell_type": "markdown",
   "id": "f666cb23",
   "metadata": {},
   "source": [
    "We will first setup the M3GNet model and the LightningModule."
   ]
  },
  {
   "cell_type": "code",
   "execution_count": null,
   "id": "e9dc84cb",
   "metadata": {},
   "outputs": [
    {
     "name": "stderr",
     "output_type": "stream",
     "text": [
      "100%|███████████████████████████████████████████████████████████████████████████████████████| 407/407 [00:02<00:00, 202.56it/s]\n"
     ]
    }
   ],
   "source": [
    "element_types = get_element_list(structures)\n",
    "converter = Structure2Graph(element_types=element_types, cutoff=5.0)\n",
    "dataset = M3GNetDataset(\n",
    "    threebody_cutoff=4.0,\n",
    "    structures=structures,\n",
    "    converter=converter,\n",
    "    energies=energies,\n",
    "    forces=forces,\n",
    "    stresses=stresses,\n",
    ")\n",
    "train_data, val_data, test_data = split_dataset(\n",
    "    dataset,\n",
    "    frac_list=[0.8, 0.1, 0.1],\n",
    "    shuffle=True,\n",
    "    random_state=42,\n",
    ")\n",
    "train_loader, val_loader, test_loader = MGLDataLoader(\n",
    "    train_data=train_data,\n",
    "    val_data=val_data,\n",
    "    test_data=test_data,\n",
    "    collate_fn=collate_fn_efs,\n",
    "    batch_size=2,\n",
    "    num_workers=1,\n",
    ")\n",
    "model = M3GNet(\n",
    "    element_types=element_types,\n",
    "    is_intensive=False,\n",
    ")\n",
    "lit_module = PotentialLightningModule(model=model)"
   ]
  },
  {
   "cell_type": "markdown",
   "id": "01be4689",
   "metadata": {},
   "source": [
    "Finally, we will initialize the Pytorch Lightning trainer and run the fitting. Here, the max_epochs is set to 2 just for demonstration purposes. In a real fitting, this would be a much larger number. Also, the `accelerator=\"cpu\"` was set just to ensure compatibility with M1 Macs. In a real world use case, please remove the kwarg or set it to cuda for GPU based training. "
   ]
  },
  {
   "cell_type": "code",
   "execution_count": null,
   "id": "7472d071",
   "metadata": {},
   "outputs": [
    {
     "name": "stderr",
     "output_type": "stream",
     "text": [
      "GPU available: True (mps), used: False\n",
      "TPU available: False, using: 0 TPU cores\n",
      "IPU available: False, using: 0 IPUs\n",
      "HPU available: False, using: 0 HPUs\n",
      "\n",
      "  | Name  | Type              | Params\n",
      "--------------------------------------------\n",
      "0 | model | Potential         | 282 K \n",
      "1 | mae   | MeanAbsoluteError | 0     \n",
      "2 | rmse  | MeanSquaredError  | 0     \n",
      "--------------------------------------------\n",
      "282 K     Trainable params\n",
      "0         Non-trainable params\n",
      "282 K     Total params\n",
      "1.130     Total estimated model params size (MB)\n"
     ]
    },
    {
     "data": {
      "application/vnd.jupyter.widget-view+json": {
       "model_id": "",
       "version_major": 2,
       "version_minor": 0
      },
      "text/plain": [
       "Sanity Checking: 0it [00:00, ?it/s]"
      ]
     },
     "metadata": {},
     "output_type": "display_data"
    },
    {
     "data": {
      "application/vnd.jupyter.widget-view+json": {
       "model_id": "8923331d11f243b99925ce07cefefdaf",
       "version_major": 2,
       "version_minor": 0
      },
      "text/plain": [
       "Training: 0it [00:00, ?it/s]"
      ]
     },
     "metadata": {},
     "output_type": "display_data"
    },
    {
     "data": {
      "application/vnd.jupyter.widget-view+json": {
       "model_id": "",
       "version_major": 2,
       "version_minor": 0
      },
      "text/plain": [
       "Validation: 0it [00:00, ?it/s]"
      ]
     },
     "metadata": {},
     "output_type": "display_data"
    },
    {
     "data": {
      "application/vnd.jupyter.widget-view+json": {
       "model_id": "",
       "version_major": 2,
       "version_minor": 0
      },
      "text/plain": [
       "Validation: 0it [00:00, ?it/s]"
      ]
     },
     "metadata": {},
     "output_type": "display_data"
    },
    {
     "name": "stderr",
     "output_type": "stream",
     "text": [
      "`Trainer.fit` stopped: `max_epochs=2` reached.\n"
     ]
    }
   ],
   "source": [
    "# If you wish to disable GPU or MPS (M1 mac) training, use the accelerator=\"cpu\" kwarg.\n",
    "logger = CSVLogger(\"logs\", name=\"M3GNet_training\")\n",
    "trainer = pl.Trainer(max_epochs=2, accelerator=\"cpu\", logger=logger)\n",
    "trainer.fit(model=lit_module, train_dataloaders=train_loader, val_dataloaders=val_loader)"
   ]
  },
  {
   "cell_type": "code",
   "execution_count": null,
   "id": "ddc98266",
   "metadata": {},
   "outputs": [],
   "source": [
    "# This code just performs cleanup for this notebook.\n",
    "\n",
    "for fn in (\"dgl_graph.bin\", \"dgl_line_graph.bin\", \"state_attr.pt\", \"labels.json\"):\n",
    "    try:\n",
    "        os.remove(fn)\n",
    "    except FileNotFoundError:\n",
    "        pass\n",
    "\n",
    "shutil.rmtree(\"lightning_logs\")"
   ]
  }
 ],
 "metadata": {
  "kernelspec": {
   "display_name": "Python 3 (ipykernel)",
   "language": "python",
   "name": "python3"
  },
  "language_info": {
   "codemirror_mode": {
    "name": "ipython",
    "version": 3
   },
   "file_extension": ".py",
   "mimetype": "text/x-python",
   "name": "python",
   "nbconvert_exporter": "python",
   "pygments_lexer": "ipython3",
   "version": "3.9.16"
  }
 },
 "nbformat": 4,
 "nbformat_minor": 5
}
