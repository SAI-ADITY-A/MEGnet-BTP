{
 "cells": [
  {
   "cell_type": "markdown",
   "id": "b7d59ce0",
   "metadata": {},
   "source": [
    "# Introduction\n",
    "\n",
    "There may be instances where you do not have access to a DFT relaxed structure. For instance, you may have a generated hypothetical structure or a structure obtained from an experimental source. In this notebook, we demonstrate how you can use the M3GNet universal potential to relax a crystal prior to property predictions. \n",
    "\n",
    "This provides a pathway to \"DFT-free\" property predictions using ML models. It should be cautioned that this is not a substitute for DFT and errors can be expected. But it is sufficiently useful in some cases as a pre-screening tool for massive scale exploration of materials."
   ]
  },
  {
   "cell_type": "code",
   "execution_count": null,
   "id": "2a1f839f",
   "metadata": {},
   "outputs": [],
   "source": [
    "from __future__ import annotations\n",
    "\n",
    "import warnings\n",
    "\n",
    "import torch\n",
    "from pymatgen.core import Lattice, Structure\n",
    "from pymatgen.ext.matproj import MPRester\n",
    "\n",
    "import matgl\n",
    "from matgl.ext.ase import Relaxer\n",
    "\n",
    "# To suppress warnings for clearer output\n",
    "warnings.simplefilter(\"ignore\")"
   ]
  },
  {
   "cell_type": "markdown",
   "id": "5cfcabed",
   "metadata": {},
   "source": [
    "For the purposes of demonstration, we will use the perovskite SrTiO3 (STO). We will create a STO with an arbitrary lattice parameter of 4.5 A. "
   ]
  },
  {
   "cell_type": "code",
   "execution_count": null,
   "id": "83bf12c4",
   "metadata": {},
   "outputs": [
    {
     "name": "stdout",
     "output_type": "stream",
     "text": [
      "Full Formula (Sr1 Ti1 O3)\n",
      "Reduced Formula: SrTiO3\n",
      "abc   :   4.500000   4.500000   4.500000\n",
      "angles:  90.000000  90.000000  90.000000\n",
      "pbc   :       True       True       True\n",
      "Sites (5)\n",
      "  #  SP      a    b    c\n",
      "---  ----  ---  ---  ---\n",
      "  0  Sr    0    0    0\n",
      "  1  Ti    0.5  0.5  0.5\n",
      "  2  O     0.5  0    0.5\n",
      "  3  O     0    0.5  0.5\n",
      "  4  O     0.5  0.5  0\n"
     ]
    }
   ],
   "source": [
    "sto = Structure.from_spacegroup(\n",
    "    \"Pm-3m\",\n",
    "    Lattice.cubic(4.5),\n",
    "    [\"Sr\", \"Ti\", \"O\"],\n",
    "    [[0, 0, 0], [0.5, 0.5, 0.5], [0.5, 0.5, 0]])\n",
    "print(sto)"
   ]
  },
  {
   "cell_type": "markdown",
   "id": "0e741ce4",
   "metadata": {},
   "source": [
    "As a ground truth reference, we will also obtain the Materials Project DFT calculated SrTiO3 structure (mpid: mp-???) using pymatgen's interface to the Materials API."
   ]
  },
  {
   "cell_type": "code",
   "execution_count": null,
   "id": "8078bd8d",
   "metadata": {},
   "outputs": [
    {
     "data": {
      "application/vnd.jupyter.widget-view+json": {
       "model_id": "1827af8bbaf94a06a1d620b464e6b6a3",
       "version_major": 2,
       "version_minor": 0
      },
      "text/plain": [
       "Retrieving SummaryDoc documents:   0%|          | 0/1 [00:00<?, ?it/s]"
      ]
     },
     "metadata": {},
     "output_type": "display_data"
    }
   ],
   "source": [
    "mpr = MPRester()\n",
    "doc = mpr.summary.search(material_ids=[\"mp-5229\"])[0]\n",
    "sto_dft = doc.structure\n",
    "sto_dft_bandgap = doc.band_gap\n",
    "sto_dft_forme = doc.formation_energy_per_atom"
   ]
  },
  {
   "cell_type": "markdown",
   "id": "5384e53f",
   "metadata": {},
   "source": [
    "# Relaxing the crystal"
   ]
  },
  {
   "cell_type": "code",
   "execution_count": null,
   "id": "28565e9c",
   "metadata": {},
   "outputs": [],
   "source": [
    "pot = matgl.load_model(\"M3GNet-MP-2021.2.8-PES\")"
   ]
  },
  {
   "cell_type": "code",
   "execution_count": null,
   "id": "2bb72614",
   "metadata": {},
   "outputs": [
    {
     "name": "stdout",
     "output_type": "stream",
     "text": [
      "Full Formula (Sr1 Ti1 O3)\n",
      "Reduced Formula: SrTiO3\n",
      "abc   :   3.937988   3.937988   3.937988\n",
      "angles:  90.000001  90.000000  90.000000\n",
      "pbc   :       True       True       True\n",
      "Sites (5)\n",
      "  #  SP       a    b     c\n",
      "---  ----  ----  ---  ----\n",
      "  0  Sr     0    0    -0\n",
      "  1  Ti     0.5  0.5   0.5\n",
      "  2  O      0.5  0     0.5\n",
      "  3  O     -0    0.5   0.5\n",
      "  4  O      0.5  0.5   0\n"
     ]
    }
   ],
   "source": [
    "relaxer = Relaxer(potential=pot)\n",
    "relax_results = relaxer.relax(sto, fmax=0.01)\n",
    "relaxed_sto = relax_results[\"final_structure\"]\n",
    "print(relaxed_sto)"
   ]
  },
  {
   "cell_type": "markdown",
   "id": "09f735aa",
   "metadata": {},
   "source": [
    "You can compare the lattice parameter with the DFT one from MP. Quite clearly, the M3GNet universal potential does a reasonably good job on relaxing STO."
   ]
  },
  {
   "cell_type": "code",
   "execution_count": null,
   "id": "814f82d9",
   "metadata": {},
   "outputs": [
    {
     "name": "stdout",
     "output_type": "stream",
     "text": [
      "Full Formula (Sr1 Ti1 O3)\n",
      "Reduced Formula: SrTiO3\n",
      "abc   :   3.912701   3.912701   3.912701\n",
      "angles:  90.000000  90.000000  90.000000\n",
      "pbc   :       True       True       True\n",
      "Sites (5)\n",
      "  #  SP       a     b     c    magmom\n",
      "---  ----  ----  ----  ----  --------\n",
      "  0  Sr    -0    -0    -0          -0\n",
      "  1  Ti     0.5   0.5   0.5        -0\n",
      "  2  O      0.5  -0     0.5         0\n",
      "  3  O      0.5   0.5  -0           0\n",
      "  4  O     -0     0.5   0.5         0\n"
     ]
    }
   ],
   "source": [
    "print(sto_dft)"
   ]
  },
  {
   "cell_type": "markdown",
   "id": "32ff3b66",
   "metadata": {},
   "source": [
    "# Formation energy prediction\n",
    "\n",
    "To demonstrate the difference between making predictions with a unrelaxed vs a relaxed crystal, we will load the M3GNet formation energy model."
   ]
  },
  {
   "cell_type": "code",
   "execution_count": null,
   "id": "bb9276bd",
   "metadata": {},
   "outputs": [
    {
     "name": "stdout",
     "output_type": "stream",
     "text": [
      "The predicted formation energy for the unrelaxed SrTiO3 is -2.240 eV/atom.\n",
      "The predicted formation energy for the relaxed SrTiO3 is -3.495 eV/atom.\n",
      "The Materials Project formation energy for DFT-relaxed SrTiO3 is -3.552 eV/atom.\n"
     ]
    }
   ],
   "source": [
    "# Load the pre-trained MEGNet formation energy model.\n",
    "model = matgl.load_model(\"M3GNet-MP-2018.6.1-Eform\")\n",
    "eform_sto = model.predict_structure(sto)\n",
    "eform_relaxed_sto = model.predict_structure(relaxed_sto)\n",
    "\n",
    "print(f\"The predicted formation energy for the unrelaxed SrTiO3 is {float(eform_sto):.3f} eV/atom.\")\n",
    "print(f\"The predicted formation energy for the relaxed SrTiO3 is {float(eform_relaxed_sto):.3f} eV/atom.\")\n",
    "print(f\"The Materials Project formation energy for DFT-relaxed SrTiO3 is {sto_dft_forme:.3f} eV/atom.\")"
   ]
  },
  {
   "cell_type": "markdown",
   "id": "be1a1728",
   "metadata": {},
   "source": [
    "The predicted formation energy from the M3GNet relaxed STO is in fairly good agreement with the DFT value."
   ]
  },
  {
   "cell_type": "markdown",
   "id": "c50d11fb",
   "metadata": {},
   "source": [
    "# Band gap prediction\n",
    "\n",
    "We will repeat the above exericse but for the band gap."
   ]
  },
  {
   "cell_type": "code",
   "execution_count": null,
   "id": "ab890308",
   "metadata": {},
   "outputs": [
    {
     "name": "stdout",
     "output_type": "stream",
     "text": [
      "PBE band gap\n",
      "\tUnrelaxed STO = 0.16 eV.\n",
      "\tRelaxed STO = 1.72 eV.\n",
      "GLLB-SC band gap\n",
      "\tUnrelaxed STO = 2.36 eV.\n",
      "\tRelaxed STO = 3.22 eV.\n",
      "HSE band gap\n",
      "\tUnrelaxed STO = 0.53 eV.\n",
      "\tRelaxed STO = 3.07 eV.\n",
      "SCAN band gap\n",
      "\tUnrelaxed STO = 0.72 eV.\n",
      "\tRelaxed STO = 2.19 eV.\n",
      "The PBE band gap for STO from Materials Project is 1.77 eV.\n"
     ]
    }
   ],
   "source": [
    "model = matgl.load_model(\"MEGNet-MP-2019.4.1-BandGap-mfi\")\n",
    "\n",
    "# For multi-fidelity models, we need to define graph label (\"0\": PBE, \"1\": GLLB-SC, \"2\": HSE, \"3\": SCAN)\n",
    "for i, method in ((0, \"PBE\"), (1, \"GLLB-SC\"), (2, \"HSE\"), (3, \"SCAN\")):\n",
    "\n",
    "    graph_attrs = torch.tensor([i])\n",
    "    bandgap_sto = model.predict_structure(\n",
    "        structure=sto, state_feats=graph_attrs\n",
    "    )\n",
    "    bandgap_relaxed_sto = model.predict_structure(\n",
    "        structure=relaxed_sto, state_feats=graph_attrs\n",
    "    )\n",
    "\n",
    "    print(f\"{method} band gap\")\n",
    "    print(f\"\\tUnrelaxed STO = {float(bandgap_sto):.2f} eV.\")\n",
    "    print(f\"\\tRelaxed STO = {float(bandgap_relaxed_sto):.2f} eV.\")\n",
    "print(f\"The PBE band gap for STO from Materials Project is {sto_dft_bandgap:.2f} eV.\")"
   ]
  },
  {
   "cell_type": "markdown",
   "id": "8f925d84",
   "metadata": {},
   "source": [
    "Again, you can see that using the unrelaxed SrTiO3 leads to large errors, predicting SrTiO3 to have very small band agps. Using the relaxed STO leads to predictions that are much closer to expectations. In particular, the predicted PBE band gap is quite close to the Materials Project PBE value. The experimental band gap is around 3.2 eV, which is reproduced very well by the GLLB-SC prediction!"
   ]
  }
 ],
 "metadata": {
  "kernelspec": {
   "display_name": "Python 3 (ipykernel)",
   "language": "python",
   "name": "python3"
  },
  "language_info": {
   "codemirror_mode": {
    "name": "ipython",
    "version": 3
   },
   "file_extension": ".py",
   "mimetype": "text/x-python",
   "name": "python",
   "nbconvert_exporter": "python",
   "pygments_lexer": "ipython3",
   "version": "3.10.9"
  }
 },
 "nbformat": 4,
 "nbformat_minor": 5
}
