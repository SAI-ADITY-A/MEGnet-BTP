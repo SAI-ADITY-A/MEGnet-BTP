{
 "cells": [
  {
   "cell_type": "markdown",
   "id": "f162d338",
   "metadata": {},
   "source": [
    "# Introduction\n",
    "\n",
    "This notebook is written to demonstrate the use of M3GNet as a structure relaxer as well as to provide more comprehensive benchmarks for cubic crystals based on exp data on Wikipedia and MP DFT data. This benchmark is limited to cubic crystals for ease of comparison since there is only one lattice parameter. \n",
    "\n",
    "If you are running this notebook from Google Colab, uncomment the next code box to install m3gnet first."
   ]
  },
  {
   "cell_type": "code",
   "execution_count": null,
   "id": "5f2426c3",
   "metadata": {},
   "outputs": [],
   "source": [
    "# !pip install m3gnet"
   ]
  },
  {
   "cell_type": "code",
   "execution_count": null,
   "id": "ddfff8e3",
   "metadata": {},
   "outputs": [],
   "source": [
    "from __future__ import annotations\n",
    "\n",
    "import traceback\n",
    "import warnings\n",
    "\n",
    "import numpy as np\n",
    "import pandas as pd\n",
    "from pymatgen.core import Composition, Lattice, Structure\n",
    "from pymatgen.ext.matproj import MPRester\n",
    "from pymatgen.symmetry.analyzer import SpacegroupAnalyzer\n",
    "from tqdm import tqdm\n",
    "\n",
    "from matgl.apps.pes import Potential\n",
    "from matgl.ext.ase import Relaxer\n",
    "from matgl.models import M3GNet\n",
    "\n",
    "for category in (UserWarning, DeprecationWarning):\n",
    "    warnings.filterwarnings(\"ignore\", category=category, module=\"tensorflow\")\n",
    "    warnings.filterwarnings(\"ignore\", category=category, module=\"pymatgen\")"
   ]
  },
  {
   "cell_type": "markdown",
   "id": "ee4ec4a6",
   "metadata": {},
   "source": [
    "The next cell just compiles data from Wikipedia. "
   ]
  },
  {
   "cell_type": "code",
   "execution_count": null,
   "id": "8476d506",
   "metadata": {},
   "outputs": [
    {
     "name": "stdout",
     "output_type": "stream",
     "text": [
      "             Crystal structure     a (Å)\n",
      "Material                                \n",
      "C (diamond)      Diamond (FCC)  3.567000\n",
      "Si               Diamond (FCC)  5.431021\n",
      "Ge               Diamond (FCC)  5.658000\n",
      "AlAs         Zinc blende (FCC)  5.660500\n",
      "AlP          Zinc blende (FCC)  5.451000\n",
      "...                        ...       ...\n",
      "Cs                         BCC  6.050000\n",
      "K                          BCC  5.230000\n",
      "Ba                         BCC  5.020000\n",
      "Eu                         BCC  4.610000\n",
      "Cr                         BCC  2.880000\n",
      "\n",
      "[89 rows x 2 columns]\n"
     ]
    }
   ],
   "source": [
    "data = pd.read_html(\"http://en.wikipedia.org/wiki/Lattice_constant\")[0]\n",
    "data = data[\n",
    "    ~data[\"Crystal structure\"].isin(\n",
    "        [\"Hexagonal\", \"Wurtzite\", \"Wurtzite (HCP)\", \"Orthorhombic\", \"Tetragonal perovskite\", \"Orthorhombic perovskite\"]\n",
    "    )\n",
    "]\n",
    "data = data.rename(columns={\"Lattice constant (Å)\": \"a (Å)\"})\n",
    "data = data.drop(columns=[\"Ref.\"])\n",
    "data[\"a (Å)\"] = data[\"a (Å)\"].map(float)\n",
    "data = data[[\"Material\", \"Crystal structure\", \"a (Å)\"]]\n",
    "\n",
    "\n",
    "additional_fcc = \"\"\"10 Ne 4.43 54 Xe 6.20\n",
    "13 Al 4.05 58 Ce 5.16\n",
    "18 Ar 5.26 70 Yb 5.49\n",
    "20 Ca 5.58 77 Ir 3.84\n",
    "28 Ni 3.52 78 Pt 3.92\n",
    "29 Cu 3.61 79 Au 4.08\n",
    "36 Kr 5.72 82 Pb 4.95\n",
    "38 Sr 6.08 47 Ag 4.09\n",
    "45 Rh 3.80 89 Ac 5.31\n",
    "46 Pd 3.89 90 Th 5.08\"\"\"\n",
    "\n",
    "additional_bcc = \"\"\"3 Li 3.49 42 Mo 3.15\n",
    "11 Na 4.23 55 Cs 6.05\n",
    "19 K 5.23 56 Ba 5.02\n",
    "23 V 3.02 63 Eu 4.61\n",
    "24 Cr 2.88 73 Ta 3.31\n",
    "26 Fe 2.87 74 W 3.16\n",
    "37 Rb 5.59 41 Nb 3.30\"\"\"\n",
    "\n",
    "\n",
    "def add_new(str_, structure_type, df):\n",
    "    tokens = str_.split()\n",
    "    new_crystals = []\n",
    "    for i in range(int(len(tokens) / 3)):\n",
    "        el = tokens[3 * i + 1].strip()\n",
    "        if el not in df[\"Material\"].to_numpy():\n",
    "            new_crystals.append([tokens[3 * i + 1], structure_type, float(tokens[3 * i + 2])])\n",
    "    df2 = pd.DataFrame(new_crystals, columns=data.columns)\n",
    "    return pd.concat([df, df2])\n",
    "\n",
    "\n",
    "data = add_new(additional_fcc, \"FCC\", data)\n",
    "data = add_new(additional_bcc, \"BCC\", data)\n",
    "data = data[data[\"Material\"] != \"NC0.99\"]\n",
    "data = data[data[\"Material\"] != \"Xe\"]\n",
    "data = data[data[\"Material\"] != \"Kr\"]\n",
    "data = data[data[\"Material\"] != \"Rb\"]\n",
    "data = data.set_index(\"Material\")\n",
    "print(data)"
   ]
  },
  {
   "cell_type": "markdown",
   "id": "039a4128",
   "metadata": {},
   "source": [
    "In the next cell, we generate an initial structure for all the phases. The cubic constant is set to an arbitrary value of 5 angstroms for all structures. It does not matter too much what you set it to, but it cannot be too large or it will result in isolated atoms due to the cutoffs used in m3gnet to determine bonds. We then call the Relaxer, which is the M3GNet universal IAP pre-trained on the Materials Project."
   ]
  },
  {
   "cell_type": "code",
   "execution_count": null,
   "id": "2541aebf",
   "metadata": {},
   "outputs": [
    {
     "name": "stderr",
     "output_type": "stream",
     "text": [
      "/Users/shyue/miniconda3/envs/mavrl/lib/python3.9/site-packages/mp_api/client/mprester.py:182: UserWarning: mpcontribs-client not installed. Install the package to query MPContribs data, or construct pourbaix diagrams: 'pip install mpcontribs-client'\n",
      "  warnings.warn(\n",
      "  0%|                                                                                                                         | 0/89 [00:00<?, ?it/s]/Users/shyue/miniconda3/envs/mavrl/lib/python3.9/site-packages/dgl/backend/pytorch/tensor.py:52: UserWarning: Creating a tensor from a list of numpy.ndarrays is extremely slow. Please consider converting the list to a single numpy.ndarray with numpy.array() before converting to a tensor. (Triggered internally at /Users/runner/work/pytorch/pytorch/pytorch/torch/csrc/utils/tensor_new.cpp:248.)\n",
      "  return th.as_tensor(data, dtype=dtype)\n",
      "/Users/shyue/miniconda3/envs/mavrl/lib/python3.9/site-packages/torch/functional.py:504: UserWarning: torch.meshgrid: in an upcoming release, it will be required to pass the indexing argument. (Triggered internally at /Users/runner/work/pytorch/pytorch/pytorch/aten/src/ATen/native/TensorShape.cpp:3484.)\n",
      "  return _VF.meshgrid(tensors, **kwargs)  # type: ignore[attr-defined]\n",
      "/Users/shyue/repos/matgl/matgl/utils/maths.py:261: UserWarning: To copy construct from a tensor, it is recommended to use sourceTensor.clone().detach() or sourceTensor.clone().detach().requires_grad_(True), rather than torch.tensor(sourceTensor).\n",
      "  costheta = torch.tensor(costheta, dtype=torch.complex64)\n",
      "/Users/shyue/repos/matgl/matgl/utils/maths.py:262: UserWarning: To copy construct from a tensor, it is recommended to use sourceTensor.clone().detach() or sourceTensor.clone().detach().requires_grad_(True), rather than torch.tensor(sourceTensor).\n",
      "  phi = torch.tensor(phi, dtype=torch.complex64)\n",
      "/Users/shyue/repos/matgl/matgl/utils/maths.py:264: UserWarning: Casting complex values to real discards the imaginary part (Triggered internally at /Users/runner/work/pytorch/pytorch/pytorch/aten/src/ATen/native/Copy.cpp:276.)\n",
      "  results = results.type(dtype=DataType.torch_float)\n",
      "/Users/shyue/miniconda3/envs/mavrl/lib/python3.9/site-packages/dgl/backend/pytorch/tensor.py:449: UserWarning: TypedStorage is deprecated. It will be removed in the future and UntypedStorage will be the only storage class. This should only matter to you if you are using storages directly.  To access UntypedStorage directly, use tensor.untyped_storage() instead of tensor.storage()\n",
      "  assert input.numel() == input.storage().size(), (\n"
     ]
    },
    {
     "data": {
      "application/vnd.jupyter.widget-view+json": {
       "model_id": "bf8c4ea01eba4673a18751bf1b22bf9d",
       "version_major": 2,
       "version_minor": 0
      },
      "text/plain": [
       "Retrieving MaterialsDoc documents:   0%|          | 0/62 [00:00<?, ?it/s]"
      ]
     },
     "metadata": {},
     "output_type": "display_data"
    },
    {
     "data": {
      "application/vnd.jupyter.widget-view+json": {
       "model_id": "a96287f03d9746f4a215a78d1c71a65d",
       "version_major": 2,
       "version_minor": 0
      },
      "text/plain": [
       "Retrieving MaterialsDoc documents:   0%|          | 0/1 [00:00<?, ?it/s]"
      ]
     },
     "metadata": {},
     "output_type": "display_data"
    },
    {
     "data": {
      "application/vnd.jupyter.widget-view+json": {
       "model_id": "723b4ccd270745719646bd9e694c86e6",
       "version_major": 2,
       "version_minor": 0
      },
      "text/plain": [
       "Retrieving MaterialsDoc documents:   0%|          | 0/1 [00:00<?, ?it/s]"
      ]
     },
     "metadata": {},
     "output_type": "display_data"
    },
    {
     "data": {
      "application/vnd.jupyter.widget-view+json": {
       "model_id": "327c3d5bd846442fa49945c019b16bd4",
       "version_major": 2,
       "version_minor": 0
      },
      "text/plain": [
       "Retrieving MaterialsDoc documents:   0%|          | 0/1 [00:00<?, ?it/s]"
      ]
     },
     "metadata": {},
     "output_type": "display_data"
    },
    {
     "data": {
      "application/vnd.jupyter.widget-view+json": {
       "model_id": "1247ff7b864b4a1c8d35da868306e9f4",
       "version_major": 2,
       "version_minor": 0
      },
      "text/plain": [
       "Retrieving MaterialsDoc documents:   0%|          | 0/1 [00:00<?, ?it/s]"
      ]
     },
     "metadata": {},
     "output_type": "display_data"
    },
    {
     "name": "stderr",
     "output_type": "stream",
     "text": [
      "\r",
      "  1%|█▎                                                                                                               | 1/89 [00:02<04:15,  2.91s/it]"
     ]
    },
    {
     "data": {
      "application/vnd.jupyter.widget-view+json": {
       "model_id": "c853aaf289b94b33826b715d744b0b26",
       "version_major": 2,
       "version_minor": 0
      },
      "text/plain": [
       "Retrieving MaterialsDoc documents:   0%|          | 0/42 [00:00<?, ?it/s]"
      ]
     },
     "metadata": {},
     "output_type": "display_data"
    },
    {
     "data": {
      "application/vnd.jupyter.widget-view+json": {
       "model_id": "a92271ca41d44c688c9a2eedec8d7bcc",
       "version_major": 2,
       "version_minor": 0
      },
      "text/plain": [
       "Retrieving MaterialsDoc documents:   0%|          | 0/1 [00:00<?, ?it/s]"
      ]
     },
     "metadata": {},
     "output_type": "display_data"
    },
    {
     "data": {
      "application/vnd.jupyter.widget-view+json": {
       "model_id": "c30d8324e6824520acdeecb6e09efb09",
       "version_major": 2,
       "version_minor": 0
      },
      "text/plain": [
       "Retrieving MaterialsDoc documents:   0%|          | 0/1 [00:00<?, ?it/s]"
      ]
     },
     "metadata": {},
     "output_type": "display_data"
    },
    {
     "data": {
      "application/vnd.jupyter.widget-view+json": {
       "model_id": "434ea798a3454822a13e7abed0229c74",
       "version_major": 2,
       "version_minor": 0
      },
      "text/plain": [
       "Retrieving MaterialsDoc documents:   0%|          | 0/1 [00:00<?, ?it/s]"
      ]
     },
     "metadata": {},
     "output_type": "display_data"
    },
    {
     "data": {
      "application/vnd.jupyter.widget-view+json": {
       "model_id": "b59024eb2ae14cf7a43bf1f3673ae235",
       "version_major": 2,
       "version_minor": 0
      },
      "text/plain": [
       "Retrieving MaterialsDoc documents:   0%|          | 0/1 [00:00<?, ?it/s]"
      ]
     },
     "metadata": {},
     "output_type": "display_data"
    },
    {
     "data": {
      "application/vnd.jupyter.widget-view+json": {
       "model_id": "9cb53634d2304be187e31ad592f9783f",
       "version_major": 2,
       "version_minor": 0
      },
      "text/plain": [
       "Retrieving MaterialsDoc documents:   0%|          | 0/1 [00:00<?, ?it/s]"
      ]
     },
     "metadata": {},
     "output_type": "display_data"
    },
    {
     "name": "stderr",
     "output_type": "stream",
     "text": [
      "\r",
      "  2%|██▌                                                                                                              | 2/89 [00:05<03:43,  2.57s/it]"
     ]
    },
    {
     "data": {
      "application/vnd.jupyter.widget-view+json": {
       "model_id": "d31fe71e8ee342feb5e30cf3230c157d",
       "version_major": 2,
       "version_minor": 0
      },
      "text/plain": [
       "Retrieving MaterialsDoc documents:   0%|          | 0/17 [00:00<?, ?it/s]"
      ]
     },
     "metadata": {},
     "output_type": "display_data"
    },
    {
     "data": {
      "application/vnd.jupyter.widget-view+json": {
       "model_id": "d108a843f0914a67b761513a5f38690d",
       "version_major": 2,
       "version_minor": 0
      },
      "text/plain": [
       "Retrieving MaterialsDoc documents:   0%|          | 0/1 [00:00<?, ?it/s]"
      ]
     },
     "metadata": {},
     "output_type": "display_data"
    },
    {
     "name": "stderr",
     "output_type": "stream",
     "text": [
      "\r",
      "  3%|███▊                                                                                                             | 3/89 [00:06<03:07,  2.18s/it]"
     ]
    },
    {
     "data": {
      "application/vnd.jupyter.widget-view+json": {
       "model_id": "0889e772bf5440b1b632fd710498352e",
       "version_major": 2,
       "version_minor": 0
      },
      "text/plain": [
       "Retrieving MaterialsDoc documents:   0%|          | 0/6 [00:00<?, ?it/s]"
      ]
     },
     "metadata": {},
     "output_type": "display_data"
    },
    {
     "data": {
      "application/vnd.jupyter.widget-view+json": {
       "model_id": "7418fb94120342ea96d669f10051dd8b",
       "version_major": 2,
       "version_minor": 0
      },
      "text/plain": [
       "Retrieving MaterialsDoc documents:   0%|          | 0/1 [00:00<?, ?it/s]"
      ]
     },
     "metadata": {},
     "output_type": "display_data"
    },
    {
     "name": "stderr",
     "output_type": "stream",
     "text": [
      "\r",
      "  4%|█████                                                                                                            | 4/89 [00:09<03:22,  2.38s/it]"
     ]
    },
    {
     "data": {
      "application/vnd.jupyter.widget-view+json": {
       "model_id": "194dfea6118d41fca9f730e3e76c2939",
       "version_major": 2,
       "version_minor": 0
      },
      "text/plain": [
       "Retrieving MaterialsDoc documents:   0%|          | 0/3 [00:00<?, ?it/s]"
      ]
     },
     "metadata": {},
     "output_type": "display_data"
    },
    {
     "data": {
      "application/vnd.jupyter.widget-view+json": {
       "model_id": "70ded6074ece4c08aedc5ab8d6b865f0",
       "version_major": 2,
       "version_minor": 0
      },
      "text/plain": [
       "Retrieving MaterialsDoc documents:   0%|          | 0/1 [00:00<?, ?it/s]"
      ]
     },
     "metadata": {},
     "output_type": "display_data"
    },
    {
     "name": "stderr",
     "output_type": "stream",
     "text": [
      "\r",
      "  6%|██████▎                                                                                                          | 5/89 [00:12<03:22,  2.41s/it]"
     ]
    },
    {
     "data": {
      "application/vnd.jupyter.widget-view+json": {
       "model_id": "80011d9166234791bcf61e800b7035fd",
       "version_major": 2,
       "version_minor": 0
      },
      "text/plain": [
       "Retrieving MaterialsDoc documents:   0%|          | 0/5 [00:00<?, ?it/s]"
      ]
     },
     "metadata": {},
     "output_type": "display_data"
    },
    {
     "data": {
      "application/vnd.jupyter.widget-view+json": {
       "model_id": "55bb999bb2994fcba9725cd765d172fc",
       "version_major": 2,
       "version_minor": 0
      },
      "text/plain": [
       "Retrieving MaterialsDoc documents:   0%|          | 0/1 [00:00<?, ?it/s]"
      ]
     },
     "metadata": {},
     "output_type": "display_data"
    },
    {
     "name": "stderr",
     "output_type": "stream",
     "text": [
      "\r",
      "  7%|███████▌                                                                                                         | 6/89 [00:14<03:23,  2.45s/it]"
     ]
    },
    {
     "data": {
      "application/vnd.jupyter.widget-view+json": {
       "model_id": "212c0717249f4784bf6bdabd7b74c96d",
       "version_major": 2,
       "version_minor": 0
      },
      "text/plain": [
       "Retrieving MaterialsDoc documents:   0%|          | 0/6 [00:00<?, ?it/s]"
      ]
     },
     "metadata": {},
     "output_type": "display_data"
    },
    {
     "data": {
      "application/vnd.jupyter.widget-view+json": {
       "model_id": "d26207f0106f46cbbbf635edf3c6dc4b",
       "version_major": 2,
       "version_minor": 0
      },
      "text/plain": [
       "Retrieving MaterialsDoc documents:   0%|          | 0/1 [00:00<?, ?it/s]"
      ]
     },
     "metadata": {},
     "output_type": "display_data"
    },
    {
     "name": "stderr",
     "output_type": "stream",
     "text": [
      "\r",
      "  8%|████████▉                                                                                                        | 7/89 [00:16<03:11,  2.34s/it]"
     ]
    },
    {
     "data": {
      "application/vnd.jupyter.widget-view+json": {
       "model_id": "fd409821ad884da498b9f3bcd417c701",
       "version_major": 2,
       "version_minor": 0
      },
      "text/plain": [
       "Retrieving MaterialsDoc documents:   0%|          | 0/13 [00:00<?, ?it/s]"
      ]
     },
     "metadata": {},
     "output_type": "display_data"
    },
    {
     "data": {
      "application/vnd.jupyter.widget-view+json": {
       "model_id": "83e52ef8ff4d40fb9f820c90d99d476e",
       "version_major": 2,
       "version_minor": 0
      },
      "text/plain": [
       "Retrieving MaterialsDoc documents:   0%|          | 0/1 [00:00<?, ?it/s]"
      ]
     },
     "metadata": {},
     "output_type": "display_data"
    },
    {
     "name": "stderr",
     "output_type": "stream",
     "text": [
      "\r",
      "  9%|██████████▏                                                                                                      | 8/89 [00:19<03:16,  2.43s/it]"
     ]
    },
    {
     "data": {
      "application/vnd.jupyter.widget-view+json": {
       "model_id": "6f6eb4499fdd42b0a68ef85a147af37a",
       "version_major": 2,
       "version_minor": 0
      },
      "text/plain": [
       "Retrieving MaterialsDoc documents:   0%|          | 0/9 [00:00<?, ?it/s]"
      ]
     },
     "metadata": {},
     "output_type": "display_data"
    },
    {
     "data": {
      "application/vnd.jupyter.widget-view+json": {
       "model_id": "7e4807cd81614edeb41b93120638e732",
       "version_major": 2,
       "version_minor": 0
      },
      "text/plain": [
       "Retrieving MaterialsDoc documents:   0%|          | 0/1 [00:00<?, ?it/s]"
      ]
     },
     "metadata": {},
     "output_type": "display_data"
    },
    {
     "name": "stderr",
     "output_type": "stream",
     "text": [
      "\r",
      " 10%|███████████▍                                                                                                     | 9/89 [00:22<03:22,  2.53s/it]"
     ]
    },
    {
     "data": {
      "application/vnd.jupyter.widget-view+json": {
       "model_id": "d7404cbc8230411c955b300af1a6b3df",
       "version_major": 2,
       "version_minor": 0
      },
      "text/plain": [
       "Retrieving MaterialsDoc documents:   0%|          | 0/3 [00:00<?, ?it/s]"
      ]
     },
     "metadata": {},
     "output_type": "display_data"
    },
    {
     "data": {
      "application/vnd.jupyter.widget-view+json": {
       "model_id": "4085f45860134669960eaebb1dc108dc",
       "version_major": 2,
       "version_minor": 0
      },
      "text/plain": [
       "Retrieving MaterialsDoc documents:   0%|          | 0/1 [00:00<?, ?it/s]"
      ]
     },
     "metadata": {},
     "output_type": "display_data"
    },
    {
     "name": "stderr",
     "output_type": "stream",
     "text": [
      "\r",
      " 11%|████████████▌                                                                                                   | 10/89 [00:24<03:15,  2.48s/it]"
     ]
    },
    {
     "data": {
      "application/vnd.jupyter.widget-view+json": {
       "model_id": "bdffa773384945689d3bb15d06703ff0",
       "version_major": 2,
       "version_minor": 0
      },
      "text/plain": [
       "Retrieving MaterialsDoc documents:   0%|          | 0/5 [00:00<?, ?it/s]"
      ]
     },
     "metadata": {},
     "output_type": "display_data"
    },
    {
     "data": {
      "application/vnd.jupyter.widget-view+json": {
       "model_id": "4b38365a826b4cf18a806ca1e8cf8e72",
       "version_major": 2,
       "version_minor": 0
      },
      "text/plain": [
       "Retrieving MaterialsDoc documents:   0%|          | 0/1 [00:00<?, ?it/s]"
      ]
     },
     "metadata": {},
     "output_type": "display_data"
    },
    {
     "name": "stderr",
     "output_type": "stream",
     "text": [
      "\r",
      " 12%|█████████████▊                                                                                                  | 11/89 [00:26<02:53,  2.23s/it]"
     ]
    },
    {
     "data": {
      "application/vnd.jupyter.widget-view+json": {
       "model_id": "797ad49a55c34fffa2a406bdfde10d06",
       "version_major": 2,
       "version_minor": 0
      },
      "text/plain": [
       "Retrieving MaterialsDoc documents:   0%|          | 0/11 [00:00<?, ?it/s]"
      ]
     },
     "metadata": {},
     "output_type": "display_data"
    },
    {
     "data": {
      "application/vnd.jupyter.widget-view+json": {
       "model_id": "054546f42d5c4fd7aa65d7a3856f9518",
       "version_major": 2,
       "version_minor": 0
      },
      "text/plain": [
       "Retrieving MaterialsDoc documents:   0%|          | 0/1 [00:00<?, ?it/s]"
      ]
     },
     "metadata": {},
     "output_type": "display_data"
    },
    {
     "data": {
      "application/vnd.jupyter.widget-view+json": {
       "model_id": "eaef9627a2d94998b0bfc8d87cd29af8",
       "version_major": 2,
       "version_minor": 0
      },
      "text/plain": [
       "Retrieving MaterialsDoc documents:   0%|          | 0/1 [00:00<?, ?it/s]"
      ]
     },
     "metadata": {},
     "output_type": "display_data"
    },
    {
     "data": {
      "application/vnd.jupyter.widget-view+json": {
       "model_id": "f6d4383a459545d290898bf8409b1f76",
       "version_major": 2,
       "version_minor": 0
      },
      "text/plain": [
       "Retrieving MaterialsDoc documents:   0%|          | 0/1 [00:00<?, ?it/s]"
      ]
     },
     "metadata": {},
     "output_type": "display_data"
    },
    {
     "data": {
      "application/vnd.jupyter.widget-view+json": {
       "model_id": "f4f187fa57d64f98b00f6230706df865",
       "version_major": 2,
       "version_minor": 0
      },
      "text/plain": [
       "Retrieving MaterialsDoc documents:   0%|          | 0/1 [00:00<?, ?it/s]"
      ]
     },
     "metadata": {},
     "output_type": "display_data"
    },
    {
     "name": "stderr",
     "output_type": "stream",
     "text": [
      "\r",
      " 13%|███████████████                                                                                                 | 12/89 [00:28<02:45,  2.15s/it]"
     ]
    },
    {
     "data": {
      "application/vnd.jupyter.widget-view+json": {
       "model_id": "47492ffe77d44ce783c67e9027f1cde3",
       "version_major": 2,
       "version_minor": 0
      },
      "text/plain": [
       "Retrieving MaterialsDoc documents:   0%|          | 0/23 [00:00<?, ?it/s]"
      ]
     },
     "metadata": {},
     "output_type": "display_data"
    },
    {
     "data": {
      "application/vnd.jupyter.widget-view+json": {
       "model_id": "ef93ecd4e3a5454ea5c5c1212a244eb1",
       "version_major": 2,
       "version_minor": 0
      },
      "text/plain": [
       "Retrieving MaterialsDoc documents:   0%|          | 0/1 [00:00<?, ?it/s]"
      ]
     },
     "metadata": {},
     "output_type": "display_data"
    },
    {
     "name": "stderr",
     "output_type": "stream",
     "text": [
      "\r",
      " 15%|████████████████▎                                                                                               | 13/89 [00:30<02:48,  2.21s/it]"
     ]
    },
    {
     "data": {
      "application/vnd.jupyter.widget-view+json": {
       "model_id": "9700ad73200441608b96f737bb4a170a",
       "version_major": 2,
       "version_minor": 0
      },
      "text/plain": [
       "Retrieving MaterialsDoc documents:   0%|          | 0/5 [00:00<?, ?it/s]"
      ]
     },
     "metadata": {},
     "output_type": "display_data"
    },
    {
     "data": {
      "application/vnd.jupyter.widget-view+json": {
       "model_id": "b1fc99ebae9748b0a341296705be4871",
       "version_major": 2,
       "version_minor": 0
      },
      "text/plain": [
       "Retrieving MaterialsDoc documents:   0%|          | 0/1 [00:00<?, ?it/s]"
      ]
     },
     "metadata": {},
     "output_type": "display_data"
    },
    {
     "data": {
      "application/vnd.jupyter.widget-view+json": {
       "model_id": "e6ed26377c8b432d91e7ec37800db0ca",
       "version_major": 2,
       "version_minor": 0
      },
      "text/plain": [
       "Retrieving MaterialsDoc documents:   0%|          | 0/1 [00:00<?, ?it/s]"
      ]
     },
     "metadata": {},
     "output_type": "display_data"
    },
    {
     "data": {
      "application/vnd.jupyter.widget-view+json": {
       "model_id": "3bafad5ea2994dc2be946da94d92782a",
       "version_major": 2,
       "version_minor": 0
      },
      "text/plain": [
       "Retrieving MaterialsDoc documents:   0%|          | 0/1 [00:00<?, ?it/s]"
      ]
     },
     "metadata": {},
     "output_type": "display_data"
    },
    {
     "name": "stderr",
     "output_type": "stream",
     "text": [
      "\r",
      " 16%|█████████████████▌                                                                                              | 14/89 [00:33<02:58,  2.38s/it]"
     ]
    },
    {
     "data": {
      "application/vnd.jupyter.widget-view+json": {
       "model_id": "0e3b93b97fd149649bce4cc5c6b0af5a",
       "version_major": 2,
       "version_minor": 0
      },
      "text/plain": [
       "Retrieving MaterialsDoc documents:   0%|          | 0/3 [00:00<?, ?it/s]"
      ]
     },
     "metadata": {},
     "output_type": "display_data"
    },
    {
     "data": {
      "application/vnd.jupyter.widget-view+json": {
       "model_id": "3ff208aae09641a09ea10cd4247cd24b",
       "version_major": 2,
       "version_minor": 0
      },
      "text/plain": [
       "Retrieving MaterialsDoc documents:   0%|          | 0/1 [00:00<?, ?it/s]"
      ]
     },
     "metadata": {},
     "output_type": "display_data"
    },
    {
     "data": {
      "application/vnd.jupyter.widget-view+json": {
       "model_id": "590ba785139f4c9d8f9ed909a5738b26",
       "version_major": 2,
       "version_minor": 0
      },
      "text/plain": [
       "Retrieving MaterialsDoc documents:   0%|          | 0/1 [00:00<?, ?it/s]"
      ]
     },
     "metadata": {},
     "output_type": "display_data"
    },
    {
     "data": {
      "application/vnd.jupyter.widget-view+json": {
       "model_id": "90e2848e8a604f20a1e1f45e2d237282",
       "version_major": 2,
       "version_minor": 0
      },
      "text/plain": [
       "Retrieving MaterialsDoc documents:   0%|          | 0/1 [00:00<?, ?it/s]"
      ]
     },
     "metadata": {},
     "output_type": "display_data"
    },
    {
     "name": "stderr",
     "output_type": "stream",
     "text": [
      "\r",
      " 17%|██████████████████▉                                                                                             | 15/89 [00:36<03:09,  2.56s/it]"
     ]
    },
    {
     "data": {
      "application/vnd.jupyter.widget-view+json": {
       "model_id": "af30f05069ff4998b1701466bd8b3df2",
       "version_major": 2,
       "version_minor": 0
      },
      "text/plain": [
       "Retrieving MaterialsDoc documents:   0%|          | 0/9 [00:00<?, ?it/s]"
      ]
     },
     "metadata": {},
     "output_type": "display_data"
    },
    {
     "data": {
      "application/vnd.jupyter.widget-view+json": {
       "model_id": "47eaa5a4975b468da691bfefc82051f8",
       "version_major": 2,
       "version_minor": 0
      },
      "text/plain": [
       "Retrieving MaterialsDoc documents:   0%|          | 0/1 [00:00<?, ?it/s]"
      ]
     },
     "metadata": {},
     "output_type": "display_data"
    },
    {
     "name": "stderr",
     "output_type": "stream",
     "text": [
      "\r",
      " 18%|████████████████████▏                                                                                           | 16/89 [00:38<02:52,  2.36s/it]"
     ]
    },
    {
     "data": {
      "application/vnd.jupyter.widget-view+json": {
       "model_id": "a58fd5e096eb4aaa8f1ea5ae2ec26ef1",
       "version_major": 2,
       "version_minor": 0
      },
      "text/plain": [
       "Retrieving MaterialsDoc documents:   0%|          | 0/12 [00:00<?, ?it/s]"
      ]
     },
     "metadata": {},
     "output_type": "display_data"
    },
    {
     "data": {
      "application/vnd.jupyter.widget-view+json": {
       "model_id": "bf22b7ddac414d51bf0d4cafe5494193",
       "version_major": 2,
       "version_minor": 0
      },
      "text/plain": [
       "Retrieving MaterialsDoc documents:   0%|          | 0/1 [00:00<?, ?it/s]"
      ]
     },
     "metadata": {},
     "output_type": "display_data"
    },
    {
     "data": {
      "application/vnd.jupyter.widget-view+json": {
       "model_id": "1c646a900f224d7387ca256b01d0a406",
       "version_major": 2,
       "version_minor": 0
      },
      "text/plain": [
       "Retrieving MaterialsDoc documents:   0%|          | 0/1 [00:00<?, ?it/s]"
      ]
     },
     "metadata": {},
     "output_type": "display_data"
    },
    {
     "data": {
      "application/vnd.jupyter.widget-view+json": {
       "model_id": "88a26adbc80643e9959c27007bc8d9b4",
       "version_major": 2,
       "version_minor": 0
      },
      "text/plain": [
       "Retrieving MaterialsDoc documents:   0%|          | 0/1 [00:00<?, ?it/s]"
      ]
     },
     "metadata": {},
     "output_type": "display_data"
    },
    {
     "name": "stderr",
     "output_type": "stream",
     "text": [
      "\r",
      " 19%|█████████████████████▍                                                                                          | 17/89 [00:41<03:05,  2.58s/it]"
     ]
    },
    {
     "data": {
      "application/vnd.jupyter.widget-view+json": {
       "model_id": "6c4442e12bf144d8807e584eeee5d0a8",
       "version_major": 2,
       "version_minor": 0
      },
      "text/plain": [
       "Retrieving MaterialsDoc documents:   0%|          | 0/146 [00:00<?, ?it/s]"
      ]
     },
     "metadata": {},
     "output_type": "display_data"
    },
    {
     "data": {
      "application/vnd.jupyter.widget-view+json": {
       "model_id": "119aa8dfb2174a5c8c2526ae0740b88d",
       "version_major": 2,
       "version_minor": 0
      },
      "text/plain": [
       "Retrieving MaterialsDoc documents:   0%|          | 0/1 [00:00<?, ?it/s]"
      ]
     },
     "metadata": {},
     "output_type": "display_data"
    },
    {
     "data": {
      "application/vnd.jupyter.widget-view+json": {
       "model_id": "f36cea8e1b2148e1826684fd69a3d7f0",
       "version_major": 2,
       "version_minor": 0
      },
      "text/plain": [
       "Retrieving MaterialsDoc documents:   0%|          | 0/1 [00:00<?, ?it/s]"
      ]
     },
     "metadata": {},
     "output_type": "display_data"
    },
    {
     "data": {
      "application/vnd.jupyter.widget-view+json": {
       "model_id": "a941e3bea6084df3aad78077d3597969",
       "version_major": 2,
       "version_minor": 0
      },
      "text/plain": [
       "Retrieving MaterialsDoc documents:   0%|          | 0/1 [00:00<?, ?it/s]"
      ]
     },
     "metadata": {},
     "output_type": "display_data"
    },
    {
     "name": "stderr",
     "output_type": "stream",
     "text": [
      "\r",
      " 20%|██████████████████████▋                                                                                         | 18/89 [00:44<03:12,  2.71s/it]"
     ]
    },
    {
     "data": {
      "application/vnd.jupyter.widget-view+json": {
       "model_id": "9c4dc04a000d46e597c42896f1542ace",
       "version_major": 2,
       "version_minor": 0
      },
      "text/plain": [
       "Retrieving MaterialsDoc documents:   0%|          | 0/19 [00:00<?, ?it/s]"
      ]
     },
     "metadata": {},
     "output_type": "display_data"
    },
    {
     "data": {
      "application/vnd.jupyter.widget-view+json": {
       "model_id": "c12a07acb00f44308e445ffc77f41e6f",
       "version_major": 2,
       "version_minor": 0
      },
      "text/plain": [
       "Retrieving MaterialsDoc documents:   0%|          | 0/1 [00:00<?, ?it/s]"
      ]
     },
     "metadata": {},
     "output_type": "display_data"
    },
    {
     "data": {
      "application/vnd.jupyter.widget-view+json": {
       "model_id": "4b64d30124bf4b028f9ddfa50847878d",
       "version_major": 2,
       "version_minor": 0
      },
      "text/plain": [
       "Retrieving MaterialsDoc documents:   0%|          | 0/1 [00:00<?, ?it/s]"
      ]
     },
     "metadata": {},
     "output_type": "display_data"
    },
    {
     "data": {
      "application/vnd.jupyter.widget-view+json": {
       "model_id": "758d2659cf65468294722991d18e8163",
       "version_major": 2,
       "version_minor": 0
      },
      "text/plain": [
       "Retrieving MaterialsDoc documents:   0%|          | 0/1 [00:00<?, ?it/s]"
      ]
     },
     "metadata": {},
     "output_type": "display_data"
    },
    {
     "data": {
      "application/vnd.jupyter.widget-view+json": {
       "model_id": "a57e0ed201904598ab5442a687ff09c9",
       "version_major": 2,
       "version_minor": 0
      },
      "text/plain": [
       "Retrieving MaterialsDoc documents:   0%|          | 0/1 [00:00<?, ?it/s]"
      ]
     },
     "metadata": {},
     "output_type": "display_data"
    },
    {
     "data": {
      "application/vnd.jupyter.widget-view+json": {
       "model_id": "6f73dd80080145289d6410ae75c64f3b",
       "version_major": 2,
       "version_minor": 0
      },
      "text/plain": [
       "Retrieving MaterialsDoc documents:   0%|          | 0/1 [00:00<?, ?it/s]"
      ]
     },
     "metadata": {},
     "output_type": "display_data"
    },
    {
     "data": {
      "application/vnd.jupyter.widget-view+json": {
       "model_id": "9d741f75a8044ebbbb79c0b015658841",
       "version_major": 2,
       "version_minor": 0
      },
      "text/plain": [
       "Retrieving MaterialsDoc documents:   0%|          | 0/1 [00:00<?, ?it/s]"
      ]
     },
     "metadata": {},
     "output_type": "display_data"
    },
    {
     "data": {
      "application/vnd.jupyter.widget-view+json": {
       "model_id": "74ea32a4d71f4bcf9329e5fc1f77f122",
       "version_major": 2,
       "version_minor": 0
      },
      "text/plain": [
       "Retrieving MaterialsDoc documents:   0%|          | 0/1 [00:00<?, ?it/s]"
      ]
     },
     "metadata": {},
     "output_type": "display_data"
    },
    {
     "data": {
      "application/vnd.jupyter.widget-view+json": {
       "model_id": "43f5cd6844524f7c895c1edcc7514f03",
       "version_major": 2,
       "version_minor": 0
      },
      "text/plain": [
       "Retrieving MaterialsDoc documents:   0%|          | 0/1 [00:00<?, ?it/s]"
      ]
     },
     "metadata": {},
     "output_type": "display_data"
    },
    {
     "data": {
      "application/vnd.jupyter.widget-view+json": {
       "model_id": "110d8275ebd24be0a5f6f85d18eb92f1",
       "version_major": 2,
       "version_minor": 0
      },
      "text/plain": [
       "Retrieving MaterialsDoc documents:   0%|          | 0/1 [00:00<?, ?it/s]"
      ]
     },
     "metadata": {},
     "output_type": "display_data"
    },
    {
     "data": {
      "application/vnd.jupyter.widget-view+json": {
       "model_id": "a9b84f683a6c4b77b98089cd233ca9a8",
       "version_major": 2,
       "version_minor": 0
      },
      "text/plain": [
       "Retrieving MaterialsDoc documents:   0%|          | 0/1 [00:00<?, ?it/s]"
      ]
     },
     "metadata": {},
     "output_type": "display_data"
    },
    {
     "data": {
      "application/vnd.jupyter.widget-view+json": {
       "model_id": "ddda387fa8a54d2ca86811c97eb63eae",
       "version_major": 2,
       "version_minor": 0
      },
      "text/plain": [
       "Retrieving MaterialsDoc documents:   0%|          | 0/1 [00:00<?, ?it/s]"
      ]
     },
     "metadata": {},
     "output_type": "display_data"
    },
    {
     "data": {
      "application/vnd.jupyter.widget-view+json": {
       "model_id": "634beb4fa6d54161bb97a936358e3718",
       "version_major": 2,
       "version_minor": 0
      },
      "text/plain": [
       "Retrieving MaterialsDoc documents:   0%|          | 0/1 [00:00<?, ?it/s]"
      ]
     },
     "metadata": {},
     "output_type": "display_data"
    },
    {
     "data": {
      "application/vnd.jupyter.widget-view+json": {
       "model_id": "8d652a06349c463fabd62daf6967e8c0",
       "version_major": 2,
       "version_minor": 0
      },
      "text/plain": [
       "Retrieving MaterialsDoc documents:   0%|          | 0/1 [00:00<?, ?it/s]"
      ]
     },
     "metadata": {},
     "output_type": "display_data"
    },
    {
     "data": {
      "application/vnd.jupyter.widget-view+json": {
       "model_id": "f7b5356fb7f244bc99f30a5448718521",
       "version_major": 2,
       "version_minor": 0
      },
      "text/plain": [
       "Retrieving MaterialsDoc documents:   0%|          | 0/1 [00:00<?, ?it/s]"
      ]
     },
     "metadata": {},
     "output_type": "display_data"
    },
    {
     "data": {
      "application/vnd.jupyter.widget-view+json": {
       "model_id": "37f95f920c37470a8ed0481729132916",
       "version_major": 2,
       "version_minor": 0
      },
      "text/plain": [
       "Retrieving MaterialsDoc documents:   0%|          | 0/1 [00:00<?, ?it/s]"
      ]
     },
     "metadata": {},
     "output_type": "display_data"
    },
    {
     "data": {
      "application/vnd.jupyter.widget-view+json": {
       "model_id": "964fce06a89e4f66aa2c9d75a89a7771",
       "version_major": 2,
       "version_minor": 0
      },
      "text/plain": [
       "Retrieving MaterialsDoc documents:   0%|          | 0/1 [00:00<?, ?it/s]"
      ]
     },
     "metadata": {},
     "output_type": "display_data"
    },
    {
     "data": {
      "application/vnd.jupyter.widget-view+json": {
       "model_id": "d2d156c09e9748ed86f18732ba586d36",
       "version_major": 2,
       "version_minor": 0
      },
      "text/plain": [
       "Retrieving MaterialsDoc documents:   0%|          | 0/1 [00:00<?, ?it/s]"
      ]
     },
     "metadata": {},
     "output_type": "display_data"
    },
    {
     "data": {
      "application/vnd.jupyter.widget-view+json": {
       "model_id": "f78bb4e75d114b609c811138a80632fe",
       "version_major": 2,
       "version_minor": 0
      },
      "text/plain": [
       "Retrieving MaterialsDoc documents:   0%|          | 0/1 [00:00<?, ?it/s]"
      ]
     },
     "metadata": {},
     "output_type": "display_data"
    },
    {
     "data": {
      "application/vnd.jupyter.widget-view+json": {
       "model_id": "38da44906b3947e7ad01ef067ff1811d",
       "version_major": 2,
       "version_minor": 0
      },
      "text/plain": [
       "Retrieving MaterialsDoc documents:   0%|          | 0/1 [00:00<?, ?it/s]"
      ]
     },
     "metadata": {},
     "output_type": "display_data"
    },
    {
     "name": "stderr",
     "output_type": "stream",
     "text": [
      "Traceback (most recent call last):\n",
      "  File \"/var/folders/w6/yrmcztx969j0r2f2v6yy3gp00000gn/T/ipykernel_46283/1567234812.py\", line 69, in <module>\n",
      "    raise RuntimeError\n",
      "RuntimeError\n",
      "\r",
      " 21%|███████████████████████▉                                                                                        | 19/89 [00:50<04:23,  3.76s/it]"
     ]
    },
    {
     "data": {
      "application/vnd.jupyter.widget-view+json": {
       "model_id": "c4cf1024e2bd4e4fb7981e0c96d23d60",
       "version_major": 2,
       "version_minor": 0
      },
      "text/plain": [
       "Retrieving MaterialsDoc documents:   0%|          | 0/5 [00:00<?, ?it/s]"
      ]
     },
     "metadata": {},
     "output_type": "display_data"
    },
    {
     "data": {
      "application/vnd.jupyter.widget-view+json": {
       "model_id": "83f8cf8695ce421ba88ae00bbd49c230",
       "version_major": 2,
       "version_minor": 0
      },
      "text/plain": [
       "Retrieving MaterialsDoc documents:   0%|          | 0/1 [00:00<?, ?it/s]"
      ]
     },
     "metadata": {},
     "output_type": "display_data"
    },
    {
     "name": "stderr",
     "output_type": "stream",
     "text": [
      "\r",
      " 22%|█████████████████████████▏                                                                                      | 20/89 [00:54<04:23,  3.82s/it]"
     ]
    },
    {
     "data": {
      "application/vnd.jupyter.widget-view+json": {
       "model_id": "2c792f1b77a0457aa138068cc9bd99a7",
       "version_major": 2,
       "version_minor": 0
      },
      "text/plain": [
       "Retrieving MaterialsDoc documents:   0%|          | 0/27 [00:00<?, ?it/s]"
      ]
     },
     "metadata": {},
     "output_type": "display_data"
    },
    {
     "data": {
      "application/vnd.jupyter.widget-view+json": {
       "model_id": "d9dd5d402d9043059b93204b4ba6ef44",
       "version_major": 2,
       "version_minor": 0
      },
      "text/plain": [
       "Retrieving MaterialsDoc documents:   0%|          | 0/1 [00:00<?, ?it/s]"
      ]
     },
     "metadata": {},
     "output_type": "display_data"
    },
    {
     "data": {
      "application/vnd.jupyter.widget-view+json": {
       "model_id": "349c29d622204b8aa7e99f547a28a860",
       "version_major": 2,
       "version_minor": 0
      },
      "text/plain": [
       "Retrieving MaterialsDoc documents:   0%|          | 0/1 [00:00<?, ?it/s]"
      ]
     },
     "metadata": {},
     "output_type": "display_data"
    },
    {
     "data": {
      "application/vnd.jupyter.widget-view+json": {
       "model_id": "24d7c5d197734ccd94d1949caf1d1186",
       "version_major": 2,
       "version_minor": 0
      },
      "text/plain": [
       "Retrieving MaterialsDoc documents:   0%|          | 0/1 [00:00<?, ?it/s]"
      ]
     },
     "metadata": {},
     "output_type": "display_data"
    },
    {
     "data": {
      "application/vnd.jupyter.widget-view+json": {
       "model_id": "e08534a7622f43959f9488f24c45d98b",
       "version_major": 2,
       "version_minor": 0
      },
      "text/plain": [
       "Retrieving MaterialsDoc documents:   0%|          | 0/1 [00:00<?, ?it/s]"
      ]
     },
     "metadata": {},
     "output_type": "display_data"
    },
    {
     "name": "stderr",
     "output_type": "stream",
     "text": [
      "\r",
      " 24%|██████████████████████████▍                                                                                     | 21/89 [00:59<04:47,  4.23s/it]"
     ]
    },
    {
     "data": {
      "application/vnd.jupyter.widget-view+json": {
       "model_id": "c9fd32e60be7450e8178e5e4b6fef52c",
       "version_major": 2,
       "version_minor": 0
      },
      "text/plain": [
       "Retrieving MaterialsDoc documents:   0%|          | 0/2 [00:00<?, ?it/s]"
      ]
     },
     "metadata": {},
     "output_type": "display_data"
    },
    {
     "data": {
      "application/vnd.jupyter.widget-view+json": {
       "model_id": "1e10def80473444bbf0bf15b097500d6",
       "version_major": 2,
       "version_minor": 0
      },
      "text/plain": [
       "Retrieving MaterialsDoc documents:   0%|          | 0/1 [00:00<?, ?it/s]"
      ]
     },
     "metadata": {},
     "output_type": "display_data"
    },
    {
     "name": "stderr",
     "output_type": "stream",
     "text": [
      "\r",
      " 25%|███████████████████████████▋                                                                                    | 22/89 [01:02<04:17,  3.84s/it]"
     ]
    },
    {
     "data": {
      "application/vnd.jupyter.widget-view+json": {
       "model_id": "343b6fd181ab420ea13d9e91e84498f9",
       "version_major": 2,
       "version_minor": 0
      },
      "text/plain": [
       "Retrieving MaterialsDoc documents:   0%|          | 0/3 [00:00<?, ?it/s]"
      ]
     },
     "metadata": {},
     "output_type": "display_data"
    },
    {
     "data": {
      "application/vnd.jupyter.widget-view+json": {
       "model_id": "573c30e6e2e54353be0fee8a04c43806",
       "version_major": 2,
       "version_minor": 0
      },
      "text/plain": [
       "Retrieving MaterialsDoc documents:   0%|          | 0/1 [00:00<?, ?it/s]"
      ]
     },
     "metadata": {},
     "output_type": "display_data"
    },
    {
     "name": "stderr",
     "output_type": "stream",
     "text": [
      "\r",
      " 26%|████████████████████████████▉                                                                                   | 23/89 [01:08<04:51,  4.42s/it]"
     ]
    },
    {
     "data": {
      "application/vnd.jupyter.widget-view+json": {
       "model_id": "eb09701166c640e69017e201be0ab3d1",
       "version_major": 2,
       "version_minor": 0
      },
      "text/plain": [
       "Retrieving MaterialsDoc documents:   0%|          | 0/2 [00:00<?, ?it/s]"
      ]
     },
     "metadata": {},
     "output_type": "display_data"
    },
    {
     "data": {
      "application/vnd.jupyter.widget-view+json": {
       "model_id": "60fbbd768b5c4789834be656fac90297",
       "version_major": 2,
       "version_minor": 0
      },
      "text/plain": [
       "Retrieving MaterialsDoc documents:   0%|          | 0/1 [00:00<?, ?it/s]"
      ]
     },
     "metadata": {},
     "output_type": "display_data"
    },
    {
     "name": "stderr",
     "output_type": "stream",
     "text": [
      "\r",
      " 27%|██████████████████████████████▏                                                                                 | 24/89 [01:13<04:58,  4.58s/it]"
     ]
    },
    {
     "data": {
      "application/vnd.jupyter.widget-view+json": {
       "model_id": "b2f51f7d192e407f91a5024200510165",
       "version_major": 2,
       "version_minor": 0
      },
      "text/plain": [
       "Retrieving MaterialsDoc documents:   0%|          | 0/2 [00:00<?, ?it/s]"
      ]
     },
     "metadata": {},
     "output_type": "display_data"
    },
    {
     "data": {
      "application/vnd.jupyter.widget-view+json": {
       "model_id": "8a94363455dd4e4cac2436e0d701dea8",
       "version_major": 2,
       "version_minor": 0
      },
      "text/plain": [
       "Retrieving MaterialsDoc documents:   0%|          | 0/1 [00:00<?, ?it/s]"
      ]
     },
     "metadata": {},
     "output_type": "display_data"
    },
    {
     "name": "stderr",
     "output_type": "stream",
     "text": [
      "\r",
      " 28%|███████████████████████████████▍                                                                                | 25/89 [01:15<04:14,  3.98s/it]"
     ]
    },
    {
     "data": {
      "application/vnd.jupyter.widget-view+json": {
       "model_id": "a6a095a8c6dd4e6a88fbf8bb71e87851",
       "version_major": 2,
       "version_minor": 0
      },
      "text/plain": [
       "Retrieving MaterialsDoc documents:   0%|          | 0/3 [00:00<?, ?it/s]"
      ]
     },
     "metadata": {},
     "output_type": "display_data"
    },
    {
     "data": {
      "application/vnd.jupyter.widget-view+json": {
       "model_id": "e08b54d0cd31445b9db2393df208b985",
       "version_major": 2,
       "version_minor": 0
      },
      "text/plain": [
       "Retrieving MaterialsDoc documents:   0%|          | 0/1 [00:00<?, ?it/s]"
      ]
     },
     "metadata": {},
     "output_type": "display_data"
    },
    {
     "name": "stderr",
     "output_type": "stream",
     "text": [
      "\r",
      " 29%|████████████████████████████████▋                                                                               | 26/89 [01:18<03:43,  3.55s/it]"
     ]
    },
    {
     "data": {
      "application/vnd.jupyter.widget-view+json": {
       "model_id": "5f9fb7da39b740d0b87c28fe4be35567",
       "version_major": 2,
       "version_minor": 0
      },
      "text/plain": [
       "Retrieving MaterialsDoc documents:   0%|          | 0/1 [00:00<?, ?it/s]"
      ]
     },
     "metadata": {},
     "output_type": "display_data"
    },
    {
     "data": {
      "application/vnd.jupyter.widget-view+json": {
       "model_id": "40d6ffedf040403ba08175acbefe69a1",
       "version_major": 2,
       "version_minor": 0
      },
      "text/plain": [
       "Retrieving MaterialsDoc documents:   0%|          | 0/1 [00:00<?, ?it/s]"
      ]
     },
     "metadata": {},
     "output_type": "display_data"
    },
    {
     "name": "stderr",
     "output_type": "stream",
     "text": [
      "\r",
      " 30%|█████████████████████████████████▉                                                                              | 27/89 [01:21<03:26,  3.33s/it]"
     ]
    },
    {
     "data": {
      "application/vnd.jupyter.widget-view+json": {
       "model_id": "ae4ed3b6376840d5a2951c0ce3a1ccdb",
       "version_major": 2,
       "version_minor": 0
      },
      "text/plain": [
       "Retrieving MaterialsDoc documents:   0%|          | 0/3 [00:00<?, ?it/s]"
      ]
     },
     "metadata": {},
     "output_type": "display_data"
    },
    {
     "data": {
      "application/vnd.jupyter.widget-view+json": {
       "model_id": "69c917a6296a4bd0aa1591228f37c1d0",
       "version_major": 2,
       "version_minor": 0
      },
      "text/plain": [
       "Retrieving MaterialsDoc documents:   0%|          | 0/1 [00:00<?, ?it/s]"
      ]
     },
     "metadata": {},
     "output_type": "display_data"
    },
    {
     "data": {
      "application/vnd.jupyter.widget-view+json": {
       "model_id": "cdead5d8595b4f5b8c2df5edc09fdcb3",
       "version_major": 2,
       "version_minor": 0
      },
      "text/plain": [
       "Retrieving MaterialsDoc documents:   0%|          | 0/1 [00:00<?, ?it/s]"
      ]
     },
     "metadata": {},
     "output_type": "display_data"
    },
    {
     "name": "stderr",
     "output_type": "stream",
     "text": [
      "\r",
      " 31%|███████████████████████████████████▏                                                                            | 28/89 [01:23<03:00,  2.96s/it]"
     ]
    },
    {
     "data": {
      "application/vnd.jupyter.widget-view+json": {
       "model_id": "6cabb611d02b429c89a326acc4157ee2",
       "version_major": 2,
       "version_minor": 0
      },
      "text/plain": [
       "Retrieving MaterialsDoc documents:   0%|          | 0/1 [00:00<?, ?it/s]"
      ]
     },
     "metadata": {},
     "output_type": "display_data"
    },
    {
     "data": {
      "application/vnd.jupyter.widget-view+json": {
       "model_id": "7ffb86b8bb32496ea4a225b520059f05",
       "version_major": 2,
       "version_minor": 0
      },
      "text/plain": [
       "Retrieving MaterialsDoc documents:   0%|          | 0/1 [00:00<?, ?it/s]"
      ]
     },
     "metadata": {},
     "output_type": "display_data"
    },
    {
     "name": "stderr",
     "output_type": "stream",
     "text": [
      "\r",
      " 33%|████████████████████████████████████▍                                                                           | 29/89 [01:25<02:40,  2.67s/it]"
     ]
    },
    {
     "data": {
      "application/vnd.jupyter.widget-view+json": {
       "model_id": "b4be0291e56242d898dfb3fc1b3f6d70",
       "version_major": 2,
       "version_minor": 0
      },
      "text/plain": [
       "Retrieving MaterialsDoc documents:   0%|          | 0/3 [00:00<?, ?it/s]"
      ]
     },
     "metadata": {},
     "output_type": "display_data"
    },
    {
     "data": {
      "application/vnd.jupyter.widget-view+json": {
       "model_id": "180ac66606e84ba18de6adc95bce0bb0",
       "version_major": 2,
       "version_minor": 0
      },
      "text/plain": [
       "Retrieving MaterialsDoc documents:   0%|          | 0/1 [00:00<?, ?it/s]"
      ]
     },
     "metadata": {},
     "output_type": "display_data"
    },
    {
     "name": "stderr",
     "output_type": "stream",
     "text": [
      "\r",
      " 34%|█████████████████████████████████████▊                                                                          | 30/89 [01:27<02:38,  2.68s/it]"
     ]
    },
    {
     "data": {
      "application/vnd.jupyter.widget-view+json": {
       "model_id": "ce947959f5a74d80b39728d16b84f62d",
       "version_major": 2,
       "version_minor": 0
      },
      "text/plain": [
       "Retrieving MaterialsDoc documents:   0%|          | 0/2 [00:00<?, ?it/s]"
      ]
     },
     "metadata": {},
     "output_type": "display_data"
    },
    {
     "data": {
      "application/vnd.jupyter.widget-view+json": {
       "model_id": "5fa81f5dcc634ae7a381937f60926bb4",
       "version_major": 2,
       "version_minor": 0
      },
      "text/plain": [
       "Retrieving MaterialsDoc documents:   0%|          | 0/1 [00:00<?, ?it/s]"
      ]
     },
     "metadata": {},
     "output_type": "display_data"
    },
    {
     "name": "stderr",
     "output_type": "stream",
     "text": [
      "\r",
      " 35%|███████████████████████████████████████                                                                         | 31/89 [01:29<02:17,  2.37s/it]"
     ]
    },
    {
     "data": {
      "application/vnd.jupyter.widget-view+json": {
       "model_id": "85cf45a073b54caa94324287a4db6373",
       "version_major": 2,
       "version_minor": 0
      },
      "text/plain": [
       "Retrieving MaterialsDoc documents:   0%|          | 0/2 [00:00<?, ?it/s]"
      ]
     },
     "metadata": {},
     "output_type": "display_data"
    },
    {
     "data": {
      "application/vnd.jupyter.widget-view+json": {
       "model_id": "eee7d9c1232d4ad2bb3e138cd4f72746",
       "version_major": 2,
       "version_minor": 0
      },
      "text/plain": [
       "Retrieving MaterialsDoc documents:   0%|          | 0/1 [00:00<?, ?it/s]"
      ]
     },
     "metadata": {},
     "output_type": "display_data"
    },
    {
     "name": "stderr",
     "output_type": "stream",
     "text": [
      "\r",
      " 36%|████████████████████████████████████████▎                                                                       | 32/89 [01:31<02:04,  2.18s/it]"
     ]
    },
    {
     "data": {
      "application/vnd.jupyter.widget-view+json": {
       "model_id": "4fa7f43376bf4d0aa121630f91237c03",
       "version_major": 2,
       "version_minor": 0
      },
      "text/plain": [
       "Retrieving MaterialsDoc documents:   0%|          | 0/2 [00:00<?, ?it/s]"
      ]
     },
     "metadata": {},
     "output_type": "display_data"
    },
    {
     "data": {
      "application/vnd.jupyter.widget-view+json": {
       "model_id": "280959a83a5d45a3a278614ca125b237",
       "version_major": 2,
       "version_minor": 0
      },
      "text/plain": [
       "Retrieving MaterialsDoc documents:   0%|          | 0/1 [00:00<?, ?it/s]"
      ]
     },
     "metadata": {},
     "output_type": "display_data"
    },
    {
     "name": "stderr",
     "output_type": "stream",
     "text": [
      "\r",
      " 37%|█████████████████████████████████████████▌                                                                      | 33/89 [01:34<02:10,  2.33s/it]"
     ]
    },
    {
     "data": {
      "application/vnd.jupyter.widget-view+json": {
       "model_id": "88d6a7e7b12445dab5f312a0badcde8c",
       "version_major": 2,
       "version_minor": 0
      },
      "text/plain": [
       "Retrieving MaterialsDoc documents:   0%|          | 0/4 [00:00<?, ?it/s]"
      ]
     },
     "metadata": {},
     "output_type": "display_data"
    },
    {
     "data": {
      "application/vnd.jupyter.widget-view+json": {
       "model_id": "852073f985694702ba2b78737e792676",
       "version_major": 2,
       "version_minor": 0
      },
      "text/plain": [
       "Retrieving MaterialsDoc documents:   0%|          | 0/1 [00:00<?, ?it/s]"
      ]
     },
     "metadata": {},
     "output_type": "display_data"
    },
    {
     "name": "stderr",
     "output_type": "stream",
     "text": [
      "\r",
      " 38%|██████████████████████████████████████████▊                                                                     | 34/89 [01:36<02:04,  2.26s/it]"
     ]
    },
    {
     "data": {
      "application/vnd.jupyter.widget-view+json": {
       "model_id": "181cbd202ec84e15a97613d9f0d738aa",
       "version_major": 2,
       "version_minor": 0
      },
      "text/plain": [
       "Retrieving MaterialsDoc documents:   0%|          | 0/2 [00:00<?, ?it/s]"
      ]
     },
     "metadata": {},
     "output_type": "display_data"
    },
    {
     "data": {
      "application/vnd.jupyter.widget-view+json": {
       "model_id": "b8a446c342824d6193fbd4328bbae4e2",
       "version_major": 2,
       "version_minor": 0
      },
      "text/plain": [
       "Retrieving MaterialsDoc documents:   0%|          | 0/1 [00:00<?, ?it/s]"
      ]
     },
     "metadata": {},
     "output_type": "display_data"
    },
    {
     "data": {
      "application/vnd.jupyter.widget-view+json": {
       "model_id": "7a6df8e6b9b54467bdf22e35f5d75626",
       "version_major": 2,
       "version_minor": 0
      },
      "text/plain": [
       "Retrieving MaterialsDoc documents:   0%|          | 0/1 [00:00<?, ?it/s]"
      ]
     },
     "metadata": {},
     "output_type": "display_data"
    },
    {
     "name": "stderr",
     "output_type": "stream",
     "text": [
      "\r",
      " 39%|████████████████████████████████████████████                                                                    | 35/89 [01:39<02:16,  2.52s/it]"
     ]
    },
    {
     "data": {
      "application/vnd.jupyter.widget-view+json": {
       "model_id": "846543d71bc34a0c890fdda83db7d1f4",
       "version_major": 2,
       "version_minor": 0
      },
      "text/plain": [
       "Retrieving MaterialsDoc documents:   0%|          | 0/2 [00:00<?, ?it/s]"
      ]
     },
     "metadata": {},
     "output_type": "display_data"
    },
    {
     "data": {
      "application/vnd.jupyter.widget-view+json": {
       "model_id": "ec68c861af7f4647a8f84b3dcd252ae0",
       "version_major": 2,
       "version_minor": 0
      },
      "text/plain": [
       "Retrieving MaterialsDoc documents:   0%|          | 0/1 [00:00<?, ?it/s]"
      ]
     },
     "metadata": {},
     "output_type": "display_data"
    },
    {
     "name": "stderr",
     "output_type": "stream",
     "text": [
      "\r",
      " 40%|█████████████████████████████████████████████▎                                                                  | 36/89 [01:42<02:21,  2.67s/it]"
     ]
    },
    {
     "data": {
      "application/vnd.jupyter.widget-view+json": {
       "model_id": "4addc2a4041a48859b0229c867fc9c13",
       "version_major": 2,
       "version_minor": 0
      },
      "text/plain": [
       "Retrieving MaterialsDoc documents:   0%|          | 0/2 [00:00<?, ?it/s]"
      ]
     },
     "metadata": {},
     "output_type": "display_data"
    },
    {
     "data": {
      "application/vnd.jupyter.widget-view+json": {
       "model_id": "f6e8770f6ac04219a447ac692b60a9eb",
       "version_major": 2,
       "version_minor": 0
      },
      "text/plain": [
       "Retrieving MaterialsDoc documents:   0%|          | 0/1 [00:00<?, ?it/s]"
      ]
     },
     "metadata": {},
     "output_type": "display_data"
    },
    {
     "name": "stderr",
     "output_type": "stream",
     "text": [
      "\r",
      " 42%|██████████████████████████████████████████████▌                                                                 | 37/89 [01:44<02:16,  2.63s/it]"
     ]
    },
    {
     "data": {
      "application/vnd.jupyter.widget-view+json": {
       "model_id": "aa8e6c0c02174f779858617160bb326e",
       "version_major": 2,
       "version_minor": 0
      },
      "text/plain": [
       "Retrieving MaterialsDoc documents:   0%|          | 0/2 [00:00<?, ?it/s]"
      ]
     },
     "metadata": {},
     "output_type": "display_data"
    },
    {
     "data": {
      "application/vnd.jupyter.widget-view+json": {
       "model_id": "7907484f999a4db3922641dde53fba40",
       "version_major": 2,
       "version_minor": 0
      },
      "text/plain": [
       "Retrieving MaterialsDoc documents:   0%|          | 0/1 [00:00<?, ?it/s]"
      ]
     },
     "metadata": {},
     "output_type": "display_data"
    },
    {
     "name": "stderr",
     "output_type": "stream",
     "text": [
      "\r",
      " 43%|███████████████████████████████████████████████▊                                                                | 38/89 [01:46<02:05,  2.46s/it]"
     ]
    },
    {
     "data": {
      "application/vnd.jupyter.widget-view+json": {
       "model_id": "72f3630373b9408d81fa878d703742ee",
       "version_major": 2,
       "version_minor": 0
      },
      "text/plain": [
       "Retrieving MaterialsDoc documents:   0%|          | 0/2 [00:00<?, ?it/s]"
      ]
     },
     "metadata": {},
     "output_type": "display_data"
    },
    {
     "data": {
      "application/vnd.jupyter.widget-view+json": {
       "model_id": "ca6f698e514345798f81a931eea3d591",
       "version_major": 2,
       "version_minor": 0
      },
      "text/plain": [
       "Retrieving MaterialsDoc documents:   0%|          | 0/1 [00:00<?, ?it/s]"
      ]
     },
     "metadata": {},
     "output_type": "display_data"
    },
    {
     "name": "stderr",
     "output_type": "stream",
     "text": [
      "\r",
      " 44%|█████████████████████████████████████████████████                                                               | 39/89 [01:49<01:58,  2.38s/it]"
     ]
    },
    {
     "data": {
      "application/vnd.jupyter.widget-view+json": {
       "model_id": "3499774cac6f4d1ab88945411c1385fd",
       "version_major": 2,
       "version_minor": 0
      },
      "text/plain": [
       "Retrieving MaterialsDoc documents:   0%|          | 0/2 [00:00<?, ?it/s]"
      ]
     },
     "metadata": {},
     "output_type": "display_data"
    },
    {
     "data": {
      "application/vnd.jupyter.widget-view+json": {
       "model_id": "268bb4b40560426291380cfe0203033b",
       "version_major": 2,
       "version_minor": 0
      },
      "text/plain": [
       "Retrieving MaterialsDoc documents:   0%|          | 0/1 [00:00<?, ?it/s]"
      ]
     },
     "metadata": {},
     "output_type": "display_data"
    },
    {
     "name": "stderr",
     "output_type": "stream",
     "text": [
      "\r",
      " 45%|██████████████████████████████████████████████████▎                                                             | 40/89 [01:50<01:39,  2.04s/it]"
     ]
    },
    {
     "data": {
      "application/vnd.jupyter.widget-view+json": {
       "model_id": "6b245c9c12514f93920d2b3d83759ebe",
       "version_major": 2,
       "version_minor": 0
      },
      "text/plain": [
       "Retrieving MaterialsDoc documents:   0%|          | 0/5 [00:00<?, ?it/s]"
      ]
     },
     "metadata": {},
     "output_type": "display_data"
    },
    {
     "data": {
      "application/vnd.jupyter.widget-view+json": {
       "model_id": "d769ddcec8ca4dcba0b71f385460abbd",
       "version_major": 2,
       "version_minor": 0
      },
      "text/plain": [
       "Retrieving MaterialsDoc documents:   0%|          | 0/1 [00:00<?, ?it/s]"
      ]
     },
     "metadata": {},
     "output_type": "display_data"
    },
    {
     "data": {
      "application/vnd.jupyter.widget-view+json": {
       "model_id": "dfe0378d27404c60afefcd61aeff826c",
       "version_major": 2,
       "version_minor": 0
      },
      "text/plain": [
       "Retrieving MaterialsDoc documents:   0%|          | 0/1 [00:00<?, ?it/s]"
      ]
     },
     "metadata": {},
     "output_type": "display_data"
    },
    {
     "name": "stderr",
     "output_type": "stream",
     "text": [
      "\r",
      " 46%|███████████████████████████████████████████████████▌                                                            | 41/89 [01:52<01:37,  2.02s/it]"
     ]
    },
    {
     "data": {
      "application/vnd.jupyter.widget-view+json": {
       "model_id": "5d1949382b9b4b05baac35241b1f0402",
       "version_major": 2,
       "version_minor": 0
      },
      "text/plain": [
       "Retrieving MaterialsDoc documents:   0%|          | 0/10 [00:00<?, ?it/s]"
      ]
     },
     "metadata": {},
     "output_type": "display_data"
    },
    {
     "data": {
      "application/vnd.jupyter.widget-view+json": {
       "model_id": "98c6713b4dca4288bbe2d7a857542423",
       "version_major": 2,
       "version_minor": 0
      },
      "text/plain": [
       "Retrieving MaterialsDoc documents:   0%|          | 0/1 [00:00<?, ?it/s]"
      ]
     },
     "metadata": {},
     "output_type": "display_data"
    },
    {
     "name": "stderr",
     "output_type": "stream",
     "text": [
      "\r",
      " 47%|████████████████████████████████████████████████████▊                                                           | 42/89 [01:53<01:19,  1.70s/it]"
     ]
    },
    {
     "data": {
      "application/vnd.jupyter.widget-view+json": {
       "model_id": "c36ebc3fbb4e4ef8a083c15dee9754f9",
       "version_major": 2,
       "version_minor": 0
      },
      "text/plain": [
       "Retrieving MaterialsDoc documents:   0%|          | 0/10 [00:00<?, ?it/s]"
      ]
     },
     "metadata": {},
     "output_type": "display_data"
    },
    {
     "data": {
      "application/vnd.jupyter.widget-view+json": {
       "model_id": "cf620b2311c9407ab16e84caa67830a7",
       "version_major": 2,
       "version_minor": 0
      },
      "text/plain": [
       "Retrieving MaterialsDoc documents:   0%|          | 0/1 [00:00<?, ?it/s]"
      ]
     },
     "metadata": {},
     "output_type": "display_data"
    },
    {
     "name": "stderr",
     "output_type": "stream",
     "text": [
      "\r",
      " 48%|██████████████████████████████████████████████████████                                                          | 43/89 [01:53<01:04,  1.40s/it]"
     ]
    },
    {
     "data": {
      "application/vnd.jupyter.widget-view+json": {
       "model_id": "72245bc49f89428b90bdf4bfd1e6bb3d",
       "version_major": 2,
       "version_minor": 0
      },
      "text/plain": [
       "Retrieving MaterialsDoc documents:   0%|          | 0/6 [00:00<?, ?it/s]"
      ]
     },
     "metadata": {},
     "output_type": "display_data"
    },
    {
     "data": {
      "application/vnd.jupyter.widget-view+json": {
       "model_id": "8628f8503299441689e5c7ea125839b2",
       "version_major": 2,
       "version_minor": 0
      },
      "text/plain": [
       "Retrieving MaterialsDoc documents:   0%|          | 0/1 [00:00<?, ?it/s]"
      ]
     },
     "metadata": {},
     "output_type": "display_data"
    },
    {
     "name": "stderr",
     "output_type": "stream",
     "text": [
      "\r",
      " 49%|███████████████████████████████████████████████████████▎                                                        | 44/89 [01:54<00:58,  1.29s/it]"
     ]
    },
    {
     "data": {
      "application/vnd.jupyter.widget-view+json": {
       "model_id": "89f9d93fc3e74efb8b1737f3f87e6454",
       "version_major": 2,
       "version_minor": 0
      },
      "text/plain": [
       "Retrieving MaterialsDoc documents:   0%|          | 0/8 [00:00<?, ?it/s]"
      ]
     },
     "metadata": {},
     "output_type": "display_data"
    },
    {
     "data": {
      "application/vnd.jupyter.widget-view+json": {
       "model_id": "d0de89e5f693413dbbafa62f939bbecb",
       "version_major": 2,
       "version_minor": 0
      },
      "text/plain": [
       "Retrieving MaterialsDoc documents:   0%|          | 0/1 [00:00<?, ?it/s]"
      ]
     },
     "metadata": {},
     "output_type": "display_data"
    },
    {
     "name": "stderr",
     "output_type": "stream",
     "text": [
      "\r",
      " 51%|████████████████████████████████████████████████████████▋                                                       | 45/89 [01:56<00:58,  1.34s/it]"
     ]
    },
    {
     "data": {
      "application/vnd.jupyter.widget-view+json": {
       "model_id": "6ef6c21ef61543ac9e6ec77e14ca2e98",
       "version_major": 2,
       "version_minor": 0
      },
      "text/plain": [
       "Retrieving MaterialsDoc documents:   0%|          | 0/8 [00:00<?, ?it/s]"
      ]
     },
     "metadata": {},
     "output_type": "display_data"
    },
    {
     "data": {
      "application/vnd.jupyter.widget-view+json": {
       "model_id": "a26b6cace8024150a63346e72a209910",
       "version_major": 2,
       "version_minor": 0
      },
      "text/plain": [
       "Retrieving MaterialsDoc documents:   0%|          | 0/1 [00:00<?, ?it/s]"
      ]
     },
     "metadata": {},
     "output_type": "display_data"
    },
    {
     "name": "stderr",
     "output_type": "stream",
     "text": [
      "\r",
      " 52%|█████████████████████████████████████████████████████████▉                                                      | 46/89 [01:57<00:48,  1.12s/it]"
     ]
    },
    {
     "data": {
      "application/vnd.jupyter.widget-view+json": {
       "model_id": "9dd996c054604b7c83fee5a9a0fd5d6d",
       "version_major": 2,
       "version_minor": 0
      },
      "text/plain": [
       "Retrieving MaterialsDoc documents:   0%|          | 0/4 [00:00<?, ?it/s]"
      ]
     },
     "metadata": {},
     "output_type": "display_data"
    },
    {
     "data": {
      "application/vnd.jupyter.widget-view+json": {
       "model_id": "d07fb209dae34cd289a43423913f0e08",
       "version_major": 2,
       "version_minor": 0
      },
      "text/plain": [
       "Retrieving MaterialsDoc documents:   0%|          | 0/1 [00:00<?, ?it/s]"
      ]
     },
     "metadata": {},
     "output_type": "display_data"
    },
    {
     "name": "stderr",
     "output_type": "stream",
     "text": [
      "\r",
      " 53%|███████████████████████████████████████████████████████████▏                                                    | 47/89 [01:58<00:48,  1.16s/it]"
     ]
    },
    {
     "data": {
      "application/vnd.jupyter.widget-view+json": {
       "model_id": "9800242a74cc4b09803585ba9775a144",
       "version_major": 2,
       "version_minor": 0
      },
      "text/plain": [
       "Retrieving MaterialsDoc documents:   0%|          | 0/5 [00:00<?, ?it/s]"
      ]
     },
     "metadata": {},
     "output_type": "display_data"
    },
    {
     "data": {
      "application/vnd.jupyter.widget-view+json": {
       "model_id": "0212d9e699fb42bd8a3a2b74c6d18fc4",
       "version_major": 2,
       "version_minor": 0
      },
      "text/plain": [
       "Retrieving MaterialsDoc documents:   0%|          | 0/1 [00:00<?, ?it/s]"
      ]
     },
     "metadata": {},
     "output_type": "display_data"
    },
    {
     "name": "stderr",
     "output_type": "stream",
     "text": [
      "\r",
      " 54%|████████████████████████████████████████████████████████████▍                                                   | 48/89 [01:59<00:43,  1.05s/it]"
     ]
    },
    {
     "data": {
      "application/vnd.jupyter.widget-view+json": {
       "model_id": "6673b2b090b64e8eb56e89904736e3ad",
       "version_major": 2,
       "version_minor": 0
      },
      "text/plain": [
       "Retrieving MaterialsDoc documents:   0%|          | 0/8 [00:00<?, ?it/s]"
      ]
     },
     "metadata": {},
     "output_type": "display_data"
    },
    {
     "data": {
      "application/vnd.jupyter.widget-view+json": {
       "model_id": "6cb3e36c07724dd8b4b7e180c8611f0c",
       "version_major": 2,
       "version_minor": 0
      },
      "text/plain": [
       "Retrieving MaterialsDoc documents:   0%|          | 0/1 [00:00<?, ?it/s]"
      ]
     },
     "metadata": {},
     "output_type": "display_data"
    },
    {
     "name": "stderr",
     "output_type": "stream",
     "text": [
      "\r",
      " 55%|█████████████████████████████████████████████████████████████▋                                                  | 49/89 [02:00<00:40,  1.02s/it]"
     ]
    },
    {
     "data": {
      "application/vnd.jupyter.widget-view+json": {
       "model_id": "4db7eb4050c1435897d03d219930bc0a",
       "version_major": 2,
       "version_minor": 0
      },
      "text/plain": [
       "Retrieving MaterialsDoc documents:   0%|          | 0/3 [00:00<?, ?it/s]"
      ]
     },
     "metadata": {},
     "output_type": "display_data"
    },
    {
     "data": {
      "application/vnd.jupyter.widget-view+json": {
       "model_id": "31a3b279898b4b1b8b2b8e0065602bd2",
       "version_major": 2,
       "version_minor": 0
      },
      "text/plain": [
       "Retrieving MaterialsDoc documents:   0%|          | 0/1 [00:00<?, ?it/s]"
      ]
     },
     "metadata": {},
     "output_type": "display_data"
    },
    {
     "name": "stderr",
     "output_type": "stream",
     "text": [
      "\r",
      " 56%|██████████████████████████████████████████████████████████████▉                                                 | 50/89 [02:01<00:42,  1.08s/it]"
     ]
    },
    {
     "data": {
      "application/vnd.jupyter.widget-view+json": {
       "model_id": "ddae6a585dfb45d0bbf6837087d15cea",
       "version_major": 2,
       "version_minor": 0
      },
      "text/plain": [
       "Retrieving MaterialsDoc documents:   0%|          | 0/4 [00:00<?, ?it/s]"
      ]
     },
     "metadata": {},
     "output_type": "display_data"
    },
    {
     "data": {
      "application/vnd.jupyter.widget-view+json": {
       "model_id": "cd31eec570b04daa9be18bd73a3a890c",
       "version_major": 2,
       "version_minor": 0
      },
      "text/plain": [
       "Retrieving MaterialsDoc documents:   0%|          | 0/1 [00:00<?, ?it/s]"
      ]
     },
     "metadata": {},
     "output_type": "display_data"
    },
    {
     "name": "stderr",
     "output_type": "stream",
     "text": [
      "\r",
      " 57%|████████████████████████████████████████████████████████████████▏                                               | 51/89 [02:02<00:37,  1.01it/s]"
     ]
    },
    {
     "data": {
      "application/vnd.jupyter.widget-view+json": {
       "model_id": "b89194c17b91454d8e2b5b6f377fe03f",
       "version_major": 2,
       "version_minor": 0
      },
      "text/plain": [
       "Retrieving MaterialsDoc documents:   0%|          | 0/7 [00:00<?, ?it/s]"
      ]
     },
     "metadata": {},
     "output_type": "display_data"
    },
    {
     "data": {
      "application/vnd.jupyter.widget-view+json": {
       "model_id": "2e39a7231ebb407ab3b09903c297d97f",
       "version_major": 2,
       "version_minor": 0
      },
      "text/plain": [
       "Retrieving MaterialsDoc documents:   0%|          | 0/1 [00:00<?, ?it/s]"
      ]
     },
     "metadata": {},
     "output_type": "display_data"
    },
    {
     "name": "stderr",
     "output_type": "stream",
     "text": [
      "\r",
      " 58%|█████████████████████████████████████████████████████████████████▍                                              | 52/89 [02:02<00:30,  1.20it/s]"
     ]
    },
    {
     "data": {
      "application/vnd.jupyter.widget-view+json": {
       "model_id": "b946c34e81fe4adab0378a8229bbec02",
       "version_major": 2,
       "version_minor": 0
      },
      "text/plain": [
       "Retrieving MaterialsDoc documents:   0%|          | 0/3 [00:00<?, ?it/s]"
      ]
     },
     "metadata": {},
     "output_type": "display_data"
    },
    {
     "data": {
      "application/vnd.jupyter.widget-view+json": {
       "model_id": "d4531a2b13e7425ab8bcc5543d668e4f",
       "version_major": 2,
       "version_minor": 0
      },
      "text/plain": [
       "Retrieving MaterialsDoc documents:   0%|          | 0/1 [00:00<?, ?it/s]"
      ]
     },
     "metadata": {},
     "output_type": "display_data"
    },
    {
     "name": "stderr",
     "output_type": "stream",
     "text": [
      "\r",
      " 60%|██████████████████████████████████████████████████████████████████▋                                             | 53/89 [02:03<00:29,  1.22it/s]"
     ]
    },
    {
     "data": {
      "application/vnd.jupyter.widget-view+json": {
       "model_id": "aaef89a092334776b9a9e87f5f154e71",
       "version_major": 2,
       "version_minor": 0
      },
      "text/plain": [
       "Retrieving MaterialsDoc documents:   0%|          | 0/5 [00:00<?, ?it/s]"
      ]
     },
     "metadata": {},
     "output_type": "display_data"
    },
    {
     "data": {
      "application/vnd.jupyter.widget-view+json": {
       "model_id": "c2f50d3161414a38b6523671a2c68145",
       "version_major": 2,
       "version_minor": 0
      },
      "text/plain": [
       "Retrieving MaterialsDoc documents:   0%|          | 0/1 [00:00<?, ?it/s]"
      ]
     },
     "metadata": {},
     "output_type": "display_data"
    },
    {
     "name": "stderr",
     "output_type": "stream",
     "text": [
      "\r",
      " 61%|███████████████████████████████████████████████████████████████████▉                                            | 54/89 [02:04<00:28,  1.24it/s]"
     ]
    },
    {
     "data": {
      "application/vnd.jupyter.widget-view+json": {
       "model_id": "1be0355dfca14f70ab7d2deab287d3df",
       "version_major": 2,
       "version_minor": 0
      },
      "text/plain": [
       "Retrieving MaterialsDoc documents:   0%|          | 0/10 [00:00<?, ?it/s]"
      ]
     },
     "metadata": {},
     "output_type": "display_data"
    },
    {
     "data": {
      "application/vnd.jupyter.widget-view+json": {
       "model_id": "811a2c06d0524de6a5a0dc98812d89a5",
       "version_major": 2,
       "version_minor": 0
      },
      "text/plain": [
       "Retrieving MaterialsDoc documents:   0%|          | 0/1 [00:00<?, ?it/s]"
      ]
     },
     "metadata": {},
     "output_type": "display_data"
    },
    {
     "data": {
      "application/vnd.jupyter.widget-view+json": {
       "model_id": "28d8aa86022d416ebb4d6cf8891f7aa1",
       "version_major": 2,
       "version_minor": 0
      },
      "text/plain": [
       "Retrieving MaterialsDoc documents:   0%|          | 0/1 [00:00<?, ?it/s]"
      ]
     },
     "metadata": {},
     "output_type": "display_data"
    },
    {
     "name": "stderr",
     "output_type": "stream",
     "text": [
      "\r",
      " 62%|█████████████████████████████████████████████████████████████████████▏                                          | 55/89 [02:05<00:30,  1.11it/s]"
     ]
    },
    {
     "data": {
      "application/vnd.jupyter.widget-view+json": {
       "model_id": "78de27ae250d4c7c977d5e8a96c00e86",
       "version_major": 2,
       "version_minor": 0
      },
      "text/plain": [
       "Retrieving MaterialsDoc documents:   0%|          | 0/4 [00:00<?, ?it/s]"
      ]
     },
     "metadata": {},
     "output_type": "display_data"
    },
    {
     "data": {
      "application/vnd.jupyter.widget-view+json": {
       "model_id": "91a220f1836f414aa01044033e900d65",
       "version_major": 2,
       "version_minor": 0
      },
      "text/plain": [
       "Retrieving MaterialsDoc documents:   0%|          | 0/1 [00:00<?, ?it/s]"
      ]
     },
     "metadata": {},
     "output_type": "display_data"
    },
    {
     "name": "stderr",
     "output_type": "stream",
     "text": [
      "\r",
      " 63%|██████████████████████████████████████████████████████████████████████▍                                         | 56/89 [02:10<01:16,  2.31s/it]"
     ]
    },
    {
     "data": {
      "application/vnd.jupyter.widget-view+json": {
       "model_id": "779f432cf0674757af707b46a8008f1e",
       "version_major": 2,
       "version_minor": 0
      },
      "text/plain": [
       "Retrieving MaterialsDoc documents:   0%|          | 0/8 [00:00<?, ?it/s]"
      ]
     },
     "metadata": {},
     "output_type": "display_data"
    },
    {
     "data": {
      "application/vnd.jupyter.widget-view+json": {
       "model_id": "89b9aff3cdeb43e380463df973c96060",
       "version_major": 2,
       "version_minor": 0
      },
      "text/plain": [
       "Retrieving MaterialsDoc documents:   0%|          | 0/1 [00:00<?, ?it/s]"
      ]
     },
     "metadata": {},
     "output_type": "display_data"
    },
    {
     "name": "stderr",
     "output_type": "stream",
     "text": [
      "\r",
      " 64%|███████████████████████████████████████████████████████████████████████▋                                        | 57/89 [02:14<01:23,  2.62s/it]"
     ]
    },
    {
     "data": {
      "application/vnd.jupyter.widget-view+json": {
       "model_id": "230969c50c5848af84b2de26cf987ffe",
       "version_major": 2,
       "version_minor": 0
      },
      "text/plain": [
       "Retrieving MaterialsDoc documents:   0%|          | 0/4 [00:00<?, ?it/s]"
      ]
     },
     "metadata": {},
     "output_type": "display_data"
    },
    {
     "data": {
      "application/vnd.jupyter.widget-view+json": {
       "model_id": "10d075f184224df9bffc3e76143b8fef",
       "version_major": 2,
       "version_minor": 0
      },
      "text/plain": [
       "Retrieving MaterialsDoc documents:   0%|          | 0/1 [00:00<?, ?it/s]"
      ]
     },
     "metadata": {},
     "output_type": "display_data"
    },
    {
     "name": "stderr",
     "output_type": "stream",
     "text": [
      "\r",
      " 65%|████████████████████████████████████████████████████████████████████████▉                                       | 58/89 [02:16<01:16,  2.47s/it]"
     ]
    },
    {
     "data": {
      "application/vnd.jupyter.widget-view+json": {
       "model_id": "a6114214ee034f5a99f94aa4c34ca9c7",
       "version_major": 2,
       "version_minor": 0
      },
      "text/plain": [
       "Retrieving MaterialsDoc documents:   0%|          | 0/7 [00:00<?, ?it/s]"
      ]
     },
     "metadata": {},
     "output_type": "display_data"
    },
    {
     "data": {
      "application/vnd.jupyter.widget-view+json": {
       "model_id": "e18a99db49b241f78b0d4ffd2eafa4d2",
       "version_major": 2,
       "version_minor": 0
      },
      "text/plain": [
       "Retrieving MaterialsDoc documents:   0%|          | 0/1 [00:00<?, ?it/s]"
      ]
     },
     "metadata": {},
     "output_type": "display_data"
    },
    {
     "name": "stderr",
     "output_type": "stream",
     "text": [
      "\r",
      " 66%|██████████████████████████████████████████████████████████████████████████▏                                     | 59/89 [02:20<01:28,  2.95s/it]"
     ]
    },
    {
     "data": {
      "application/vnd.jupyter.widget-view+json": {
       "model_id": "e08d71d5e02442d7a3d1d4b77b2b54f1",
       "version_major": 2,
       "version_minor": 0
      },
      "text/plain": [
       "Retrieving MaterialsDoc documents:   0%|          | 0/8 [00:00<?, ?it/s]"
      ]
     },
     "metadata": {},
     "output_type": "display_data"
    },
    {
     "data": {
      "application/vnd.jupyter.widget-view+json": {
       "model_id": "7d37af18e49246279717777ee4e80b85",
       "version_major": 2,
       "version_minor": 0
      },
      "text/plain": [
       "Retrieving MaterialsDoc documents:   0%|          | 0/1 [00:00<?, ?it/s]"
      ]
     },
     "metadata": {},
     "output_type": "display_data"
    },
    {
     "name": "stderr",
     "output_type": "stream",
     "text": [
      "\r",
      " 67%|███████████████████████████████████████████████████████████████████████████▌                                    | 60/89 [02:23<01:29,  3.08s/it]"
     ]
    },
    {
     "data": {
      "application/vnd.jupyter.widget-view+json": {
       "model_id": "19360fd140c54053ab2f0c1355fd563c",
       "version_major": 2,
       "version_minor": 0
      },
      "text/plain": [
       "Retrieving MaterialsDoc documents:   0%|          | 0/8 [00:00<?, ?it/s]"
      ]
     },
     "metadata": {},
     "output_type": "display_data"
    },
    {
     "data": {
      "application/vnd.jupyter.widget-view+json": {
       "model_id": "2a162bf87cfc473f9e675bd4a4106da3",
       "version_major": 2,
       "version_minor": 0
      },
      "text/plain": [
       "Retrieving MaterialsDoc documents:   0%|          | 0/1 [00:00<?, ?it/s]"
      ]
     },
     "metadata": {},
     "output_type": "display_data"
    },
    {
     "name": "stderr",
     "output_type": "stream",
     "text": [
      "\r",
      " 69%|████████████████████████████████████████████████████████████████████████████▊                                   | 61/89 [02:29<01:45,  3.75s/it]"
     ]
    },
    {
     "data": {
      "application/vnd.jupyter.widget-view+json": {
       "model_id": "c25896977eb740dca6eb2799c4ef86bd",
       "version_major": 2,
       "version_minor": 0
      },
      "text/plain": [
       "Retrieving MaterialsDoc documents:   0%|          | 0/1 [00:00<?, ?it/s]"
      ]
     },
     "metadata": {},
     "output_type": "display_data"
    },
    {
     "data": {
      "application/vnd.jupyter.widget-view+json": {
       "model_id": "50cdd7c15cb44e62b95b7c2499e18b76",
       "version_major": 2,
       "version_minor": 0
      },
      "text/plain": [
       "Retrieving MaterialsDoc documents:   0%|          | 0/1 [00:00<?, ?it/s]"
      ]
     },
     "metadata": {},
     "output_type": "display_data"
    },
    {
     "name": "stderr",
     "output_type": "stream",
     "text": [
      "\r",
      " 70%|██████████████████████████████████████████████████████████████████████████████                                  | 62/89 [02:32<01:35,  3.53s/it]"
     ]
    },
    {
     "data": {
      "application/vnd.jupyter.widget-view+json": {
       "model_id": "c49864c0c180464595b604d8fee0a0e2",
       "version_major": 2,
       "version_minor": 0
      },
      "text/plain": [
       "Retrieving MaterialsDoc documents:   0%|          | 0/4 [00:00<?, ?it/s]"
      ]
     },
     "metadata": {},
     "output_type": "display_data"
    },
    {
     "data": {
      "application/vnd.jupyter.widget-view+json": {
       "model_id": "61c09077f65e4979b5f453796d8b2218",
       "version_major": 2,
       "version_minor": 0
      },
      "text/plain": [
       "Retrieving MaterialsDoc documents:   0%|          | 0/1 [00:00<?, ?it/s]"
      ]
     },
     "metadata": {},
     "output_type": "display_data"
    },
    {
     "name": "stderr",
     "output_type": "stream",
     "text": [
      "\r",
      " 71%|███████████████████████████████████████████████████████████████████████████████▎                                | 63/89 [02:35<01:27,  3.38s/it]"
     ]
    },
    {
     "data": {
      "application/vnd.jupyter.widget-view+json": {
       "model_id": "10deabbf3acc4e5fb2b7d68bb77104fe",
       "version_major": 2,
       "version_minor": 0
      },
      "text/plain": [
       "Retrieving MaterialsDoc documents:   0%|          | 0/5 [00:00<?, ?it/s]"
      ]
     },
     "metadata": {},
     "output_type": "display_data"
    },
    {
     "data": {
      "application/vnd.jupyter.widget-view+json": {
       "model_id": "eb98d9e2ed6e4af78fc7a408368f3299",
       "version_major": 2,
       "version_minor": 0
      },
      "text/plain": [
       "Retrieving MaterialsDoc documents:   0%|          | 0/1 [00:00<?, ?it/s]"
      ]
     },
     "metadata": {},
     "output_type": "display_data"
    },
    {
     "name": "stderr",
     "output_type": "stream",
     "text": [
      "\r",
      " 72%|████████████████████████████████████████████████████████████████████████████████▌                               | 64/89 [02:38<01:23,  3.32s/it]"
     ]
    },
    {
     "data": {
      "application/vnd.jupyter.widget-view+json": {
       "model_id": "a30f575df17e4d038970de8e8814be1d",
       "version_major": 2,
       "version_minor": 0
      },
      "text/plain": [
       "Retrieving MaterialsDoc documents:   0%|          | 0/2 [00:00<?, ?it/s]"
      ]
     },
     "metadata": {},
     "output_type": "display_data"
    },
    {
     "data": {
      "application/vnd.jupyter.widget-view+json": {
       "model_id": "b4964c965f664c74b6306568a4702eee",
       "version_major": 2,
       "version_minor": 0
      },
      "text/plain": [
       "Retrieving MaterialsDoc documents:   0%|          | 0/1 [00:00<?, ?it/s]"
      ]
     },
     "metadata": {},
     "output_type": "display_data"
    },
    {
     "name": "stderr",
     "output_type": "stream",
     "text": [
      "\r",
      " 73%|█████████████████████████████████████████████████████████████████████████████████▊                              | 65/89 [02:41<01:15,  3.16s/it]"
     ]
    },
    {
     "data": {
      "application/vnd.jupyter.widget-view+json": {
       "model_id": "3664a2a6b157420eaa9ae080ac947121",
       "version_major": 2,
       "version_minor": 0
      },
      "text/plain": [
       "Retrieving MaterialsDoc documents:   0%|          | 0/4 [00:00<?, ?it/s]"
      ]
     },
     "metadata": {},
     "output_type": "display_data"
    },
    {
     "data": {
      "application/vnd.jupyter.widget-view+json": {
       "model_id": "5c88df6f365441ba9cf526b67daad85f",
       "version_major": 2,
       "version_minor": 0
      },
      "text/plain": [
       "Retrieving MaterialsDoc documents:   0%|          | 0/1 [00:00<?, ?it/s]"
      ]
     },
     "metadata": {},
     "output_type": "display_data"
    },
    {
     "name": "stderr",
     "output_type": "stream",
     "text": [
      "\r",
      " 74%|███████████████████████████████████████████████████████████████████████████████████                             | 66/89 [02:43<01:09,  3.04s/it]"
     ]
    },
    {
     "data": {
      "application/vnd.jupyter.widget-view+json": {
       "model_id": "50c9e7763570473193d02eb4cdd6a621",
       "version_major": 2,
       "version_minor": 0
      },
      "text/plain": [
       "Retrieving MaterialsDoc documents:   0%|          | 0/3 [00:00<?, ?it/s]"
      ]
     },
     "metadata": {},
     "output_type": "display_data"
    },
    {
     "data": {
      "application/vnd.jupyter.widget-view+json": {
       "model_id": "36113c7e7e6b44baa18fb2a12b2c25e7",
       "version_major": 2,
       "version_minor": 0
      },
      "text/plain": [
       "Retrieving MaterialsDoc documents:   0%|          | 0/1 [00:00<?, ?it/s]"
      ]
     },
     "metadata": {},
     "output_type": "display_data"
    },
    {
     "name": "stderr",
     "output_type": "stream",
     "text": [
      " 75%|████████████████████████████████████████████████████████████████████████████████████▎                           | 67/89 [02:46<01:04,  2.92s/it]Traceback (most recent call last):\n",
      "  File \"/var/folders/w6/yrmcztx969j0r2f2v6yy3gp00000gn/T/ipykernel_46283/1567234812.py\", line 56, in <module>\n",
      "    mids = mpr.get_material_ids(s.composition.reduced_formula)\n",
      "  File \"/Users/shyue/miniconda3/envs/mavrl/lib/python3.9/site-packages/mp_api/client/mprester.py\", line 417, in get_material_ids\n",
      "    for doc in self.materials.search(\n",
      "  File \"/Users/shyue/miniconda3/envs/mavrl/lib/python3.9/site-packages/mp_api/client/routes/materials.py\", line 172, in search\n",
      "    return super()._search(\n",
      "  File \"/Users/shyue/miniconda3/envs/mavrl/lib/python3.9/site-packages/mp_api/client/core/client.py\", line 940, in _search\n",
      "    return self._get_all_documents(\n",
      "  File \"/Users/shyue/miniconda3/envs/mavrl/lib/python3.9/site-packages/mp_api/client/core/client.py\", line 987, in _get_all_documents\n",
      "    results = self._query_resource(\n",
      "  File \"/Users/shyue/miniconda3/envs/mavrl/lib/python3.9/site-packages/mp_api/client/core/client.py\", line 288, in _query_resource\n",
      "    data = self._submit_requests(\n",
      "  File \"/Users/shyue/miniconda3/envs/mavrl/lib/python3.9/site-packages/mp_api/client/core/client.py\", line 429, in _submit_requests\n",
      "    initial_data_tuples = self._multi_thread(\n",
      "  File \"/Users/shyue/miniconda3/envs/mavrl/lib/python3.9/site-packages/mp_api/client/core/client.py\", line 643, in _multi_thread\n",
      "    data, subtotal = future.result()\n",
      "  File \"/Users/shyue/miniconda3/envs/mavrl/lib/python3.9/concurrent/futures/_base.py\", line 439, in result\n",
      "    return self.__get_result()\n",
      "  File \"/Users/shyue/miniconda3/envs/mavrl/lib/python3.9/concurrent/futures/_base.py\", line 391, in __get_result\n",
      "    raise self._exception\n",
      "  File \"/Users/shyue/miniconda3/envs/mavrl/lib/python3.9/concurrent/futures/thread.py\", line 58, in run\n",
      "    result = self.fn(*self.args, **self.kwargs)\n",
      "  File \"/Users/shyue/miniconda3/envs/mavrl/lib/python3.9/site-packages/mp_api/client/core/client.py\", line 745, in _submit_request_and_process\n",
      "    raise MPRestError(\n",
      "mp_api.client.core.client.MPRestError: REST query returned with error status code 504 on URL https://api.materialsproject.org/materials/core/?deprecated=False&_fields=material_id&formula=KTaO3&_limit=1000 with message:\n",
      "Server timed out trying to obtain data. Try again with a smaller request.\n",
      " 76%|█████████████████████████████████████████████████████████████████████████████████████▌                          | 68/89 [03:06<02:50,  8.13s/it]"
     ]
    },
    {
     "data": {
      "application/vnd.jupyter.widget-view+json": {
       "model_id": "e130a2e6306a4bdd8a556a3561866f07",
       "version_major": 2,
       "version_minor": 0
      },
      "text/plain": [
       "Retrieving MaterialsDoc documents:   0%|          | 0/4 [00:00<?, ?it/s]"
      ]
     },
     "metadata": {},
     "output_type": "display_data"
    },
    {
     "data": {
      "application/vnd.jupyter.widget-view+json": {
       "model_id": "e3cd204975194c5386002b47e11af168",
       "version_major": 2,
       "version_minor": 0
      },
      "text/plain": [
       "Retrieving MaterialsDoc documents:   0%|          | 0/1 [00:00<?, ?it/s]"
      ]
     },
     "metadata": {},
     "output_type": "display_data"
    },
    {
     "data": {
      "application/vnd.jupyter.widget-view+json": {
       "model_id": "d9c7e9d6812445c69ea933374aafd776",
       "version_major": 2,
       "version_minor": 0
      },
      "text/plain": [
       "Retrieving MaterialsDoc documents:   0%|          | 0/1 [00:00<?, ?it/s]"
      ]
     },
     "metadata": {},
     "output_type": "display_data"
    },
    {
     "name": "stderr",
     "output_type": "stream",
     "text": [
      "\r",
      " 78%|██████████████████████████████████████████████████████████████████████████████████████▊                         | 69/89 [03:20<03:18,  9.93s/it]"
     ]
    },
    {
     "data": {
      "application/vnd.jupyter.widget-view+json": {
       "model_id": "250cd912ee92483380c67f47eb74ad79",
       "version_major": 2,
       "version_minor": 0
      },
      "text/plain": [
       "Retrieving MaterialsDoc documents:   0%|          | 0/2 [00:00<?, ?it/s]"
      ]
     },
     "metadata": {},
     "output_type": "display_data"
    },
    {
     "data": {
      "application/vnd.jupyter.widget-view+json": {
       "model_id": "7cc173c006574d0186192291c03db9df",
       "version_major": 2,
       "version_minor": 0
      },
      "text/plain": [
       "Retrieving MaterialsDoc documents:   0%|          | 0/1 [00:00<?, ?it/s]"
      ]
     },
     "metadata": {},
     "output_type": "display_data"
    },
    {
     "name": "stderr",
     "output_type": "stream",
     "text": [
      "\r",
      " 79%|████████████████████████████████████████████████████████████████████████████████████████                        | 70/89 [03:36<03:43, 11.79s/it]"
     ]
    },
    {
     "data": {
      "application/vnd.jupyter.widget-view+json": {
       "model_id": "f42696c9eccb4b0ca0eabcb6711bbbce",
       "version_major": 2,
       "version_minor": 0
      },
      "text/plain": [
       "Retrieving MaterialsDoc documents:   0%|          | 0/1 [00:00<?, ?it/s]"
      ]
     },
     "metadata": {},
     "output_type": "display_data"
    },
    {
     "data": {
      "application/vnd.jupyter.widget-view+json": {
       "model_id": "cbb8d1d0009949d4b20d412497fc9d2f",
       "version_major": 2,
       "version_minor": 0
      },
      "text/plain": [
       "Retrieving MaterialsDoc documents:   0%|          | 0/1 [00:00<?, ?it/s]"
      ]
     },
     "metadata": {},
     "output_type": "display_data"
    },
    {
     "name": "stderr",
     "output_type": "stream",
     "text": [
      " 80%|█████████████████████████████████████████████████████████████████████████████████████████▎                      | 71/89 [03:54<04:04, 13.57s/it]Traceback (most recent call last):\n",
      "  File \"/var/folders/w6/yrmcztx969j0r2f2v6yy3gp00000gn/T/ipykernel_46283/1567234812.py\", line 56, in <module>\n",
      "    mids = mpr.get_material_ids(s.composition.reduced_formula)\n",
      "  File \"/Users/shyue/miniconda3/envs/mavrl/lib/python3.9/site-packages/mp_api/client/mprester.py\", line 417, in get_material_ids\n",
      "    for doc in self.materials.search(\n",
      "  File \"/Users/shyue/miniconda3/envs/mavrl/lib/python3.9/site-packages/mp_api/client/routes/materials.py\", line 172, in search\n",
      "    return super()._search(\n",
      "  File \"/Users/shyue/miniconda3/envs/mavrl/lib/python3.9/site-packages/mp_api/client/core/client.py\", line 940, in _search\n",
      "    return self._get_all_documents(\n",
      "  File \"/Users/shyue/miniconda3/envs/mavrl/lib/python3.9/site-packages/mp_api/client/core/client.py\", line 987, in _get_all_documents\n",
      "    results = self._query_resource(\n",
      "  File \"/Users/shyue/miniconda3/envs/mavrl/lib/python3.9/site-packages/mp_api/client/core/client.py\", line 288, in _query_resource\n",
      "    data = self._submit_requests(\n",
      "  File \"/Users/shyue/miniconda3/envs/mavrl/lib/python3.9/site-packages/mp_api/client/core/client.py\", line 429, in _submit_requests\n",
      "    initial_data_tuples = self._multi_thread(\n",
      "  File \"/Users/shyue/miniconda3/envs/mavrl/lib/python3.9/site-packages/mp_api/client/core/client.py\", line 643, in _multi_thread\n",
      "    data, subtotal = future.result()\n",
      "  File \"/Users/shyue/miniconda3/envs/mavrl/lib/python3.9/concurrent/futures/_base.py\", line 439, in result\n",
      "    return self.__get_result()\n",
      "  File \"/Users/shyue/miniconda3/envs/mavrl/lib/python3.9/concurrent/futures/_base.py\", line 391, in __get_result\n",
      "    raise self._exception\n",
      "  File \"/Users/shyue/miniconda3/envs/mavrl/lib/python3.9/concurrent/futures/thread.py\", line 58, in run\n",
      "    result = self.fn(*self.args, **self.kwargs)\n",
      "  File \"/Users/shyue/miniconda3/envs/mavrl/lib/python3.9/site-packages/mp_api/client/core/client.py\", line 745, in _submit_request_and_process\n",
      "    raise MPRestError(\n",
      "mp_api.client.core.client.MPRestError: REST query returned with error status code 504 on URL https://api.materialsproject.org/materials/core/?deprecated=False&_fields=material_id&formula=CaVO3&_limit=1000 with message:\n",
      "Server timed out trying to obtain data. Try again with a smaller request.\n",
      " 81%|██████████████████████████████████████████████████████████████████████████████████████████▌                     | 72/89 [04:15<04:27, 15.72s/it]"
     ]
    },
    {
     "data": {
      "application/vnd.jupyter.widget-view+json": {
       "model_id": "fd5c8073f8994d9990c3d17448735068",
       "version_major": 2,
       "version_minor": 0
      },
      "text/plain": [
       "Retrieving MaterialsDoc documents:   0%|          | 0/1 [00:00<?, ?it/s]"
      ]
     },
     "metadata": {},
     "output_type": "display_data"
    },
    {
     "data": {
      "application/vnd.jupyter.widget-view+json": {
       "model_id": "fe931d2326c04ffe93e1fa3322969ab1",
       "version_major": 2,
       "version_minor": 0
      },
      "text/plain": [
       "Retrieving MaterialsDoc documents:   0%|          | 0/1 [00:00<?, ?it/s]"
      ]
     },
     "metadata": {},
     "output_type": "display_data"
    },
    {
     "name": "stderr",
     "output_type": "stream",
     "text": [
      "\r",
      " 82%|███████████████████████████████████████████████████████████████████████████████████████████▊                    | 73/89 [04:16<02:58, 11.17s/it]"
     ]
    },
    {
     "data": {
      "application/vnd.jupyter.widget-view+json": {
       "model_id": "31be4529db8a47f28462091949050697",
       "version_major": 2,
       "version_minor": 0
      },
      "text/plain": [
       "Retrieving MaterialsDoc documents:   0%|          | 0/6 [00:00<?, ?it/s]"
      ]
     },
     "metadata": {},
     "output_type": "display_data"
    },
    {
     "data": {
      "application/vnd.jupyter.widget-view+json": {
       "model_id": "2749ff801dc14352b2fdc816264b387a",
       "version_major": 2,
       "version_minor": 0
      },
      "text/plain": [
       "Retrieving MaterialsDoc documents:   0%|          | 0/1 [00:00<?, ?it/s]"
      ]
     },
     "metadata": {},
     "output_type": "display_data"
    },
    {
     "name": "stderr",
     "output_type": "stream",
     "text": [
      "\r",
      " 83%|█████████████████████████████████████████████████████████████████████████████████████████████                   | 74/89 [04:16<01:59,  7.96s/it]"
     ]
    },
    {
     "data": {
      "application/vnd.jupyter.widget-view+json": {
       "model_id": "ef1c9ea99ab14c0d9f242d630c939ea6",
       "version_major": 2,
       "version_minor": 0
      },
      "text/plain": [
       "Retrieving MaterialsDoc documents:   0%|          | 0/2 [00:00<?, ?it/s]"
      ]
     },
     "metadata": {},
     "output_type": "display_data"
    },
    {
     "data": {
      "application/vnd.jupyter.widget-view+json": {
       "model_id": "fa705a8b4a6b425d85fd81c139901ab1",
       "version_major": 2,
       "version_minor": 0
      },
      "text/plain": [
       "Retrieving MaterialsDoc documents:   0%|          | 0/1 [00:00<?, ?it/s]"
      ]
     },
     "metadata": {},
     "output_type": "display_data"
    },
    {
     "name": "stderr",
     "output_type": "stream",
     "text": [
      "\r",
      " 84%|██████████████████████████████████████████████████████████████████████████████████████████████▍                 | 75/89 [04:17<01:20,  5.77s/it]"
     ]
    },
    {
     "data": {
      "application/vnd.jupyter.widget-view+json": {
       "model_id": "c08d05ca1a054b02a889a37c6a98e857",
       "version_major": 2,
       "version_minor": 0
      },
      "text/plain": [
       "Retrieving MaterialsDoc documents:   0%|          | 0/5 [00:00<?, ?it/s]"
      ]
     },
     "metadata": {},
     "output_type": "display_data"
    },
    {
     "data": {
      "application/vnd.jupyter.widget-view+json": {
       "model_id": "9a3a65c17fc1497097ae089f6416402c",
       "version_major": 2,
       "version_minor": 0
      },
      "text/plain": [
       "Retrieving MaterialsDoc documents:   0%|          | 0/1 [00:00<?, ?it/s]"
      ]
     },
     "metadata": {},
     "output_type": "display_data"
    },
    {
     "data": {
      "application/vnd.jupyter.widget-view+json": {
       "model_id": "fbdf7af7186c464c829ca723eb16a7e7",
       "version_major": 2,
       "version_minor": 0
      },
      "text/plain": [
       "Retrieving MaterialsDoc documents:   0%|          | 0/1 [00:00<?, ?it/s]"
      ]
     },
     "metadata": {},
     "output_type": "display_data"
    },
    {
     "data": {
      "application/vnd.jupyter.widget-view+json": {
       "model_id": "dd1c12631c1949ba9aa37c5cea46e334",
       "version_major": 2,
       "version_minor": 0
      },
      "text/plain": [
       "Retrieving MaterialsDoc documents:   0%|          | 0/1 [00:00<?, ?it/s]"
      ]
     },
     "metadata": {},
     "output_type": "display_data"
    },
    {
     "name": "stderr",
     "output_type": "stream",
     "text": [
      "\r",
      " 85%|███████████████████████████████████████████████████████████████████████████████████████████████▋                | 76/89 [04:18<00:58,  4.47s/it]"
     ]
    },
    {
     "data": {
      "application/vnd.jupyter.widget-view+json": {
       "model_id": "87a63742537a4ea5bb8f4c60a1c1c13a",
       "version_major": 2,
       "version_minor": 0
      },
      "text/plain": [
       "Retrieving MaterialsDoc documents:   0%|          | 0/12 [00:00<?, ?it/s]"
      ]
     },
     "metadata": {},
     "output_type": "display_data"
    },
    {
     "data": {
      "application/vnd.jupyter.widget-view+json": {
       "model_id": "173c1a4fe00742cb997204dbce150a13",
       "version_major": 2,
       "version_minor": 0
      },
      "text/plain": [
       "Retrieving MaterialsDoc documents:   0%|          | 0/1 [00:00<?, ?it/s]"
      ]
     },
     "metadata": {},
     "output_type": "display_data"
    },
    {
     "data": {
      "application/vnd.jupyter.widget-view+json": {
       "model_id": "e59ec7c4ccfb46688b937ed9799ef433",
       "version_major": 2,
       "version_minor": 0
      },
      "text/plain": [
       "Retrieving MaterialsDoc documents:   0%|          | 0/1 [00:00<?, ?it/s]"
      ]
     },
     "metadata": {},
     "output_type": "display_data"
    },
    {
     "name": "stderr",
     "output_type": "stream",
     "text": [
      "\r",
      " 87%|████████████████████████████████████████████████████████████████████████████████████████████████▉               | 77/89 [04:19<00:39,  3.33s/it]"
     ]
    },
    {
     "data": {
      "application/vnd.jupyter.widget-view+json": {
       "model_id": "4ac7bb23ca0e41d29b2b84189f803e00",
       "version_major": 2,
       "version_minor": 0
      },
      "text/plain": [
       "Retrieving MaterialsDoc documents:   0%|          | 0/4 [00:00<?, ?it/s]"
      ]
     },
     "metadata": {},
     "output_type": "display_data"
    },
    {
     "data": {
      "application/vnd.jupyter.widget-view+json": {
       "model_id": "e95414973c6949f6a59c66390341b928",
       "version_major": 2,
       "version_minor": 0
      },
      "text/plain": [
       "Retrieving MaterialsDoc documents:   0%|          | 0/1 [00:00<?, ?it/s]"
      ]
     },
     "metadata": {},
     "output_type": "display_data"
    },
    {
     "name": "stderr",
     "output_type": "stream",
     "text": [
      "\r",
      " 88%|██████████████████████████████████████████████████████████████████████████████████████████████████▏             | 78/89 [04:20<00:30,  2.75s/it]"
     ]
    },
    {
     "data": {
      "application/vnd.jupyter.widget-view+json": {
       "model_id": "0256dafcd84b4af892dede638a960935",
       "version_major": 2,
       "version_minor": 0
      },
      "text/plain": [
       "Retrieving MaterialsDoc documents:   0%|          | 0/11 [00:00<?, ?it/s]"
      ]
     },
     "metadata": {},
     "output_type": "display_data"
    },
    {
     "data": {
      "application/vnd.jupyter.widget-view+json": {
       "model_id": "e36402830d704339b464f2d6b2328cb7",
       "version_major": 2,
       "version_minor": 0
      },
      "text/plain": [
       "Retrieving MaterialsDoc documents:   0%|          | 0/1 [00:00<?, ?it/s]"
      ]
     },
     "metadata": {},
     "output_type": "display_data"
    },
    {
     "name": "stderr",
     "output_type": "stream",
     "text": [
      "\r",
      " 89%|███████████████████████████████████████████████████████████████████████████████████████████████████▍            | 79/89 [04:21<00:21,  2.11s/it]"
     ]
    },
    {
     "data": {
      "application/vnd.jupyter.widget-view+json": {
       "model_id": "5ddc80e3fcc0456782dbc0abfd56fb1e",
       "version_major": 2,
       "version_minor": 0
      },
      "text/plain": [
       "Retrieving MaterialsDoc documents:   0%|          | 0/5 [00:00<?, ?it/s]"
      ]
     },
     "metadata": {},
     "output_type": "display_data"
    },
    {
     "data": {
      "application/vnd.jupyter.widget-view+json": {
       "model_id": "5109546ca22749119accacbb873f369a",
       "version_major": 2,
       "version_minor": 0
      },
      "text/plain": [
       "Retrieving MaterialsDoc documents:   0%|          | 0/1 [00:00<?, ?it/s]"
      ]
     },
     "metadata": {},
     "output_type": "display_data"
    },
    {
     "name": "stderr",
     "output_type": "stream",
     "text": [
      "\r",
      " 90%|████████████████████████████████████████████████████████████████████████████████████████████████████▋           | 80/89 [04:22<00:17,  1.91s/it]"
     ]
    },
    {
     "data": {
      "application/vnd.jupyter.widget-view+json": {
       "model_id": "f4a2fd1ba8a84cb1b4b5d54eab5f6d3a",
       "version_major": 2,
       "version_minor": 0
      },
      "text/plain": [
       "Retrieving MaterialsDoc documents:   0%|          | 0/4 [00:00<?, ?it/s]"
      ]
     },
     "metadata": {},
     "output_type": "display_data"
    },
    {
     "data": {
      "application/vnd.jupyter.widget-view+json": {
       "model_id": "798c2cf1de0f46e18cd4d6b0f31c78bc",
       "version_major": 2,
       "version_minor": 0
      },
      "text/plain": [
       "Retrieving MaterialsDoc documents:   0%|          | 0/1 [00:00<?, ?it/s]"
      ]
     },
     "metadata": {},
     "output_type": "display_data"
    },
    {
     "name": "stderr",
     "output_type": "stream",
     "text": [
      "\r",
      " 91%|█████████████████████████████████████████████████████████████████████████████████████████████████████▉          | 81/89 [04:23<00:11,  1.49s/it]"
     ]
    },
    {
     "data": {
      "application/vnd.jupyter.widget-view+json": {
       "model_id": "6751f03a5cd74be3b2e48b8e50320a1b",
       "version_major": 2,
       "version_minor": 0
      },
      "text/plain": [
       "Retrieving MaterialsDoc documents:   0%|          | 0/2 [00:00<?, ?it/s]"
      ]
     },
     "metadata": {},
     "output_type": "display_data"
    },
    {
     "data": {
      "application/vnd.jupyter.widget-view+json": {
       "model_id": "b8fc85e6f8d647b7b2aefaba90ea69bc",
       "version_major": 2,
       "version_minor": 0
      },
      "text/plain": [
       "Retrieving MaterialsDoc documents:   0%|          | 0/1 [00:00<?, ?it/s]"
      ]
     },
     "metadata": {},
     "output_type": "display_data"
    },
    {
     "name": "stderr",
     "output_type": "stream",
     "text": [
      "\r",
      " 92%|███████████████████████████████████████████████████████████████████████████████████████████████████████▏        | 82/89 [04:23<00:08,  1.26s/it]"
     ]
    },
    {
     "data": {
      "application/vnd.jupyter.widget-view+json": {
       "model_id": "dd0d0e2795cb4347804844f5b6c07535",
       "version_major": 2,
       "version_minor": 0
      },
      "text/plain": [
       "Retrieving MaterialsDoc documents:   0%|          | 0/9 [00:00<?, ?it/s]"
      ]
     },
     "metadata": {},
     "output_type": "display_data"
    },
    {
     "data": {
      "application/vnd.jupyter.widget-view+json": {
       "model_id": "1f3227674746415781d8064712c364b3",
       "version_major": 2,
       "version_minor": 0
      },
      "text/plain": [
       "Retrieving MaterialsDoc documents:   0%|          | 0/1 [00:00<?, ?it/s]"
      ]
     },
     "metadata": {},
     "output_type": "display_data"
    },
    {
     "data": {
      "application/vnd.jupyter.widget-view+json": {
       "model_id": "fae408c43d8e4cd8b53d2759b65d30f2",
       "version_major": 2,
       "version_minor": 0
      },
      "text/plain": [
       "Retrieving MaterialsDoc documents:   0%|          | 0/1 [00:00<?, ?it/s]"
      ]
     },
     "metadata": {},
     "output_type": "display_data"
    },
    {
     "name": "stderr",
     "output_type": "stream",
     "text": [
      "\r",
      " 93%|████████████████████████████████████████████████████████████████████████████████████████████████████████▍       | 83/89 [04:24<00:07,  1.17s/it]"
     ]
    },
    {
     "data": {
      "application/vnd.jupyter.widget-view+json": {
       "model_id": "cafdc9944b564736b872d863ce8e0ef3",
       "version_major": 2,
       "version_minor": 0
      },
      "text/plain": [
       "Retrieving MaterialsDoc documents:   0%|          | 0/14 [00:00<?, ?it/s]"
      ]
     },
     "metadata": {},
     "output_type": "display_data"
    },
    {
     "data": {
      "application/vnd.jupyter.widget-view+json": {
       "model_id": "06cd8b6d4b66491d8e35ed9c2be6dd0c",
       "version_major": 2,
       "version_minor": 0
      },
      "text/plain": [
       "Retrieving MaterialsDoc documents:   0%|          | 0/1 [00:00<?, ?it/s]"
      ]
     },
     "metadata": {},
     "output_type": "display_data"
    },
    {
     "name": "stderr",
     "output_type": "stream",
     "text": [
      "\r",
      " 94%|█████████████████████████████████████████████████████████████████████████████████████████████████████████▋      | 84/89 [04:25<00:04,  1.00it/s]"
     ]
    },
    {
     "data": {
      "application/vnd.jupyter.widget-view+json": {
       "model_id": "b62ccf3d14294941a2291b636741ef9f",
       "version_major": 2,
       "version_minor": 0
      },
      "text/plain": [
       "Retrieving MaterialsDoc documents:   0%|          | 0/15 [00:00<?, ?it/s]"
      ]
     },
     "metadata": {},
     "output_type": "display_data"
    },
    {
     "data": {
      "application/vnd.jupyter.widget-view+json": {
       "model_id": "2f7a0dd0800e465eaa98e5cc8e7942bc",
       "version_major": 2,
       "version_minor": 0
      },
      "text/plain": [
       "Retrieving MaterialsDoc documents:   0%|          | 0/1 [00:00<?, ?it/s]"
      ]
     },
     "metadata": {},
     "output_type": "display_data"
    },
    {
     "name": "stderr",
     "output_type": "stream",
     "text": [
      "\r",
      " 96%|██████████████████████████████████████████████████████████████████████████████████████████████████████████▉     | 85/89 [04:25<00:03,  1.18it/s]"
     ]
    },
    {
     "data": {
      "application/vnd.jupyter.widget-view+json": {
       "model_id": "6c4cd3f5c7b040fb9cc00c38e988b725",
       "version_major": 2,
       "version_minor": 0
      },
      "text/plain": [
       "Retrieving MaterialsDoc documents:   0%|          | 0/20 [00:00<?, ?it/s]"
      ]
     },
     "metadata": {},
     "output_type": "display_data"
    },
    {
     "data": {
      "application/vnd.jupyter.widget-view+json": {
       "model_id": "e5dddfcd6e7b4f2ab5d2de5a81b06d44",
       "version_major": 2,
       "version_minor": 0
      },
      "text/plain": [
       "Retrieving MaterialsDoc documents:   0%|          | 0/1 [00:00<?, ?it/s]"
      ]
     },
     "metadata": {},
     "output_type": "display_data"
    },
    {
     "name": "stderr",
     "output_type": "stream",
     "text": [
      "\r",
      " 97%|████████████████████████████████████████████████████████████████████████████████████████████████████████████▏   | 86/89 [04:26<00:02,  1.38it/s]"
     ]
    },
    {
     "data": {
      "application/vnd.jupyter.widget-view+json": {
       "model_id": "72cc3d919fd4497bbfe9785fb9e6d912",
       "version_major": 2,
       "version_minor": 0
      },
      "text/plain": [
       "Retrieving MaterialsDoc documents:   0%|          | 0/11 [00:00<?, ?it/s]"
      ]
     },
     "metadata": {},
     "output_type": "display_data"
    },
    {
     "data": {
      "application/vnd.jupyter.widget-view+json": {
       "model_id": "24998961d25343f588fcbf4df16980a8",
       "version_major": 2,
       "version_minor": 0
      },
      "text/plain": [
       "Retrieving MaterialsDoc documents:   0%|          | 0/1 [00:00<?, ?it/s]"
      ]
     },
     "metadata": {},
     "output_type": "display_data"
    },
    {
     "data": {
      "application/vnd.jupyter.widget-view+json": {
       "model_id": "2811a187d46d498dbf7830ea5f1a44da",
       "version_major": 2,
       "version_minor": 0
      },
      "text/plain": [
       "Retrieving MaterialsDoc documents:   0%|          | 0/1 [00:00<?, ?it/s]"
      ]
     },
     "metadata": {},
     "output_type": "display_data"
    },
    {
     "data": {
      "application/vnd.jupyter.widget-view+json": {
       "model_id": "1aa32737a0c740c0b25eb9616335af9e",
       "version_major": 2,
       "version_minor": 0
      },
      "text/plain": [
       "Retrieving MaterialsDoc documents:   0%|          | 0/1 [00:00<?, ?it/s]"
      ]
     },
     "metadata": {},
     "output_type": "display_data"
    },
    {
     "data": {
      "application/vnd.jupyter.widget-view+json": {
       "model_id": "0a96a0560aa54a72ba266bfa8430e32c",
       "version_major": 2,
       "version_minor": 0
      },
      "text/plain": [
       "Retrieving MaterialsDoc documents:   0%|          | 0/1 [00:00<?, ?it/s]"
      ]
     },
     "metadata": {},
     "output_type": "display_data"
    },
    {
     "data": {
      "application/vnd.jupyter.widget-view+json": {
       "model_id": "3d06833163b14478994b158e33818997",
       "version_major": 2,
       "version_minor": 0
      },
      "text/plain": [
       "Retrieving MaterialsDoc documents:   0%|          | 0/1 [00:00<?, ?it/s]"
      ]
     },
     "metadata": {},
     "output_type": "display_data"
    },
    {
     "data": {
      "application/vnd.jupyter.widget-view+json": {
       "model_id": "f5629d695e1147c7b61243910aca0028",
       "version_major": 2,
       "version_minor": 0
      },
      "text/plain": [
       "Retrieving MaterialsDoc documents:   0%|          | 0/1 [00:00<?, ?it/s]"
      ]
     },
     "metadata": {},
     "output_type": "display_data"
    },
    {
     "data": {
      "application/vnd.jupyter.widget-view+json": {
       "model_id": "47c77af0d19f4482858c5fc1879f2bce",
       "version_major": 2,
       "version_minor": 0
      },
      "text/plain": [
       "Retrieving MaterialsDoc documents:   0%|          | 0/1 [00:00<?, ?it/s]"
      ]
     },
     "metadata": {},
     "output_type": "display_data"
    },
    {
     "data": {
      "application/vnd.jupyter.widget-view+json": {
       "model_id": "dcdde716f620483f9c9630c8c4bd8188",
       "version_major": 2,
       "version_minor": 0
      },
      "text/plain": [
       "Retrieving MaterialsDoc documents:   0%|          | 0/1 [00:00<?, ?it/s]"
      ]
     },
     "metadata": {},
     "output_type": "display_data"
    },
    {
     "data": {
      "application/vnd.jupyter.widget-view+json": {
       "model_id": "aab2026ee2fe466a9cb2a374075668dc",
       "version_major": 2,
       "version_minor": 0
      },
      "text/plain": [
       "Retrieving MaterialsDoc documents:   0%|          | 0/1 [00:00<?, ?it/s]"
      ]
     },
     "metadata": {},
     "output_type": "display_data"
    },
    {
     "data": {
      "application/vnd.jupyter.widget-view+json": {
       "model_id": "fc98336f1b624fa6b1e38b1f87f61074",
       "version_major": 2,
       "version_minor": 0
      },
      "text/plain": [
       "Retrieving MaterialsDoc documents:   0%|          | 0/1 [00:00<?, ?it/s]"
      ]
     },
     "metadata": {},
     "output_type": "display_data"
    },
    {
     "data": {
      "application/vnd.jupyter.widget-view+json": {
       "model_id": "6640a7610d2b429094f28fe0457a48ae",
       "version_major": 2,
       "version_minor": 0
      },
      "text/plain": [
       "Retrieving MaterialsDoc documents:   0%|          | 0/1 [00:00<?, ?it/s]"
      ]
     },
     "metadata": {},
     "output_type": "display_data"
    },
    {
     "name": "stderr",
     "output_type": "stream",
     "text": [
      "Traceback (most recent call last):\n",
      "  File \"/var/folders/w6/yrmcztx969j0r2f2v6yy3gp00000gn/T/ipykernel_46283/1567234812.py\", line 69, in <module>\n",
      "    raise RuntimeError\n",
      "RuntimeError\n",
      "\r",
      " 98%|█████████████████████████████████████████████████████████████████████████████████████████████████████████████▍  | 87/89 [04:28<00:02,  1.17s/it]"
     ]
    },
    {
     "data": {
      "application/vnd.jupyter.widget-view+json": {
       "model_id": "8d1e2bc2055646f4be7d47c610eb6284",
       "version_major": 2,
       "version_minor": 0
      },
      "text/plain": [
       "Retrieving MaterialsDoc documents:   0%|          | 0/6 [00:00<?, ?it/s]"
      ]
     },
     "metadata": {},
     "output_type": "display_data"
    },
    {
     "data": {
      "application/vnd.jupyter.widget-view+json": {
       "model_id": "39a454ece92c46ad8a9d29c950adfedb",
       "version_major": 2,
       "version_minor": 0
      },
      "text/plain": [
       "Retrieving MaterialsDoc documents:   0%|          | 0/1 [00:00<?, ?it/s]"
      ]
     },
     "metadata": {},
     "output_type": "display_data"
    },
    {
     "name": "stderr",
     "output_type": "stream",
     "text": [
      "\r",
      " 99%|██████████████████████████████████████████████████████████████████████████████████████████████████████████████▋ | 88/89 [04:28<00:00,  1.09it/s]"
     ]
    },
    {
     "data": {
      "application/vnd.jupyter.widget-view+json": {
       "model_id": "c3decb8553a94ac7a2ef1786f8acbad8",
       "version_major": 2,
       "version_minor": 0
      },
      "text/plain": [
       "Retrieving MaterialsDoc documents:   0%|          | 0/6 [00:00<?, ?it/s]"
      ]
     },
     "metadata": {},
     "output_type": "display_data"
    },
    {
     "data": {
      "application/vnd.jupyter.widget-view+json": {
       "model_id": "55a37bb829a94c009c3b7e693d4b0bd4",
       "version_major": 2,
       "version_minor": 0
      },
      "text/plain": [
       "Retrieving MaterialsDoc documents:   0%|          | 0/1 [00:00<?, ?it/s]"
      ]
     },
     "metadata": {},
     "output_type": "display_data"
    },
    {
     "data": {
      "application/vnd.jupyter.widget-view+json": {
       "model_id": "f281431621d945b1ac8274b0ff24222f",
       "version_major": 2,
       "version_minor": 0
      },
      "text/plain": [
       "Retrieving MaterialsDoc documents:   0%|          | 0/1 [00:00<?, ?it/s]"
      ]
     },
     "metadata": {},
     "output_type": "display_data"
    },
    {
     "data": {
      "application/vnd.jupyter.widget-view+json": {
       "model_id": "dbdc41233f7a4f41a2201f8be298c31b",
       "version_major": 2,
       "version_minor": 0
      },
      "text/plain": [
       "Retrieving MaterialsDoc documents:   0%|          | 0/1 [00:00<?, ?it/s]"
      ]
     },
     "metadata": {},
     "output_type": "display_data"
    },
    {
     "name": "stderr",
     "output_type": "stream",
     "text": [
      "100%|████████████████████████████████████████████████████████████████████████████████████████████████████████████████| 89/89 [04:30<00:00,  3.04s/it]\n"
     ]
    }
   ],
   "source": [
    "predicted = []\n",
    "mp = []\n",
    "mpr = MPRester(\"eS2D85Pp6h1zRg7I3dVxH1vUndN9CeTk\")\n",
    "\n",
    "# load the pre-trained M3GNet model. By default it is the model trained to MP-2021.2.8 database.\n",
    "model, d = M3GNet.load(\"M3GNet-MP-2021.2.8-PES\", include_json=True)\n",
    "metadata = d[\"metadata\"]\n",
    "data_std = metadata[\"data_std\"]\n",
    "data_mean = metadata[\"data_mean\"]\n",
    "element_refs = metadata[\"element_refs\"]\n",
    "# create the potential class\n",
    "ff = Potential(model, data_std=data_std, element_refs=element_refs)\n",
    "# create the M3GNet Relaxer\n",
    "relaxer = Relaxer(potential=ff)\n",
    "\n",
    "# warnings.filterwarnings(action=\"ignore\", category=UserWarning, module=\"tensorflow\")\n",
    "\n",
    "for formula, v in tqdm(data.iterrows(), total=len(data)):\n",
    "    formula = formula.split()[0]\n",
    "    c = Composition(formula)\n",
    "    els = sorted(c.elements)\n",
    "    cs = v[\"Crystal structure\"]\n",
    "\n",
    "    # We initialize all the crystals with an arbitrary lattice constant of 5 angstroms.\n",
    "    if \"Zinc blende\" in cs:\n",
    "        s = Structure.from_spacegroup(\"F-43m\", Lattice.cubic(4.5), [els[0], els[1]], [[0, 0, 0], [0.25, 0.25, 0.75]])\n",
    "    elif \"Halite\" in cs:\n",
    "        s = Structure.from_spacegroup(\"Fm-3m\", Lattice.cubic(4.5), [els[0], els[1]], [[0, 0, 0], [0.5, 0, 0]])\n",
    "    elif \"Caesium chloride\" in cs:\n",
    "        s = Structure.from_spacegroup(\"Pm-3m\", Lattice.cubic(4.5), [els[0], els[1]], [[0, 0, 0], [0.5, 0.5, 0.5]])\n",
    "    elif \"Cubic perovskite\" in cs:\n",
    "        s = Structure(\n",
    "            Lattice.cubic(5),\n",
    "            [els[0], els[1], els[2], els[2], els[2]],\n",
    "            [[0.0, 0.0, 0.0], [0.5, 0.5, 0.5], [0.5, 0.5, 0], [0.0, 0.5, 0.5], [0.5, 0, 0.5]],\n",
    "        )\n",
    "    elif \"Diamond\" in cs:\n",
    "        s = Structure.from_spacegroup(\"Fd-3m\", Lattice.cubic(5), [els[0]], [[0.25, 0.75, 0.25]])\n",
    "    elif \"BCC\" in cs:\n",
    "        s = Structure(Lattice.cubic(4.5), [els[0]] * 2, [[0.0, 0.0, 0.0], [0.5, 0.5, 0.5]])\n",
    "    elif \"FCC\" in cs:\n",
    "        s = Structure(Lattice.cubic(4.5), [els[0]] * 4, [[0.0, 0.0, 0.0], [0.5, 0.5, 0], [0.0, 0.5, 0.5], [0.5, 0, 0.5]])\n",
    "    else:\n",
    "        predicted.append(0)\n",
    "        mp.append(0)\n",
    "        continue\n",
    "\n",
    "    # print(s.composition.reduced_formula)\n",
    "    relax_results = relaxer.relax(s, fmax=0.01)\n",
    "\n",
    "    final_structure = relax_results[\"final_structure\"]\n",
    "\n",
    "    predicted.append(final_structure.lattice.a)\n",
    "\n",
    "    try:\n",
    "        mids = mpr.get_material_ids(s.composition.reduced_formula)\n",
    "        for i in mids:\n",
    "            try:\n",
    "                structure = mpr.get_structure_by_material_id(i)\n",
    "                sga = SpacegroupAnalyzer(structure)\n",
    "                sga2 = SpacegroupAnalyzer(final_structure)\n",
    "                if sga.get_space_group_number() == sga2.get_space_group_number():\n",
    "                    conv = sga.get_conventional_standard_structure()\n",
    "                    mp.append(conv.lattice.a)\n",
    "                    break\n",
    "            except Exception:\n",
    "                pass\n",
    "        else:\n",
    "            raise RuntimeError\n",
    "    except Exception:\n",
    "        mp.append(0)\n",
    "        traceback.print_exc()\n",
    "\n",
    "data[\"MP a (Å)\"] = mp\n",
    "data[\"Predicted a (Å)\"] = predicted"
   ]
  },
  {
   "cell_type": "code",
   "execution_count": null,
   "id": "8cdd6407",
   "metadata": {},
   "outputs": [],
   "source": [
    "data[\"% error vs Expt\"] = (data[\"Predicted a (Å)\"] - data[\"a (Å)\"]) / data[\"a (Å)\"]\n",
    "data[\"% error vs MP\"] = (data[\"Predicted a (Å)\"] - data[\"MP a (Å)\"]) / data[\"MP a (Å)\"]"
   ]
  },
  {
   "cell_type": "code",
   "execution_count": null,
   "id": "b71312dc",
   "metadata": {},
   "outputs": [
    {
     "name": "stderr",
     "output_type": "stream",
     "text": [
      "/Users/shyue/miniconda3/envs/mavrl/lib/python3.9/site-packages/pandas/io/formats/style.py:3935: RuntimeWarning: invalid value encountered in scalar multiply\n",
      "  norm = mpl.colors.Normalize(smin - (rng * low), smax + (rng * high))\n"
     ]
    },
    {
     "data": {
      "text/html": [
       "<style type=\"text/css\">\n",
       "#T_d32a3_row0_col1 {\n",
       "  background-color: #76aad0;\n",
       "  color: #f1f1f1;\n",
       "}\n",
       "#T_d32a3_row0_col2 {\n",
       "  background-color: #056caa;\n",
       "  color: #f1f1f1;\n",
       "}\n",
       "#T_d32a3_row0_col3 {\n",
       "  background-color: #4697c4;\n",
       "  color: #f1f1f1;\n",
       "}\n",
       "#T_d32a3_row0_col4, #T_d32a3_row26_col1, #T_d32a3_row68_col2, #T_d32a3_row68_col3 {\n",
       "  background-color: #023858;\n",
       "  color: #f1f1f1;\n",
       "}\n",
       "#T_d32a3_row0_col5, #T_d32a3_row1_col5, #T_d32a3_row2_col5, #T_d32a3_row3_col5, #T_d32a3_row4_col5, #T_d32a3_row5_col5, #T_d32a3_row6_col5, #T_d32a3_row7_col5, #T_d32a3_row8_col5, #T_d32a3_row9_col5, #T_d32a3_row10_col5, #T_d32a3_row11_col5, #T_d32a3_row12_col5, #T_d32a3_row13_col5, #T_d32a3_row14_col5, #T_d32a3_row15_col5, #T_d32a3_row16_col5, #T_d32a3_row17_col5, #T_d32a3_row18_col5, #T_d32a3_row19_col5, #T_d32a3_row20_col5, #T_d32a3_row21_col5, #T_d32a3_row22_col5, #T_d32a3_row23_col5, #T_d32a3_row24_col5, #T_d32a3_row25_col5, #T_d32a3_row26_col5, #T_d32a3_row27_col5, #T_d32a3_row28_col5, #T_d32a3_row29_col5, #T_d32a3_row30_col5, #T_d32a3_row31_col5, #T_d32a3_row32_col5, #T_d32a3_row33_col5, #T_d32a3_row34_col5, #T_d32a3_row35_col5, #T_d32a3_row36_col5, #T_d32a3_row37_col5, #T_d32a3_row38_col5, #T_d32a3_row39_col5, #T_d32a3_row40_col5, #T_d32a3_row41_col5, #T_d32a3_row42_col5, #T_d32a3_row43_col5, #T_d32a3_row44_col5, #T_d32a3_row45_col5, #T_d32a3_row46_col5, #T_d32a3_row47_col5, #T_d32a3_row48_col5, #T_d32a3_row49_col5, #T_d32a3_row50_col5, #T_d32a3_row51_col5, #T_d32a3_row52_col5, #T_d32a3_row53_col5, #T_d32a3_row54_col5, #T_d32a3_row55_col5, #T_d32a3_row56_col5, #T_d32a3_row57_col5, #T_d32a3_row58_col5, #T_d32a3_row59_col5, #T_d32a3_row60_col5, #T_d32a3_row61_col5, #T_d32a3_row62_col5, #T_d32a3_row63_col5, #T_d32a3_row64_col5, #T_d32a3_row65_col5, #T_d32a3_row66_col5, #T_d32a3_row67_col5, #T_d32a3_row68_col5, #T_d32a3_row69_col5, #T_d32a3_row70_col5, #T_d32a3_row71_col5, #T_d32a3_row72_col5, #T_d32a3_row73_col5, #T_d32a3_row74_col5, #T_d32a3_row75_col5, #T_d32a3_row76_col5, #T_d32a3_row77_col5, #T_d32a3_row78_col5, #T_d32a3_row79_col5, #T_d32a3_row80_col5, #T_d32a3_row81_col5, #T_d32a3_row82_col5, #T_d32a3_row83_col5, #T_d32a3_row84_col5, #T_d32a3_row85_col5, #T_d32a3_row86_col5, #T_d32a3_row87_col5, #T_d32a3_row88_col5 {\n",
       "  background-color: #000000;\n",
       "  color: #f1f1f1;\n",
       "}\n",
       "#T_d32a3_row1_col1 {\n",
       "  background-color: #d1d2e6;\n",
       "  color: #000000;\n",
       "}\n",
       "#T_d32a3_row1_col2, #T_d32a3_row86_col3 {\n",
       "  background-color: #589ec8;\n",
       "  color: #f1f1f1;\n",
       "}\n",
       "#T_d32a3_row1_col3, #T_d32a3_row7_col3 {\n",
       "  background-color: #c5cce3;\n",
       "  color: #000000;\n",
       "}\n",
       "#T_d32a3_row1_col4, #T_d32a3_row16_col4, #T_d32a3_row23_col4, #T_d32a3_row34_col4, #T_d32a3_row68_col4 {\n",
       "  background-color: #034871;\n",
       "  color: #f1f1f1;\n",
       "}\n",
       "#T_d32a3_row2_col1 {\n",
       "  background-color: #d2d3e7;\n",
       "  color: #000000;\n",
       "}\n",
       "#T_d32a3_row2_col2, #T_d32a3_row12_col1 {\n",
       "  background-color: #5c9fc9;\n",
       "  color: #f1f1f1;\n",
       "}\n",
       "#T_d32a3_row2_col3, #T_d32a3_row19_col1, #T_d32a3_row82_col1 {\n",
       "  background-color: #cdd0e5;\n",
       "  color: #000000;\n",
       "}\n",
       "#T_d32a3_row2_col4, #T_d32a3_row8_col4, #T_d32a3_row46_col4, #T_d32a3_row51_col4, #T_d32a3_row66_col2, #T_d32a3_row70_col4, #T_d32a3_row79_col4, #T_d32a3_row82_col4, #T_d32a3_row84_col4 {\n",
       "  background-color: #045483;\n",
       "  color: #f1f1f1;\n",
       "}\n",
       "#T_d32a3_row3_col1, #T_d32a3_row4_col3, #T_d32a3_row7_col2, #T_d32a3_row28_col1, #T_d32a3_row29_col3, #T_d32a3_row31_col1, #T_d32a3_row67_col1, #T_d32a3_row81_col2, #T_d32a3_row84_col3 {\n",
       "  background-color: #549cc7;\n",
       "  color: #f1f1f1;\n",
       "}\n",
       "#T_d32a3_row3_col2, #T_d32a3_row31_col2 {\n",
       "  background-color: #056dab;\n",
       "  color: #f1f1f1;\n",
       "}\n",
       "#T_d32a3_row3_col3, #T_d32a3_row9_col2, #T_d32a3_row67_col3 {\n",
       "  background-color: #3b92c1;\n",
       "  color: #f1f1f1;\n",
       "}\n",
       "#T_d32a3_row3_col4, #T_d32a3_row42_col4, #T_d32a3_row49_col4, #T_d32a3_row61_col4, #T_d32a3_row67_col4, #T_d32a3_row69_col4 {\n",
       "  background-color: #034d79;\n",
       "  color: #f1f1f1;\n",
       "}\n",
       "#T_d32a3_row4_col1, #T_d32a3_row29_col1 {\n",
       "  background-color: #67a4cc;\n",
       "  color: #f1f1f1;\n",
       "}\n",
       "#T_d32a3_row4_col2, #T_d32a3_row17_col4, #T_d32a3_row29_col2 {\n",
       "  background-color: #0872b1;\n",
       "  color: #f1f1f1;\n",
       "}\n",
       "#T_d32a3_row4_col4, #T_d32a3_row11_col4, #T_d32a3_row24_col4, #T_d32a3_row29_col4, #T_d32a3_row48_col4, #T_d32a3_row55_col4, #T_d32a3_row68_col1, #T_d32a3_row75_col4, #T_d32a3_row83_col4, #T_d32a3_row86_col4 {\n",
       "  background-color: #03517e;\n",
       "  color: #f1f1f1;\n",
       "}\n",
       "#T_d32a3_row5_col1 {\n",
       "  background-color: #2786bb;\n",
       "  color: #f1f1f1;\n",
       "}\n",
       "#T_d32a3_row5_col2 {\n",
       "  background-color: #046097;\n",
       "  color: #f1f1f1;\n",
       "}\n",
       "#T_d32a3_row5_col3, #T_d32a3_row6_col2, #T_d32a3_row30_col3 {\n",
       "  background-color: #0f76b3;\n",
       "  color: #f1f1f1;\n",
       "}\n",
       "#T_d32a3_row5_col4, #T_d32a3_row14_col4, #T_d32a3_row35_col4, #T_d32a3_row39_col4, #T_d32a3_row40_col4, #T_d32a3_row41_col4, #T_d32a3_row42_col3, #T_d32a3_row47_col4, #T_d32a3_row52_col4, #T_d32a3_row57_col4, #T_d32a3_row62_col4 {\n",
       "  background-color: #034c78;\n",
       "  color: #f1f1f1;\n",
       "}\n",
       "#T_d32a3_row6_col1, #T_d32a3_row24_col2 {\n",
       "  background-color: #79abd0;\n",
       "  color: #f1f1f1;\n",
       "}\n",
       "#T_d32a3_row6_col3, #T_d32a3_row19_col3, #T_d32a3_row51_col1, #T_d32a3_row79_col1, #T_d32a3_row81_col3 {\n",
       "  background-color: #c6cce3;\n",
       "  color: #000000;\n",
       "}\n",
       "#T_d32a3_row6_col4, #T_d32a3_row69_col2 {\n",
       "  background-color: #6da6cd;\n",
       "  color: #f1f1f1;\n",
       "}\n",
       "#T_d32a3_row7_col1, #T_d32a3_row64_col3 {\n",
       "  background-color: #d2d2e7;\n",
       "  color: #000000;\n",
       "}\n",
       "#T_d32a3_row7_col4, #T_d32a3_row15_col4, #T_d32a3_row36_col4 {\n",
       "  background-color: #03476f;\n",
       "  color: #f1f1f1;\n",
       "}\n",
       "#T_d32a3_row8_col1 {\n",
       "  background-color: #e6e2ef;\n",
       "  color: #000000;\n",
       "}\n",
       "#T_d32a3_row8_col2, #T_d32a3_row46_col3 {\n",
       "  background-color: #78abd0;\n",
       "  color: #f1f1f1;\n",
       "}\n",
       "#T_d32a3_row8_col3, #T_d32a3_row24_col3 {\n",
       "  background-color: #e3e0ee;\n",
       "  color: #000000;\n",
       "}\n",
       "#T_d32a3_row9_col1 {\n",
       "  background-color: #b3c3de;\n",
       "  color: #000000;\n",
       "}\n",
       "#T_d32a3_row9_col3 {\n",
       "  background-color: #a9bfdc;\n",
       "  color: #000000;\n",
       "}\n",
       "#T_d32a3_row9_col4, #T_d32a3_row32_col4, #T_d32a3_row36_col2, #T_d32a3_row59_col4, #T_d32a3_row78_col4 {\n",
       "  background-color: #045382;\n",
       "  color: #f1f1f1;\n",
       "}\n",
       "#T_d32a3_row10_col1 {\n",
       "  background-color: #8eb3d5;\n",
       "  color: #000000;\n",
       "}\n",
       "#T_d32a3_row10_col2, #T_d32a3_row13_col2, #T_d32a3_row26_col4, #T_d32a3_row27_col1, #T_d32a3_row27_col3, #T_d32a3_row43_col2, #T_d32a3_row61_col2 {\n",
       "  background-color: #fff7fb;\n",
       "  color: #000000;\n",
       "}\n",
       "#T_d32a3_row10_col3 {\n",
       "  background-color: #94b6d7;\n",
       "  color: #000000;\n",
       "}\n",
       "#T_d32a3_row10_col4, #T_d32a3_row39_col3, #T_d32a3_row72_col2 {\n",
       "  background-color: #04639b;\n",
       "  color: #f1f1f1;\n",
       "}\n",
       "#T_d32a3_row11_col1, #T_d32a3_row59_col3 {\n",
       "  background-color: #e8e4f0;\n",
       "  color: #000000;\n",
       "}\n",
       "#T_d32a3_row11_col2 {\n",
       "  background-color: #7bacd1;\n",
       "  color: #f1f1f1;\n",
       "}\n",
       "#T_d32a3_row11_col3 {\n",
       "  background-color: #e4e1ef;\n",
       "  color: #000000;\n",
       "}\n",
       "#T_d32a3_row12_col2, #T_d32a3_row39_col1, #T_d32a3_row40_col3, #T_d32a3_row53_col2 {\n",
       "  background-color: #056fae;\n",
       "  color: #f1f1f1;\n",
       "}\n",
       "#T_d32a3_row12_col3 {\n",
       "  background-color: #509ac6;\n",
       "  color: #f1f1f1;\n",
       "}\n",
       "#T_d32a3_row12_col4, #T_d32a3_row73_col4 {\n",
       "  background-color: #04598c;\n",
       "  color: #f1f1f1;\n",
       "}\n",
       "#T_d32a3_row13_col1 {\n",
       "  background-color: #dfddec;\n",
       "  color: #000000;\n",
       "}\n",
       "#T_d32a3_row13_col3, #T_d32a3_row64_col1 {\n",
       "  background-color: #d9d8ea;\n",
       "  color: #000000;\n",
       "}\n",
       "#T_d32a3_row13_col4, #T_d32a3_row22_col4, #T_d32a3_row31_col4, #T_d32a3_row54_col4, #T_d32a3_row66_col4, #T_d32a3_row74_col4 {\n",
       "  background-color: #034a74;\n",
       "  color: #f1f1f1;\n",
       "}\n",
       "#T_d32a3_row14_col1 {\n",
       "  background-color: #4295c3;\n",
       "  color: #f1f1f1;\n",
       "}\n",
       "#T_d32a3_row14_col2, #T_d32a3_row35_col2, #T_d32a3_row85_col4 {\n",
       "  background-color: #0567a2;\n",
       "  color: #f1f1f1;\n",
       "}\n",
       "#T_d32a3_row14_col3 {\n",
       "  background-color: #2987bc;\n",
       "  color: #f1f1f1;\n",
       "}\n",
       "#T_d32a3_row15_col1, #T_d32a3_row20_col1, #T_d32a3_row34_col1 {\n",
       "  background-color: #2d8abd;\n",
       "  color: #f1f1f1;\n",
       "}\n",
       "#T_d32a3_row15_col2, #T_d32a3_row30_col2, #T_d32a3_row66_col3 {\n",
       "  background-color: #046299;\n",
       "  color: #f1f1f1;\n",
       "}\n",
       "#T_d32a3_row15_col3, #T_d32a3_row41_col2 {\n",
       "  background-color: #1077b4;\n",
       "  color: #f1f1f1;\n",
       "}\n",
       "#T_d32a3_row16_col1, #T_d32a3_row36_col1, #T_d32a3_row38_col2 {\n",
       "  background-color: #0c74b2;\n",
       "  color: #f1f1f1;\n",
       "}\n",
       "#T_d32a3_row16_col2, #T_d32a3_row65_col3, #T_d32a3_row72_col4, #T_d32a3_row77_col4, #T_d32a3_row81_col4 {\n",
       "  background-color: #045687;\n",
       "  color: #f1f1f1;\n",
       "}\n",
       "#T_d32a3_row16_col3 {\n",
       "  background-color: #05659f;\n",
       "  color: #f1f1f1;\n",
       "}\n",
       "#T_d32a3_row17_col1, #T_d32a3_row44_col2, #T_d32a3_row60_col3 {\n",
       "  background-color: #81aed2;\n",
       "  color: #f1f1f1;\n",
       "}\n",
       "#T_d32a3_row17_col2, #T_d32a3_row48_col1 {\n",
       "  background-color: #328dbf;\n",
       "  color: #f1f1f1;\n",
       "}\n",
       "#T_d32a3_row17_col3, #T_d32a3_row18_col2, #T_d32a3_row54_col3, #T_d32a3_row87_col3 {\n",
       "  background-color: #9cb9d9;\n",
       "  color: #000000;\n",
       "}\n",
       "#T_d32a3_row18_col1, #T_d32a3_row18_col3 {\n",
       "  background-color: #fef6fb;\n",
       "  color: #000000;\n",
       "}\n",
       "#T_d32a3_row18_col4, #T_d32a3_row27_col4, #T_d32a3_row62_col2 {\n",
       "  background-color: #045788;\n",
       "  color: #f1f1f1;\n",
       "}\n",
       "#T_d32a3_row19_col2, #T_d32a3_row49_col2, #T_d32a3_row51_col2, #T_d32a3_row58_col2 {\n",
       "  background-color: #529bc7;\n",
       "  color: #f1f1f1;\n",
       "}\n",
       "#T_d32a3_row19_col4, #T_d32a3_row39_col2 {\n",
       "  background-color: #045585;\n",
       "  color: #f1f1f1;\n",
       "}\n",
       "#T_d32a3_row20_col2 {\n",
       "  background-color: #045f95;\n",
       "  color: #f1f1f1;\n",
       "}\n",
       "#T_d32a3_row20_col3, #T_d32a3_row26_col2, #T_d32a3_row63_col2, #T_d32a3_row73_col2, #T_d32a3_row74_col2 {\n",
       "  background-color: #65a3cb;\n",
       "  color: #f1f1f1;\n",
       "}\n",
       "#T_d32a3_row20_col4, #T_d32a3_row60_col2, #T_d32a3_row61_col3 {\n",
       "  background-color: #2182b9;\n",
       "  color: #f1f1f1;\n",
       "}\n",
       "#T_d32a3_row21_col1, #T_d32a3_row43_col3 {\n",
       "  background-color: #ced0e6;\n",
       "  color: #000000;\n",
       "}\n",
       "#T_d32a3_row21_col2, #T_d32a3_row53_col1, #T_d32a3_row71_col3, #T_d32a3_row82_col2 {\n",
       "  background-color: #569dc8;\n",
       "  color: #f1f1f1;\n",
       "}\n",
       "#T_d32a3_row21_col3 {\n",
       "  background-color: #c2cbe2;\n",
       "  color: #000000;\n",
       "}\n",
       "#T_d32a3_row21_col4, #T_d32a3_row30_col4, #T_d32a3_row60_col4, #T_d32a3_row63_col4, #T_d32a3_row65_col2 {\n",
       "  background-color: #034973;\n",
       "  color: #f1f1f1;\n",
       "}\n",
       "#T_d32a3_row22_col1, #T_d32a3_row87_col2 {\n",
       "  background-color: #308cbe;\n",
       "  color: #f1f1f1;\n",
       "}\n",
       "#T_d32a3_row22_col2, #T_d32a3_row36_col3, #T_d32a3_row65_col1 {\n",
       "  background-color: #04649e;\n",
       "  color: #f1f1f1;\n",
       "}\n",
       "#T_d32a3_row22_col3 {\n",
       "  background-color: #167bb6;\n",
       "  color: #f1f1f1;\n",
       "}\n",
       "#T_d32a3_row23_col1, #T_d32a3_row57_col3, #T_d32a3_row88_col1 {\n",
       "  background-color: #b0c2de;\n",
       "  color: #000000;\n",
       "}\n",
       "#T_d32a3_row23_col2 {\n",
       "  background-color: #348ebf;\n",
       "  color: #f1f1f1;\n",
       "}\n",
       "#T_d32a3_row23_col3 {\n",
       "  background-color: #9fbad9;\n",
       "  color: #000000;\n",
       "}\n",
       "#T_d32a3_row24_col1 {\n",
       "  background-color: #e7e3f0;\n",
       "  color: #000000;\n",
       "}\n",
       "#T_d32a3_row25_col1, #T_d32a3_row25_col3 {\n",
       "  background-color: #adc1dd;\n",
       "  color: #000000;\n",
       "}\n",
       "#T_d32a3_row25_col2, #T_d32a3_row35_col1 {\n",
       "  background-color: #3f93c2;\n",
       "  color: #f1f1f1;\n",
       "}\n",
       "#T_d32a3_row25_col4 {\n",
       "  background-color: #045e93;\n",
       "  color: #f1f1f1;\n",
       "}\n",
       "#T_d32a3_row26_col3 {\n",
       "  background-color: #d4d4e8;\n",
       "  color: #000000;\n",
       "}\n",
       "#T_d32a3_row27_col2 {\n",
       "  background-color: #a1bbda;\n",
       "  color: #000000;\n",
       "}\n",
       "#T_d32a3_row28_col2 {\n",
       "  background-color: #056ba7;\n",
       "  color: #f1f1f1;\n",
       "}\n",
       "#T_d32a3_row28_col3, #T_d32a3_row54_col2 {\n",
       "  background-color: #3991c1;\n",
       "  color: #f1f1f1;\n",
       "}\n",
       "#T_d32a3_row28_col4, #T_d32a3_row64_col4, #T_d32a3_row65_col4 {\n",
       "  background-color: #034b76;\n",
       "  color: #f1f1f1;\n",
       "}\n",
       "#T_d32a3_row30_col1 {\n",
       "  background-color: #2a88bc;\n",
       "  color: #f1f1f1;\n",
       "}\n",
       "#T_d32a3_row31_col3, #T_d32a3_row32_col2, #T_d32a3_row52_col1 {\n",
       "  background-color: #358fc0;\n",
       "  color: #f1f1f1;\n",
       "}\n",
       "#T_d32a3_row32_col1, #T_d32a3_row33_col3 {\n",
       "  background-color: #abbfdc;\n",
       "  color: #000000;\n",
       "}\n",
       "#T_d32a3_row32_col3 {\n",
       "  background-color: #a2bcda;\n",
       "  color: #000000;\n",
       "}\n",
       "#T_d32a3_row33_col1, #T_d32a3_row57_col1 {\n",
       "  background-color: #bcc7e1;\n",
       "  color: #000000;\n",
       "}\n",
       "#T_d32a3_row33_col2, #T_d32a3_row53_col3, #T_d32a3_row70_col2 {\n",
       "  background-color: #3d93c2;\n",
       "  color: #f1f1f1;\n",
       "}\n",
       "#T_d32a3_row33_col4 {\n",
       "  background-color: #03446a;\n",
       "  color: #f1f1f1;\n",
       "}\n",
       "#T_d32a3_row34_col2 {\n",
       "  background-color: #04629a;\n",
       "  color: #f1f1f1;\n",
       "}\n",
       "#T_d32a3_row34_col3 {\n",
       "  background-color: #1278b4;\n",
       "  color: #f1f1f1;\n",
       "}\n",
       "#T_d32a3_row35_col3 {\n",
       "  background-color: #2685bb;\n",
       "  color: #f1f1f1;\n",
       "}\n",
       "#T_d32a3_row37_col1, #T_d32a3_row74_col1 {\n",
       "  background-color: #dcdaeb;\n",
       "  color: #000000;\n",
       "}\n",
       "#T_d32a3_row37_col2, #T_d32a3_row71_col1 {\n",
       "  background-color: #69a5cc;\n",
       "  color: #f1f1f1;\n",
       "}\n",
       "#T_d32a3_row37_col3 {\n",
       "  background-color: #d7d6e9;\n",
       "  color: #000000;\n",
       "}\n",
       "#T_d32a3_row37_col4, #T_d32a3_row45_col4, #T_d32a3_row50_col4, #T_d32a3_row88_col4 {\n",
       "  background-color: #034f7d;\n",
       "  color: #f1f1f1;\n",
       "}\n",
       "#T_d32a3_row38_col1 {\n",
       "  background-color: #7dacd1;\n",
       "  color: #f1f1f1;\n",
       "}\n",
       "#T_d32a3_row38_col3 {\n",
       "  background-color: #60a1ca;\n",
       "  color: #f1f1f1;\n",
       "}\n",
       "#T_d32a3_row38_col4 {\n",
       "  background-color: #03466e;\n",
       "  color: #f1f1f1;\n",
       "}\n",
       "#T_d32a3_row40_col1 {\n",
       "  background-color: #1b7eb7;\n",
       "  color: #f1f1f1;\n",
       "}\n",
       "#T_d32a3_row40_col2, #T_d32a3_row42_col1 {\n",
       "  background-color: #045e94;\n",
       "  color: #f1f1f1;\n",
       "}\n",
       "#T_d32a3_row41_col1 {\n",
       "  background-color: #73a9cf;\n",
       "  color: #f1f1f1;\n",
       "}\n",
       "#T_d32a3_row41_col3, #T_d32a3_row47_col2 {\n",
       "  background-color: #5a9ec9;\n",
       "  color: #f1f1f1;\n",
       "}\n",
       "#T_d32a3_row42_col2 {\n",
       "  background-color: #034369;\n",
       "  color: #f1f1f1;\n",
       "}\n",
       "#T_d32a3_row43_col1, #T_d32a3_row73_col1, #T_d32a3_row74_col3 {\n",
       "  background-color: #d5d5e8;\n",
       "  color: #000000;\n",
       "}\n",
       "#T_d32a3_row43_col4, #T_d32a3_row53_col4 {\n",
       "  background-color: #034e7b;\n",
       "  color: #f1f1f1;\n",
       "}\n",
       "#T_d32a3_row44_col1 {\n",
       "  background-color: #ece7f2;\n",
       "  color: #000000;\n",
       "}\n",
       "#T_d32a3_row44_col3, #T_d32a3_row59_col1 {\n",
       "  background-color: #ebe6f2;\n",
       "  color: #000000;\n",
       "}\n",
       "#T_d32a3_row44_col4, #T_d32a3_row55_col2 {\n",
       "  background-color: #045a8d;\n",
       "  color: #f1f1f1;\n",
       "}\n",
       "#T_d32a3_row45_col1, #T_d32a3_row64_col2, #T_d32a3_row84_col1 {\n",
       "  background-color: #63a2cb;\n",
       "  color: #f1f1f1;\n",
       "}\n",
       "#T_d32a3_row45_col2, #T_d32a3_row71_col2 {\n",
       "  background-color: #0a73b2;\n",
       "  color: #f1f1f1;\n",
       "}\n",
       "#T_d32a3_row45_col3, #T_d32a3_row79_col2 {\n",
       "  background-color: #4e9ac6;\n",
       "  color: #f1f1f1;\n",
       "}\n",
       "#T_d32a3_row46_col1 {\n",
       "  background-color: #83afd3;\n",
       "  color: #f1f1f1;\n",
       "}\n",
       "#T_d32a3_row46_col2 {\n",
       "  background-color: #1c7fb8;\n",
       "  color: #f1f1f1;\n",
       "}\n",
       "#T_d32a3_row47_col1, #T_d32a3_row63_col3, #T_d32a3_row73_col3 {\n",
       "  background-color: #d3d4e7;\n",
       "  color: #000000;\n",
       "}\n",
       "#T_d32a3_row47_col3 {\n",
       "  background-color: #cacee5;\n",
       "  color: #000000;\n",
       "}\n",
       "#T_d32a3_row48_col2 {\n",
       "  background-color: #0566a0;\n",
       "  color: #f1f1f1;\n",
       "}\n",
       "#T_d32a3_row48_col3, #T_d32a3_row52_col3, #T_d32a3_row72_col3, #T_d32a3_row77_col2 {\n",
       "  background-color: #1e80b8;\n",
       "  color: #f1f1f1;\n",
       "}\n",
       "#T_d32a3_row49_col1, #T_d32a3_row82_col3 {\n",
       "  background-color: #c8cde4;\n",
       "  color: #000000;\n",
       "}\n",
       "#T_d32a3_row49_col3 {\n",
       "  background-color: #bfc9e1;\n",
       "  color: #000000;\n",
       "}\n",
       "#T_d32a3_row50_col1 {\n",
       "  background-color: #f7f0f7;\n",
       "  color: #000000;\n",
       "}\n",
       "#T_d32a3_row50_col2, #T_d32a3_row83_col2 {\n",
       "  background-color: #91b5d6;\n",
       "  color: #000000;\n",
       "}\n",
       "#T_d32a3_row50_col3 {\n",
       "  background-color: #f5eef6;\n",
       "  color: #000000;\n",
       "}\n",
       "#T_d32a3_row51_col3 {\n",
       "  background-color: #c1cae2;\n",
       "  color: #000000;\n",
       "}\n",
       "#T_d32a3_row52_col2 {\n",
       "  background-color: #0567a1;\n",
       "  color: #f1f1f1;\n",
       "}\n",
       "#T_d32a3_row54_col1, #T_d32a3_row70_col3 {\n",
       "  background-color: #acc0dd;\n",
       "  color: #000000;\n",
       "}\n",
       "#T_d32a3_row55_col1, #T_d32a3_row62_col1, #T_d32a3_row84_col2, #T_d32a3_row86_col2 {\n",
       "  background-color: #0d75b3;\n",
       "  color: #f1f1f1;\n",
       "}\n",
       "#T_d32a3_row55_col3 {\n",
       "  background-color: #056aa6;\n",
       "  color: #f1f1f1;\n",
       "}\n",
       "#T_d32a3_row56_col1 {\n",
       "  background-color: #f2ecf5;\n",
       "  color: #000000;\n",
       "}\n",
       "#T_d32a3_row56_col2 {\n",
       "  background-color: #88b1d4;\n",
       "  color: #000000;\n",
       "}\n",
       "#T_d32a3_row56_col3, #T_d32a3_row75_col3 {\n",
       "  background-color: #f0eaf4;\n",
       "  color: #000000;\n",
       "}\n",
       "#T_d32a3_row56_col4, #T_d32a3_row71_col4, #T_d32a3_row76_col4, #T_d32a3_row87_col4 {\n",
       "  background-color: #045280;\n",
       "  color: #f1f1f1;\n",
       "}\n",
       "#T_d32a3_row57_col2, #T_d32a3_row76_col2 {\n",
       "  background-color: #4094c3;\n",
       "  color: #f1f1f1;\n",
       "}\n",
       "#T_d32a3_row58_col1, #T_d32a3_row58_col3, #T_d32a3_row78_col3, #T_d32a3_row85_col3 {\n",
       "  background-color: #b9c6e0;\n",
       "  color: #000000;\n",
       "}\n",
       "#T_d32a3_row58_col4 {\n",
       "  background-color: #045c90;\n",
       "  color: #f1f1f1;\n",
       "}\n",
       "#T_d32a3_row59_col2 {\n",
       "  background-color: #80aed2;\n",
       "  color: #f1f1f1;\n",
       "}\n",
       "#T_d32a3_row60_col1 {\n",
       "  background-color: #96b6d7;\n",
       "  color: #000000;\n",
       "}\n",
       "#T_d32a3_row61_col1, #T_d32a3_row88_col2 {\n",
       "  background-color: #3790c0;\n",
       "  color: #f1f1f1;\n",
       "}\n",
       "#T_d32a3_row62_col3 {\n",
       "  background-color: #0568a3;\n",
       "  color: #f1f1f1;\n",
       "}\n",
       "#T_d32a3_row63_col1 {\n",
       "  background-color: #dbdaeb;\n",
       "  color: #000000;\n",
       "}\n",
       "#T_d32a3_row66_col1 {\n",
       "  background-color: #056faf;\n",
       "  color: #f1f1f1;\n",
       "}\n",
       "#T_d32a3_row67_col2 {\n",
       "  background-color: #056dac;\n",
       "  color: #f1f1f1;\n",
       "}\n",
       "#T_d32a3_row69_col1 {\n",
       "  background-color: #dedcec;\n",
       "  color: #000000;\n",
       "}\n",
       "#T_d32a3_row69_col3 {\n",
       "  background-color: #d8d7e9;\n",
       "  color: #000000;\n",
       "}\n",
       "#T_d32a3_row70_col1 {\n",
       "  background-color: #b4c4df;\n",
       "  color: #000000;\n",
       "}\n",
       "#T_d32a3_row72_col1 {\n",
       "  background-color: #2c89bd;\n",
       "  color: #f1f1f1;\n",
       "}\n",
       "#T_d32a3_row75_col1 {\n",
       "  background-color: #f1ebf5;\n",
       "  color: #000000;\n",
       "}\n",
       "#T_d32a3_row75_col2, #T_d32a3_row77_col1 {\n",
       "  background-color: #89b1d4;\n",
       "  color: #000000;\n",
       "}\n",
       "#T_d32a3_row76_col1 {\n",
       "  background-color: #b8c6e0;\n",
       "  color: #000000;\n",
       "}\n",
       "#T_d32a3_row76_col3, #T_d32a3_row85_col1 {\n",
       "  background-color: #afc1dd;\n",
       "  color: #000000;\n",
       "}\n",
       "#T_d32a3_row77_col3 {\n",
       "  background-color: #7eadd1;\n",
       "  color: #f1f1f1;\n",
       "}\n",
       "#T_d32a3_row78_col1, #T_d32a3_row79_col3 {\n",
       "  background-color: #c0c9e2;\n",
       "  color: #000000;\n",
       "}\n",
       "#T_d32a3_row78_col2, #T_d32a3_row85_col2 {\n",
       "  background-color: #4897c4;\n",
       "  color: #f1f1f1;\n",
       "}\n",
       "#T_d32a3_row80_col1 {\n",
       "  background-color: #faf2f8;\n",
       "  color: #000000;\n",
       "}\n",
       "#T_d32a3_row80_col2 {\n",
       "  background-color: #9ab8d8;\n",
       "  color: #000000;\n",
       "}\n",
       "#T_d32a3_row80_col3 {\n",
       "  background-color: #faf3f9;\n",
       "  color: #000000;\n",
       "}\n",
       "#T_d32a3_row80_col4 {\n",
       "  background-color: #045b8f;\n",
       "  color: #f1f1f1;\n",
       "}\n",
       "#T_d32a3_row81_col1 {\n",
       "  background-color: #cccfe5;\n",
       "  color: #000000;\n",
       "}\n",
       "#T_d32a3_row83_col1 {\n",
       "  background-color: #f6eff7;\n",
       "  color: #000000;\n",
       "}\n",
       "#T_d32a3_row83_col3 {\n",
       "  background-color: #f4eef6;\n",
       "  color: #000000;\n",
       "}\n",
       "#T_d32a3_row86_col1 {\n",
       "  background-color: #6ba5cd;\n",
       "  color: #f1f1f1;\n",
       "}\n",
       "#T_d32a3_row87_col1 {\n",
       "  background-color: #a7bddb;\n",
       "  color: #000000;\n",
       "}\n",
       "#T_d32a3_row88_col3 {\n",
       "  background-color: #a5bddb;\n",
       "  color: #000000;\n",
       "}\n",
       "</style>\n",
       "<table id=\"T_d32a3\">\n",
       "  <thead>\n",
       "    <tr>\n",
       "      <th class=\"blank level0\" >&nbsp;</th>\n",
       "      <th id=\"T_d32a3_level0_col0\" class=\"col_heading level0 col0\" >Crystal structure</th>\n",
       "      <th id=\"T_d32a3_level0_col1\" class=\"col_heading level0 col1\" >a (Å)</th>\n",
       "      <th id=\"T_d32a3_level0_col2\" class=\"col_heading level0 col2\" >MP a (Å)</th>\n",
       "      <th id=\"T_d32a3_level0_col3\" class=\"col_heading level0 col3\" >Predicted a (Å)</th>\n",
       "      <th id=\"T_d32a3_level0_col4\" class=\"col_heading level0 col4\" >% error vs Expt</th>\n",
       "      <th id=\"T_d32a3_level0_col5\" class=\"col_heading level0 col5\" >% error vs MP</th>\n",
       "    </tr>\n",
       "    <tr>\n",
       "      <th class=\"index_name level0\" >Material</th>\n",
       "      <th class=\"blank col0\" >&nbsp;</th>\n",
       "      <th class=\"blank col1\" >&nbsp;</th>\n",
       "      <th class=\"blank col2\" >&nbsp;</th>\n",
       "      <th class=\"blank col3\" >&nbsp;</th>\n",
       "      <th class=\"blank col4\" >&nbsp;</th>\n",
       "      <th class=\"blank col5\" >&nbsp;</th>\n",
       "    </tr>\n",
       "  </thead>\n",
       "  <tbody>\n",
       "    <tr>\n",
       "      <th id=\"T_d32a3_level0_row0\" class=\"row_heading level0 row0\" >Ac</th>\n",
       "      <td id=\"T_d32a3_row0_col0\" class=\"data row0 col0\" >FCC</td>\n",
       "      <td id=\"T_d32a3_row0_col1\" class=\"data row0 col1\" >5.310000</td>\n",
       "      <td id=\"T_d32a3_row0_col2\" class=\"data row0 col2\" >5.696211</td>\n",
       "      <td id=\"T_d32a3_row0_col3\" class=\"data row0 col3\" >5.613508</td>\n",
       "      <td id=\"T_d32a3_row0_col4\" class=\"data row0 col4\" >5.72%</td>\n",
       "      <td id=\"T_d32a3_row0_col5\" class=\"data row0 col5\" >-1.45%</td>\n",
       "    </tr>\n",
       "    <tr>\n",
       "      <th id=\"T_d32a3_level0_row1\" class=\"row_heading level0 row1\" >Ag</th>\n",
       "      <td id=\"T_d32a3_row1_col0\" class=\"data row1 col0\" >FCC</td>\n",
       "      <td id=\"T_d32a3_row1_col1\" class=\"data row1 col1\" >4.079000</td>\n",
       "      <td id=\"T_d32a3_row1_col2\" class=\"data row1 col2\" >4.104356</td>\n",
       "      <td id=\"T_d32a3_row1_col3\" class=\"data row1 col3\" >4.172203</td>\n",
       "      <td id=\"T_d32a3_row1_col4\" class=\"data row1 col4\" >2.28%</td>\n",
       "      <td id=\"T_d32a3_row1_col5\" class=\"data row1 col5\" >1.65%</td>\n",
       "    </tr>\n",
       "    <tr>\n",
       "      <th id=\"T_d32a3_level0_row2\" class=\"row_heading level0 row2\" >Al</th>\n",
       "      <td id=\"T_d32a3_row2_col0\" class=\"data row2 col0\" >FCC</td>\n",
       "      <td id=\"T_d32a3_row2_col1\" class=\"data row2 col1\" >4.046000</td>\n",
       "      <td id=\"T_d32a3_row2_col2\" class=\"data row2 col2\" >4.038930</td>\n",
       "      <td id=\"T_d32a3_row2_col3\" class=\"data row2 col3\" >4.046954</td>\n",
       "      <td id=\"T_d32a3_row2_col4\" class=\"data row2 col4\" >0.02%</td>\n",
       "      <td id=\"T_d32a3_row2_col5\" class=\"data row2 col5\" >0.20%</td>\n",
       "    </tr>\n",
       "    <tr>\n",
       "      <th id=\"T_d32a3_level0_row3\" class=\"row_heading level0 row3\" >AlAs</th>\n",
       "      <td id=\"T_d32a3_row3_col0\" class=\"data row3 col0\" >Zinc blende (FCC)</td>\n",
       "      <td id=\"T_d32a3_row3_col1\" class=\"data row3 col1\" >5.660500</td>\n",
       "      <td id=\"T_d32a3_row3_col2\" class=\"data row3 col2\" >5.675802</td>\n",
       "      <td id=\"T_d32a3_row3_col3\" class=\"data row3 col3\" >5.730905</td>\n",
       "      <td id=\"T_d32a3_row3_col4\" class=\"data row3 col4\" >1.24%</td>\n",
       "      <td id=\"T_d32a3_row3_col5\" class=\"data row3 col5\" >0.97%</td>\n",
       "    </tr>\n",
       "    <tr>\n",
       "      <th id=\"T_d32a3_level0_row4\" class=\"row_heading level0 row4\" >AlP</th>\n",
       "      <td id=\"T_d32a3_row4_col0\" class=\"data row4 col0\" >Zinc blende (FCC)</td>\n",
       "      <td id=\"T_d32a3_row4_col1\" class=\"data row4 col1\" >5.451000</td>\n",
       "      <td id=\"T_d32a3_row4_col2\" class=\"data row4 col2\" >5.472967</td>\n",
       "      <td id=\"T_d32a3_row4_col3\" class=\"data row4 col3\" >5.489397</td>\n",
       "      <td id=\"T_d32a3_row4_col4\" class=\"data row4 col4\" >0.70%</td>\n",
       "      <td id=\"T_d32a3_row4_col5\" class=\"data row4 col5\" >0.30%</td>\n",
       "    </tr>\n",
       "    <tr>\n",
       "      <th id=\"T_d32a3_level0_row5\" class=\"row_heading level0 row5\" >AlSb</th>\n",
       "      <td id=\"T_d32a3_row5_col0\" class=\"data row5 col0\" >Zinc blende (FCC)</td>\n",
       "      <td id=\"T_d32a3_row5_col1\" class=\"data row5 col1\" >6.135500</td>\n",
       "      <td id=\"T_d32a3_row5_col2\" class=\"data row5 col2\" >6.185042</td>\n",
       "      <td id=\"T_d32a3_row5_col3\" class=\"data row5 col3\" >6.228938</td>\n",
       "      <td id=\"T_d32a3_row5_col4\" class=\"data row5 col4\" >1.52%</td>\n",
       "      <td id=\"T_d32a3_row5_col5\" class=\"data row5 col5\" >0.71%</td>\n",
       "    </tr>\n",
       "    <tr>\n",
       "      <th id=\"T_d32a3_level0_row6\" class=\"row_heading level0 row6\" >Ar</th>\n",
       "      <td id=\"T_d32a3_row6_col0\" class=\"data row6 col0\" >FCC</td>\n",
       "      <td id=\"T_d32a3_row6_col1\" class=\"data row6 col1\" >5.260000</td>\n",
       "      <td id=\"T_d32a3_row6_col2\" class=\"data row6 col2\" >5.363160</td>\n",
       "      <td id=\"T_d32a3_row6_col3\" class=\"data row6 col3\" >4.145401</td>\n",
       "      <td id=\"T_d32a3_row6_col4\" class=\"data row6 col4\" >-21.19%</td>\n",
       "      <td id=\"T_d32a3_row6_col5\" class=\"data row6 col5\" >-22.71%</td>\n",
       "    </tr>\n",
       "    <tr>\n",
       "      <th id=\"T_d32a3_level0_row7\" class=\"row_heading level0 row7\" >Au</th>\n",
       "      <td id=\"T_d32a3_row7_col0\" class=\"data row7 col0\" >FCC</td>\n",
       "      <td id=\"T_d32a3_row7_col1\" class=\"data row7 col1\" >4.065000</td>\n",
       "      <td id=\"T_d32a3_row7_col2\" class=\"data row7 col2\" >4.171289</td>\n",
       "      <td id=\"T_d32a3_row7_col3\" class=\"data row7 col3\" >4.168613</td>\n",
       "      <td id=\"T_d32a3_row7_col4\" class=\"data row7 col4\" >2.55%</td>\n",
       "      <td id=\"T_d32a3_row7_col5\" class=\"data row7 col5\" >-0.06%</td>\n",
       "    </tr>\n",
       "    <tr>\n",
       "      <th id=\"T_d32a3_level0_row8\" class=\"row_heading level0 row8\" >BN</th>\n",
       "      <td id=\"T_d32a3_row8_col0\" class=\"data row8 col0\" >Zinc blende (FCC)</td>\n",
       "      <td id=\"T_d32a3_row8_col1\" class=\"data row8 col1\" >3.615000</td>\n",
       "      <td id=\"T_d32a3_row8_col2\" class=\"data row8 col2\" >3.626002</td>\n",
       "      <td id=\"T_d32a3_row8_col3\" class=\"data row8 col3\" >3.615134</td>\n",
       "      <td id=\"T_d32a3_row8_col4\" class=\"data row8 col4\" >0.00%</td>\n",
       "      <td id=\"T_d32a3_row8_col5\" class=\"data row8 col5\" >-0.30%</td>\n",
       "    </tr>\n",
       "    <tr>\n",
       "      <th id=\"T_d32a3_level0_row9\" class=\"row_heading level0 row9\" >BP</th>\n",
       "      <td id=\"T_d32a3_row9_col0\" class=\"data row9 col0\" >Zinc blende (FCC)</td>\n",
       "      <td id=\"T_d32a3_row9_col1\" class=\"data row9 col1\" >4.538000</td>\n",
       "      <td id=\"T_d32a3_row9_col2\" class=\"data row9 col2\" >4.532145</td>\n",
       "      <td id=\"T_d32a3_row9_col3\" class=\"data row9 col3\" >4.543347</td>\n",
       "      <td id=\"T_d32a3_row9_col4\" class=\"data row9 col4\" >0.12%</td>\n",
       "      <td id=\"T_d32a3_row9_col5\" class=\"data row9 col5\" >0.25%</td>\n",
       "    </tr>\n",
       "    <tr>\n",
       "      <th id=\"T_d32a3_level0_row10\" class=\"row_heading level0 row10\" >Ba</th>\n",
       "      <td id=\"T_d32a3_row10_col0\" class=\"data row10 col0\" >BCC</td>\n",
       "      <td id=\"T_d32a3_row10_col1\" class=\"data row10 col1\" >5.020000</td>\n",
       "      <td id=\"T_d32a3_row10_col2\" class=\"data row10 col2\" >0.000000</td>\n",
       "      <td id=\"T_d32a3_row10_col3\" class=\"data row10 col3\" >4.814511</td>\n",
       "      <td id=\"T_d32a3_row10_col4\" class=\"data row10 col4\" >-4.09%</td>\n",
       "      <td id=\"T_d32a3_row10_col5\" class=\"data row10 col5\" >inf%</td>\n",
       "    </tr>\n",
       "    <tr>\n",
       "      <th id=\"T_d32a3_level0_row11\" class=\"row_heading level0 row11\" >C (diamond)</th>\n",
       "      <td id=\"T_d32a3_row11_col0\" class=\"data row11 col0\" >Diamond (FCC)</td>\n",
       "      <td id=\"T_d32a3_row11_col1\" class=\"data row11 col1\" >3.567000</td>\n",
       "      <td id=\"T_d32a3_row11_col2\" class=\"data row11 col2\" >3.560745</td>\n",
       "      <td id=\"T_d32a3_row11_col3\" class=\"data row11 col3\" >3.590531</td>\n",
       "      <td id=\"T_d32a3_row11_col4\" class=\"data row11 col4\" >0.66%</td>\n",
       "      <td id=\"T_d32a3_row11_col5\" class=\"data row11 col5\" >0.84%</td>\n",
       "    </tr>\n",
       "    <tr>\n",
       "      <th id=\"T_d32a3_level0_row12\" class=\"row_heading level0 row12\" >Ca</th>\n",
       "      <td id=\"T_d32a3_row12_col0\" class=\"data row12 col0\" >FCC</td>\n",
       "      <td id=\"T_d32a3_row12_col1\" class=\"data row12 col1\" >5.580000</td>\n",
       "      <td id=\"T_d32a3_row12_col2\" class=\"data row12 col2\" >5.576816</td>\n",
       "      <td id=\"T_d32a3_row12_col3\" class=\"data row12 col3\" >5.513572</td>\n",
       "      <td id=\"T_d32a3_row12_col4\" class=\"data row12 col4\" >-1.19%</td>\n",
       "      <td id=\"T_d32a3_row12_col5\" class=\"data row12 col5\" >-1.13%</td>\n",
       "    </tr>\n",
       "    <tr>\n",
       "      <th id=\"T_d32a3_level0_row13\" class=\"row_heading level0 row13\" >CaVO3</th>\n",
       "      <td id=\"T_d32a3_row13_col0\" class=\"data row13 col0\" >Cubic perovskite</td>\n",
       "      <td id=\"T_d32a3_row13_col1\" class=\"data row13 col1\" >3.767000</td>\n",
       "      <td id=\"T_d32a3_row13_col2\" class=\"data row13 col2\" >0.000000</td>\n",
       "      <td id=\"T_d32a3_row13_col3\" class=\"data row13 col3\" >3.840965</td>\n",
       "      <td id=\"T_d32a3_row13_col4\" class=\"data row13 col4\" >1.96%</td>\n",
       "      <td id=\"T_d32a3_row13_col5\" class=\"data row13 col5\" >inf%</td>\n",
       "    </tr>\n",
       "    <tr>\n",
       "      <th id=\"T_d32a3_level0_row14\" class=\"row_heading level0 row14\" >CdS</th>\n",
       "      <td id=\"T_d32a3_row14_col0\" class=\"data row14 col0\" >Zinc blende (FCC)</td>\n",
       "      <td id=\"T_d32a3_row14_col1\" class=\"data row14 col1\" >5.832000</td>\n",
       "      <td id=\"T_d32a3_row14_col2\" class=\"data row14 col2\" >5.885907</td>\n",
       "      <td id=\"T_d32a3_row14_col3\" class=\"data row14 col3\" >5.922216</td>\n",
       "      <td id=\"T_d32a3_row14_col4\" class=\"data row14 col4\" >1.55%</td>\n",
       "      <td id=\"T_d32a3_row14_col5\" class=\"data row14 col5\" >0.62%</td>\n",
       "    </tr>\n",
       "    <tr>\n",
       "      <th id=\"T_d32a3_level0_row15\" class=\"row_heading level0 row15\" >CdSe</th>\n",
       "      <td id=\"T_d32a3_row15_col0\" class=\"data row15 col0\" >Zinc blende (FCC)</td>\n",
       "      <td id=\"T_d32a3_row15_col1\" class=\"data row15 col1\" >6.050000</td>\n",
       "      <td id=\"T_d32a3_row15_col2\" class=\"data row15 col2\" >6.140542</td>\n",
       "      <td id=\"T_d32a3_row15_col3\" class=\"data row15 col3\" >6.211245</td>\n",
       "      <td id=\"T_d32a3_row15_col4\" class=\"data row15 col4\" >2.67%</td>\n",
       "      <td id=\"T_d32a3_row15_col5\" class=\"data row15 col5\" >1.15%</td>\n",
       "    </tr>\n",
       "    <tr>\n",
       "      <th id=\"T_d32a3_level0_row16\" class=\"row_heading level0 row16\" >CdTe</th>\n",
       "      <td id=\"T_d32a3_row16_col0\" class=\"data row16 col0\" >Zinc blende (FCC)</td>\n",
       "      <td id=\"T_d32a3_row16_col1\" class=\"data row16 col1\" >6.482000</td>\n",
       "      <td id=\"T_d32a3_row16_col2\" class=\"data row16 col2\" >6.564227</td>\n",
       "      <td id=\"T_d32a3_row16_col3\" class=\"data row16 col3\" >6.630309</td>\n",
       "      <td id=\"T_d32a3_row16_col4\" class=\"data row16 col4\" >2.29%</td>\n",
       "      <td id=\"T_d32a3_row16_col5\" class=\"data row16 col5\" >1.01%</td>\n",
       "    </tr>\n",
       "    <tr>\n",
       "      <th id=\"T_d32a3_level0_row17\" class=\"row_heading level0 row17\" >Ce</th>\n",
       "      <td id=\"T_d32a3_row17_col0\" class=\"data row17 col0\" >FCC</td>\n",
       "      <td id=\"T_d32a3_row17_col1\" class=\"data row17 col1\" >5.160000</td>\n",
       "      <td id=\"T_d32a3_row17_col2\" class=\"data row17 col2\" >4.672429</td>\n",
       "      <td id=\"T_d32a3_row17_col3\" class=\"data row17 col3\" >4.712238</td>\n",
       "      <td id=\"T_d32a3_row17_col4\" class=\"data row17 col4\" >-8.68%</td>\n",
       "      <td id=\"T_d32a3_row17_col5\" class=\"data row17 col5\" >0.85%</td>\n",
       "    </tr>\n",
       "    <tr>\n",
       "      <th id=\"T_d32a3_level0_row18\" class=\"row_heading level0 row18\" >Cr</th>\n",
       "      <td id=\"T_d32a3_row18_col0\" class=\"data row18 col0\" >BCC</td>\n",
       "      <td id=\"T_d32a3_row18_col1\" class=\"data row18 col1\" >2.880000</td>\n",
       "      <td id=\"T_d32a3_row18_col2\" class=\"data row18 col2\" >2.968899</td>\n",
       "      <td id=\"T_d32a3_row18_col3\" class=\"data row18 col3\" >2.859300</td>\n",
       "      <td id=\"T_d32a3_row18_col4\" class=\"data row18 col4\" >-0.72%</td>\n",
       "      <td id=\"T_d32a3_row18_col5\" class=\"data row18 col5\" >-3.69%</td>\n",
       "    </tr>\n",
       "    <tr>\n",
       "      <th id=\"T_d32a3_level0_row19\" class=\"row_heading level0 row19\" >CrN</th>\n",
       "      <td id=\"T_d32a3_row19_col0\" class=\"data row19 col0\" >Halite</td>\n",
       "      <td id=\"T_d32a3_row19_col1\" class=\"data row19 col1\" >4.149000</td>\n",
       "      <td id=\"T_d32a3_row19_col2\" class=\"data row19 col2\" >4.190855</td>\n",
       "      <td id=\"T_d32a3_row19_col3\" class=\"data row19 col3\" >4.142035</td>\n",
       "      <td id=\"T_d32a3_row19_col4\" class=\"data row19 col4\" >-0.17%</td>\n",
       "      <td id=\"T_d32a3_row19_col5\" class=\"data row19 col5\" >-1.16%</td>\n",
       "    </tr>\n",
       "    <tr>\n",
       "      <th id=\"T_d32a3_level0_row20\" class=\"row_heading level0 row20\" >Cs</th>\n",
       "      <td id=\"T_d32a3_row20_col0\" class=\"data row20 col0\" >BCC</td>\n",
       "      <td id=\"T_d32a3_row20_col1\" class=\"data row20 col1\" >6.050000</td>\n",
       "      <td id=\"T_d32a3_row20_col2\" class=\"data row20 col2\" >6.256930</td>\n",
       "      <td id=\"T_d32a3_row20_col3\" class=\"data row20 col3\" >5.318184</td>\n",
       "      <td id=\"T_d32a3_row20_col4\" class=\"data row20 col4\" >-12.10%</td>\n",
       "      <td id=\"T_d32a3_row20_col5\" class=\"data row20 col5\" >-15.00%</td>\n",
       "    </tr>\n",
       "    <tr>\n",
       "      <th id=\"T_d32a3_level0_row21\" class=\"row_heading level0 row21\" >CsCl</th>\n",
       "      <td id=\"T_d32a3_row21_col0\" class=\"data row21 col0\" >Caesium chloride</td>\n",
       "      <td id=\"T_d32a3_row21_col1\" class=\"data row21 col1\" >4.123000</td>\n",
       "      <td id=\"T_d32a3_row21_col2\" class=\"data row21 col2\" >4.143698</td>\n",
       "      <td id=\"T_d32a3_row21_col3\" class=\"data row21 col3\" >4.211410</td>\n",
       "      <td id=\"T_d32a3_row21_col4\" class=\"data row21 col4\" >2.14%</td>\n",
       "      <td id=\"T_d32a3_row21_col5\" class=\"data row21 col5\" >1.63%</td>\n",
       "    </tr>\n",
       "    <tr>\n",
       "      <th id=\"T_d32a3_level0_row22\" class=\"row_heading level0 row22\" >CsF</th>\n",
       "      <td id=\"T_d32a3_row22_col0\" class=\"data row22 col0\" >Halite</td>\n",
       "      <td id=\"T_d32a3_row22_col1\" class=\"data row22 col1\" >6.020000</td>\n",
       "      <td id=\"T_d32a3_row22_col2\" class=\"data row22 col2\" >6.012279</td>\n",
       "      <td id=\"T_d32a3_row22_col3\" class=\"data row22 col3\" >6.135397</td>\n",
       "      <td id=\"T_d32a3_row22_col4\" class=\"data row22 col4\" >1.92%</td>\n",
       "      <td id=\"T_d32a3_row22_col5\" class=\"data row22 col5\" >2.05%</td>\n",
       "    </tr>\n",
       "    <tr>\n",
       "      <th id=\"T_d32a3_level0_row23\" class=\"row_heading level0 row23\" >CsI</th>\n",
       "      <td id=\"T_d32a3_row23_col0\" class=\"data row23 col0\" >Caesium chloride</td>\n",
       "      <td id=\"T_d32a3_row23_col1\" class=\"data row23 col1\" >4.567000</td>\n",
       "      <td id=\"T_d32a3_row23_col2\" class=\"data row23 col2\" >4.665212</td>\n",
       "      <td id=\"T_d32a3_row23_col3\" class=\"data row23 col3\" >4.679304</td>\n",
       "      <td id=\"T_d32a3_row23_col4\" class=\"data row23 col4\" >2.46%</td>\n",
       "      <td id=\"T_d32a3_row23_col5\" class=\"data row23 col5\" >0.30%</td>\n",
       "    </tr>\n",
       "    <tr>\n",
       "      <th id=\"T_d32a3_level0_row24\" class=\"row_heading level0 row24\" >Cu</th>\n",
       "      <td id=\"T_d32a3_row24_col0\" class=\"data row24 col0\" >FCC</td>\n",
       "      <td id=\"T_d32a3_row24_col1\" class=\"data row24 col1\" >3.597000</td>\n",
       "      <td id=\"T_d32a3_row24_col2\" class=\"data row24 col2\" >3.577431</td>\n",
       "      <td id=\"T_d32a3_row24_col3\" class=\"data row24 col3\" >3.616886</td>\n",
       "      <td id=\"T_d32a3_row24_col4\" class=\"data row24 col4\" >0.55%</td>\n",
       "      <td id=\"T_d32a3_row24_col5\" class=\"data row24 col5\" >1.10%</td>\n",
       "    </tr>\n",
       "    <tr>\n",
       "      <th id=\"T_d32a3_level0_row25\" class=\"row_heading level0 row25\" >Eu</th>\n",
       "      <td id=\"T_d32a3_row25_col0\" class=\"data row25 col0\" >BCC</td>\n",
       "      <td id=\"T_d32a3_row25_col1\" class=\"data row25 col1\" >4.610000</td>\n",
       "      <td id=\"T_d32a3_row25_col2\" class=\"data row25 col2\" >4.487602</td>\n",
       "      <td id=\"T_d32a3_row25_col3\" class=\"data row25 col3\" >4.496991</td>\n",
       "      <td id=\"T_d32a3_row25_col4\" class=\"data row25 col4\" >-2.45%</td>\n",
       "      <td id=\"T_d32a3_row25_col5\" class=\"data row25 col5\" >0.21%</td>\n",
       "    </tr>\n",
       "    <tr>\n",
       "      <th id=\"T_d32a3_level0_row26\" class=\"row_heading level0 row26\" >EuTiO3</th>\n",
       "      <td id=\"T_d32a3_row26_col0\" class=\"data row26 col0\" >Cubic perovskite</td>\n",
       "      <td id=\"T_d32a3_row26_col1\" class=\"data row26 col1\" >7.810000</td>\n",
       "      <td id=\"T_d32a3_row26_col2\" class=\"data row26 col2\" >3.903881</td>\n",
       "      <td id=\"T_d32a3_row26_col3\" class=\"data row26 col3\" >3.932595</td>\n",
       "      <td id=\"T_d32a3_row26_col4\" class=\"data row26 col4\" >-49.65%</td>\n",
       "      <td id=\"T_d32a3_row26_col5\" class=\"data row26 col5\" >0.74%</td>\n",
       "    </tr>\n",
       "    <tr>\n",
       "      <th id=\"T_d32a3_level0_row27\" class=\"row_heading level0 row27\" >Fe</th>\n",
       "      <td id=\"T_d32a3_row27_col0\" class=\"data row27 col0\" >BCC</td>\n",
       "      <td id=\"T_d32a3_row27_col1\" class=\"data row27 col1\" >2.856000</td>\n",
       "      <td id=\"T_d32a3_row27_col2\" class=\"data row27 col2\" >2.863035</td>\n",
       "      <td id=\"T_d32a3_row27_col3\" class=\"data row27 col3\" >2.838155</td>\n",
       "      <td id=\"T_d32a3_row27_col4\" class=\"data row27 col4\" >-0.62%</td>\n",
       "      <td id=\"T_d32a3_row27_col5\" class=\"data row27 col5\" >-0.87%</td>\n",
       "    </tr>\n",
       "    <tr>\n",
       "      <th id=\"T_d32a3_level0_row28\" class=\"row_heading level0 row28\" >GaAs</th>\n",
       "      <td id=\"T_d32a3_row28_col0\" class=\"data row28 col0\" >Zinc blende (FCC)</td>\n",
       "      <td id=\"T_d32a3_row28_col1\" class=\"data row28 col1\" >5.653000</td>\n",
       "      <td id=\"T_d32a3_row28_col2\" class=\"data row28 col2\" >5.750182</td>\n",
       "      <td id=\"T_d32a3_row28_col3\" class=\"data row28 col3\" >5.744502</td>\n",
       "      <td id=\"T_d32a3_row28_col4\" class=\"data row28 col4\" >1.62%</td>\n",
       "      <td id=\"T_d32a3_row28_col5\" class=\"data row28 col5\" >-0.10%</td>\n",
       "    </tr>\n",
       "    <tr>\n",
       "      <th id=\"T_d32a3_level0_row29\" class=\"row_heading level0 row29\" >GaP</th>\n",
       "      <td id=\"T_d32a3_row29_col0\" class=\"data row29 col0\" >Zinc blende (FCC)</td>\n",
       "      <td id=\"T_d32a3_row29_col1\" class=\"data row29 col1\" >5.450500</td>\n",
       "      <td id=\"T_d32a3_row29_col2\" class=\"data row29 col2\" >5.451625</td>\n",
       "      <td id=\"T_d32a3_row29_col3\" class=\"data row29 col3\" >5.488141</td>\n",
       "      <td id=\"T_d32a3_row29_col4\" class=\"data row29 col4\" >0.69%</td>\n",
       "      <td id=\"T_d32a3_row29_col5\" class=\"data row29 col5\" >0.67%</td>\n",
       "    </tr>\n",
       "    <tr>\n",
       "      <th id=\"T_d32a3_level0_row30\" class=\"row_heading level0 row30\" >GaSb</th>\n",
       "      <td id=\"T_d32a3_row30_col0\" class=\"data row30 col0\" >Zinc blende (FCC)</td>\n",
       "      <td id=\"T_d32a3_row30_col1\" class=\"data row30 col1\" >6.095900</td>\n",
       "      <td id=\"T_d32a3_row30_col2\" class=\"data row30 col2\" >6.137209</td>\n",
       "      <td id=\"T_d32a3_row30_col3\" class=\"data row30 col3\" >6.228623</td>\n",
       "      <td id=\"T_d32a3_row30_col4\" class=\"data row30 col4\" >2.18%</td>\n",
       "      <td id=\"T_d32a3_row30_col5\" class=\"data row30 col5\" >1.49%</td>\n",
       "    </tr>\n",
       "    <tr>\n",
       "      <th id=\"T_d32a3_level0_row31\" class=\"row_heading level0 row31\" >Ge</th>\n",
       "      <td id=\"T_d32a3_row31_col0\" class=\"data row31 col0\" >Diamond (FCC)</td>\n",
       "      <td id=\"T_d32a3_row31_col1\" class=\"data row31 col1\" >5.658000</td>\n",
       "      <td id=\"T_d32a3_row31_col2\" class=\"data row31 col2\" >5.674854</td>\n",
       "      <td id=\"T_d32a3_row31_col3\" class=\"data row31 col3\" >5.771785</td>\n",
       "      <td id=\"T_d32a3_row31_col4\" class=\"data row31 col4\" >2.01%</td>\n",
       "      <td id=\"T_d32a3_row31_col5\" class=\"data row31 col5\" >1.71%</td>\n",
       "    </tr>\n",
       "    <tr>\n",
       "      <th id=\"T_d32a3_level0_row32\" class=\"row_heading level0 row32\" >HfC0.99</th>\n",
       "      <td id=\"T_d32a3_row32_col0\" class=\"data row32 col0\" >Halite</td>\n",
       "      <td id=\"T_d32a3_row32_col1\" class=\"data row32 col1\" >4.640000</td>\n",
       "      <td id=\"T_d32a3_row32_col2\" class=\"data row32 col2\" >4.634278</td>\n",
       "      <td id=\"T_d32a3_row32_col3\" class=\"data row32 col3\" >4.644392</td>\n",
       "      <td id=\"T_d32a3_row32_col4\" class=\"data row32 col4\" >0.09%</td>\n",
       "      <td id=\"T_d32a3_row32_col5\" class=\"data row32 col5\" >0.22%</td>\n",
       "    </tr>\n",
       "    <tr>\n",
       "      <th id=\"T_d32a3_level0_row33\" class=\"row_heading level0 row33\" >HfN</th>\n",
       "      <td id=\"T_d32a3_row33_col0\" class=\"data row33 col0\" >Halite</td>\n",
       "      <td id=\"T_d32a3_row33_col1\" class=\"data row33 col1\" >4.392000</td>\n",
       "      <td id=\"T_d32a3_row33_col2\" class=\"data row33 col2\" >4.511720</td>\n",
       "      <td id=\"T_d32a3_row33_col3\" class=\"data row33 col3\" >4.535371</td>\n",
       "      <td id=\"T_d32a3_row33_col4\" class=\"data row33 col4\" >3.26%</td>\n",
       "      <td id=\"T_d32a3_row33_col5\" class=\"data row33 col5\" >0.52%</td>\n",
       "    </tr>\n",
       "    <tr>\n",
       "      <th id=\"T_d32a3_level0_row34\" class=\"row_heading level0 row34\" >InAs</th>\n",
       "      <td id=\"T_d32a3_row34_col0\" class=\"data row34 col0\" >Zinc blende (FCC)</td>\n",
       "      <td id=\"T_d32a3_row34_col1\" class=\"data row34 col1\" >6.058300</td>\n",
       "      <td id=\"T_d32a3_row34_col2\" class=\"data row34 col2\" >6.107123</td>\n",
       "      <td id=\"T_d32a3_row34_col3\" class=\"data row34 col3\" >6.198173</td>\n",
       "      <td id=\"T_d32a3_row34_col4\" class=\"data row34 col4\" >2.31%</td>\n",
       "      <td id=\"T_d32a3_row34_col5\" class=\"data row34 col5\" >1.49%</td>\n",
       "    </tr>\n",
       "    <tr>\n",
       "      <th id=\"T_d32a3_level0_row35\" class=\"row_heading level0 row35\" >InP</th>\n",
       "      <td id=\"T_d32a3_row35_col0\" class=\"data row35 col0\" >Zinc blende (FCC)</td>\n",
       "      <td id=\"T_d32a3_row35_col1\" class=\"data row35 col1\" >5.869000</td>\n",
       "      <td id=\"T_d32a3_row35_col2\" class=\"data row35 col2\" >5.903953</td>\n",
       "      <td id=\"T_d32a3_row35_col3\" class=\"data row35 col3\" >5.961731</td>\n",
       "      <td id=\"T_d32a3_row35_col4\" class=\"data row35 col4\" >1.58%</td>\n",
       "      <td id=\"T_d32a3_row35_col5\" class=\"data row35 col5\" >0.98%</td>\n",
       "    </tr>\n",
       "    <tr>\n",
       "      <th id=\"T_d32a3_level0_row36\" class=\"row_heading level0 row36\" >InSb</th>\n",
       "      <td id=\"T_d32a3_row36_col0\" class=\"data row36 col0\" >Zinc blende (FCC)</td>\n",
       "      <td id=\"T_d32a3_row36_col1\" class=\"data row36 col1\" >6.479000</td>\n",
       "      <td id=\"T_d32a3_row36_col2\" class=\"data row36 col2\" >6.633221</td>\n",
       "      <td id=\"T_d32a3_row36_col3\" class=\"data row36 col3\" >6.653125</td>\n",
       "      <td id=\"T_d32a3_row36_col4\" class=\"data row36 col4\" >2.69%</td>\n",
       "      <td id=\"T_d32a3_row36_col5\" class=\"data row36 col5\" >0.30%</td>\n",
       "    </tr>\n",
       "    <tr>\n",
       "      <th id=\"T_d32a3_level0_row37\" class=\"row_heading level0 row37\" >Ir</th>\n",
       "      <td id=\"T_d32a3_row37_col0\" class=\"data row37 col0\" >FCC</td>\n",
       "      <td id=\"T_d32a3_row37_col1\" class=\"data row37 col1\" >3.840000</td>\n",
       "      <td id=\"T_d32a3_row37_col2\" class=\"data row37 col2\" >3.853929</td>\n",
       "      <td id=\"T_d32a3_row37_col3\" class=\"data row37 col3\" >3.872626</td>\n",
       "      <td id=\"T_d32a3_row37_col4\" class=\"data row37 col4\" >0.85%</td>\n",
       "      <td id=\"T_d32a3_row37_col5\" class=\"data row37 col5\" >0.49%</td>\n",
       "    </tr>\n",
       "    <tr>\n",
       "      <th id=\"T_d32a3_level0_row38\" class=\"row_heading level0 row38\" >K</th>\n",
       "      <td id=\"T_d32a3_row38_col0\" class=\"data row38 col0\" >BCC</td>\n",
       "      <td id=\"T_d32a3_row38_col1\" class=\"data row38 col1\" >5.230000</td>\n",
       "      <td id=\"T_d32a3_row38_col2\" class=\"data row38 col2\" >5.395117</td>\n",
       "      <td id=\"T_d32a3_row38_col3\" class=\"data row38 col3\" >5.377263</td>\n",
       "      <td id=\"T_d32a3_row38_col4\" class=\"data row38 col4\" >2.82%</td>\n",
       "      <td id=\"T_d32a3_row38_col5\" class=\"data row38 col5\" >-0.33%</td>\n",
       "    </tr>\n",
       "    <tr>\n",
       "      <th id=\"T_d32a3_level0_row39\" class=\"row_heading level0 row39\" >KBr</th>\n",
       "      <td id=\"T_d32a3_row39_col0\" class=\"data row39 col0\" >Halite</td>\n",
       "      <td id=\"T_d32a3_row39_col1\" class=\"data row39 col1\" >6.600000</td>\n",
       "      <td id=\"T_d32a3_row39_col2\" class=\"data row39 col2\" >6.589082</td>\n",
       "      <td id=\"T_d32a3_row39_col3\" class=\"data row39 col3\" >6.698631</td>\n",
       "      <td id=\"T_d32a3_row39_col4\" class=\"data row39 col4\" >1.49%</td>\n",
       "      <td id=\"T_d32a3_row39_col5\" class=\"data row39 col5\" >1.66%</td>\n",
       "    </tr>\n",
       "    <tr>\n",
       "      <th id=\"T_d32a3_level0_row40\" class=\"row_heading level0 row40\" >KCl</th>\n",
       "      <td id=\"T_d32a3_row40_col0\" class=\"data row40 col0\" >Halite</td>\n",
       "      <td id=\"T_d32a3_row40_col1\" class=\"data row40 col1\" >6.290000</td>\n",
       "      <td id=\"T_d32a3_row40_col2\" class=\"data row40 col2\" >6.283743</td>\n",
       "      <td id=\"T_d32a3_row40_col3\" class=\"data row40 col3\" >6.389114</td>\n",
       "      <td id=\"T_d32a3_row40_col4\" class=\"data row40 col4\" >1.58%</td>\n",
       "      <td id=\"T_d32a3_row40_col5\" class=\"data row40 col5\" >1.68%</td>\n",
       "    </tr>\n",
       "    <tr>\n",
       "      <th id=\"T_d32a3_level0_row41\" class=\"row_heading level0 row41\" >KF</th>\n",
       "      <td id=\"T_d32a3_row41_col0\" class=\"data row41 col0\" >Halite</td>\n",
       "      <td id=\"T_d32a3_row41_col1\" class=\"data row41 col1\" >5.340000</td>\n",
       "      <td id=\"T_d32a3_row41_col2\" class=\"data row41 col2\" >5.308827</td>\n",
       "      <td id=\"T_d32a3_row41_col3\" class=\"data row41 col3\" >5.425351</td>\n",
       "      <td id=\"T_d32a3_row41_col4\" class=\"data row41 col4\" >1.60%</td>\n",
       "      <td id=\"T_d32a3_row41_col5\" class=\"data row41 col5\" >2.19%</td>\n",
       "    </tr>\n",
       "    <tr>\n",
       "      <th id=\"T_d32a3_level0_row42\" class=\"row_heading level0 row42\" >KI</th>\n",
       "      <td id=\"T_d32a3_row42_col0\" class=\"data row42 col0\" >Halite</td>\n",
       "      <td id=\"T_d32a3_row42_col1\" class=\"data row42 col1\" >7.070000</td>\n",
       "      <td id=\"T_d32a3_row42_col2\" class=\"data row42 col2\" >7.084871</td>\n",
       "      <td id=\"T_d32a3_row42_col3\" class=\"data row42 col3\" >7.164688</td>\n",
       "      <td id=\"T_d32a3_row42_col4\" class=\"data row42 col4\" >1.34%</td>\n",
       "      <td id=\"T_d32a3_row42_col5\" class=\"data row42 col5\" >1.13%</td>\n",
       "    </tr>\n",
       "    <tr>\n",
       "      <th id=\"T_d32a3_level0_row43\" class=\"row_heading level0 row43\" >KTaO3</th>\n",
       "      <td id=\"T_d32a3_row43_col0\" class=\"data row43 col0\" >Cubic perovskite</td>\n",
       "      <td id=\"T_d32a3_row43_col1\" class=\"data row43 col1\" >3.988500</td>\n",
       "      <td id=\"T_d32a3_row43_col2\" class=\"data row43 col2\" >0.000000</td>\n",
       "      <td id=\"T_d32a3_row43_col3\" class=\"data row43 col3\" >4.035274</td>\n",
       "      <td id=\"T_d32a3_row43_col4\" class=\"data row43 col4\" >1.17%</td>\n",
       "      <td id=\"T_d32a3_row43_col5\" class=\"data row43 col5\" >inf%</td>\n",
       "    </tr>\n",
       "    <tr>\n",
       "      <th id=\"T_d32a3_level0_row44\" class=\"row_heading level0 row44\" >Li</th>\n",
       "      <td id=\"T_d32a3_row44_col0\" class=\"data row44 col0\" >BCC</td>\n",
       "      <td id=\"T_d32a3_row44_col1\" class=\"data row44 col1\" >3.490000</td>\n",
       "      <td id=\"T_d32a3_row44_col2\" class=\"data row44 col2\" >3.439312</td>\n",
       "      <td id=\"T_d32a3_row44_col3\" class=\"data row44 col3\" >3.444487</td>\n",
       "      <td id=\"T_d32a3_row44_col4\" class=\"data row44 col4\" >-1.30%</td>\n",
       "      <td id=\"T_d32a3_row44_col5\" class=\"data row44 col5\" >0.15%</td>\n",
       "    </tr>\n",
       "    <tr>\n",
       "      <th id=\"T_d32a3_level0_row45\" class=\"row_heading level0 row45\" >LiBr</th>\n",
       "      <td id=\"T_d32a3_row45_col0\" class=\"data row45 col0\" >Halite</td>\n",
       "      <td id=\"T_d32a3_row45_col1\" class=\"data row45 col1\" >5.500000</td>\n",
       "      <td id=\"T_d32a3_row45_col2\" class=\"data row45 col2\" >5.445381</td>\n",
       "      <td id=\"T_d32a3_row45_col3\" class=\"data row45 col3\" >5.542445</td>\n",
       "      <td id=\"T_d32a3_row45_col4\" class=\"data row45 col4\" >0.77%</td>\n",
       "      <td id=\"T_d32a3_row45_col5\" class=\"data row45 col5\" >1.78%</td>\n",
       "    </tr>\n",
       "    <tr>\n",
       "      <th id=\"T_d32a3_level0_row46\" class=\"row_heading level0 row46\" >LiCl</th>\n",
       "      <td id=\"T_d32a3_row46_col0\" class=\"data row46 col0\" >Halite</td>\n",
       "      <td id=\"T_d32a3_row46_col1\" class=\"data row46 col1\" >5.140000</td>\n",
       "      <td id=\"T_d32a3_row46_col2\" class=\"data row46 col2\" >5.084245</td>\n",
       "      <td id=\"T_d32a3_row46_col3\" class=\"data row46 col3\" >5.137603</td>\n",
       "      <td id=\"T_d32a3_row46_col4\" class=\"data row46 col4\" >-0.05%</td>\n",
       "      <td id=\"T_d32a3_row46_col5\" class=\"data row46 col5\" >1.05%</td>\n",
       "    </tr>\n",
       "    <tr>\n",
       "      <th id=\"T_d32a3_level0_row47\" class=\"row_heading level0 row47\" >LiF</th>\n",
       "      <td id=\"T_d32a3_row47_col0\" class=\"data row47 col0\" >Halite</td>\n",
       "      <td id=\"T_d32a3_row47_col1\" class=\"data row47 col1\" >4.030000</td>\n",
       "      <td id=\"T_d32a3_row47_col2\" class=\"data row47 col2\" >4.083427</td>\n",
       "      <td id=\"T_d32a3_row47_col3\" class=\"data row47 col3\" >4.089020</td>\n",
       "      <td id=\"T_d32a3_row47_col4\" class=\"data row47 col4\" >1.46%</td>\n",
       "      <td id=\"T_d32a3_row47_col5\" class=\"data row47 col5\" >0.14%</td>\n",
       "    </tr>\n",
       "    <tr>\n",
       "      <th id=\"T_d32a3_level0_row48\" class=\"row_heading level0 row48\" >LiI</th>\n",
       "      <td id=\"T_d32a3_row48_col0\" class=\"data row48 col0\" >Halite</td>\n",
       "      <td id=\"T_d32a3_row48_col1\" class=\"data row48 col1\" >6.010000</td>\n",
       "      <td id=\"T_d32a3_row48_col2\" class=\"data row48 col2\" >5.968355</td>\n",
       "      <td id=\"T_d32a3_row48_col3\" class=\"data row48 col3\" >6.053774</td>\n",
       "      <td id=\"T_d32a3_row48_col4\" class=\"data row48 col4\" >0.73%</td>\n",
       "      <td id=\"T_d32a3_row48_col5\" class=\"data row48 col5\" >1.43%</td>\n",
       "    </tr>\n",
       "    <tr>\n",
       "      <th id=\"T_d32a3_level0_row49\" class=\"row_heading level0 row49\" >MgO</th>\n",
       "      <td id=\"T_d32a3_row49_col0\" class=\"data row49 col0\" >Halite (FCC)</td>\n",
       "      <td id=\"T_d32a3_row49_col1\" class=\"data row49 col1\" >4.212000</td>\n",
       "      <td id=\"T_d32a3_row49_col2\" class=\"data row49 col2\" >4.194003</td>\n",
       "      <td id=\"T_d32a3_row49_col3\" class=\"data row49 col3\" >4.264568</td>\n",
       "      <td id=\"T_d32a3_row49_col4\" class=\"data row49 col4\" >1.25%</td>\n",
       "      <td id=\"T_d32a3_row49_col5\" class=\"data row49 col5\" >1.68%</td>\n",
       "    </tr>\n",
       "    <tr>\n",
       "      <th id=\"T_d32a3_level0_row50\" class=\"row_heading level0 row50\" >Mo</th>\n",
       "      <td id=\"T_d32a3_row50_col0\" class=\"data row50 col0\" >BCC</td>\n",
       "      <td id=\"T_d32a3_row50_col1\" class=\"data row50 col1\" >3.142000</td>\n",
       "      <td id=\"T_d32a3_row50_col2\" class=\"data row50 col2\" >3.167618</td>\n",
       "      <td id=\"T_d32a3_row50_col3\" class=\"data row50 col3\" >3.166742</td>\n",
       "      <td id=\"T_d32a3_row50_col4\" class=\"data row50 col4\" >0.79%</td>\n",
       "      <td id=\"T_d32a3_row50_col5\" class=\"data row50 col5\" >-0.03%</td>\n",
       "    </tr>\n",
       "    <tr>\n",
       "      <th id=\"T_d32a3_level0_row51\" class=\"row_heading level0 row51\" >Na</th>\n",
       "      <td id=\"T_d32a3_row51_col0\" class=\"data row51 col0\" >BCC</td>\n",
       "      <td id=\"T_d32a3_row51_col1\" class=\"data row51 col1\" >4.230000</td>\n",
       "      <td id=\"T_d32a3_row51_col2\" class=\"data row51 col2\" >4.208054</td>\n",
       "      <td id=\"T_d32a3_row51_col3\" class=\"data row51 col3\" >4.226154</td>\n",
       "      <td id=\"T_d32a3_row51_col4\" class=\"data row51 col4\" >-0.09%</td>\n",
       "      <td id=\"T_d32a3_row51_col5\" class=\"data row51 col5\" >0.43%</td>\n",
       "    </tr>\n",
       "    <tr>\n",
       "      <th id=\"T_d32a3_level0_row52\" class=\"row_heading level0 row52\" >NaBr</th>\n",
       "      <td id=\"T_d32a3_row52_col0\" class=\"data row52 col0\" >Halite</td>\n",
       "      <td id=\"T_d32a3_row52_col1\" class=\"data row52 col1\" >5.970000</td>\n",
       "      <td id=\"T_d32a3_row52_col2\" class=\"data row52 col2\" >5.923085</td>\n",
       "      <td id=\"T_d32a3_row52_col3\" class=\"data row52 col3\" >6.060649</td>\n",
       "      <td id=\"T_d32a3_row52_col4\" class=\"data row52 col4\" >1.52%</td>\n",
       "      <td id=\"T_d32a3_row52_col5\" class=\"data row52 col5\" >2.32%</td>\n",
       "    </tr>\n",
       "    <tr>\n",
       "      <th id=\"T_d32a3_level0_row53\" class=\"row_heading level0 row53\" >NaCl</th>\n",
       "      <td id=\"T_d32a3_row53_col0\" class=\"data row53 col0\" >Halite</td>\n",
       "      <td id=\"T_d32a3_row53_col1\" class=\"data row53 col1\" >5.640000</td>\n",
       "      <td id=\"T_d32a3_row53_col2\" class=\"data row53 col2\" >5.588126</td>\n",
       "      <td id=\"T_d32a3_row53_col3\" class=\"data row53 col3\" >5.697209</td>\n",
       "      <td id=\"T_d32a3_row53_col4\" class=\"data row53 col4\" >1.01%</td>\n",
       "      <td id=\"T_d32a3_row53_col5\" class=\"data row53 col5\" >1.95%</td>\n",
       "    </tr>\n",
       "    <tr>\n",
       "      <th id=\"T_d32a3_level0_row54\" class=\"row_heading level0 row54\" >NaF</th>\n",
       "      <td id=\"T_d32a3_row54_col0\" class=\"data row54 col0\" >Halite</td>\n",
       "      <td id=\"T_d32a3_row54_col1\" class=\"data row54 col1\" >4.630000</td>\n",
       "      <td id=\"T_d32a3_row54_col2\" class=\"data row54 col2\" >4.571789</td>\n",
       "      <td id=\"T_d32a3_row54_col3\" class=\"data row54 col3\" >4.716607</td>\n",
       "      <td id=\"T_d32a3_row54_col4\" class=\"data row54 col4\" >1.87%</td>\n",
       "      <td id=\"T_d32a3_row54_col5\" class=\"data row54 col5\" >3.17%</td>\n",
       "    </tr>\n",
       "    <tr>\n",
       "      <th id=\"T_d32a3_level0_row55\" class=\"row_heading level0 row55\" >NaI</th>\n",
       "      <td id=\"T_d32a3_row55_col0\" class=\"data row55 col0\" >Halite</td>\n",
       "      <td id=\"T_d32a3_row55_col1\" class=\"data row55 col1\" >6.470000</td>\n",
       "      <td id=\"T_d32a3_row55_col2\" class=\"data row55 col2\" >6.437313</td>\n",
       "      <td id=\"T_d32a3_row55_col3\" class=\"data row55 col3\" >6.506101</td>\n",
       "      <td id=\"T_d32a3_row55_col4\" class=\"data row55 col4\" >0.56%</td>\n",
       "      <td id=\"T_d32a3_row55_col5\" class=\"data row55 col5\" >1.07%</td>\n",
       "    </tr>\n",
       "    <tr>\n",
       "      <th id=\"T_d32a3_level0_row56\" class=\"row_heading level0 row56\" >Nb</th>\n",
       "      <td id=\"T_d32a3_row56_col0\" class=\"data row56 col0\" >BCC</td>\n",
       "      <td id=\"T_d32a3_row56_col1\" class=\"data row56 col1\" >3.300800</td>\n",
       "      <td id=\"T_d32a3_row56_col2\" class=\"data row56 col2\" >3.317632</td>\n",
       "      <td id=\"T_d32a3_row56_col3\" class=\"data row56 col3\" >3.317783</td>\n",
       "      <td id=\"T_d32a3_row56_col4\" class=\"data row56 col4\" >0.51%</td>\n",
       "      <td id=\"T_d32a3_row56_col5\" class=\"data row56 col5\" >0.00%</td>\n",
       "    </tr>\n",
       "    <tr>\n",
       "      <th id=\"T_d32a3_level0_row57\" class=\"row_heading level0 row57\" >NbN</th>\n",
       "      <td id=\"T_d32a3_row57_col0\" class=\"data row57 col0\" >Halite</td>\n",
       "      <td id=\"T_d32a3_row57_col1\" class=\"data row57 col1\" >4.392000</td>\n",
       "      <td id=\"T_d32a3_row57_col2\" class=\"data row57 col2\" >4.452468</td>\n",
       "      <td id=\"T_d32a3_row57_col3\" class=\"data row57 col3\" >4.454410</td>\n",
       "      <td id=\"T_d32a3_row57_col4\" class=\"data row57 col4\" >1.42%</td>\n",
       "      <td id=\"T_d32a3_row57_col5\" class=\"data row57 col5\" >0.04%</td>\n",
       "    </tr>\n",
       "    <tr>\n",
       "      <th id=\"T_d32a3_level0_row58\" class=\"row_heading level0 row58\" >Ne</th>\n",
       "      <td id=\"T_d32a3_row58_col0\" class=\"data row58 col0\" >FCC</td>\n",
       "      <td id=\"T_d32a3_row58_col1\" class=\"data row58 col1\" >4.430000</td>\n",
       "      <td id=\"T_d32a3_row58_col2\" class=\"data row58 col2\" >4.195020</td>\n",
       "      <td id=\"T_d32a3_row58_col3\" class=\"data row58 col3\" >4.338519</td>\n",
       "      <td id=\"T_d32a3_row58_col4\" class=\"data row58 col4\" >-2.07%</td>\n",
       "      <td id=\"T_d32a3_row58_col5\" class=\"data row58 col5\" >3.42%</td>\n",
       "    </tr>\n",
       "    <tr>\n",
       "      <th id=\"T_d32a3_level0_row59\" class=\"row_heading level0 row59\" >Ni</th>\n",
       "      <td id=\"T_d32a3_row59_col0\" class=\"data row59 col0\" >FCC</td>\n",
       "      <td id=\"T_d32a3_row59_col1\" class=\"data row59 col1\" >3.499000</td>\n",
       "      <td id=\"T_d32a3_row59_col2\" class=\"data row59 col2\" >3.475146</td>\n",
       "      <td id=\"T_d32a3_row59_col3\" class=\"data row59 col3\" >3.503366</td>\n",
       "      <td id=\"T_d32a3_row59_col4\" class=\"data row59 col4\" >0.12%</td>\n",
       "      <td id=\"T_d32a3_row59_col5\" class=\"data row59 col5\" >0.81%</td>\n",
       "    </tr>\n",
       "    <tr>\n",
       "      <th id=\"T_d32a3_level0_row60\" class=\"row_heading level0 row60\" >Pb</th>\n",
       "      <td id=\"T_d32a3_row60_col0\" class=\"data row60 col0\" >FCC</td>\n",
       "      <td id=\"T_d32a3_row60_col1\" class=\"data row60 col1\" >4.920000</td>\n",
       "      <td id=\"T_d32a3_row60_col2\" class=\"data row60 col2\" >4.989509</td>\n",
       "      <td id=\"T_d32a3_row60_col3\" class=\"data row60 col3\" >5.025697</td>\n",
       "      <td id=\"T_d32a3_row60_col4\" class=\"data row60 col4\" >2.15%</td>\n",
       "      <td id=\"T_d32a3_row60_col5\" class=\"data row60 col5\" >0.73%</td>\n",
       "    </tr>\n",
       "    <tr>\n",
       "      <th id=\"T_d32a3_level0_row61\" class=\"row_heading level0 row61\" >PbS</th>\n",
       "      <td id=\"T_d32a3_row61_col0\" class=\"data row61 col0\" >Halite (FCC)</td>\n",
       "      <td id=\"T_d32a3_row61_col1\" class=\"data row61 col1\" >5.936200</td>\n",
       "      <td id=\"T_d32a3_row61_col2\" class=\"data row61 col2\" >0.000000</td>\n",
       "      <td id=\"T_d32a3_row61_col3\" class=\"data row61 col3\" >6.010332</td>\n",
       "      <td id=\"T_d32a3_row61_col4\" class=\"data row61 col4\" >1.25%</td>\n",
       "      <td id=\"T_d32a3_row61_col5\" class=\"data row61 col5\" >inf%</td>\n",
       "    </tr>\n",
       "    <tr>\n",
       "      <th id=\"T_d32a3_level0_row62\" class=\"row_heading level0 row62\" >PbTe</th>\n",
       "      <td id=\"T_d32a3_row62_col0\" class=\"data row62 col0\" >Halite (FCC)</td>\n",
       "      <td id=\"T_d32a3_row62_col1\" class=\"data row62 col1\" >6.462000</td>\n",
       "      <td id=\"T_d32a3_row62_col2\" class=\"data row62 col2\" >6.541794</td>\n",
       "      <td id=\"T_d32a3_row62_col3\" class=\"data row62 col3\" >6.560341</td>\n",
       "      <td id=\"T_d32a3_row62_col4\" class=\"data row62 col4\" >1.52%</td>\n",
       "      <td id=\"T_d32a3_row62_col5\" class=\"data row62 col5\" >0.28%</td>\n",
       "    </tr>\n",
       "    <tr>\n",
       "      <th id=\"T_d32a3_level0_row63\" class=\"row_heading level0 row63\" >Pd</th>\n",
       "      <td id=\"T_d32a3_row63_col0\" class=\"data row63 col0\" >FCC</td>\n",
       "      <td id=\"T_d32a3_row63_col1\" class=\"data row63 col1\" >3.859000</td>\n",
       "      <td id=\"T_d32a3_row63_col2\" class=\"data row63 col2\" >3.917302</td>\n",
       "      <td id=\"T_d32a3_row63_col3\" class=\"data row63 col3\" >3.938261</td>\n",
       "      <td id=\"T_d32a3_row63_col4\" class=\"data row63 col4\" >2.05%</td>\n",
       "      <td id=\"T_d32a3_row63_col5\" class=\"data row63 col5\" >0.54%</td>\n",
       "    </tr>\n",
       "    <tr>\n",
       "      <th id=\"T_d32a3_level0_row64\" class=\"row_heading level0 row64\" >Pt</th>\n",
       "      <td id=\"T_d32a3_row64_col0\" class=\"data row64 col0\" >FCC</td>\n",
       "      <td id=\"T_d32a3_row64_col1\" class=\"data row64 col1\" >3.912000</td>\n",
       "      <td id=\"T_d32a3_row64_col2\" class=\"data row64 col2\" >3.943150</td>\n",
       "      <td id=\"T_d32a3_row64_col3\" class=\"data row64 col3\" >3.976443</td>\n",
       "      <td id=\"T_d32a3_row64_col4\" class=\"data row64 col4\" >1.65%</td>\n",
       "      <td id=\"T_d32a3_row64_col5\" class=\"data row64 col5\" >0.84%</td>\n",
       "    </tr>\n",
       "    <tr>\n",
       "      <th id=\"T_d32a3_level0_row65\" class=\"row_heading level0 row65\" >RbBr</th>\n",
       "      <td id=\"T_d32a3_row65_col0\" class=\"data row65 col0\" >Halite</td>\n",
       "      <td id=\"T_d32a3_row65_col1\" class=\"data row65 col1\" >6.890000</td>\n",
       "      <td id=\"T_d32a3_row65_col2\" class=\"data row65 col2\" >6.911901</td>\n",
       "      <td id=\"T_d32a3_row65_col3\" class=\"data row65 col3\" >7.001376</td>\n",
       "      <td id=\"T_d32a3_row65_col4\" class=\"data row65 col4\" >1.62%</td>\n",
       "      <td id=\"T_d32a3_row65_col5\" class=\"data row65 col5\" >1.29%</td>\n",
       "    </tr>\n",
       "    <tr>\n",
       "      <th id=\"T_d32a3_level0_row66\" class=\"row_heading level0 row66\" >RbCl</th>\n",
       "      <td id=\"T_d32a3_row66_col0\" class=\"data row66 col0\" >Halite</td>\n",
       "      <td id=\"T_d32a3_row66_col1\" class=\"data row66 col1\" >6.590000</td>\n",
       "      <td id=\"T_d32a3_row66_col2\" class=\"data row66 col2\" >6.617415</td>\n",
       "      <td id=\"T_d32a3_row66_col3\" class=\"data row66 col3\" >6.721173</td>\n",
       "      <td id=\"T_d32a3_row66_col4\" class=\"data row66 col4\" >1.99%</td>\n",
       "      <td id=\"T_d32a3_row66_col5\" class=\"data row66 col5\" >1.57%</td>\n",
       "    </tr>\n",
       "    <tr>\n",
       "      <th id=\"T_d32a3_level0_row67\" class=\"row_heading level0 row67\" >RbF</th>\n",
       "      <td id=\"T_d32a3_row67_col0\" class=\"data row67 col0\" >Halite</td>\n",
       "      <td id=\"T_d32a3_row67_col1\" class=\"data row67 col1\" >5.650000</td>\n",
       "      <td id=\"T_d32a3_row67_col2\" class=\"data row67 col2\" >5.632284</td>\n",
       "      <td id=\"T_d32a3_row67_col3\" class=\"data row67 col3\" >5.722591</td>\n",
       "      <td id=\"T_d32a3_row67_col4\" class=\"data row67 col4\" >1.28%</td>\n",
       "      <td id=\"T_d32a3_row67_col5\" class=\"data row67 col5\" >1.60%</td>\n",
       "    </tr>\n",
       "    <tr>\n",
       "      <th id=\"T_d32a3_level0_row68\" class=\"row_heading level0 row68\" >RbI</th>\n",
       "      <td id=\"T_d32a3_row68_col0\" class=\"data row68 col0\" >Halite</td>\n",
       "      <td id=\"T_d32a3_row68_col1\" class=\"data row68 col1\" >7.350000</td>\n",
       "      <td id=\"T_d32a3_row68_col2\" class=\"data row68 col2\" >7.382335</td>\n",
       "      <td id=\"T_d32a3_row68_col3\" class=\"data row68 col3\" >7.525812</td>\n",
       "      <td id=\"T_d32a3_row68_col4\" class=\"data row68 col4\" >2.39%</td>\n",
       "      <td id=\"T_d32a3_row68_col5\" class=\"data row68 col5\" >1.94%</td>\n",
       "    </tr>\n",
       "    <tr>\n",
       "      <th id=\"T_d32a3_level0_row69\" class=\"row_heading level0 row69\" >Rh</th>\n",
       "      <td id=\"T_d32a3_row69_col0\" class=\"data row69 col0\" >FCC</td>\n",
       "      <td id=\"T_d32a3_row69_col1\" class=\"data row69 col1\" >3.800000</td>\n",
       "      <td id=\"T_d32a3_row69_col2\" class=\"data row69 col2\" >3.805972</td>\n",
       "      <td id=\"T_d32a3_row69_col3\" class=\"data row69 col3\" >3.846733</td>\n",
       "      <td id=\"T_d32a3_row69_col4\" class=\"data row69 col4\" >1.23%</td>\n",
       "      <td id=\"T_d32a3_row69_col5\" class=\"data row69 col5\" >1.07%</td>\n",
       "    </tr>\n",
       "    <tr>\n",
       "      <th id=\"T_d32a3_level0_row70\" class=\"row_heading level0 row70\" >ScN</th>\n",
       "      <td id=\"T_d32a3_row70_col0\" class=\"data row70 col0\" >Halite</td>\n",
       "      <td id=\"T_d32a3_row70_col1\" class=\"data row70 col1\" >4.520000</td>\n",
       "      <td id=\"T_d32a3_row70_col2\" class=\"data row70 col2\" >4.510944</td>\n",
       "      <td id=\"T_d32a3_row70_col3\" class=\"data row70 col3\" >4.516923</td>\n",
       "      <td id=\"T_d32a3_row70_col4\" class=\"data row70 col4\" >-0.07%</td>\n",
       "      <td id=\"T_d32a3_row70_col5\" class=\"data row70 col5\" >0.13%</td>\n",
       "    </tr>\n",
       "    <tr>\n",
       "      <th id=\"T_d32a3_level0_row71\" class=\"row_heading level0 row71\" >Si</th>\n",
       "      <td id=\"T_d32a3_row71_col0\" class=\"data row71 col0\" >Diamond (FCC)</td>\n",
       "      <td id=\"T_d32a3_row71_col1\" class=\"data row71 col1\" >5.431021</td>\n",
       "      <td id=\"T_d32a3_row71_col2\" class=\"data row71 col2\" >5.443702</td>\n",
       "      <td id=\"T_d32a3_row71_col3\" class=\"data row71 col3\" >5.458414</td>\n",
       "      <td id=\"T_d32a3_row71_col4\" class=\"data row71 col4\" >0.50%</td>\n",
       "      <td id=\"T_d32a3_row71_col5\" class=\"data row71 col5\" >0.27%</td>\n",
       "    </tr>\n",
       "    <tr>\n",
       "      <th id=\"T_d32a3_level0_row72\" class=\"row_heading level0 row72\" >Sr</th>\n",
       "      <td id=\"T_d32a3_row72_col0\" class=\"data row72 col0\" >FCC</td>\n",
       "      <td id=\"T_d32a3_row72_col1\" class=\"data row72 col1\" >6.080000</td>\n",
       "      <td id=\"T_d32a3_row72_col2\" class=\"data row72 col2\" >6.067206</td>\n",
       "      <td id=\"T_d32a3_row72_col3\" class=\"data row72 col3\" >6.054884</td>\n",
       "      <td id=\"T_d32a3_row72_col4\" class=\"data row72 col4\" >-0.41%</td>\n",
       "      <td id=\"T_d32a3_row72_col5\" class=\"data row72 col5\" >-0.20%</td>\n",
       "    </tr>\n",
       "    <tr>\n",
       "      <th id=\"T_d32a3_level0_row73\" class=\"row_heading level0 row73\" >SrTiO3</th>\n",
       "      <td id=\"T_d32a3_row73_col0\" class=\"data row73 col0\" >Cubic perovskite</td>\n",
       "      <td id=\"T_d32a3_row73_col1\" class=\"data row73 col1\" >3.988050</td>\n",
       "      <td id=\"T_d32a3_row73_col2\" class=\"data row73 col2\" >3.912701</td>\n",
       "      <td id=\"T_d32a3_row73_col3\" class=\"data row73 col3\" >3.944839</td>\n",
       "      <td id=\"T_d32a3_row73_col4\" class=\"data row73 col4\" >-1.08%</td>\n",
       "      <td id=\"T_d32a3_row73_col5\" class=\"data row73 col5\" >0.82%</td>\n",
       "    </tr>\n",
       "    <tr>\n",
       "      <th id=\"T_d32a3_level0_row74\" class=\"row_heading level0 row74\" >SrVO3</th>\n",
       "      <td id=\"T_d32a3_row74_col0\" class=\"data row74 col0\" >Cubic perovskite</td>\n",
       "      <td id=\"T_d32a3_row74_col1\" class=\"data row74 col1\" >3.838000</td>\n",
       "      <td id=\"T_d32a3_row74_col2\" class=\"data row74 col2\" >3.900891</td>\n",
       "      <td id=\"T_d32a3_row74_col3\" class=\"data row74 col3\" >3.911846</td>\n",
       "      <td id=\"T_d32a3_row74_col4\" class=\"data row74 col4\" >1.92%</td>\n",
       "      <td id=\"T_d32a3_row74_col5\" class=\"data row74 col5\" >0.28%</td>\n",
       "    </tr>\n",
       "    <tr>\n",
       "      <th id=\"T_d32a3_level0_row75\" class=\"row_heading level0 row75\" >Ta</th>\n",
       "      <td id=\"T_d32a3_row75_col0\" class=\"data row75 col0\" >BCC</td>\n",
       "      <td id=\"T_d32a3_row75_col1\" class=\"data row75 col1\" >3.305800</td>\n",
       "      <td id=\"T_d32a3_row75_col2\" class=\"data row75 col2\" >3.309856</td>\n",
       "      <td id=\"T_d32a3_row75_col3\" class=\"data row75 col3\" >3.326660</td>\n",
       "      <td id=\"T_d32a3_row75_col4\" class=\"data row75 col4\" >0.63%</td>\n",
       "      <td id=\"T_d32a3_row75_col5\" class=\"data row75 col5\" >0.51%</td>\n",
       "    </tr>\n",
       "    <tr>\n",
       "      <th id=\"T_d32a3_level0_row76\" class=\"row_heading level0 row76\" >TaC0.99</th>\n",
       "      <td id=\"T_d32a3_row76_col0\" class=\"data row76 col0\" >Halite</td>\n",
       "      <td id=\"T_d32a3_row76_col1\" class=\"data row76 col1\" >4.456000</td>\n",
       "      <td id=\"T_d32a3_row76_col2\" class=\"data row76 col2\" >4.467795</td>\n",
       "      <td id=\"T_d32a3_row76_col3\" class=\"data row76 col3\" >4.474708</td>\n",
       "      <td id=\"T_d32a3_row76_col4\" class=\"data row76 col4\" >0.42%</td>\n",
       "      <td id=\"T_d32a3_row76_col5\" class=\"data row76 col5\" >0.15%</td>\n",
       "    </tr>\n",
       "    <tr>\n",
       "      <th id=\"T_d32a3_level0_row77\" class=\"row_heading level0 row77\" >Th</th>\n",
       "      <td id=\"T_d32a3_row77_col0\" class=\"data row77 col0\" >FCC</td>\n",
       "      <td id=\"T_d32a3_row77_col1\" class=\"data row77 col1\" >5.080000</td>\n",
       "      <td id=\"T_d32a3_row77_col2\" class=\"data row77 col2\" >5.047255</td>\n",
       "      <td id=\"T_d32a3_row77_col3\" class=\"data row77 col3\" >5.055762</td>\n",
       "      <td id=\"T_d32a3_row77_col4\" class=\"data row77 col4\" >-0.48%</td>\n",
       "      <td id=\"T_d32a3_row77_col5\" class=\"data row77 col5\" >0.17%</td>\n",
       "    </tr>\n",
       "    <tr>\n",
       "      <th id=\"T_d32a3_level0_row78\" class=\"row_heading level0 row78\" >TiC</th>\n",
       "      <td id=\"T_d32a3_row78_col0\" class=\"data row78 col0\" >Halite</td>\n",
       "      <td id=\"T_d32a3_row78_col1\" class=\"data row78 col1\" >4.328000</td>\n",
       "      <td id=\"T_d32a3_row78_col2\" class=\"data row78 col2\" >4.331438</td>\n",
       "      <td id=\"T_d32a3_row78_col3\" class=\"data row78 col3\" >4.337783</td>\n",
       "      <td id=\"T_d32a3_row78_col4\" class=\"data row78 col4\" >0.23%</td>\n",
       "      <td id=\"T_d32a3_row78_col5\" class=\"data row78 col5\" >0.15%</td>\n",
       "    </tr>\n",
       "    <tr>\n",
       "      <th id=\"T_d32a3_level0_row79\" class=\"row_heading level0 row79\" >TiN</th>\n",
       "      <td id=\"T_d32a3_row79_col0\" class=\"data row79 col0\" >Halite</td>\n",
       "      <td id=\"T_d32a3_row79_col1\" class=\"data row79 col1\" >4.249000</td>\n",
       "      <td id=\"T_d32a3_row79_col2\" class=\"data row79 col2\" >4.241247</td>\n",
       "      <td id=\"T_d32a3_row79_col3\" class=\"data row79 col3\" >4.246024</td>\n",
       "      <td id=\"T_d32a3_row79_col4\" class=\"data row79 col4\" >-0.07%</td>\n",
       "      <td id=\"T_d32a3_row79_col5\" class=\"data row79 col5\" >0.11%</td>\n",
       "    </tr>\n",
       "    <tr>\n",
       "      <th id=\"T_d32a3_level0_row80\" class=\"row_heading level0 row80\" >V</th>\n",
       "      <td id=\"T_d32a3_row80_col0\" class=\"data row80 col0\" >BCC</td>\n",
       "      <td id=\"T_d32a3_row80_col1\" class=\"data row80 col1\" >3.039900</td>\n",
       "      <td id=\"T_d32a3_row80_col2\" class=\"data row80 col2\" >2.982399</td>\n",
       "      <td id=\"T_d32a3_row80_col3\" class=\"data row80 col3\" >2.985185</td>\n",
       "      <td id=\"T_d32a3_row80_col4\" class=\"data row80 col4\" >-1.80%</td>\n",
       "      <td id=\"T_d32a3_row80_col5\" class=\"data row80 col5\" >0.09%</td>\n",
       "    </tr>\n",
       "    <tr>\n",
       "      <th id=\"T_d32a3_level0_row81\" class=\"row_heading level0 row81\" >VC0.97</th>\n",
       "      <td id=\"T_d32a3_row81_col0\" class=\"data row81 col0\" >Halite</td>\n",
       "      <td id=\"T_d32a3_row81_col1\" class=\"data row81 col1\" >4.166000</td>\n",
       "      <td id=\"T_d32a3_row81_col2\" class=\"data row81 col2\" >4.161946</td>\n",
       "      <td id=\"T_d32a3_row81_col3\" class=\"data row81 col3\" >4.145138</td>\n",
       "      <td id=\"T_d32a3_row81_col4\" class=\"data row81 col4\" >-0.50%</td>\n",
       "      <td id=\"T_d32a3_row81_col5\" class=\"data row81 col5\" >-0.40%</td>\n",
       "    </tr>\n",
       "    <tr>\n",
       "      <th id=\"T_d32a3_level0_row82\" class=\"row_heading level0 row82\" >VN</th>\n",
       "      <td id=\"T_d32a3_row82_col0\" class=\"data row82 col0\" >Halite</td>\n",
       "      <td id=\"T_d32a3_row82_col1\" class=\"data row82 col1\" >4.136000</td>\n",
       "      <td id=\"T_d32a3_row82_col2\" class=\"data row82 col2\" >4.124930</td>\n",
       "      <td id=\"T_d32a3_row82_col3\" class=\"data row82 col3\" >4.131446</td>\n",
       "      <td id=\"T_d32a3_row82_col4\" class=\"data row82 col4\" >-0.11%</td>\n",
       "      <td id=\"T_d32a3_row82_col5\" class=\"data row82 col5\" >0.16%</td>\n",
       "    </tr>\n",
       "    <tr>\n",
       "      <th id=\"T_d32a3_level0_row83\" class=\"row_heading level0 row83\" >W</th>\n",
       "      <td id=\"T_d32a3_row83_col0\" class=\"data row83 col0\" >BCC</td>\n",
       "      <td id=\"T_d32a3_row83_col1\" class=\"data row83 col1\" >3.155000</td>\n",
       "      <td id=\"T_d32a3_row83_col2\" class=\"data row83 col2\" >3.170316</td>\n",
       "      <td id=\"T_d32a3_row83_col3\" class=\"data row83 col3\" >3.178230</td>\n",
       "      <td id=\"T_d32a3_row83_col4\" class=\"data row83 col4\" >0.74%</td>\n",
       "      <td id=\"T_d32a3_row83_col5\" class=\"data row83 col5\" >0.25%</td>\n",
       "    </tr>\n",
       "    <tr>\n",
       "      <th id=\"T_d32a3_level0_row84\" class=\"row_heading level0 row84\" >Yb</th>\n",
       "      <td id=\"T_d32a3_row84_col0\" class=\"data row84 col0\" >FCC</td>\n",
       "      <td id=\"T_d32a3_row84_col1\" class=\"data row84 col1\" >5.490000</td>\n",
       "      <td id=\"T_d32a3_row84_col2\" class=\"data row84 col2\" >5.387257</td>\n",
       "      <td id=\"T_d32a3_row84_col3\" class=\"data row84 col3\" >5.483943</td>\n",
       "      <td id=\"T_d32a3_row84_col4\" class=\"data row84 col4\" >-0.11%</td>\n",
       "      <td id=\"T_d32a3_row84_col5\" class=\"data row84 col5\" >1.79%</td>\n",
       "    </tr>\n",
       "    <tr>\n",
       "      <th id=\"T_d32a3_level0_row85\" class=\"row_heading level0 row85\" >ZnO</th>\n",
       "      <td id=\"T_d32a3_row85_col0\" class=\"data row85 col0\" >Halite (FCC)</td>\n",
       "      <td id=\"T_d32a3_row85_col1\" class=\"data row85 col1\" >4.580000</td>\n",
       "      <td id=\"T_d32a3_row85_col2\" class=\"data row85 col2\" >4.338884</td>\n",
       "      <td id=\"T_d32a3_row85_col3\" class=\"data row85 col3\" >4.334630</td>\n",
       "      <td id=\"T_d32a3_row85_col4\" class=\"data row85 col4\" >-5.36%</td>\n",
       "      <td id=\"T_d32a3_row85_col5\" class=\"data row85 col5\" >-0.10%</td>\n",
       "    </tr>\n",
       "    <tr>\n",
       "      <th id=\"T_d32a3_level0_row86\" class=\"row_heading level0 row86\" >ZnS</th>\n",
       "      <td id=\"T_d32a3_row86_col0\" class=\"data row86 col0\" >Zinc blende (FCC)</td>\n",
       "      <td id=\"T_d32a3_row86_col1\" class=\"data row86 col1\" >5.420000</td>\n",
       "      <td id=\"T_d32a3_row86_col2\" class=\"data row86 col2\" >5.387366</td>\n",
       "      <td id=\"T_d32a3_row86_col3\" class=\"data row86 col3\" >5.453956</td>\n",
       "      <td id=\"T_d32a3_row86_col4\" class=\"data row86 col4\" >0.63%</td>\n",
       "      <td id=\"T_d32a3_row86_col5\" class=\"data row86 col5\" >1.24%</td>\n",
       "    </tr>\n",
       "    <tr>\n",
       "      <th id=\"T_d32a3_level0_row87\" class=\"row_heading level0 row87\" >ZrC0.97</th>\n",
       "      <td id=\"T_d32a3_row87_col0\" class=\"data row87 col0\" >Halite</td>\n",
       "      <td id=\"T_d32a3_row87_col1\" class=\"data row87 col1\" >4.698000</td>\n",
       "      <td id=\"T_d32a3_row87_col2\" class=\"data row87 col2\" >4.712866</td>\n",
       "      <td id=\"T_d32a3_row87_col3\" class=\"data row87 col3\" >4.717641</td>\n",
       "      <td id=\"T_d32a3_row87_col4\" class=\"data row87 col4\" >0.42%</td>\n",
       "      <td id=\"T_d32a3_row87_col5\" class=\"data row87 col5\" >0.10%</td>\n",
       "    </tr>\n",
       "    <tr>\n",
       "      <th id=\"T_d32a3_level0_row88\" class=\"row_heading level0 row88\" >ZrN</th>\n",
       "      <td id=\"T_d32a3_row88_col0\" class=\"data row88 col0\" >Halite</td>\n",
       "      <td id=\"T_d32a3_row88_col1\" class=\"data row88 col1\" >4.577000</td>\n",
       "      <td id=\"T_d32a3_row88_col2\" class=\"data row88 col2\" >4.588531</td>\n",
       "      <td id=\"T_d32a3_row88_col3\" class=\"data row88 col3\" >4.612292</td>\n",
       "      <td id=\"T_d32a3_row88_col4\" class=\"data row88 col4\" >0.77%</td>\n",
       "      <td id=\"T_d32a3_row88_col5\" class=\"data row88 col5\" >0.52%</td>\n",
       "    </tr>\n",
       "  </tbody>\n",
       "</table>\n"
      ],
      "text/plain": [
       "<pandas.io.formats.style.Styler at 0x14fa470d0>"
      ]
     },
     "execution_count": null,
     "metadata": {},
     "output_type": "execute_result"
    }
   ],
   "source": [
    "data.sort_index().style.format({\"% error vs Expt\": \"{:,.2%}\", \"% error vs MP\": \"{:,.2%}\"}).background_gradient()"
   ]
  },
  {
   "cell_type": "code",
   "execution_count": null,
   "id": "423e7893",
   "metadata": {},
   "outputs": [
    {
     "data": {
      "text/plain": [
       "<Axes: >"
      ]
     },
     "execution_count": null,
     "metadata": {},
     "output_type": "execute_result"
    },
    {
     "data": {
      "image/png": "[encoded data removed]",
      "text/plain": [
       "<Figure size 432x288 with 1 Axes>"
      ]
     },
     "metadata": {
      "needs_background": "light"
     },
     "output_type": "display_data"
    }
   ],
   "source": [
    "data[\"% error vs MP\"].replace([np.inf, -np.inf], np.nan).dropna().hist(bins=20)"
   ]
  }
 ],
 "metadata": {
  "kernelspec": {
   "display_name": "Python 3 (ipykernel)",
   "language": "python",
   "name": "python3"
  },
  "language_info": {
   "codemirror_mode": {
    "name": "ipython",
    "version": 3
   },
   "file_extension": ".py",
   "mimetype": "text/x-python",
   "name": "python",
   "nbconvert_exporter": "python",
   "pygments_lexer": "ipython3",
   "version": "3.9.16"
  },
  "vscode": {
   "interpreter": {
    "hash": "95e5cb0dae99d6911ce19b14750141ca4ad955f9302739260772daefb06054c0"
   }
  }
 },
 "nbformat": 4,
 "nbformat_minor": 5
}
