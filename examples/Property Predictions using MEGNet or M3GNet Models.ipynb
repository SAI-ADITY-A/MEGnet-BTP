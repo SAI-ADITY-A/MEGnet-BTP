{
 "cells": [
  {
   "cell_type": "markdown",
   "id": "fae317ce",
   "metadata": {},
   "source": [
    "# Introduction\n",
    "\n",
    "This notebook demonstrates the use of pre-trained MEGNet and M3GNet models to predict properties.\n",
    "\n",
    "Author: Tsz Wai Ko (Kenko)\n",
    "Email: t1ko@ucsd.edu\n"
   ]
  },
  {
   "cell_type": "code",
   "execution_count": null,
   "id": "d6c60ab5",
   "metadata": {},
   "outputs": [],
   "source": [
    "from __future__ import annotations\n",
    "\n",
    "import warnings\n",
    "\n",
    "import torch\n",
    "from pymatgen.core import Lattice, Structure\n",
    "\n",
    "import matgl\n",
    "\n",
    "# To suppress warnings for clearer output\n",
    "warnings.simplefilter(\"ignore\")"
   ]
  },
  {
   "cell_type": "markdown",
   "id": "f4f09d6c",
   "metadata": {},
   "source": [
    "# MP Formation energy\n",
    "\n",
    "The pre-trained models are based on the Materials Project mp.2018.6.1.json dataset. There are two models available - MEGNet and M3GNet.\n"
   ]
  },
  {
   "cell_type": "markdown",
   "id": "c160dde9",
   "metadata": {},
   "source": [
    "We create the structure first. This is based on the relaxed structure obtained from the Materials Project. Alternatively, one can use the Materials Project API to obtain the structure."
   ]
  },
  {
   "cell_type": "code",
   "execution_count": null,
   "id": "262269a2",
   "metadata": {},
   "outputs": [],
   "source": [
    "struct = Structure.from_spacegroup(\"Pm-3m\", Lattice.cubic(4.1437), [\"Cs\", \"Cl\"], [[0, 0, 0], [0.5, 0.5, 0.5]])"
   ]
  },
  {
   "cell_type": "markdown",
   "id": "04eaa729",
   "metadata": {},
   "source": [
    "## Using the MEGNet-MP-2018.6.1-Eform model"
   ]
  },
  {
   "cell_type": "code",
   "execution_count": null,
   "id": "ce4e9336",
   "metadata": {},
   "outputs": [
    {
     "name": "stdout",
     "output_type": "stream",
     "text": [
      "The predicted formation energy for CsCl is -2.272 eV/atom.\n"
     ]
    }
   ],
   "source": [
    "# Load the pre-trained MEGNet formation energy model.\n",
    "model = matgl.load_model(\"MEGNet-MP-2018.6.1-Eform\")\n",
    "eform = model.predict_structure(struct)\n",
    "print(f\"The predicted formation energy for CsCl is {float(eform):.3f} eV/atom.\")"
   ]
  },
  {
   "cell_type": "markdown",
   "id": "33c4dcd8",
   "metadata": {},
   "source": [
    "## Using the M3GNet-MP-2018.6.1-Eform model"
   ]
  },
  {
   "cell_type": "code",
   "execution_count": null,
   "id": "4aef3fec",
   "metadata": {},
   "outputs": [
    {
     "ename": "ValueError",
     "evalue": "Bad serialized model detected. It is possible that you have an older model cached. Please clear your cache by running `python -c \"import matgl; matgl.clear_cache()\"`",
     "output_type": "error",
     "traceback": [
      "\u001b[0;31m---------------------------------------------------------------------------\u001b[0m",
      "\u001b[0;31mValueError\u001b[0m                                Traceback (most recent call last)",
      "Cell \u001b[0;32mIn[4], line 1\u001b[0m\n\u001b[0;32m----> 1\u001b[0m model \u001b[38;5;241m=\u001b[39m \u001b[43mmatgl\u001b[49m\u001b[38;5;241;43m.\u001b[39;49m\u001b[43mload_model\u001b[49m\u001b[43m(\u001b[49m\u001b[38;5;124;43m\"\u001b[39;49m\u001b[38;5;124;43mpretrained_models/M3GNet-MP-2018.6.1-Eform\u001b[39;49m\u001b[38;5;124;43m\"\u001b[39;49m\u001b[43m)\u001b[49m\n\u001b[1;32m      2\u001b[0m \u001b[38;5;28;01mfrom\u001b[39;00m \u001b[38;5;21;01mmatgl\u001b[39;00m\u001b[38;5;21;01m.\u001b[39;00m\u001b[38;5;21;01mconfig\u001b[39;00m \u001b[38;5;28;01mimport\u001b[39;00m DEFAULT_ELEMENT_TYPES\n\u001b[1;32m      3\u001b[0m \u001b[38;5;28;01mfrom\u001b[39;00m \u001b[38;5;21;01mmatgl\u001b[39;00m\u001b[38;5;21;01m.\u001b[39;00m\u001b[38;5;21;01mmodels\u001b[39;00m \u001b[38;5;28;01mimport\u001b[39;00m M3GNet\n",
      "File \u001b[0;32m~/repos/test_matgl/matgl/matgl/utils/io.py:212\u001b[0m, in \u001b[0;36mload_model\u001b[0;34m(path, **kwargs)\u001b[0m\n\u001b[1;32m    210\u001b[0m         \u001b[38;5;28;01mreturn\u001b[39;00m cls_\u001b[38;5;241m.\u001b[39mload(fpaths, \u001b[38;5;241m*\u001b[39m\u001b[38;5;241m*\u001b[39mkwargs)\n\u001b[1;32m    211\u001b[0m \u001b[38;5;28;01mexcept\u001b[39;00m \u001b[38;5;167;01mBaseException\u001b[39;00m:\n\u001b[0;32m--> 212\u001b[0m     \u001b[38;5;28;01mraise\u001b[39;00m \u001b[38;5;167;01mValueError\u001b[39;00m(\n\u001b[1;32m    213\u001b[0m         \u001b[38;5;124m\"\u001b[39m\u001b[38;5;124mBad serialized model detected. It is possible that you have an older model cached. Please \u001b[39m\u001b[38;5;124m\"\u001b[39m\n\u001b[1;32m    214\u001b[0m         \u001b[38;5;124m'\u001b[39m\u001b[38;5;124mclear your cache by running `python -c \u001b[39m\u001b[38;5;124m\"\u001b[39m\u001b[38;5;124mimport matgl; matgl.clear_cache()\u001b[39m\u001b[38;5;124m\"\u001b[39m\u001b[38;5;124m`\u001b[39m\u001b[38;5;124m'\u001b[39m\n\u001b[1;32m    215\u001b[0m     ) \u001b[38;5;28;01mfrom\u001b[39;00m \u001b[38;5;28mNone\u001b[39m\n",
      "\u001b[0;31mValueError\u001b[0m: Bad serialized model detected. It is possible that you have an older model cached. Please clear your cache by running `python -c \"import matgl; matgl.clear_cache()\"`"
     ]
    }
   ],
   "source": [
    "model = matgl.load_model(\"pretrained_models/M3GNet-MP-2018.6.1-Eform\")\n",
    "#model = M3GNet(element_types= DEFAULT_ELEMENT_TYPES, readout_type=\"set2set\", threebody_cutoff=5.0)\n",
    "eform = model.predict_structure(struct)\n",
    "print(f\"The predicted formation energy for CsCl is {float(eform):.3f} eV/atom.\")\n",
    "eform = model.predict_structure(struct)\n",
    "print(f\"The predicted formation energy for CsCl is {float(eform):.3f} eV/atom.\")"
   ]
  },
  {
   "cell_type": "markdown",
   "id": "90e95671",
   "metadata": {},
   "source": [
    "# MP Band gap\n",
    "\n",
    "This is the multi-fidelity band gap model, discussed in Chen, C.; Zuo, Y.; Ye, W.; Li, X.; Ong, S. P. Learning Properties of Ordered and Disordered Materials from Multi-Fidelity Data. Nature Computational Science 2021, 1, 46–53. https://doi.org/10.1038/s43588-020-00002-x.\n",
    "\n"
   ]
  },
  {
   "cell_type": "code",
   "execution_count": null,
   "id": "f2ec796f",
   "metadata": {},
   "outputs": [],
   "source": [
    "model = matgl.load_model(\"MEGNet-MP-2019.4.1-BandGap-mfi\")\n",
    "\n",
    "# For multi-fidelity models, we need to define graph label (\"0\": PBE, \"1\": GLLB-SC, \"2\": HSE, \"3\": SCAN)\n",
    "for i, method in ((0, \"PBE\"), (1, \"GLLB-SC\"), (2, \"HSE\"), (3, \"SCAN\")):\n",
    "\n",
    "    graph_attrs = torch.tensor([i])\n",
    "    bandgap = model.predict_structure(\n",
    "        structure=struct, state_feats=graph_attrs\n",
    "    )\n",
    "    print(f\"The predicted {method} band gap for CsCl is {float(bandgap):.3f} eV.\")"
   ]
  }
 ],
 "metadata": {
  "kernelspec": {
   "display_name": "Python 3 (ipykernel)",
   "language": "python",
   "name": "python3"
  },
  "language_info": {
   "codemirror_mode": {
    "name": "ipython",
    "version": 3
   },
   "file_extension": ".py",
   "mimetype": "text/x-python",
   "name": "python",
   "nbconvert_exporter": "python",
   "pygments_lexer": "ipython3",
   "version": "3.10.9"
  }
 },
 "nbformat": 4,
 "nbformat_minor": 5
}
