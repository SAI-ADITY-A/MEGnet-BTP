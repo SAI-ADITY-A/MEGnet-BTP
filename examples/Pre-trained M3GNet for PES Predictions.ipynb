{
 "cells": [
  {
   "cell_type": "markdown",
   "id": "fae317ce",
   "metadata": {},
   "source": [
    "# Introduction\n",
    "\n",
    "This notebook demonstrates the use of the pre-trained M3GNet model to perform structural relaxation, molecular dynamics and single-point calculations.\n",
    "\n",
    "Author: Tsz Wai Ko (Kenko)\n",
    "Email: t1ko@ucsd.edu\n"
   ]
  },
  {
   "cell_type": "code",
   "execution_count": null,
   "id": "f1a4a558",
   "metadata": {},
   "outputs": [],
   "source": [
    "from __future__ import annotations\n",
    "\n",
    "from ase.md.velocitydistribution import MaxwellBoltzmannDistribution\n",
    "from pymatgen.core import Lattice, Structure\n",
    "from pymatgen.io.ase import AseAtomsAdaptor\n",
    "\n",
    "from matgl.apps.pes import Potential\n",
    "from matgl.ext.ase import M3GNetCalculator, MolecularDynamics, Relaxer\n",
    "from matgl.models._m3gnet import M3GNet"
   ]
  },
  {
   "cell_type": "markdown",
   "id": "f4f09d6c",
   "metadata": {},
   "source": [
    "# M3GNet Relaxation\n",
    "\n",
    "The pre-trained model is trained on the Materials Project MP-2021.2.8 database.\n"
   ]
  },
  {
   "cell_type": "code",
   "execution_count": null,
   "id": "ce4e9336",
   "metadata": {},
   "outputs": [
    {
     "name": "stderr",
     "output_type": "stream",
     "text": [
      "/Users/kenko/miniconda3/envs/pythonProject/lib/python3.10/site-packages/dgl/backend/pytorch/tensor.py:52: UserWarning: Creating a tensor from a list of numpy.ndarrays is extremely slow. Please consider converting the list to a single numpy.ndarray with numpy.array() before converting to a tensor. (Triggered internally at /Users/runner/work/pytorch/pytorch/pytorch/torch/csrc/utils/tensor_new.cpp:248.)\n",
      "  return th.as_tensor(data, dtype=dtype)\n",
      "/Users/kenko/miniconda3/envs/pythonProject/lib/python3.10/site-packages/torch/functional.py:504: UserWarning: torch.meshgrid: in an upcoming release, it will be required to pass the indexing argument. (Triggered internally at /Users/runner/work/pytorch/pytorch/pytorch/aten/src/ATen/native/TensorShape.cpp:3484.)\n",
      "  return _VF.meshgrid(tensors, **kwargs)  # type: ignore[attr-defined]\n",
      "/Users/kenko/PycharmProjects/matgl/matgl/utils/maths.py:261: UserWarning: To copy construct from a tensor, it is recommended to use sourceTensor.clone().detach() or sourceTensor.clone().detach().requires_grad_(True), rather than torch.tensor(sourceTensor).\n",
      "  costheta = torch.tensor(costheta, dtype=torch.complex64)\n",
      "/Users/kenko/PycharmProjects/matgl/matgl/utils/maths.py:262: UserWarning: To copy construct from a tensor, it is recommended to use sourceTensor.clone().detach() or sourceTensor.clone().detach().requires_grad_(True), rather than torch.tensor(sourceTensor).\n",
      "  phi = torch.tensor(phi, dtype=torch.complex64)\n",
      "/Users/kenko/PycharmProjects/matgl/matgl/utils/maths.py:264: UserWarning: Casting complex values to real discards the imaginary part (Triggered internally at /Users/runner/work/pytorch/pytorch/pytorch/aten/src/ATen/native/Copy.cpp:276.)\n",
      "  results = results.type(dtype=DataType.torch_float)\n",
      "/Users/kenko/miniconda3/envs/pythonProject/lib/python3.10/site-packages/dgl/backend/pytorch/tensor.py:449: UserWarning: TypedStorage is deprecated. It will be removed in the future and UntypedStorage will be the only storage class. This should only matter to you if you are using storages directly.  To access UntypedStorage directly, use tensor.untyped_storage() instead of tensor.storage()\n",
      "  assert input.numel() == input.storage().size(), (\n"
     ]
    },
    {
     "name": "stdout",
     "output_type": "stream",
     "text": [
      "Full Formula (Cs1 Cl1)\n",
      "Reduced Formula: CsCl\n",
      "abc   :   4.210124   4.210124   4.210124\n",
      "angles:  90.000000  90.000000  90.000000\n",
      "pbc   :       True       True       True\n",
      "Sites (2)\n",
      "  #  SP      a    b    c\n",
      "---  ----  ---  ---  ---\n",
      "  0  Cs    0    0    0\n",
      "  1  Cl    0.5  0.5  0.5 [-6.5425954]\n"
     ]
    }
   ],
   "source": [
    "# load the pre-trained M3GNet model. By default it is the model trained to MP-2021.2.8 database.\n",
    "model, d = M3GNet.load(\"pretrained_models/M3GNet-MP-2021.2.8-PES\", include_json=True)\n",
    "metadata = d[\"metadata\"]\n",
    "data_std = metadata[\"data_std\"]\n",
    "data_mean = metadata[\"data_mean\"]\n",
    "element_refs = metadata[\"element_refs\"]\n",
    "# create the potential class\n",
    "ff = Potential(model, data_std=data_std, element_refs=element_refs)\n",
    "# create the ase adaptor\n",
    "ase_adaptor = AseAtomsAdaptor()\n",
    "# create the M3GNet Relaxer\n",
    "relaxer = Relaxer(potential=ff)\n",
    "# This is the structure obtained from the Materials Project.\n",
    "struct = Structure.from_spacegroup(\"Pm-3m\", Lattice.cubic(4.1437), [\"Cs\", \"Cl\"], [[0, 0, 0], [0.5, 0.5, 0.5]])\n",
    "relax_results = relaxer.relax(struct, fmax=0.01)\n",
    "# extract results\n",
    "final_structure = relax_results[\"final_structure\"]\n",
    "final_energy = relax_results[\"trajectory\"].energies[-1]\n",
    "# print out the final relaxed structure and energy\n",
    "print(final_structure, final_energy)"
   ]
  },
  {
   "cell_type": "markdown",
   "id": "90e95671",
   "metadata": {},
   "source": [
    "# M3GNet Molecular Dynamics\n",
    "\n",
    "The molcular dynamic simulations were perform using M3GNet with ASE-interface.\n"
   ]
  },
  {
   "cell_type": "code",
   "execution_count": null,
   "id": "f2ec796f",
   "metadata": {},
   "outputs": [
    {
     "name": "stdout",
     "output_type": "stream",
     "text": [
      "The potential energy of CsCl at 300 K after 100 STEP is -6.464 eV.\n"
     ]
    }
   ],
   "source": [
    "# create ase atom object\n",
    "atoms = ase_adaptor.get_atoms(final_structure)\n",
    "# initialize the velocity according to Maxwell Boltzamnn distribution\n",
    "MaxwellBoltzmannDistribution(atoms, temperature_K=300)\n",
    "# create the MD drive class\n",
    "MD_driver = MolecularDynamics(atoms, potential=ff, temperature=300, logfile=\"md_trial.log\")\n",
    "# Run\n",
    "MD_driver.run(100)\n",
    "print(f\"The potential energy of CsCl at 300 K after 100 STEP is {float(atoms.get_potential_energy()):.3f} eV.\")"
   ]
  },
  {
   "cell_type": "markdown",
   "id": "40847190",
   "metadata": {},
   "source": [
    "# M3GNet Calculator\n",
    "\n",
    "Perform a single-point calculation for final structure using M3GNetCalculator.\n"
   ]
  },
  {
   "cell_type": "code",
   "execution_count": null,
   "id": "2a6c1182",
   "metadata": {},
   "outputs": [
    {
     "name": "stdout",
     "output_type": "stream",
     "text": [
      "The calculated potential energy is -6.464 eV.\n"
     ]
    }
   ],
   "source": [
    "# define the M3GNet calculator\n",
    "calc = M3GNetCalculator(ff)\n",
    "# set up the calculator for atoms object\n",
    "atoms.set_calculator(calc)\n",
    "print(f\"The calculated potential energy is {float(atoms.get_potential_energy()):.3f} eV.\")"
   ]
  }
 ],
 "metadata": {
  "kernelspec": {
   "display_name": "Python 3 (ipykernel)",
   "language": "python",
   "name": "python3"
  },
  "language_info": {
   "codemirror_mode": {
    "name": "ipython",
    "version": 3
   },
   "file_extension": ".py",
   "mimetype": "text/x-python",
   "name": "python",
   "nbconvert_exporter": "python",
   "pygments_lexer": "ipython3",
   "version": "3.10.11"
  }
 },
 "nbformat": 4,
 "nbformat_minor": 5
}
