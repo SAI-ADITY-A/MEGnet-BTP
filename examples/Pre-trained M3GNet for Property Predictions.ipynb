{
 "cells": [
  {
   "cell_type": "markdown",
   "id": "fae317ce",
   "metadata": {},
   "source": [
    "# Introduction\n",
    "\n",
    "This notebook demonstrates the use of pre-trained M3GNet models to predict properties.\n",
    "\n",
    "Author: Tsz Wai Ko (Kenko)\n",
    "Email: t1ko@ucsd.edu\n"
   ]
  },
  {
   "cell_type": "code",
   "execution_count": null,
   "id": "d6c60ab5",
   "metadata": {},
   "outputs": [],
   "source": [
    "from __future__ import annotations\n",
    "\n",
    "import warnings\n",
    "\n",
    "from pymatgen.core import Lattice, Structure\n",
    "\n",
    "import matgl\n",
    "\n",
    "# To suppress warnings for clearer output\n",
    "warnings.simplefilter(\"ignore\")"
   ]
  },
  {
   "cell_type": "markdown",
   "id": "f4f09d6c",
   "metadata": {},
   "source": [
    "# MP Formation energy\n",
    "\n",
    "The pre-trained model is trained on the Materials Project mp.2018.6.1.json dataset.\n"
   ]
  },
  {
   "cell_type": "code",
   "execution_count": null,
   "id": "ce4e9336",
   "metadata": {},
   "outputs": [
    {
     "name": "stdout",
     "output_type": "stream",
     "text": [
      "The predicted formation energy for CsCl is -2.231 eV/atom.\n"
     ]
    }
   ],
   "source": [
    "# Load the pre-trained MEGNet formation energy model.\n",
    "model = matgl.load_model(\"../Pretrained_models/M3GNet-MP-2018.6.1-Eform\")\n",
    "\n",
    "# This is the structure obtained from the Materials Project.\n",
    "struct = Structure.from_spacegroup(\"Pm-3m\", Lattice.cubic(4.1437), [\"Cs\", \"Cl\"], [[0, 0, 0], [0.5, 0.5, 0.5]])\n",
    "eform = model.predict_structure(struct)\n",
    "print(f\"The predicted formation energy for CsCl is {float(eform.numpy()):.3f} eV/atom.\")"
   ]
  }
 ],
 "metadata": {
  "kernelspec": {
   "display_name": "Python 3 (ipykernel)",
   "language": "python",
   "name": "python3"
  },
  "language_info": {
   "codemirror_mode": {
    "name": "ipython",
    "version": 3
   },
   "file_extension": ".py",
   "mimetype": "text/x-python",
   "name": "python",
   "nbconvert_exporter": "python",
   "pygments_lexer": "ipython3",
   "version": "3.10.11"
  }
 },
 "nbformat": 4,
 "nbformat_minor": 5
}
