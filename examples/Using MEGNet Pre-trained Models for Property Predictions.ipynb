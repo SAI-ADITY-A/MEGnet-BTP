{
 "cells": [
  {
   "cell_type": "markdown",
   "id": "fae317ce",
   "metadata": {},
   "source": [
    "# Introduction\n",
    "\n",
    "This notebook demonstrates the use of pre-trained MEGNet models to predict properties.\n",
    "\n",
    "Author: Tsz Wai Ko (Kenko)\n",
    "Email: t1ko@ucsd.edu\n"
   ]
  },
  {
   "cell_type": "code",
   "execution_count": null,
   "id": "d6c60ab5",
   "metadata": {},
   "outputs": [],
   "source": [
    "from __future__ import annotations\n",
    "\n",
    "import torch\n",
    "from pymatgen.core import Lattice, Structure\n",
    "\n",
    "# Import megnet related modules\n",
    "from matgl.models._megnet import MEGNet"
   ]
  },
  {
   "cell_type": "markdown",
   "id": "f4f09d6c",
   "metadata": {},
   "source": [
    "# MP Formation energy\n",
    "\n",
    "The pre-trained model is traned on the Materaisl Project mp.2018.6.1.json dataset.\n"
   ]
  },
  {
   "cell_type": "code",
   "execution_count": null,
   "id": "ce4e9336",
   "metadata": {},
   "outputs": [
    {
     "name": "stdout",
     "output_type": "stream",
     "text": [
      "The predicted formation energy for CsCl is -2.272 eV/atom.\n"
     ]
    }
   ],
   "source": [
    "# load the pre-trained MEGNet model. By default it is the formation energy model.\n",
    "model = MEGNet.load(\"MEGNet-MP-2018.6.1-Eform\")\n",
    "# This is the structure obtained from the Materials Project.\n",
    "struct = Structure.from_spacegroup(\"Pm-3m\", Lattice.cubic(4.1437), [\"Cs\", \"Cl\"], [[0, 0, 0], [0.5, 0.5, 0.5]])\n",
    "eform = model.predict_structure(\n",
    "    structure=struct, data_mean=torch.tensor(-1.65459073), data_std=torch.tensor(1.07266128)\n",
    ")\n",
    "print(f\"The predicted formation energy for CsCl is {float(eform.numpy()):.3f} eV/atom.\")"
   ]
  },
  {
   "cell_type": "markdown",
   "id": "90e95671",
   "metadata": {},
   "source": [
    "# MP Band gap\n",
    "\n",
    "The pre-trained model is traned on the Materails Project mp.2019.4.1.json dataset.\n"
   ]
  },
  {
   "cell_type": "code",
   "execution_count": null,
   "id": "f2ec796f",
   "metadata": {},
   "outputs": [
    {
     "name": "stdout",
     "output_type": "stream",
     "text": [
      "The predicted PBE BandGap for CsCl is 4.715 eV.\n"
     ]
    }
   ],
   "source": [
    "# Note that this is the multi-fidelity bandgap model.\n",
    "model = MEGNet.load(\"MEGNet-MP-2019.4.1-BandGap-mfi\")\n",
    "\n",
    "# For mfi model, we need to define graph label (\"0\": PBE, \"1\": GLLB-SC, \"2\": HSE, \"3\": SCAN)\n",
    "graph_attrs = torch.tensor([0])\n",
    "bandgap = model.predict_structure(\n",
    "    structure=struct, state_feats=graph_attrs, data_mean=torch.tensor(1.57419002), data_std=torch.tensor(1.85749567)\n",
    ")\n",
    "print(f\"The predicted PBE BandGap for CsCl is {float(bandgap):.3f} eV.\")"
   ]
  }
 ],
 "metadata": {
  "kernelspec": {
   "display_name": "Python 3 (ipykernel)",
   "language": "python",
   "name": "python3"
  },
  "language_info": {
   "codemirror_mode": {
    "name": "ipython",
    "version": 3
   },
   "file_extension": ".py",
   "mimetype": "text/x-python",
   "name": "python",
   "nbconvert_exporter": "python",
   "pygments_lexer": "ipython3",
   "version": "3.10.11"
  }
 },
 "nbformat": 4,
 "nbformat_minor": 5
}
