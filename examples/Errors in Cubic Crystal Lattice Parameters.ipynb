{
 "cells": [
  {
   "cell_type": "markdown",
   "id": "f162d338",
   "metadata": {},
   "source": [
    "# Introduction\n",
    "\n",
    "This notebook is written to demonstrate the use of M3GNet as a structure relaxer as well as to provide more comprehensive benchmarks for cubic crystals based on exp data on Wikipedia and MP DFT data. This benchmark is limited to cubic crystals for ease of comparison since there is only one lattice parameter. \n",
    "\n",
    "If you are running this notebook from Google Colab, uncomment the next code box to install matgl first."
   ]
  },
  {
   "cell_type": "code",
   "execution_count": null,
   "id": "cb157b1e",
   "metadata": {},
   "outputs": [],
   "source": [
    "# !pip install matgl"
   ]
  },
  {
   "cell_type": "code",
   "execution_count": null,
   "id": "ddfff8e3",
   "metadata": {},
   "outputs": [],
   "source": [
    "from __future__ import annotations\n",
    "\n",
    "import traceback\n",
    "import warnings\n",
    "\n",
    "import numpy as np\n",
    "import pandas as pd\n",
    "from pymatgen.core import Composition, Lattice, Structure\n",
    "from pymatgen.ext.matproj import MPRester\n",
    "from pymatgen.symmetry.analyzer import SpacegroupAnalyzer\n",
    "from tqdm import tqdm\n",
    "\n",
    "from matgl.apps.pes import Potential\n",
    "from matgl.ext.ase import Relaxer\n",
    "from matgl.models import M3GNet\n",
    "\n",
    "warnings.filterwarnings(\"ignore\")"
   ]
  },
  {
   "cell_type": "markdown",
   "id": "ee4ec4a6",
   "metadata": {},
   "source": [
    "The next cell just compiles data from Wikipedia. "
   ]
  },
  {
   "cell_type": "code",
   "execution_count": null,
   "id": "8476d506",
   "metadata": {},
   "outputs": [
    {
     "name": "stdout",
     "output_type": "stream",
     "text": [
      "             Crystal structure     a (Å)\n",
      "Material                                \n",
      "C (diamond)      Diamond (FCC)  3.567000\n",
      "Si               Diamond (FCC)  5.431021\n",
      "Ge               Diamond (FCC)  5.658000\n",
      "AlAs         Zinc blende (FCC)  5.660500\n",
      "AlP          Zinc blende (FCC)  5.451000\n",
      "...                        ...       ...\n",
      "Cs                         BCC  6.050000\n",
      "K                          BCC  5.230000\n",
      "Ba                         BCC  5.020000\n",
      "Eu                         BCC  4.610000\n",
      "Cr                         BCC  2.880000\n",
      "\n",
      "[89 rows x 2 columns]\n"
     ]
    }
   ],
   "source": [
    "data = pd.read_html(\"http://en.wikipedia.org/wiki/Lattice_constant\")[0]\n",
    "data = data[\n",
    "    ~data[\"Crystal structure\"].isin(\n",
    "        [\"Hexagonal\", \"Wurtzite\", \"Wurtzite (HCP)\", \"Orthorhombic\", \"Tetragonal perovskite\", \"Orthorhombic perovskite\"]\n",
    "    )\n",
    "]\n",
    "data = data.rename(columns={\"Lattice constant (Å)\": \"a (Å)\"})\n",
    "data = data.drop(columns=[\"Ref.\"])\n",
    "data[\"a (Å)\"] = data[\"a (Å)\"].map(float)\n",
    "data = data[[\"Material\", \"Crystal structure\", \"a (Å)\"]]\n",
    "\n",
    "\n",
    "additional_fcc = \"\"\"10 Ne 4.43 54 Xe 6.20\n",
    "13 Al 4.05 58 Ce 5.16\n",
    "18 Ar 5.26 70 Yb 5.49\n",
    "20 Ca 5.58 77 Ir 3.84\n",
    "28 Ni 3.52 78 Pt 3.92\n",
    "29 Cu 3.61 79 Au 4.08\n",
    "36 Kr 5.72 82 Pb 4.95\n",
    "38 Sr 6.08 47 Ag 4.09\n",
    "45 Rh 3.80 89 Ac 5.31\n",
    "46 Pd 3.89 90 Th 5.08\"\"\"\n",
    "\n",
    "additional_bcc = \"\"\"3 Li 3.49 42 Mo 3.15\n",
    "11 Na 4.23 55 Cs 6.05\n",
    "19 K 5.23 56 Ba 5.02\n",
    "23 V 3.02 63 Eu 4.61\n",
    "24 Cr 2.88 73 Ta 3.31\n",
    "26 Fe 2.87 74 W 3.16\n",
    "37 Rb 5.59 41 Nb 3.30\"\"\"\n",
    "\n",
    "\n",
    "def add_new(str_, structure_type, df):\n",
    "    tokens = str_.split()\n",
    "    new_crystals = []\n",
    "    for i in range(int(len(tokens) / 3)):\n",
    "        el = tokens[3 * i + 1].strip()\n",
    "        if el not in df[\"Material\"].to_numpy():\n",
    "            new_crystals.append([tokens[3 * i + 1], structure_type, float(tokens[3 * i + 2])])\n",
    "    df2 = pd.DataFrame(new_crystals, columns=data.columns)\n",
    "    return pd.concat([df, df2])\n",
    "\n",
    "\n",
    "data = add_new(additional_fcc, \"FCC\", data)\n",
    "data = add_new(additional_bcc, \"BCC\", data)\n",
    "data = data[data[\"Material\"] != \"NC0.99\"]\n",
    "data = data[data[\"Material\"] != \"Xe\"]\n",
    "data = data[data[\"Material\"] != \"Kr\"]\n",
    "data = data[data[\"Material\"] != \"Rb\"]\n",
    "data = data.set_index(\"Material\")\n",
    "print(data)"
   ]
  },
  {
   "cell_type": "markdown",
   "id": "039a4128",
   "metadata": {},
   "source": [
    "In the next cell, we generate an initial structure for all the phases. The cubic constant is set to an arbitrary value of 5 angstroms for all structures. It does not matter too much what you set it to, but it cannot be too large or it will result in isolated atoms due to the cutoffs used in m3gnet to determine bonds. We then call the Relaxer, which is the M3GNet universal IAP pre-trained on the Materials Project."
   ]
  },
  {
   "cell_type": "code",
   "execution_count": null,
   "id": "2541aebf",
   "metadata": {},
   "outputs": [
    {
     "name": "stderr",
     "output_type": "stream",
     "text": [
      "\r",
      "  0%|                                                                                                 | 0/89 [00:00<?, ?it/s]"
     ]
    },
    {
     "data": {
      "application/vnd.jupyter.widget-view+json": {
       "model_id": "90fbb606d97c411c8dd390b47f6b6865",
       "version_major": 2,
       "version_minor": 0
      },
      "text/plain": [
       "Retrieving MaterialsDoc documents:   0%|          | 0/62 [00:00<?, ?it/s]"
      ]
     },
     "metadata": {},
     "output_type": "display_data"
    },
    {
     "data": {
      "application/vnd.jupyter.widget-view+json": {
       "model_id": "7328a55204364d80b59c209574f9fe48",
       "version_major": 2,
       "version_minor": 0
      },
      "text/plain": [
       "Retrieving MaterialsDoc documents:   0%|          | 0/1 [00:00<?, ?it/s]"
      ]
     },
     "metadata": {},
     "output_type": "display_data"
    },
    {
     "data": {
      "application/vnd.jupyter.widget-view+json": {
       "model_id": "e594c769e5a2424aa61ca12d4e9cad83",
       "version_major": 2,
       "version_minor": 0
      },
      "text/plain": [
       "Retrieving MaterialsDoc documents:   0%|          | 0/1 [00:00<?, ?it/s]"
      ]
     },
     "metadata": {},
     "output_type": "display_data"
    },
    {
     "data": {
      "application/vnd.jupyter.widget-view+json": {
       "model_id": "74e6b5df8294473b902f6919fbc01793",
       "version_major": 2,
       "version_minor": 0
      },
      "text/plain": [
       "Retrieving MaterialsDoc documents:   0%|          | 0/1 [00:00<?, ?it/s]"
      ]
     },
     "metadata": {},
     "output_type": "display_data"
    },
    {
     "data": {
      "application/vnd.jupyter.widget-view+json": {
       "model_id": "4af1ab18943c472493cbe470bf5a0056",
       "version_major": 2,
       "version_minor": 0
      },
      "text/plain": [
       "Retrieving MaterialsDoc documents:   0%|          | 0/1 [00:00<?, ?it/s]"
      ]
     },
     "metadata": {},
     "output_type": "display_data"
    },
    {
     "name": "stderr",
     "output_type": "stream",
     "text": [
      "\r",
      "  1%|█                                                                                        | 1/89 [00:03<04:55,  3.36s/it]"
     ]
    },
    {
     "data": {
      "application/vnd.jupyter.widget-view+json": {
       "model_id": "ad14260f6072483eb68069b2729b5a84",
       "version_major": 2,
       "version_minor": 0
      },
      "text/plain": [
       "Retrieving MaterialsDoc documents:   0%|          | 0/42 [00:00<?, ?it/s]"
      ]
     },
     "metadata": {},
     "output_type": "display_data"
    },
    {
     "data": {
      "application/vnd.jupyter.widget-view+json": {
       "model_id": "34db3e806c564ac78266e5a629ce6425",
       "version_major": 2,
       "version_minor": 0
      },
      "text/plain": [
       "Retrieving MaterialsDoc documents:   0%|          | 0/1 [00:00<?, ?it/s]"
      ]
     },
     "metadata": {},
     "output_type": "display_data"
    },
    {
     "data": {
      "application/vnd.jupyter.widget-view+json": {
       "model_id": "22e6c82ff1424370a06982476ae98ad9",
       "version_major": 2,
       "version_minor": 0
      },
      "text/plain": [
       "Retrieving MaterialsDoc documents:   0%|          | 0/1 [00:00<?, ?it/s]"
      ]
     },
     "metadata": {},
     "output_type": "display_data"
    },
    {
     "data": {
      "application/vnd.jupyter.widget-view+json": {
       "model_id": "88ffac6369144dee92232a96660c9fa7",
       "version_major": 2,
       "version_minor": 0
      },
      "text/plain": [
       "Retrieving MaterialsDoc documents:   0%|          | 0/1 [00:00<?, ?it/s]"
      ]
     },
     "metadata": {},
     "output_type": "display_data"
    },
    {
     "data": {
      "application/vnd.jupyter.widget-view+json": {
       "model_id": "ed791e2b7c26415ea11cd3e46daa4ce1",
       "version_major": 2,
       "version_minor": 0
      },
      "text/plain": [
       "Retrieving MaterialsDoc documents:   0%|          | 0/1 [00:00<?, ?it/s]"
      ]
     },
     "metadata": {},
     "output_type": "display_data"
    },
    {
     "data": {
      "application/vnd.jupyter.widget-view+json": {
       "model_id": "ec904a56c0994b9e91603a1201cd6a44",
       "version_major": 2,
       "version_minor": 0
      },
      "text/plain": [
       "Retrieving MaterialsDoc documents:   0%|          | 0/1 [00:00<?, ?it/s]"
      ]
     },
     "metadata": {},
     "output_type": "display_data"
    },
    {
     "name": "stderr",
     "output_type": "stream",
     "text": [
      "\r",
      "  2%|██                                                                                       | 2/89 [00:05<03:59,  2.75s/it]"
     ]
    },
    {
     "data": {
      "application/vnd.jupyter.widget-view+json": {
       "model_id": "a275dca8499840f99c48b1fb3b4ed1a2",
       "version_major": 2,
       "version_minor": 0
      },
      "text/plain": [
       "Retrieving MaterialsDoc documents:   0%|          | 0/17 [00:00<?, ?it/s]"
      ]
     },
     "metadata": {},
     "output_type": "display_data"
    },
    {
     "data": {
      "application/vnd.jupyter.widget-view+json": {
       "model_id": "9e053aa1de8b4553abc8ac9499683209",
       "version_major": 2,
       "version_minor": 0
      },
      "text/plain": [
       "Retrieving MaterialsDoc documents:   0%|          | 0/1 [00:00<?, ?it/s]"
      ]
     },
     "metadata": {},
     "output_type": "display_data"
    },
    {
     "name": "stderr",
     "output_type": "stream",
     "text": [
      "\r",
      "  3%|███                                                                                      | 3/89 [00:07<03:21,  2.35s/it]"
     ]
    },
    {
     "data": {
      "application/vnd.jupyter.widget-view+json": {
       "model_id": "bf5b58a4afb1443ba64a595b8e869f4b",
       "version_major": 2,
       "version_minor": 0
      },
      "text/plain": [
       "Retrieving MaterialsDoc documents:   0%|          | 0/6 [00:00<?, ?it/s]"
      ]
     },
     "metadata": {},
     "output_type": "display_data"
    },
    {
     "data": {
      "application/vnd.jupyter.widget-view+json": {
       "model_id": "dffb1ca49ef64eeaa5274f539bbf4cc5",
       "version_major": 2,
       "version_minor": 0
      },
      "text/plain": [
       "Retrieving MaterialsDoc documents:   0%|          | 0/1 [00:00<?, ?it/s]"
      ]
     },
     "metadata": {},
     "output_type": "display_data"
    },
    {
     "name": "stderr",
     "output_type": "stream",
     "text": [
      "\r",
      "  4%|████                                                                                     | 4/89 [00:17<07:25,  5.24s/it]"
     ]
    },
    {
     "data": {
      "application/vnd.jupyter.widget-view+json": {
       "model_id": "d3771928b51d4c0e91f405693a8efea1",
       "version_major": 2,
       "version_minor": 0
      },
      "text/plain": [
       "Retrieving MaterialsDoc documents:   0%|          | 0/3 [00:00<?, ?it/s]"
      ]
     },
     "metadata": {},
     "output_type": "display_data"
    },
    {
     "data": {
      "application/vnd.jupyter.widget-view+json": {
       "model_id": "b633219cd69e4b5db26dd117c6ceee48",
       "version_major": 2,
       "version_minor": 0
      },
      "text/plain": [
       "Retrieving MaterialsDoc documents:   0%|          | 0/1 [00:00<?, ?it/s]"
      ]
     },
     "metadata": {},
     "output_type": "display_data"
    },
    {
     "name": "stderr",
     "output_type": "stream",
     "text": [
      "\r",
      "  6%|█████                                                                                    | 5/89 [00:19<05:40,  4.06s/it]"
     ]
    },
    {
     "data": {
      "application/vnd.jupyter.widget-view+json": {
       "model_id": "9077a44bdd814ef089d3cae59df58697",
       "version_major": 2,
       "version_minor": 0
      },
      "text/plain": [
       "Retrieving MaterialsDoc documents:   0%|          | 0/5 [00:00<?, ?it/s]"
      ]
     },
     "metadata": {},
     "output_type": "display_data"
    },
    {
     "data": {
      "application/vnd.jupyter.widget-view+json": {
       "model_id": "0cfe8c829bf148db9b334ad56a51355f",
       "version_major": 2,
       "version_minor": 0
      },
      "text/plain": [
       "Retrieving MaterialsDoc documents:   0%|          | 0/1 [00:00<?, ?it/s]"
      ]
     },
     "metadata": {},
     "output_type": "display_data"
    },
    {
     "name": "stderr",
     "output_type": "stream",
     "text": [
      "\r",
      "  7%|██████                                                                                   | 6/89 [00:20<04:30,  3.26s/it]"
     ]
    },
    {
     "data": {
      "application/vnd.jupyter.widget-view+json": {
       "model_id": "93b95cf5d0944b239e00e03211eafa21",
       "version_major": 2,
       "version_minor": 0
      },
      "text/plain": [
       "Retrieving MaterialsDoc documents:   0%|          | 0/6 [00:00<?, ?it/s]"
      ]
     },
     "metadata": {},
     "output_type": "display_data"
    },
    {
     "data": {
      "application/vnd.jupyter.widget-view+json": {
       "model_id": "73c470724f264400b0102767ba008dd3",
       "version_major": 2,
       "version_minor": 0
      },
      "text/plain": [
       "Retrieving MaterialsDoc documents:   0%|          | 0/1 [00:00<?, ?it/s]"
      ]
     },
     "metadata": {},
     "output_type": "display_data"
    },
    {
     "name": "stderr",
     "output_type": "stream",
     "text": [
      "\r",
      "  8%|███████                                                                                  | 7/89 [00:22<03:53,  2.85s/it]"
     ]
    },
    {
     "data": {
      "application/vnd.jupyter.widget-view+json": {
       "model_id": "eb50bd8fc6424bc09fd8bee4155e0728",
       "version_major": 2,
       "version_minor": 0
      },
      "text/plain": [
       "Retrieving MaterialsDoc documents:   0%|          | 0/13 [00:00<?, ?it/s]"
      ]
     },
     "metadata": {},
     "output_type": "display_data"
    },
    {
     "data": {
      "application/vnd.jupyter.widget-view+json": {
       "model_id": "e48732a2fc3d4f5dbff911cc44cd344e",
       "version_major": 2,
       "version_minor": 0
      },
      "text/plain": [
       "Retrieving MaterialsDoc documents:   0%|          | 0/1 [00:00<?, ?it/s]"
      ]
     },
     "metadata": {},
     "output_type": "display_data"
    },
    {
     "name": "stderr",
     "output_type": "stream",
     "text": [
      "\r",
      "  9%|████████                                                                                 | 8/89 [00:25<03:44,  2.78s/it]"
     ]
    },
    {
     "data": {
      "application/vnd.jupyter.widget-view+json": {
       "model_id": "a86c9a4bcc454d898972083abeef7a4c",
       "version_major": 2,
       "version_minor": 0
      },
      "text/plain": [
       "Retrieving MaterialsDoc documents:   0%|          | 0/9 [00:00<?, ?it/s]"
      ]
     },
     "metadata": {},
     "output_type": "display_data"
    },
    {
     "data": {
      "application/vnd.jupyter.widget-view+json": {
       "model_id": "c0279f62d9f94b089f97c9177389cf9f",
       "version_major": 2,
       "version_minor": 0
      },
      "text/plain": [
       "Retrieving MaterialsDoc documents:   0%|          | 0/1 [00:00<?, ?it/s]"
      ]
     },
     "metadata": {},
     "output_type": "display_data"
    },
    {
     "name": "stderr",
     "output_type": "stream",
     "text": [
      "\r",
      " 10%|█████████                                                                                | 9/89 [00:27<03:24,  2.55s/it]"
     ]
    },
    {
     "data": {
      "application/vnd.jupyter.widget-view+json": {
       "model_id": "a2c7002e715b4b8583f29aa133b4f6d2",
       "version_major": 2,
       "version_minor": 0
      },
      "text/plain": [
       "Retrieving MaterialsDoc documents:   0%|          | 0/3 [00:00<?, ?it/s]"
      ]
     },
     "metadata": {},
     "output_type": "display_data"
    },
    {
     "data": {
      "application/vnd.jupyter.widget-view+json": {
       "model_id": "2c86b702153a48a79589a2926b26d268",
       "version_major": 2,
       "version_minor": 0
      },
      "text/plain": [
       "Retrieving MaterialsDoc documents:   0%|          | 0/1 [00:00<?, ?it/s]"
      ]
     },
     "metadata": {},
     "output_type": "display_data"
    },
    {
     "name": "stderr",
     "output_type": "stream",
     "text": [
      "\r",
      " 11%|█████████▉                                                                              | 10/89 [00:41<07:51,  5.97s/it]"
     ]
    },
    {
     "data": {
      "application/vnd.jupyter.widget-view+json": {
       "model_id": "148351902f6844298efa331eaf43d565",
       "version_major": 2,
       "version_minor": 0
      },
      "text/plain": [
       "Retrieving MaterialsDoc documents:   0%|          | 0/5 [00:00<?, ?it/s]"
      ]
     },
     "metadata": {},
     "output_type": "display_data"
    },
    {
     "data": {
      "application/vnd.jupyter.widget-view+json": {
       "model_id": "cdf569c27e6a42afa4d9dc543ffd19ea",
       "version_major": 2,
       "version_minor": 0
      },
      "text/plain": [
       "Retrieving MaterialsDoc documents:   0%|          | 0/1 [00:00<?, ?it/s]"
      ]
     },
     "metadata": {},
     "output_type": "display_data"
    },
    {
     "name": "stderr",
     "output_type": "stream",
     "text": [
      "\r",
      " 12%|██████████▉                                                                             | 11/89 [00:44<06:50,  5.26s/it]"
     ]
    },
    {
     "data": {
      "application/vnd.jupyter.widget-view+json": {
       "model_id": "a6651d32a04b4bdcba6ecd84aa5b9dc8",
       "version_major": 2,
       "version_minor": 0
      },
      "text/plain": [
       "Retrieving MaterialsDoc documents:   0%|          | 0/11 [00:00<?, ?it/s]"
      ]
     },
     "metadata": {},
     "output_type": "display_data"
    },
    {
     "data": {
      "application/vnd.jupyter.widget-view+json": {
       "model_id": "f86a99bb75e44a1281b7ec65afbf63b1",
       "version_major": 2,
       "version_minor": 0
      },
      "text/plain": [
       "Retrieving MaterialsDoc documents:   0%|          | 0/1 [00:00<?, ?it/s]"
      ]
     },
     "metadata": {},
     "output_type": "display_data"
    },
    {
     "data": {
      "application/vnd.jupyter.widget-view+json": {
       "model_id": "e8e7be65b8d049ca92c48012b3ceb2cb",
       "version_major": 2,
       "version_minor": 0
      },
      "text/plain": [
       "Retrieving MaterialsDoc documents:   0%|          | 0/1 [00:00<?, ?it/s]"
      ]
     },
     "metadata": {},
     "output_type": "display_data"
    },
    {
     "data": {
      "application/vnd.jupyter.widget-view+json": {
       "model_id": "f40382d8c88045a5aa121079231b87c6",
       "version_major": 2,
       "version_minor": 0
      },
      "text/plain": [
       "Retrieving MaterialsDoc documents:   0%|          | 0/1 [00:00<?, ?it/s]"
      ]
     },
     "metadata": {},
     "output_type": "display_data"
    },
    {
     "data": {
      "application/vnd.jupyter.widget-view+json": {
       "model_id": "72fee0bc9d9d41c3975fa49a9dcb9e6e",
       "version_major": 2,
       "version_minor": 0
      },
      "text/plain": [
       "Retrieving MaterialsDoc documents:   0%|          | 0/1 [00:00<?, ?it/s]"
      ]
     },
     "metadata": {},
     "output_type": "display_data"
    },
    {
     "name": "stderr",
     "output_type": "stream",
     "text": [
      "\r",
      " 13%|███████████▊                                                                            | 12/89 [00:47<05:36,  4.37s/it]"
     ]
    },
    {
     "data": {
      "application/vnd.jupyter.widget-view+json": {
       "model_id": "fbf2b4efb1d54c7380addcc2e138da3d",
       "version_major": 2,
       "version_minor": 0
      },
      "text/plain": [
       "Retrieving MaterialsDoc documents:   0%|          | 0/23 [00:00<?, ?it/s]"
      ]
     },
     "metadata": {},
     "output_type": "display_data"
    },
    {
     "data": {
      "application/vnd.jupyter.widget-view+json": {
       "model_id": "681f57b39e634f9e99b7d7ea02c9aeeb",
       "version_major": 2,
       "version_minor": 0
      },
      "text/plain": [
       "Retrieving MaterialsDoc documents:   0%|          | 0/1 [00:00<?, ?it/s]"
      ]
     },
     "metadata": {},
     "output_type": "display_data"
    },
    {
     "name": "stderr",
     "output_type": "stream",
     "text": [
      "\r",
      " 15%|████████████▊                                                                           | 13/89 [00:49<04:42,  3.71s/it]"
     ]
    },
    {
     "data": {
      "application/vnd.jupyter.widget-view+json": {
       "model_id": "48b71d49f183449faebfe47cba465283",
       "version_major": 2,
       "version_minor": 0
      },
      "text/plain": [
       "Retrieving MaterialsDoc documents:   0%|          | 0/5 [00:00<?, ?it/s]"
      ]
     },
     "metadata": {},
     "output_type": "display_data"
    },
    {
     "data": {
      "application/vnd.jupyter.widget-view+json": {
       "model_id": "5c2c6800842a495ca8e0cb921c848695",
       "version_major": 2,
       "version_minor": 0
      },
      "text/plain": [
       "Retrieving MaterialsDoc documents:   0%|          | 0/1 [00:00<?, ?it/s]"
      ]
     },
     "metadata": {},
     "output_type": "display_data"
    },
    {
     "data": {
      "application/vnd.jupyter.widget-view+json": {
       "model_id": "d89180ed8e8348968625be6ffb295ad0",
       "version_major": 2,
       "version_minor": 0
      },
      "text/plain": [
       "Retrieving MaterialsDoc documents:   0%|          | 0/1 [00:00<?, ?it/s]"
      ]
     },
     "metadata": {},
     "output_type": "display_data"
    },
    {
     "data": {
      "application/vnd.jupyter.widget-view+json": {
       "model_id": "4a7ff11d47a347968e3c74a66327d2f8",
       "version_major": 2,
       "version_minor": 0
      },
      "text/plain": [
       "Retrieving MaterialsDoc documents:   0%|          | 0/1 [00:00<?, ?it/s]"
      ]
     },
     "metadata": {},
     "output_type": "display_data"
    },
    {
     "name": "stderr",
     "output_type": "stream",
     "text": [
      "\r",
      " 16%|█████████████▊                                                                          | 14/89 [00:51<04:07,  3.30s/it]"
     ]
    },
    {
     "data": {
      "application/vnd.jupyter.widget-view+json": {
       "model_id": "9994f4bf6afa430e941c5d9b147edf77",
       "version_major": 2,
       "version_minor": 0
      },
      "text/plain": [
       "Retrieving MaterialsDoc documents:   0%|          | 0/3 [00:00<?, ?it/s]"
      ]
     },
     "metadata": {},
     "output_type": "display_data"
    },
    {
     "data": {
      "application/vnd.jupyter.widget-view+json": {
       "model_id": "fdb34d1205fd4d039f2b01c1fd7ce824",
       "version_major": 2,
       "version_minor": 0
      },
      "text/plain": [
       "Retrieving MaterialsDoc documents:   0%|          | 0/1 [00:00<?, ?it/s]"
      ]
     },
     "metadata": {},
     "output_type": "display_data"
    },
    {
     "data": {
      "application/vnd.jupyter.widget-view+json": {
       "model_id": "6dc18c0fed584f5a8ee5681ef09de763",
       "version_major": 2,
       "version_minor": 0
      },
      "text/plain": [
       "Retrieving MaterialsDoc documents:   0%|          | 0/1 [00:00<?, ?it/s]"
      ]
     },
     "metadata": {},
     "output_type": "display_data"
    },
    {
     "data": {
      "application/vnd.jupyter.widget-view+json": {
       "model_id": "0cb23e4a57cd4cddb3ee8b939b8f15ce",
       "version_major": 2,
       "version_minor": 0
      },
      "text/plain": [
       "Retrieving MaterialsDoc documents:   0%|          | 0/1 [00:00<?, ?it/s]"
      ]
     },
     "metadata": {},
     "output_type": "display_data"
    },
    {
     "name": "stderr",
     "output_type": "stream",
     "text": [
      "\r",
      " 17%|██████████████▊                                                                         | 15/89 [00:55<04:22,  3.55s/it]"
     ]
    },
    {
     "data": {
      "application/vnd.jupyter.widget-view+json": {
       "model_id": "7f7c4f6e345d43348f3ec1e4e7033b23",
       "version_major": 2,
       "version_minor": 0
      },
      "text/plain": [
       "Retrieving MaterialsDoc documents:   0%|          | 0/9 [00:00<?, ?it/s]"
      ]
     },
     "metadata": {},
     "output_type": "display_data"
    },
    {
     "data": {
      "application/vnd.jupyter.widget-view+json": {
       "model_id": "36ddabee124b413b8ee275fc72d06a06",
       "version_major": 2,
       "version_minor": 0
      },
      "text/plain": [
       "Retrieving MaterialsDoc documents:   0%|          | 0/1 [00:00<?, ?it/s]"
      ]
     },
     "metadata": {},
     "output_type": "display_data"
    },
    {
     "name": "stderr",
     "output_type": "stream",
     "text": [
      "\r",
      " 18%|███████████████▊                                                                        | 16/89 [00:57<03:34,  2.93s/it]"
     ]
    },
    {
     "data": {
      "application/vnd.jupyter.widget-view+json": {
       "model_id": "f40cad9f9d0446c7a7c99e63eead9e51",
       "version_major": 2,
       "version_minor": 0
      },
      "text/plain": [
       "Retrieving MaterialsDoc documents:   0%|          | 0/12 [00:00<?, ?it/s]"
      ]
     },
     "metadata": {},
     "output_type": "display_data"
    },
    {
     "data": {
      "application/vnd.jupyter.widget-view+json": {
       "model_id": "2d7386fe08de4914b5ffdc3535bbfbc8",
       "version_major": 2,
       "version_minor": 0
      },
      "text/plain": [
       "Retrieving MaterialsDoc documents:   0%|          | 0/1 [00:00<?, ?it/s]"
      ]
     },
     "metadata": {},
     "output_type": "display_data"
    },
    {
     "data": {
      "application/vnd.jupyter.widget-view+json": {
       "model_id": "dffa61b86d4f4982b57dc294e5b2f999",
       "version_major": 2,
       "version_minor": 0
      },
      "text/plain": [
       "Retrieving MaterialsDoc documents:   0%|          | 0/1 [00:00<?, ?it/s]"
      ]
     },
     "metadata": {},
     "output_type": "display_data"
    },
    {
     "data": {
      "application/vnd.jupyter.widget-view+json": {
       "model_id": "0400147fec96464d807ddab908071569",
       "version_major": 2,
       "version_minor": 0
      },
      "text/plain": [
       "Retrieving MaterialsDoc documents:   0%|          | 0/1 [00:00<?, ?it/s]"
      ]
     },
     "metadata": {},
     "output_type": "display_data"
    },
    {
     "name": "stderr",
     "output_type": "stream",
     "text": [
      "\r",
      " 19%|████████████████▊                                                                       | 17/89 [01:01<03:47,  3.15s/it]"
     ]
    },
    {
     "data": {
      "application/vnd.jupyter.widget-view+json": {
       "model_id": "1c43221170134e6c97d397ec5e75b29a",
       "version_major": 2,
       "version_minor": 0
      },
      "text/plain": [
       "Retrieving MaterialsDoc documents:   0%|          | 0/146 [00:00<?, ?it/s]"
      ]
     },
     "metadata": {},
     "output_type": "display_data"
    },
    {
     "data": {
      "application/vnd.jupyter.widget-view+json": {
       "model_id": "856d3e47b9c249018c09e9455912ed6c",
       "version_major": 2,
       "version_minor": 0
      },
      "text/plain": [
       "Retrieving MaterialsDoc documents:   0%|          | 0/1 [00:00<?, ?it/s]"
      ]
     },
     "metadata": {},
     "output_type": "display_data"
    },
    {
     "data": {
      "application/vnd.jupyter.widget-view+json": {
       "model_id": "47930fed3fc445cbbd21c544f910b036",
       "version_major": 2,
       "version_minor": 0
      },
      "text/plain": [
       "Retrieving MaterialsDoc documents:   0%|          | 0/1 [00:00<?, ?it/s]"
      ]
     },
     "metadata": {},
     "output_type": "display_data"
    },
    {
     "data": {
      "application/vnd.jupyter.widget-view+json": {
       "model_id": "3cb90840477841ab96c4a1890f4d42de",
       "version_major": 2,
       "version_minor": 0
      },
      "text/plain": [
       "Retrieving MaterialsDoc documents:   0%|          | 0/1 [00:00<?, ?it/s]"
      ]
     },
     "metadata": {},
     "output_type": "display_data"
    },
    {
     "name": "stderr",
     "output_type": "stream",
     "text": [
      "\r",
      " 20%|█████████████████▊                                                                      | 18/89 [01:03<03:19,  2.80s/it]"
     ]
    },
    {
     "data": {
      "application/vnd.jupyter.widget-view+json": {
       "model_id": "1c16be1007f74f539645879d9ed44b04",
       "version_major": 2,
       "version_minor": 0
      },
      "text/plain": [
       "Retrieving MaterialsDoc documents:   0%|          | 0/19 [00:00<?, ?it/s]"
      ]
     },
     "metadata": {},
     "output_type": "display_data"
    },
    {
     "data": {
      "application/vnd.jupyter.widget-view+json": {
       "model_id": "95f4ac5a76674379807a9648c7c8191f",
       "version_major": 2,
       "version_minor": 0
      },
      "text/plain": [
       "Retrieving MaterialsDoc documents:   0%|          | 0/1 [00:00<?, ?it/s]"
      ]
     },
     "metadata": {},
     "output_type": "display_data"
    },
    {
     "data": {
      "application/vnd.jupyter.widget-view+json": {
       "model_id": "74ec4c11f953466ab2e0d88c2737558c",
       "version_major": 2,
       "version_minor": 0
      },
      "text/plain": [
       "Retrieving MaterialsDoc documents:   0%|          | 0/1 [00:00<?, ?it/s]"
      ]
     },
     "metadata": {},
     "output_type": "display_data"
    },
    {
     "data": {
      "application/vnd.jupyter.widget-view+json": {
       "model_id": "09101b6ea88543fa833bb05173e64bb4",
       "version_major": 2,
       "version_minor": 0
      },
      "text/plain": [
       "Retrieving MaterialsDoc documents:   0%|          | 0/1 [00:00<?, ?it/s]"
      ]
     },
     "metadata": {},
     "output_type": "display_data"
    },
    {
     "data": {
      "application/vnd.jupyter.widget-view+json": {
       "model_id": "eda6ee2d243f40028943817081669823",
       "version_major": 2,
       "version_minor": 0
      },
      "text/plain": [
       "Retrieving MaterialsDoc documents:   0%|          | 0/1 [00:00<?, ?it/s]"
      ]
     },
     "metadata": {},
     "output_type": "display_data"
    },
    {
     "data": {
      "application/vnd.jupyter.widget-view+json": {
       "model_id": "4490cbe70c1d44fd9331a2a751cdef38",
       "version_major": 2,
       "version_minor": 0
      },
      "text/plain": [
       "Retrieving MaterialsDoc documents:   0%|          | 0/1 [00:00<?, ?it/s]"
      ]
     },
     "metadata": {},
     "output_type": "display_data"
    },
    {
     "data": {
      "application/vnd.jupyter.widget-view+json": {
       "model_id": "f5330b9499ec4fcea9319d0a5d027653",
       "version_major": 2,
       "version_minor": 0
      },
      "text/plain": [
       "Retrieving MaterialsDoc documents:   0%|          | 0/1 [00:00<?, ?it/s]"
      ]
     },
     "metadata": {},
     "output_type": "display_data"
    },
    {
     "data": {
      "application/vnd.jupyter.widget-view+json": {
       "model_id": "9e1a1faec53640e48184e54104a7f596",
       "version_major": 2,
       "version_minor": 0
      },
      "text/plain": [
       "Retrieving MaterialsDoc documents:   0%|          | 0/1 [00:00<?, ?it/s]"
      ]
     },
     "metadata": {},
     "output_type": "display_data"
    },
    {
     "data": {
      "application/vnd.jupyter.widget-view+json": {
       "model_id": "94064be68b1045c388028480a28e7aa4",
       "version_major": 2,
       "version_minor": 0
      },
      "text/plain": [
       "Retrieving MaterialsDoc documents:   0%|          | 0/1 [00:00<?, ?it/s]"
      ]
     },
     "metadata": {},
     "output_type": "display_data"
    },
    {
     "data": {
      "application/vnd.jupyter.widget-view+json": {
       "model_id": "53172c2a97c84f7082a0a1ce1b755a4d",
       "version_major": 2,
       "version_minor": 0
      },
      "text/plain": [
       "Retrieving MaterialsDoc documents:   0%|          | 0/1 [00:00<?, ?it/s]"
      ]
     },
     "metadata": {},
     "output_type": "display_data"
    },
    {
     "data": {
      "application/vnd.jupyter.widget-view+json": {
       "model_id": "4e324beb85c64b53b74f599c1d939446",
       "version_major": 2,
       "version_minor": 0
      },
      "text/plain": [
       "Retrieving MaterialsDoc documents:   0%|          | 0/1 [00:00<?, ?it/s]"
      ]
     },
     "metadata": {},
     "output_type": "display_data"
    },
    {
     "data": {
      "application/vnd.jupyter.widget-view+json": {
       "model_id": "550e9564a2f14731acaeba5eeaa455d4",
       "version_major": 2,
       "version_minor": 0
      },
      "text/plain": [
       "Retrieving MaterialsDoc documents:   0%|          | 0/1 [00:00<?, ?it/s]"
      ]
     },
     "metadata": {},
     "output_type": "display_data"
    },
    {
     "data": {
      "application/vnd.jupyter.widget-view+json": {
       "model_id": "c6000182e85a4dcd8e52df19cb8c35ba",
       "version_major": 2,
       "version_minor": 0
      },
      "text/plain": [
       "Retrieving MaterialsDoc documents:   0%|          | 0/1 [00:00<?, ?it/s]"
      ]
     },
     "metadata": {},
     "output_type": "display_data"
    },
    {
     "data": {
      "application/vnd.jupyter.widget-view+json": {
       "model_id": "3fdda46363e0472b85145997c26e2bae",
       "version_major": 2,
       "version_minor": 0
      },
      "text/plain": [
       "Retrieving MaterialsDoc documents:   0%|          | 0/1 [00:00<?, ?it/s]"
      ]
     },
     "metadata": {},
     "output_type": "display_data"
    },
    {
     "data": {
      "application/vnd.jupyter.widget-view+json": {
       "model_id": "f83d5edbb8684a008328c185c5aa9f32",
       "version_major": 2,
       "version_minor": 0
      },
      "text/plain": [
       "Retrieving MaterialsDoc documents:   0%|          | 0/1 [00:00<?, ?it/s]"
      ]
     },
     "metadata": {},
     "output_type": "display_data"
    },
    {
     "data": {
      "application/vnd.jupyter.widget-view+json": {
       "model_id": "feac0b1f5e3f4a939aaf000057739bd7",
       "version_major": 2,
       "version_minor": 0
      },
      "text/plain": [
       "Retrieving MaterialsDoc documents:   0%|          | 0/1 [00:00<?, ?it/s]"
      ]
     },
     "metadata": {},
     "output_type": "display_data"
    },
    {
     "data": {
      "application/vnd.jupyter.widget-view+json": {
       "model_id": "8aada9659db34fe0817bb44358cd748c",
       "version_major": 2,
       "version_minor": 0
      },
      "text/plain": [
       "Retrieving MaterialsDoc documents:   0%|          | 0/1 [00:00<?, ?it/s]"
      ]
     },
     "metadata": {},
     "output_type": "display_data"
    },
    {
     "data": {
      "application/vnd.jupyter.widget-view+json": {
       "model_id": "3623988ffac54d0ab5a502e636d0124e",
       "version_major": 2,
       "version_minor": 0
      },
      "text/plain": [
       "Retrieving MaterialsDoc documents:   0%|          | 0/1 [00:00<?, ?it/s]"
      ]
     },
     "metadata": {},
     "output_type": "display_data"
    },
    {
     "data": {
      "application/vnd.jupyter.widget-view+json": {
       "model_id": "eee80e4d600945509fd19e72827a8f75",
       "version_major": 2,
       "version_minor": 0
      },
      "text/plain": [
       "Retrieving MaterialsDoc documents:   0%|          | 0/1 [00:00<?, ?it/s]"
      ]
     },
     "metadata": {},
     "output_type": "display_data"
    },
    {
     "data": {
      "application/vnd.jupyter.widget-view+json": {
       "model_id": "6cc4d9ed7af64d70b3412edf918c0848",
       "version_major": 2,
       "version_minor": 0
      },
      "text/plain": [
       "Retrieving MaterialsDoc documents:   0%|          | 0/1 [00:00<?, ?it/s]"
      ]
     },
     "metadata": {},
     "output_type": "display_data"
    },
    {
     "name": "stderr",
     "output_type": "stream",
     "text": [
      "Traceback (most recent call last):\n",
      "  File \"/var/folders/ql/m5k56v8n5sz5880n5sksmc9w0000gn/T/ipykernel_7049/617359052.py\", line 67, in <module>\n",
      "    raise RuntimeError\n",
      "RuntimeError\n",
      "\r",
      " 21%|██████████████████▊                                                                     | 19/89 [01:09<04:28,  3.84s/it]"
     ]
    },
    {
     "data": {
      "application/vnd.jupyter.widget-view+json": {
       "model_id": "48aaca1bf53e4551800943695baa46c5",
       "version_major": 2,
       "version_minor": 0
      },
      "text/plain": [
       "Retrieving MaterialsDoc documents:   0%|          | 0/5 [00:00<?, ?it/s]"
      ]
     },
     "metadata": {},
     "output_type": "display_data"
    },
    {
     "data": {
      "application/vnd.jupyter.widget-view+json": {
       "model_id": "4caaa4f6a9554751b785d96fb1745ab5",
       "version_major": 2,
       "version_minor": 0
      },
      "text/plain": [
       "Retrieving MaterialsDoc documents:   0%|          | 0/1 [00:00<?, ?it/s]"
      ]
     },
     "metadata": {},
     "output_type": "display_data"
    },
    {
     "name": "stderr",
     "output_type": "stream",
     "text": [
      "\r",
      " 22%|███████████████████▊                                                                    | 20/89 [01:11<03:49,  3.33s/it]"
     ]
    },
    {
     "data": {
      "application/vnd.jupyter.widget-view+json": {
       "model_id": "6636f72d709340e39ade02feb19bd15c",
       "version_major": 2,
       "version_minor": 0
      },
      "text/plain": [
       "Retrieving MaterialsDoc documents:   0%|          | 0/27 [00:00<?, ?it/s]"
      ]
     },
     "metadata": {},
     "output_type": "display_data"
    },
    {
     "data": {
      "application/vnd.jupyter.widget-view+json": {
       "model_id": "a1a21f3bc5ca4f5b84f0b4cd4d058c20",
       "version_major": 2,
       "version_minor": 0
      },
      "text/plain": [
       "Retrieving MaterialsDoc documents:   0%|          | 0/1 [00:00<?, ?it/s]"
      ]
     },
     "metadata": {},
     "output_type": "display_data"
    },
    {
     "data": {
      "application/vnd.jupyter.widget-view+json": {
       "model_id": "2192d3bf10924b62afaa34249a4d2bc3",
       "version_major": 2,
       "version_minor": 0
      },
      "text/plain": [
       "Retrieving MaterialsDoc documents:   0%|          | 0/1 [00:00<?, ?it/s]"
      ]
     },
     "metadata": {},
     "output_type": "display_data"
    },
    {
     "data": {
      "application/vnd.jupyter.widget-view+json": {
       "model_id": "db551e72fc19410191b6e09c93bc2e83",
       "version_major": 2,
       "version_minor": 0
      },
      "text/plain": [
       "Retrieving MaterialsDoc documents:   0%|          | 0/1 [00:00<?, ?it/s]"
      ]
     },
     "metadata": {},
     "output_type": "display_data"
    },
    {
     "data": {
      "application/vnd.jupyter.widget-view+json": {
       "model_id": "63df50acc1774a23a1d77105c3f360c3",
       "version_major": 2,
       "version_minor": 0
      },
      "text/plain": [
       "Retrieving MaterialsDoc documents:   0%|          | 0/1 [00:00<?, ?it/s]"
      ]
     },
     "metadata": {},
     "output_type": "display_data"
    },
    {
     "name": "stderr",
     "output_type": "stream",
     "text": [
      "\r",
      " 24%|████████████████████▊                                                                   | 21/89 [01:15<04:01,  3.56s/it]"
     ]
    },
    {
     "data": {
      "application/vnd.jupyter.widget-view+json": {
       "model_id": "dfaf48001aa844278045899f2b0f157f",
       "version_major": 2,
       "version_minor": 0
      },
      "text/plain": [
       "Retrieving MaterialsDoc documents:   0%|          | 0/2 [00:00<?, ?it/s]"
      ]
     },
     "metadata": {},
     "output_type": "display_data"
    },
    {
     "data": {
      "application/vnd.jupyter.widget-view+json": {
       "model_id": "46381b1e64f54ace8446e4c919ace9e2",
       "version_major": 2,
       "version_minor": 0
      },
      "text/plain": [
       "Retrieving MaterialsDoc documents:   0%|          | 0/1 [00:00<?, ?it/s]"
      ]
     },
     "metadata": {},
     "output_type": "display_data"
    },
    {
     "name": "stderr",
     "output_type": "stream",
     "text": [
      "\r",
      " 25%|█████████████████████▊                                                                  | 22/89 [01:17<03:19,  2.98s/it]"
     ]
    },
    {
     "data": {
      "application/vnd.jupyter.widget-view+json": {
       "model_id": "c37f0c48677943d6951d7203758e7188",
       "version_major": 2,
       "version_minor": 0
      },
      "text/plain": [
       "Retrieving MaterialsDoc documents:   0%|          | 0/3 [00:00<?, ?it/s]"
      ]
     },
     "metadata": {},
     "output_type": "display_data"
    },
    {
     "data": {
      "application/vnd.jupyter.widget-view+json": {
       "model_id": "b132fdfcdf9c48ca9d15bf58e4dc6638",
       "version_major": 2,
       "version_minor": 0
      },
      "text/plain": [
       "Retrieving MaterialsDoc documents:   0%|          | 0/1 [00:00<?, ?it/s]"
      ]
     },
     "metadata": {},
     "output_type": "display_data"
    },
    {
     "name": "stderr",
     "output_type": "stream",
     "text": [
      "\r",
      " 26%|██████████████████████▋                                                                 | 23/89 [01:21<03:36,  3.28s/it]"
     ]
    },
    {
     "data": {
      "application/vnd.jupyter.widget-view+json": {
       "model_id": "cf339438215d47c19e59fd379a72b882",
       "version_major": 2,
       "version_minor": 0
      },
      "text/plain": [
       "Retrieving MaterialsDoc documents:   0%|          | 0/2 [00:00<?, ?it/s]"
      ]
     },
     "metadata": {},
     "output_type": "display_data"
    },
    {
     "data": {
      "application/vnd.jupyter.widget-view+json": {
       "model_id": "3af2580b7a3947af8ac14bdc221f6c2b",
       "version_major": 2,
       "version_minor": 0
      },
      "text/plain": [
       "Retrieving MaterialsDoc documents:   0%|          | 0/1 [00:00<?, ?it/s]"
      ]
     },
     "metadata": {},
     "output_type": "display_data"
    },
    {
     "name": "stderr",
     "output_type": "stream",
     "text": [
      "\r",
      " 27%|███████████████████████▋                                                                | 24/89 [01:23<03:18,  3.05s/it]"
     ]
    },
    {
     "data": {
      "application/vnd.jupyter.widget-view+json": {
       "model_id": "42f2c291f1544d19ad774bfa1660d28f",
       "version_major": 2,
       "version_minor": 0
      },
      "text/plain": [
       "Retrieving MaterialsDoc documents:   0%|          | 0/2 [00:00<?, ?it/s]"
      ]
     },
     "metadata": {},
     "output_type": "display_data"
    },
    {
     "data": {
      "application/vnd.jupyter.widget-view+json": {
       "model_id": "afe0d6c7a96c47c6904395c6e39d8c6e",
       "version_major": 2,
       "version_minor": 0
      },
      "text/plain": [
       "Retrieving MaterialsDoc documents:   0%|          | 0/1 [00:00<?, ?it/s]"
      ]
     },
     "metadata": {},
     "output_type": "display_data"
    },
    {
     "name": "stderr",
     "output_type": "stream",
     "text": [
      "\r",
      " 28%|████████████████████████▋                                                               | 25/89 [01:24<02:34,  2.42s/it]"
     ]
    },
    {
     "data": {
      "application/vnd.jupyter.widget-view+json": {
       "model_id": "a3e9b0de0a5e48218c729224428e756b",
       "version_major": 2,
       "version_minor": 0
      },
      "text/plain": [
       "Retrieving MaterialsDoc documents:   0%|          | 0/3 [00:00<?, ?it/s]"
      ]
     },
     "metadata": {},
     "output_type": "display_data"
    },
    {
     "data": {
      "application/vnd.jupyter.widget-view+json": {
       "model_id": "f207a03f06504c55874fb4e4234615ad",
       "version_major": 2,
       "version_minor": 0
      },
      "text/plain": [
       "Retrieving MaterialsDoc documents:   0%|          | 0/1 [00:00<?, ?it/s]"
      ]
     },
     "metadata": {},
     "output_type": "display_data"
    },
    {
     "name": "stderr",
     "output_type": "stream",
     "text": [
      "\r",
      " 29%|█████████████████████████▋                                                              | 26/89 [01:26<02:23,  2.28s/it]"
     ]
    },
    {
     "data": {
      "application/vnd.jupyter.widget-view+json": {
       "model_id": "181d2e6adeb14160aa90692114f7087e",
       "version_major": 2,
       "version_minor": 0
      },
      "text/plain": [
       "Retrieving MaterialsDoc documents:   0%|          | 0/1 [00:00<?, ?it/s]"
      ]
     },
     "metadata": {},
     "output_type": "display_data"
    },
    {
     "data": {
      "application/vnd.jupyter.widget-view+json": {
       "model_id": "7403b253368f40dc9e46466a4bcf68e9",
       "version_major": 2,
       "version_minor": 0
      },
      "text/plain": [
       "Retrieving MaterialsDoc documents:   0%|          | 0/1 [00:00<?, ?it/s]"
      ]
     },
     "metadata": {},
     "output_type": "display_data"
    },
    {
     "name": "stderr",
     "output_type": "stream",
     "text": [
      "\r",
      " 30%|██████████████████████████▋                                                             | 27/89 [01:28<02:06,  2.05s/it]"
     ]
    },
    {
     "data": {
      "application/vnd.jupyter.widget-view+json": {
       "model_id": "cad9d38670e145bebf5e1e7e4e5f70fe",
       "version_major": 2,
       "version_minor": 0
      },
      "text/plain": [
       "Retrieving MaterialsDoc documents:   0%|          | 0/3 [00:00<?, ?it/s]"
      ]
     },
     "metadata": {},
     "output_type": "display_data"
    },
    {
     "data": {
      "application/vnd.jupyter.widget-view+json": {
       "model_id": "c1932a44346b481f993d49ea3e9bce12",
       "version_major": 2,
       "version_minor": 0
      },
      "text/plain": [
       "Retrieving MaterialsDoc documents:   0%|          | 0/1 [00:00<?, ?it/s]"
      ]
     },
     "metadata": {},
     "output_type": "display_data"
    },
    {
     "data": {
      "application/vnd.jupyter.widget-view+json": {
       "model_id": "f7b2c142db6f43d8a7985ca4df45624f",
       "version_major": 2,
       "version_minor": 0
      },
      "text/plain": [
       "Retrieving MaterialsDoc documents:   0%|          | 0/1 [00:00<?, ?it/s]"
      ]
     },
     "metadata": {},
     "output_type": "display_data"
    },
    {
     "name": "stderr",
     "output_type": "stream",
     "text": [
      "\r",
      " 31%|███████████████████████████▋                                                            | 28/89 [01:29<02:03,  2.02s/it]"
     ]
    },
    {
     "data": {
      "application/vnd.jupyter.widget-view+json": {
       "model_id": "6d0d9794fe0e48d4acca668b32a553f1",
       "version_major": 2,
       "version_minor": 0
      },
      "text/plain": [
       "Retrieving MaterialsDoc documents:   0%|          | 0/1 [00:00<?, ?it/s]"
      ]
     },
     "metadata": {},
     "output_type": "display_data"
    },
    {
     "data": {
      "application/vnd.jupyter.widget-view+json": {
       "model_id": "72763bfee169406db588feb7b01cbde1",
       "version_major": 2,
       "version_minor": 0
      },
      "text/plain": [
       "Retrieving MaterialsDoc documents:   0%|          | 0/1 [00:00<?, ?it/s]"
      ]
     },
     "metadata": {},
     "output_type": "display_data"
    },
    {
     "name": "stderr",
     "output_type": "stream",
     "text": [
      "\r",
      " 33%|████████████████████████████▋                                                           | 29/89 [01:31<01:47,  1.78s/it]"
     ]
    },
    {
     "data": {
      "application/vnd.jupyter.widget-view+json": {
       "model_id": "caf848c2ed694492b16bfe07b7acc852",
       "version_major": 2,
       "version_minor": 0
      },
      "text/plain": [
       "Retrieving MaterialsDoc documents:   0%|          | 0/3 [00:00<?, ?it/s]"
      ]
     },
     "metadata": {},
     "output_type": "display_data"
    },
    {
     "data": {
      "application/vnd.jupyter.widget-view+json": {
       "model_id": "fe05d4feb4f94e9cb9c38c4db65dca7c",
       "version_major": 2,
       "version_minor": 0
      },
      "text/plain": [
       "Retrieving MaterialsDoc documents:   0%|          | 0/1 [00:00<?, ?it/s]"
      ]
     },
     "metadata": {},
     "output_type": "display_data"
    },
    {
     "name": "stderr",
     "output_type": "stream",
     "text": [
      "\r",
      " 34%|█████████████████████████████▋                                                          | 30/89 [01:32<01:40,  1.70s/it]"
     ]
    },
    {
     "data": {
      "application/vnd.jupyter.widget-view+json": {
       "model_id": "8db49d2adca64a5785a918e392868eb1",
       "version_major": 2,
       "version_minor": 0
      },
      "text/plain": [
       "Retrieving MaterialsDoc documents:   0%|          | 0/2 [00:00<?, ?it/s]"
      ]
     },
     "metadata": {},
     "output_type": "display_data"
    },
    {
     "data": {
      "application/vnd.jupyter.widget-view+json": {
       "model_id": "2b0881c8598e485f87bb54956f23e536",
       "version_major": 2,
       "version_minor": 0
      },
      "text/plain": [
       "Retrieving MaterialsDoc documents:   0%|          | 0/1 [00:00<?, ?it/s]"
      ]
     },
     "metadata": {},
     "output_type": "display_data"
    },
    {
     "name": "stderr",
     "output_type": "stream",
     "text": [
      "\r",
      " 35%|██████████████████████████████▋                                                         | 31/89 [01:34<01:35,  1.65s/it]"
     ]
    },
    {
     "data": {
      "application/vnd.jupyter.widget-view+json": {
       "model_id": "ac0f18f86e714788bd1e962d964a90f5",
       "version_major": 2,
       "version_minor": 0
      },
      "text/plain": [
       "Retrieving MaterialsDoc documents:   0%|          | 0/2 [00:00<?, ?it/s]"
      ]
     },
     "metadata": {},
     "output_type": "display_data"
    },
    {
     "data": {
      "application/vnd.jupyter.widget-view+json": {
       "model_id": "ef4e67b7fa524ab3bbadb91f4ca7dd2e",
       "version_major": 2,
       "version_minor": 0
      },
      "text/plain": [
       "Retrieving MaterialsDoc documents:   0%|          | 0/1 [00:00<?, ?it/s]"
      ]
     },
     "metadata": {},
     "output_type": "display_data"
    },
    {
     "name": "stderr",
     "output_type": "stream",
     "text": [
      "\r",
      " 36%|███████████████████████████████▋                                                        | 32/89 [01:35<01:30,  1.59s/it]"
     ]
    },
    {
     "data": {
      "application/vnd.jupyter.widget-view+json": {
       "model_id": "809c2c690e0f44cd8c59209511ee099f",
       "version_major": 2,
       "version_minor": 0
      },
      "text/plain": [
       "Retrieving MaterialsDoc documents:   0%|          | 0/2 [00:00<?, ?it/s]"
      ]
     },
     "metadata": {},
     "output_type": "display_data"
    },
    {
     "data": {
      "application/vnd.jupyter.widget-view+json": {
       "model_id": "82549479ac06467a8cddba12833450f1",
       "version_major": 2,
       "version_minor": 0
      },
      "text/plain": [
       "Retrieving MaterialsDoc documents:   0%|          | 0/1 [00:00<?, ?it/s]"
      ]
     },
     "metadata": {},
     "output_type": "display_data"
    },
    {
     "name": "stderr",
     "output_type": "stream",
     "text": [
      "\r",
      " 37%|████████████████████████████████▋                                                       | 33/89 [01:39<02:12,  2.37s/it]"
     ]
    },
    {
     "data": {
      "application/vnd.jupyter.widget-view+json": {
       "model_id": "202359f47918423e9890716b71a89c30",
       "version_major": 2,
       "version_minor": 0
      },
      "text/plain": [
       "Retrieving MaterialsDoc documents:   0%|          | 0/4 [00:00<?, ?it/s]"
      ]
     },
     "metadata": {},
     "output_type": "display_data"
    },
    {
     "data": {
      "application/vnd.jupyter.widget-view+json": {
       "model_id": "6ec5988958a24a30b39f4093a8df20f3",
       "version_major": 2,
       "version_minor": 0
      },
      "text/plain": [
       "Retrieving MaterialsDoc documents:   0%|          | 0/1 [00:00<?, ?it/s]"
      ]
     },
     "metadata": {},
     "output_type": "display_data"
    },
    {
     "name": "stderr",
     "output_type": "stream",
     "text": [
      "\r",
      " 38%|█████████████████████████████████▌                                                      | 34/89 [01:41<01:52,  2.05s/it]"
     ]
    },
    {
     "data": {
      "application/vnd.jupyter.widget-view+json": {
       "model_id": "07dd6e293dd84c829990a01404262a91",
       "version_major": 2,
       "version_minor": 0
      },
      "text/plain": [
       "Retrieving MaterialsDoc documents:   0%|          | 0/2 [00:00<?, ?it/s]"
      ]
     },
     "metadata": {},
     "output_type": "display_data"
    },
    {
     "data": {
      "application/vnd.jupyter.widget-view+json": {
       "model_id": "65c84877cce644c59eabaa7f1f6e725b",
       "version_major": 2,
       "version_minor": 0
      },
      "text/plain": [
       "Retrieving MaterialsDoc documents:   0%|          | 0/1 [00:00<?, ?it/s]"
      ]
     },
     "metadata": {},
     "output_type": "display_data"
    },
    {
     "data": {
      "application/vnd.jupyter.widget-view+json": {
       "model_id": "27949c30d3014262872902142aa51dbc",
       "version_major": 2,
       "version_minor": 0
      },
      "text/plain": [
       "Retrieving MaterialsDoc documents:   0%|          | 0/1 [00:00<?, ?it/s]"
      ]
     },
     "metadata": {},
     "output_type": "display_data"
    },
    {
     "name": "stderr",
     "output_type": "stream",
     "text": [
      "\r",
      " 39%|██████████████████████████████████▌                                                     | 35/89 [01:43<01:53,  2.10s/it]"
     ]
    },
    {
     "data": {
      "application/vnd.jupyter.widget-view+json": {
       "model_id": "379ffcb63e244571921162b6fe748614",
       "version_major": 2,
       "version_minor": 0
      },
      "text/plain": [
       "Retrieving MaterialsDoc documents:   0%|          | 0/2 [00:00<?, ?it/s]"
      ]
     },
     "metadata": {},
     "output_type": "display_data"
    },
    {
     "data": {
      "application/vnd.jupyter.widget-view+json": {
       "model_id": "24c5c5c600be4174a8c14586f06ba2b7",
       "version_major": 2,
       "version_minor": 0
      },
      "text/plain": [
       "Retrieving MaterialsDoc documents:   0%|          | 0/1 [00:00<?, ?it/s]"
      ]
     },
     "metadata": {},
     "output_type": "display_data"
    },
    {
     "name": "stderr",
     "output_type": "stream",
     "text": [
      "\r",
      " 40%|███████████████████████████████████▌                                                    | 36/89 [01:44<01:36,  1.83s/it]"
     ]
    },
    {
     "data": {
      "application/vnd.jupyter.widget-view+json": {
       "model_id": "80f2c90b357843f8b261e47fb15425c5",
       "version_major": 2,
       "version_minor": 0
      },
      "text/plain": [
       "Retrieving MaterialsDoc documents:   0%|          | 0/2 [00:00<?, ?it/s]"
      ]
     },
     "metadata": {},
     "output_type": "display_data"
    },
    {
     "data": {
      "application/vnd.jupyter.widget-view+json": {
       "model_id": "7ce1a79a4c3a4a97b327393a571ea17d",
       "version_major": 2,
       "version_minor": 0
      },
      "text/plain": [
       "Retrieving MaterialsDoc documents:   0%|          | 0/1 [00:00<?, ?it/s]"
      ]
     },
     "metadata": {},
     "output_type": "display_data"
    },
    {
     "name": "stderr",
     "output_type": "stream",
     "text": [
      "\r",
      " 42%|████████████████████████████████████▌                                                   | 37/89 [01:45<01:26,  1.66s/it]"
     ]
    },
    {
     "data": {
      "application/vnd.jupyter.widget-view+json": {
       "model_id": "874bafb08e914033a47494d24160f5e5",
       "version_major": 2,
       "version_minor": 0
      },
      "text/plain": [
       "Retrieving MaterialsDoc documents:   0%|          | 0/2 [00:00<?, ?it/s]"
      ]
     },
     "metadata": {},
     "output_type": "display_data"
    },
    {
     "data": {
      "application/vnd.jupyter.widget-view+json": {
       "model_id": "6df069c9f4e04db5bf08010a7547db02",
       "version_major": 2,
       "version_minor": 0
      },
      "text/plain": [
       "Retrieving MaterialsDoc documents:   0%|          | 0/1 [00:00<?, ?it/s]"
      ]
     },
     "metadata": {},
     "output_type": "display_data"
    },
    {
     "name": "stderr",
     "output_type": "stream",
     "text": [
      "\r",
      " 43%|█████████████████████████████████████▌                                                  | 38/89 [01:49<01:52,  2.21s/it]"
     ]
    },
    {
     "data": {
      "application/vnd.jupyter.widget-view+json": {
       "model_id": "4798bc0c846e4e08b97aa8406dd9b42c",
       "version_major": 2,
       "version_minor": 0
      },
      "text/plain": [
       "Retrieving MaterialsDoc documents:   0%|          | 0/2 [00:00<?, ?it/s]"
      ]
     },
     "metadata": {},
     "output_type": "display_data"
    },
    {
     "data": {
      "application/vnd.jupyter.widget-view+json": {
       "model_id": "54e7cb1112ee47d1bfc4ef06f3d50e87",
       "version_major": 2,
       "version_minor": 0
      },
      "text/plain": [
       "Retrieving MaterialsDoc documents:   0%|          | 0/1 [00:00<?, ?it/s]"
      ]
     },
     "metadata": {},
     "output_type": "display_data"
    },
    {
     "name": "stderr",
     "output_type": "stream",
     "text": [
      "\r",
      " 44%|██████████████████████████████████████▌                                                 | 39/89 [01:51<01:48,  2.18s/it]"
     ]
    },
    {
     "data": {
      "application/vnd.jupyter.widget-view+json": {
       "model_id": "78ed5d407561497a92307778f5cfee49",
       "version_major": 2,
       "version_minor": 0
      },
      "text/plain": [
       "Retrieving MaterialsDoc documents:   0%|          | 0/2 [00:00<?, ?it/s]"
      ]
     },
     "metadata": {},
     "output_type": "display_data"
    },
    {
     "data": {
      "application/vnd.jupyter.widget-view+json": {
       "model_id": "01c70e2df31d48c7ac0c9e20936cbbdc",
       "version_major": 2,
       "version_minor": 0
      },
      "text/plain": [
       "Retrieving MaterialsDoc documents:   0%|          | 0/1 [00:00<?, ?it/s]"
      ]
     },
     "metadata": {},
     "output_type": "display_data"
    },
    {
     "name": "stderr",
     "output_type": "stream",
     "text": [
      "\r",
      " 45%|███████████████████████████████████████▌                                                | 40/89 [01:52<01:29,  1.83s/it]"
     ]
    },
    {
     "data": {
      "application/vnd.jupyter.widget-view+json": {
       "model_id": "8b8291a1c82f4fc08e9383f641c1e141",
       "version_major": 2,
       "version_minor": 0
      },
      "text/plain": [
       "Retrieving MaterialsDoc documents:   0%|          | 0/5 [00:00<?, ?it/s]"
      ]
     },
     "metadata": {},
     "output_type": "display_data"
    },
    {
     "data": {
      "application/vnd.jupyter.widget-view+json": {
       "model_id": "e6aa9604f6d244eb9974dbc14a582241",
       "version_major": 2,
       "version_minor": 0
      },
      "text/plain": [
       "Retrieving MaterialsDoc documents:   0%|          | 0/1 [00:00<?, ?it/s]"
      ]
     },
     "metadata": {},
     "output_type": "display_data"
    },
    {
     "data": {
      "application/vnd.jupyter.widget-view+json": {
       "model_id": "e6f678e570d348afae6705410b63c50b",
       "version_major": 2,
       "version_minor": 0
      },
      "text/plain": [
       "Retrieving MaterialsDoc documents:   0%|          | 0/1 [00:00<?, ?it/s]"
      ]
     },
     "metadata": {},
     "output_type": "display_data"
    },
    {
     "name": "stderr",
     "output_type": "stream",
     "text": [
      "\r",
      " 46%|████████████████████████████████████████▌                                               | 41/89 [01:53<01:13,  1.53s/it]"
     ]
    },
    {
     "data": {
      "application/vnd.jupyter.widget-view+json": {
       "model_id": "a15cefd98b6845109592cb1ca82af63b",
       "version_major": 2,
       "version_minor": 0
      },
      "text/plain": [
       "Retrieving MaterialsDoc documents:   0%|          | 0/10 [00:00<?, ?it/s]"
      ]
     },
     "metadata": {},
     "output_type": "display_data"
    },
    {
     "data": {
      "application/vnd.jupyter.widget-view+json": {
       "model_id": "7c6b4c9c4c4f43d192ff4f56d6187c6e",
       "version_major": 2,
       "version_minor": 0
      },
      "text/plain": [
       "Retrieving MaterialsDoc documents:   0%|          | 0/1 [00:00<?, ?it/s]"
      ]
     },
     "metadata": {},
     "output_type": "display_data"
    },
    {
     "name": "stderr",
     "output_type": "stream",
     "text": [
      "\r",
      " 47%|█████████████████████████████████████████▌                                              | 42/89 [01:54<01:06,  1.42s/it]"
     ]
    },
    {
     "data": {
      "application/vnd.jupyter.widget-view+json": {
       "model_id": "3432f1d866dc42e1acad8571be2c2ccb",
       "version_major": 2,
       "version_minor": 0
      },
      "text/plain": [
       "Retrieving MaterialsDoc documents:   0%|          | 0/10 [00:00<?, ?it/s]"
      ]
     },
     "metadata": {},
     "output_type": "display_data"
    },
    {
     "data": {
      "application/vnd.jupyter.widget-view+json": {
       "model_id": "6d563b99a03b445c9d6be36d604b43fb",
       "version_major": 2,
       "version_minor": 0
      },
      "text/plain": [
       "Retrieving MaterialsDoc documents:   0%|          | 0/1 [00:00<?, ?it/s]"
      ]
     },
     "metadata": {},
     "output_type": "display_data"
    },
    {
     "name": "stderr",
     "output_type": "stream",
     "text": [
      "\r",
      " 48%|██████████████████████████████████████████▌                                             | 43/89 [01:55<00:55,  1.21s/it]"
     ]
    },
    {
     "data": {
      "application/vnd.jupyter.widget-view+json": {
       "model_id": "32678cd1ff5645ad9d63fd89b386792b",
       "version_major": 2,
       "version_minor": 0
      },
      "text/plain": [
       "Retrieving MaterialsDoc documents:   0%|          | 0/6 [00:00<?, ?it/s]"
      ]
     },
     "metadata": {},
     "output_type": "display_data"
    },
    {
     "data": {
      "application/vnd.jupyter.widget-view+json": {
       "model_id": "3ac8245e7a304f52a4feb326b9fe0c93",
       "version_major": 2,
       "version_minor": 0
      },
      "text/plain": [
       "Retrieving MaterialsDoc documents:   0%|          | 0/1 [00:00<?, ?it/s]"
      ]
     },
     "metadata": {},
     "output_type": "display_data"
    },
    {
     "name": "stderr",
     "output_type": "stream",
     "text": [
      "\r",
      " 49%|███████████████████████████████████████████▌                                            | 44/89 [01:56<00:51,  1.15s/it]"
     ]
    },
    {
     "data": {
      "application/vnd.jupyter.widget-view+json": {
       "model_id": "2ec626b735c04cd79e80709552d0fafe",
       "version_major": 2,
       "version_minor": 0
      },
      "text/plain": [
       "Retrieving MaterialsDoc documents:   0%|          | 0/8 [00:00<?, ?it/s]"
      ]
     },
     "metadata": {},
     "output_type": "display_data"
    },
    {
     "data": {
      "application/vnd.jupyter.widget-view+json": {
       "model_id": "b4d4ee83f9cf497faa6b384fa12a7e78",
       "version_major": 2,
       "version_minor": 0
      },
      "text/plain": [
       "Retrieving MaterialsDoc documents:   0%|          | 0/1 [00:00<?, ?it/s]"
      ]
     },
     "metadata": {},
     "output_type": "display_data"
    },
    {
     "name": "stderr",
     "output_type": "stream",
     "text": [
      "\r",
      " 51%|████████████████████████████████████████████▍                                           | 45/89 [01:57<00:51,  1.18s/it]"
     ]
    },
    {
     "data": {
      "application/vnd.jupyter.widget-view+json": {
       "model_id": "17120f975f5d42ee8c3f4677d3b8ae76",
       "version_major": 2,
       "version_minor": 0
      },
      "text/plain": [
       "Retrieving MaterialsDoc documents:   0%|          | 0/8 [00:00<?, ?it/s]"
      ]
     },
     "metadata": {},
     "output_type": "display_data"
    },
    {
     "data": {
      "application/vnd.jupyter.widget-view+json": {
       "model_id": "95d8fe7d90b64518accefc899c811cb9",
       "version_major": 2,
       "version_minor": 0
      },
      "text/plain": [
       "Retrieving MaterialsDoc documents:   0%|          | 0/1 [00:00<?, ?it/s]"
      ]
     },
     "metadata": {},
     "output_type": "display_data"
    },
    {
     "name": "stderr",
     "output_type": "stream",
     "text": [
      "\r",
      " 52%|█████████████████████████████████████████████▍                                          | 46/89 [01:58<00:43,  1.00s/it]"
     ]
    },
    {
     "data": {
      "application/vnd.jupyter.widget-view+json": {
       "model_id": "d0e47228acc645e29f5b81f527749fbc",
       "version_major": 2,
       "version_minor": 0
      },
      "text/plain": [
       "Retrieving MaterialsDoc documents:   0%|          | 0/4 [00:00<?, ?it/s]"
      ]
     },
     "metadata": {},
     "output_type": "display_data"
    },
    {
     "data": {
      "application/vnd.jupyter.widget-view+json": {
       "model_id": "8014cb023e1947ffa44c1d2f6e4cdc1f",
       "version_major": 2,
       "version_minor": 0
      },
      "text/plain": [
       "Retrieving MaterialsDoc documents:   0%|          | 0/1 [00:00<?, ?it/s]"
      ]
     },
     "metadata": {},
     "output_type": "display_data"
    },
    {
     "name": "stderr",
     "output_type": "stream",
     "text": [
      "\r",
      " 53%|██████████████████████████████████████████████▍                                         | 47/89 [01:59<00:45,  1.08s/it]"
     ]
    },
    {
     "data": {
      "application/vnd.jupyter.widget-view+json": {
       "model_id": "746dcf80990a4e5bbb89ca7398c0cacf",
       "version_major": 2,
       "version_minor": 0
      },
      "text/plain": [
       "Retrieving MaterialsDoc documents:   0%|          | 0/5 [00:00<?, ?it/s]"
      ]
     },
     "metadata": {},
     "output_type": "display_data"
    },
    {
     "data": {
      "application/vnd.jupyter.widget-view+json": {
       "model_id": "f0cdfc76d5ee4d6cbd7ff2cd2fea86b6",
       "version_major": 2,
       "version_minor": 0
      },
      "text/plain": [
       "Retrieving MaterialsDoc documents:   0%|          | 0/1 [00:00<?, ?it/s]"
      ]
     },
     "metadata": {},
     "output_type": "display_data"
    },
    {
     "name": "stderr",
     "output_type": "stream",
     "text": [
      "\r",
      " 54%|███████████████████████████████████████████████▍                                        | 48/89 [02:00<00:41,  1.01s/it]"
     ]
    },
    {
     "data": {
      "application/vnd.jupyter.widget-view+json": {
       "model_id": "d26e55b7b06a49afba9b520336295182",
       "version_major": 2,
       "version_minor": 0
      },
      "text/plain": [
       "Retrieving MaterialsDoc documents:   0%|          | 0/8 [00:00<?, ?it/s]"
      ]
     },
     "metadata": {},
     "output_type": "display_data"
    },
    {
     "data": {
      "application/vnd.jupyter.widget-view+json": {
       "model_id": "3d37d1d77de845afa7f7646dba4cd00b",
       "version_major": 2,
       "version_minor": 0
      },
      "text/plain": [
       "Retrieving MaterialsDoc documents:   0%|          | 0/1 [00:00<?, ?it/s]"
      ]
     },
     "metadata": {},
     "output_type": "display_data"
    },
    {
     "name": "stderr",
     "output_type": "stream",
     "text": [
      "\r",
      " 55%|████████████████████████████████████████████████▍                                       | 49/89 [02:01<00:41,  1.03s/it]"
     ]
    },
    {
     "data": {
      "application/vnd.jupyter.widget-view+json": {
       "model_id": "51c0186942c143a6b43e01e7bdccd413",
       "version_major": 2,
       "version_minor": 0
      },
      "text/plain": [
       "Retrieving MaterialsDoc documents:   0%|          | 0/3 [00:00<?, ?it/s]"
      ]
     },
     "metadata": {},
     "output_type": "display_data"
    },
    {
     "data": {
      "application/vnd.jupyter.widget-view+json": {
       "model_id": "425f54483c8041a49ae7e2b8d0a9765b",
       "version_major": 2,
       "version_minor": 0
      },
      "text/plain": [
       "Retrieving MaterialsDoc documents:   0%|          | 0/1 [00:00<?, ?it/s]"
      ]
     },
     "metadata": {},
     "output_type": "display_data"
    },
    {
     "name": "stderr",
     "output_type": "stream",
     "text": [
      "\r",
      " 56%|█████████████████████████████████████████████████▍                                      | 50/89 [02:02<00:44,  1.14s/it]"
     ]
    },
    {
     "data": {
      "application/vnd.jupyter.widget-view+json": {
       "model_id": "1688aa0bb73449e686e2e5af1a4580de",
       "version_major": 2,
       "version_minor": 0
      },
      "text/plain": [
       "Retrieving MaterialsDoc documents:   0%|          | 0/4 [00:00<?, ?it/s]"
      ]
     },
     "metadata": {},
     "output_type": "display_data"
    },
    {
     "data": {
      "application/vnd.jupyter.widget-view+json": {
       "model_id": "9e81db04ba7644e59e7e5f5c06f17913",
       "version_major": 2,
       "version_minor": 0
      },
      "text/plain": [
       "Retrieving MaterialsDoc documents:   0%|          | 0/1 [00:00<?, ?it/s]"
      ]
     },
     "metadata": {},
     "output_type": "display_data"
    },
    {
     "name": "stderr",
     "output_type": "stream",
     "text": [
      "\r",
      " 57%|██████████████████████████████████████████████████▍                                     | 51/89 [02:03<00:39,  1.04s/it]"
     ]
    },
    {
     "data": {
      "application/vnd.jupyter.widget-view+json": {
       "model_id": "f32ac6e0654845b7bc7d6e7bad940252",
       "version_major": 2,
       "version_minor": 0
      },
      "text/plain": [
       "Retrieving MaterialsDoc documents:   0%|          | 0/7 [00:00<?, ?it/s]"
      ]
     },
     "metadata": {},
     "output_type": "display_data"
    },
    {
     "data": {
      "application/vnd.jupyter.widget-view+json": {
       "model_id": "c4c1322da79942308ca95c031f861066",
       "version_major": 2,
       "version_minor": 0
      },
      "text/plain": [
       "Retrieving MaterialsDoc documents:   0%|          | 0/1 [00:00<?, ?it/s]"
      ]
     },
     "metadata": {},
     "output_type": "display_data"
    },
    {
     "name": "stderr",
     "output_type": "stream",
     "text": [
      "\r",
      " 58%|███████████████████████████████████████████████████▍                                    | 52/89 [02:03<00:31,  1.17it/s]"
     ]
    },
    {
     "data": {
      "application/vnd.jupyter.widget-view+json": {
       "model_id": "960d74b57cf34f56a0be686bbd48f359",
       "version_major": 2,
       "version_minor": 0
      },
      "text/plain": [
       "Retrieving MaterialsDoc documents:   0%|          | 0/3 [00:00<?, ?it/s]"
      ]
     },
     "metadata": {},
     "output_type": "display_data"
    },
    {
     "data": {
      "application/vnd.jupyter.widget-view+json": {
       "model_id": "c87a1a3d67d94dbeaf39e2b741be6547",
       "version_major": 2,
       "version_minor": 0
      },
      "text/plain": [
       "Retrieving MaterialsDoc documents:   0%|          | 0/1 [00:00<?, ?it/s]"
      ]
     },
     "metadata": {},
     "output_type": "display_data"
    },
    {
     "name": "stderr",
     "output_type": "stream",
     "text": [
      "\r",
      " 60%|████████████████████████████████████████████████████▍                                   | 53/89 [02:04<00:30,  1.17it/s]"
     ]
    },
    {
     "data": {
      "application/vnd.jupyter.widget-view+json": {
       "model_id": "673ab5e0414248e78e3c72c23654748a",
       "version_major": 2,
       "version_minor": 0
      },
      "text/plain": [
       "Retrieving MaterialsDoc documents:   0%|          | 0/5 [00:00<?, ?it/s]"
      ]
     },
     "metadata": {},
     "output_type": "display_data"
    },
    {
     "data": {
      "application/vnd.jupyter.widget-view+json": {
       "model_id": "1e6ab1cd2c2844578a5040cedda0d1b6",
       "version_major": 2,
       "version_minor": 0
      },
      "text/plain": [
       "Retrieving MaterialsDoc documents:   0%|          | 0/1 [00:00<?, ?it/s]"
      ]
     },
     "metadata": {},
     "output_type": "display_data"
    },
    {
     "name": "stderr",
     "output_type": "stream",
     "text": [
      "\r",
      " 61%|█████████████████████████████████████████████████████▍                                  | 54/89 [02:05<00:29,  1.18it/s]"
     ]
    },
    {
     "data": {
      "application/vnd.jupyter.widget-view+json": {
       "model_id": "a0f547e699bb4a339f568ab3278cdffb",
       "version_major": 2,
       "version_minor": 0
      },
      "text/plain": [
       "Retrieving MaterialsDoc documents:   0%|          | 0/10 [00:00<?, ?it/s]"
      ]
     },
     "metadata": {},
     "output_type": "display_data"
    },
    {
     "data": {
      "application/vnd.jupyter.widget-view+json": {
       "model_id": "cd62c26615a543adaf7e0c1691c819b6",
       "version_major": 2,
       "version_minor": 0
      },
      "text/plain": [
       "Retrieving MaterialsDoc documents:   0%|          | 0/1 [00:00<?, ?it/s]"
      ]
     },
     "metadata": {},
     "output_type": "display_data"
    },
    {
     "data": {
      "application/vnd.jupyter.widget-view+json": {
       "model_id": "16b58874cd094dd483017da0f7d76c42",
       "version_major": 2,
       "version_minor": 0
      },
      "text/plain": [
       "Retrieving MaterialsDoc documents:   0%|          | 0/1 [00:00<?, ?it/s]"
      ]
     },
     "metadata": {},
     "output_type": "display_data"
    },
    {
     "name": "stderr",
     "output_type": "stream",
     "text": [
      "\r",
      " 62%|██████████████████████████████████████████████████████▍                                 | 55/89 [02:07<00:42,  1.24s/it]"
     ]
    },
    {
     "data": {
      "application/vnd.jupyter.widget-view+json": {
       "model_id": "9d29dfa3f93b4fa8a0240bfbe6ee6382",
       "version_major": 2,
       "version_minor": 0
      },
      "text/plain": [
       "Retrieving MaterialsDoc documents:   0%|          | 0/4 [00:00<?, ?it/s]"
      ]
     },
     "metadata": {},
     "output_type": "display_data"
    },
    {
     "data": {
      "application/vnd.jupyter.widget-view+json": {
       "model_id": "bf9f69822c4546678e8cbe23228230e2",
       "version_major": 2,
       "version_minor": 0
      },
      "text/plain": [
       "Retrieving MaterialsDoc documents:   0%|          | 0/1 [00:00<?, ?it/s]"
      ]
     },
     "metadata": {},
     "output_type": "display_data"
    },
    {
     "name": "stderr",
     "output_type": "stream",
     "text": [
      "\r",
      " 63%|███████████████████████████████████████████████████████▎                                | 56/89 [02:16<01:59,  3.62s/it]"
     ]
    },
    {
     "data": {
      "application/vnd.jupyter.widget-view+json": {
       "model_id": "2606f135f1964162b76f5c264004b055",
       "version_major": 2,
       "version_minor": 0
      },
      "text/plain": [
       "Retrieving MaterialsDoc documents:   0%|          | 0/8 [00:00<?, ?it/s]"
      ]
     },
     "metadata": {},
     "output_type": "display_data"
    },
    {
     "data": {
      "application/vnd.jupyter.widget-view+json": {
       "model_id": "94a7fd26a6c540da867fbe66531c0da5",
       "version_major": 2,
       "version_minor": 0
      },
      "text/plain": [
       "Retrieving MaterialsDoc documents:   0%|          | 0/1 [00:00<?, ?it/s]"
      ]
     },
     "metadata": {},
     "output_type": "display_data"
    },
    {
     "name": "stderr",
     "output_type": "stream",
     "text": [
      "\r",
      " 64%|████████████████████████████████████████████████████████▎                               | 57/89 [02:19<01:49,  3.42s/it]"
     ]
    },
    {
     "data": {
      "application/vnd.jupyter.widget-view+json": {
       "model_id": "721873d0228d4752870847b33ad645b7",
       "version_major": 2,
       "version_minor": 0
      },
      "text/plain": [
       "Retrieving MaterialsDoc documents:   0%|          | 0/4 [00:00<?, ?it/s]"
      ]
     },
     "metadata": {},
     "output_type": "display_data"
    },
    {
     "data": {
      "application/vnd.jupyter.widget-view+json": {
       "model_id": "299e418576b24cebb6a87e9d71e6ab60",
       "version_major": 2,
       "version_minor": 0
      },
      "text/plain": [
       "Retrieving MaterialsDoc documents:   0%|          | 0/1 [00:00<?, ?it/s]"
      ]
     },
     "metadata": {},
     "output_type": "display_data"
    },
    {
     "name": "stderr",
     "output_type": "stream",
     "text": [
      "\r",
      " 65%|█████████████████████████████████████████████████████████▎                              | 58/89 [02:21<01:26,  2.79s/it]"
     ]
    },
    {
     "data": {
      "application/vnd.jupyter.widget-view+json": {
       "model_id": "e6a190dac5154016a9c7064c3aac8bfe",
       "version_major": 2,
       "version_minor": 0
      },
      "text/plain": [
       "Retrieving MaterialsDoc documents:   0%|          | 0/7 [00:00<?, ?it/s]"
      ]
     },
     "metadata": {},
     "output_type": "display_data"
    },
    {
     "data": {
      "application/vnd.jupyter.widget-view+json": {
       "model_id": "2144cfb7120f491daa9b4c60064c7861",
       "version_major": 2,
       "version_minor": 0
      },
      "text/plain": [
       "Retrieving MaterialsDoc documents:   0%|          | 0/1 [00:00<?, ?it/s]"
      ]
     },
     "metadata": {},
     "output_type": "display_data"
    },
    {
     "name": "stderr",
     "output_type": "stream",
     "text": [
      "\r",
      " 66%|██████████████████████████████████████████████████████████▎                             | 59/89 [02:24<01:28,  2.96s/it]"
     ]
    },
    {
     "data": {
      "application/vnd.jupyter.widget-view+json": {
       "model_id": "eb2325c1c275434982e3efa3fe3f113b",
       "version_major": 2,
       "version_minor": 0
      },
      "text/plain": [
       "Retrieving MaterialsDoc documents:   0%|          | 0/8 [00:00<?, ?it/s]"
      ]
     },
     "metadata": {},
     "output_type": "display_data"
    },
    {
     "data": {
      "application/vnd.jupyter.widget-view+json": {
       "model_id": "06f3b71d95da462fba6ca560de407b1c",
       "version_major": 2,
       "version_minor": 0
      },
      "text/plain": [
       "Retrieving MaterialsDoc documents:   0%|          | 0/1 [00:00<?, ?it/s]"
      ]
     },
     "metadata": {},
     "output_type": "display_data"
    },
    {
     "name": "stderr",
     "output_type": "stream",
     "text": [
      "\r",
      " 67%|███████████████████████████████████████████████████████████▎                            | 60/89 [02:27<01:24,  2.92s/it]"
     ]
    },
    {
     "data": {
      "application/vnd.jupyter.widget-view+json": {
       "model_id": "b39d20558e9b4767aa6911dd1647785d",
       "version_major": 2,
       "version_minor": 0
      },
      "text/plain": [
       "Retrieving MaterialsDoc documents:   0%|          | 0/8 [00:00<?, ?it/s]"
      ]
     },
     "metadata": {},
     "output_type": "display_data"
    },
    {
     "data": {
      "application/vnd.jupyter.widget-view+json": {
       "model_id": "602c40afd81a40cc89bcb348bc7d4b12",
       "version_major": 2,
       "version_minor": 0
      },
      "text/plain": [
       "Retrieving MaterialsDoc documents:   0%|          | 0/1 [00:00<?, ?it/s]"
      ]
     },
     "metadata": {},
     "output_type": "display_data"
    },
    {
     "name": "stderr",
     "output_type": "stream",
     "text": [
      "\r",
      " 69%|████████████████████████████████████████████████████████████▎                           | 61/89 [02:31<01:33,  3.34s/it]"
     ]
    },
    {
     "data": {
      "application/vnd.jupyter.widget-view+json": {
       "model_id": "babc42290b5d4e4d887500a46d104b5b",
       "version_major": 2,
       "version_minor": 0
      },
      "text/plain": [
       "Retrieving MaterialsDoc documents:   0%|          | 0/1 [00:00<?, ?it/s]"
      ]
     },
     "metadata": {},
     "output_type": "display_data"
    },
    {
     "data": {
      "application/vnd.jupyter.widget-view+json": {
       "model_id": "0ddf0187dcc0456abde9b7a177fabd16",
       "version_major": 2,
       "version_minor": 0
      },
      "text/plain": [
       "Retrieving MaterialsDoc documents:   0%|          | 0/1 [00:00<?, ?it/s]"
      ]
     },
     "metadata": {},
     "output_type": "display_data"
    },
    {
     "name": "stderr",
     "output_type": "stream",
     "text": [
      "\r",
      " 70%|█████████████████████████████████████████████████████████████▎                          | 62/89 [02:33<01:20,  2.97s/it]"
     ]
    },
    {
     "data": {
      "application/vnd.jupyter.widget-view+json": {
       "model_id": "a46fc0d21c2a46ba90151e9120ac6546",
       "version_major": 2,
       "version_minor": 0
      },
      "text/plain": [
       "Retrieving MaterialsDoc documents:   0%|          | 0/4 [00:00<?, ?it/s]"
      ]
     },
     "metadata": {},
     "output_type": "display_data"
    },
    {
     "data": {
      "application/vnd.jupyter.widget-view+json": {
       "model_id": "ba28acd3b24342019138c3c1b3c0f171",
       "version_major": 2,
       "version_minor": 0
      },
      "text/plain": [
       "Retrieving MaterialsDoc documents:   0%|          | 0/1 [00:00<?, ?it/s]"
      ]
     },
     "metadata": {},
     "output_type": "display_data"
    },
    {
     "name": "stderr",
     "output_type": "stream",
     "text": [
      "\r",
      " 71%|██████████████████████████████████████████████████████████████▎                         | 63/89 [02:35<01:09,  2.66s/it]"
     ]
    },
    {
     "data": {
      "application/vnd.jupyter.widget-view+json": {
       "model_id": "fc0781e86a26484091a6b34778ed62a9",
       "version_major": 2,
       "version_minor": 0
      },
      "text/plain": [
       "Retrieving MaterialsDoc documents:   0%|          | 0/5 [00:00<?, ?it/s]"
      ]
     },
     "metadata": {},
     "output_type": "display_data"
    },
    {
     "data": {
      "application/vnd.jupyter.widget-view+json": {
       "model_id": "4136a141980c43d1915a6d9ea831cb6f",
       "version_major": 2,
       "version_minor": 0
      },
      "text/plain": [
       "Retrieving MaterialsDoc documents:   0%|          | 0/1 [00:00<?, ?it/s]"
      ]
     },
     "metadata": {},
     "output_type": "display_data"
    },
    {
     "name": "stderr",
     "output_type": "stream",
     "text": [
      "\r",
      " 72%|███████████████████████████████████████████████████████████████▎                        | 64/89 [02:38<01:08,  2.74s/it]"
     ]
    },
    {
     "data": {
      "application/vnd.jupyter.widget-view+json": {
       "model_id": "b5e29fce45eb4b798adebe915094bc04",
       "version_major": 2,
       "version_minor": 0
      },
      "text/plain": [
       "Retrieving MaterialsDoc documents:   0%|          | 0/2 [00:00<?, ?it/s]"
      ]
     },
     "metadata": {},
     "output_type": "display_data"
    },
    {
     "data": {
      "application/vnd.jupyter.widget-view+json": {
       "model_id": "93ba6270dc434fc7ae448b06a0100ae7",
       "version_major": 2,
       "version_minor": 0
      },
      "text/plain": [
       "Retrieving MaterialsDoc documents:   0%|          | 0/1 [00:00<?, ?it/s]"
      ]
     },
     "metadata": {},
     "output_type": "display_data"
    },
    {
     "name": "stderr",
     "output_type": "stream",
     "text": [
      "\r",
      " 73%|████████████████████████████████████████████████████████████████▎                       | 65/89 [02:41<01:07,  2.80s/it]"
     ]
    },
    {
     "data": {
      "application/vnd.jupyter.widget-view+json": {
       "model_id": "49e012f1ecef43f2a40ed83597f9be2c",
       "version_major": 2,
       "version_minor": 0
      },
      "text/plain": [
       "Retrieving MaterialsDoc documents:   0%|          | 0/4 [00:00<?, ?it/s]"
      ]
     },
     "metadata": {},
     "output_type": "display_data"
    },
    {
     "data": {
      "application/vnd.jupyter.widget-view+json": {
       "model_id": "5027f3398f43491c873e97aef138e93d",
       "version_major": 2,
       "version_minor": 0
      },
      "text/plain": [
       "Retrieving MaterialsDoc documents:   0%|          | 0/1 [00:00<?, ?it/s]"
      ]
     },
     "metadata": {},
     "output_type": "display_data"
    },
    {
     "name": "stderr",
     "output_type": "stream",
     "text": [
      "\r",
      " 74%|█████████████████████████████████████████████████████████████████▎                      | 66/89 [02:43<01:01,  2.67s/it]"
     ]
    },
    {
     "data": {
      "application/vnd.jupyter.widget-view+json": {
       "model_id": "929698e7bbba4d3cb1a259ae9290f25b",
       "version_major": 2,
       "version_minor": 0
      },
      "text/plain": [
       "Retrieving MaterialsDoc documents:   0%|          | 0/3 [00:00<?, ?it/s]"
      ]
     },
     "metadata": {},
     "output_type": "display_data"
    },
    {
     "data": {
      "application/vnd.jupyter.widget-view+json": {
       "model_id": "f63aa830800d489fb99832a278ac49e3",
       "version_major": 2,
       "version_minor": 0
      },
      "text/plain": [
       "Retrieving MaterialsDoc documents:   0%|          | 0/1 [00:00<?, ?it/s]"
      ]
     },
     "metadata": {},
     "output_type": "display_data"
    },
    {
     "name": "stderr",
     "output_type": "stream",
     "text": [
      " 75%|██████████████████████████████████████████████████████████████████▏                     | 67/89 [02:45<00:51,  2.35s/it]Traceback (most recent call last):\n",
      "  File \"/var/folders/ql/m5k56v8n5sz5880n5sksmc9w0000gn/T/ipykernel_7049/617359052.py\", line 54, in <module>\n",
      "    mids = mpr.get_material_ids(s.composition.reduced_formula)\n",
      "  File \"/Users/shyue/miniconda3/envs/mavrl/lib/python3.9/site-packages/mp_api/client/mprester.py\", line 417, in get_material_ids\n",
      "    for doc in self.materials.search(\n",
      "  File \"/Users/shyue/miniconda3/envs/mavrl/lib/python3.9/site-packages/mp_api/client/routes/materials.py\", line 172, in search\n",
      "    return super()._search(\n",
      "  File \"/Users/shyue/miniconda3/envs/mavrl/lib/python3.9/site-packages/mp_api/client/core/client.py\", line 940, in _search\n",
      "    return self._get_all_documents(\n",
      "  File \"/Users/shyue/miniconda3/envs/mavrl/lib/python3.9/site-packages/mp_api/client/core/client.py\", line 987, in _get_all_documents\n",
      "    results = self._query_resource(\n",
      "  File \"/Users/shyue/miniconda3/envs/mavrl/lib/python3.9/site-packages/mp_api/client/core/client.py\", line 288, in _query_resource\n",
      "    data = self._submit_requests(\n",
      "  File \"/Users/shyue/miniconda3/envs/mavrl/lib/python3.9/site-packages/mp_api/client/core/client.py\", line 429, in _submit_requests\n",
      "    initial_data_tuples = self._multi_thread(\n",
      "  File \"/Users/shyue/miniconda3/envs/mavrl/lib/python3.9/site-packages/mp_api/client/core/client.py\", line 643, in _multi_thread\n",
      "    data, subtotal = future.result()\n",
      "  File \"/Users/shyue/miniconda3/envs/mavrl/lib/python3.9/concurrent/futures/_base.py\", line 439, in result\n",
      "    return self.__get_result()\n",
      "  File \"/Users/shyue/miniconda3/envs/mavrl/lib/python3.9/concurrent/futures/_base.py\", line 391, in __get_result\n",
      "    raise self._exception\n",
      "  File \"/Users/shyue/miniconda3/envs/mavrl/lib/python3.9/concurrent/futures/thread.py\", line 58, in run\n",
      "    result = self.fn(*self.args, **self.kwargs)\n",
      "  File \"/Users/shyue/miniconda3/envs/mavrl/lib/python3.9/site-packages/mp_api/client/core/client.py\", line 745, in _submit_request_and_process\n",
      "    raise MPRestError(\n",
      "mp_api.client.core.client.MPRestError: REST query returned with error status code 504 on URL https://api.materialsproject.org/materials/core/?deprecated=False&_fields=material_id&formula=KTaO3&_limit=1000 with message:\n",
      "Server timed out trying to obtain data. Try again with a smaller request.\n",
      " 76%|███████████████████████████████████████████████████████████████████▏                    | 68/89 [03:05<02:42,  7.76s/it]"
     ]
    },
    {
     "data": {
      "application/vnd.jupyter.widget-view+json": {
       "model_id": "a2f2c3b20d1f4822a0fbd7935d2099e2",
       "version_major": 2,
       "version_minor": 0
      },
      "text/plain": [
       "Retrieving MaterialsDoc documents:   0%|          | 0/4 [00:00<?, ?it/s]"
      ]
     },
     "metadata": {},
     "output_type": "display_data"
    },
    {
     "data": {
      "application/vnd.jupyter.widget-view+json": {
       "model_id": "45dc740d63c64c2282ecb76843298bc9",
       "version_major": 2,
       "version_minor": 0
      },
      "text/plain": [
       "Retrieving MaterialsDoc documents:   0%|          | 0/1 [00:00<?, ?it/s]"
      ]
     },
     "metadata": {},
     "output_type": "display_data"
    },
    {
     "data": {
      "application/vnd.jupyter.widget-view+json": {
       "model_id": "82c8b64d38164073be080b0a68b4507f",
       "version_major": 2,
       "version_minor": 0
      },
      "text/plain": [
       "Retrieving MaterialsDoc documents:   0%|          | 0/1 [00:00<?, ?it/s]"
      ]
     },
     "metadata": {},
     "output_type": "display_data"
    },
    {
     "name": "stderr",
     "output_type": "stream",
     "text": [
      " 78%|████████████████████████████████████████████████████████████████████▏                   | 69/89 [03:25<03:45, 11.26s/it]Traceback (most recent call last):\n",
      "  File \"/var/folders/ql/m5k56v8n5sz5880n5sksmc9w0000gn/T/ipykernel_7049/617359052.py\", line 54, in <module>\n",
      "    mids = mpr.get_material_ids(s.composition.reduced_formula)\n",
      "  File \"/Users/shyue/miniconda3/envs/mavrl/lib/python3.9/site-packages/mp_api/client/mprester.py\", line 417, in get_material_ids\n",
      "    for doc in self.materials.search(\n",
      "  File \"/Users/shyue/miniconda3/envs/mavrl/lib/python3.9/site-packages/mp_api/client/routes/materials.py\", line 172, in search\n",
      "    return super()._search(\n",
      "  File \"/Users/shyue/miniconda3/envs/mavrl/lib/python3.9/site-packages/mp_api/client/core/client.py\", line 940, in _search\n",
      "    return self._get_all_documents(\n",
      "  File \"/Users/shyue/miniconda3/envs/mavrl/lib/python3.9/site-packages/mp_api/client/core/client.py\", line 987, in _get_all_documents\n",
      "    results = self._query_resource(\n",
      "  File \"/Users/shyue/miniconda3/envs/mavrl/lib/python3.9/site-packages/mp_api/client/core/client.py\", line 288, in _query_resource\n",
      "    data = self._submit_requests(\n",
      "  File \"/Users/shyue/miniconda3/envs/mavrl/lib/python3.9/site-packages/mp_api/client/core/client.py\", line 429, in _submit_requests\n",
      "    initial_data_tuples = self._multi_thread(\n",
      "  File \"/Users/shyue/miniconda3/envs/mavrl/lib/python3.9/site-packages/mp_api/client/core/client.py\", line 643, in _multi_thread\n",
      "    data, subtotal = future.result()\n",
      "  File \"/Users/shyue/miniconda3/envs/mavrl/lib/python3.9/concurrent/futures/_base.py\", line 439, in result\n",
      "    return self.__get_result()\n",
      "  File \"/Users/shyue/miniconda3/envs/mavrl/lib/python3.9/concurrent/futures/_base.py\", line 391, in __get_result\n",
      "    raise self._exception\n",
      "  File \"/Users/shyue/miniconda3/envs/mavrl/lib/python3.9/concurrent/futures/thread.py\", line 58, in run\n",
      "    result = self.fn(*self.args, **self.kwargs)\n",
      "  File \"/Users/shyue/miniconda3/envs/mavrl/lib/python3.9/site-packages/mp_api/client/core/client.py\", line 745, in _submit_request_and_process\n",
      "    raise MPRestError(\n",
      "mp_api.client.core.client.MPRestError: REST query returned with error status code 504 on URL https://api.materialsproject.org/materials/core/?deprecated=False&_fields=material_id&formula=EuTiO3&_limit=1000 with message:\n",
      "Server timed out trying to obtain data. Try again with a smaller request.\n",
      " 79%|█████████████████████████████████████████████████████████████████████▏                  | 70/89 [03:46<04:32, 14.35s/it]"
     ]
    },
    {
     "data": {
      "application/vnd.jupyter.widget-view+json": {
       "model_id": "fe23c4ccc6264e8da6f3ea04f28c8b4e",
       "version_major": 2,
       "version_minor": 0
      },
      "text/plain": [
       "Retrieving MaterialsDoc documents:   0%|          | 0/1 [00:00<?, ?it/s]"
      ]
     },
     "metadata": {},
     "output_type": "display_data"
    },
    {
     "data": {
      "application/vnd.jupyter.widget-view+json": {
       "model_id": "41b7935e5d154473879c969487bdfb98",
       "version_major": 2,
       "version_minor": 0
      },
      "text/plain": [
       "Retrieving MaterialsDoc documents:   0%|          | 0/1 [00:00<?, ?it/s]"
      ]
     },
     "metadata": {},
     "output_type": "display_data"
    },
    {
     "name": "stderr",
     "output_type": "stream",
     "text": [
      "\r",
      " 80%|██████████████████████████████████████████████████████████████████████▏                 | 71/89 [04:01<04:20, 14.45s/it]"
     ]
    },
    {
     "data": {
      "application/vnd.jupyter.widget-view+json": {
       "model_id": "e7ddad25bdad42fdbf92164db88ac8ef",
       "version_major": 2,
       "version_minor": 0
      },
      "text/plain": [
       "Retrieving MaterialsDoc documents:   0%|          | 0/3 [00:00<?, ?it/s]"
      ]
     },
     "metadata": {},
     "output_type": "display_data"
    },
    {
     "data": {
      "application/vnd.jupyter.widget-view+json": {
       "model_id": "e7d2fafdfe6e43ae8c9ff9c034a9d62a",
       "version_major": 2,
       "version_minor": 0
      },
      "text/plain": [
       "Retrieving MaterialsDoc documents:   0%|          | 0/1 [00:00<?, ?it/s]"
      ]
     },
     "metadata": {},
     "output_type": "display_data"
    },
    {
     "data": {
      "application/vnd.jupyter.widget-view+json": {
       "model_id": "1c3f85793df04e1ba188de061a83611b",
       "version_major": 2,
       "version_minor": 0
      },
      "text/plain": [
       "Retrieving MaterialsDoc documents:   0%|          | 0/1 [00:00<?, ?it/s]"
      ]
     },
     "metadata": {},
     "output_type": "display_data"
    },
    {
     "name": "stderr",
     "output_type": "stream",
     "text": [
      "\r",
      " 81%|███████████████████████████████████████████████████████████████████████▏                | 72/89 [04:18<04:17, 15.17s/it]"
     ]
    },
    {
     "data": {
      "application/vnd.jupyter.widget-view+json": {
       "model_id": "e9a763d24bbc4122aba5495dc42056f4",
       "version_major": 2,
       "version_minor": 0
      },
      "text/plain": [
       "Retrieving MaterialsDoc documents:   0%|          | 0/1 [00:00<?, ?it/s]"
      ]
     },
     "metadata": {},
     "output_type": "display_data"
    },
    {
     "data": {
      "application/vnd.jupyter.widget-view+json": {
       "model_id": "f0819d9f70a8499b9cad5ebf45e57e7d",
       "version_major": 2,
       "version_minor": 0
      },
      "text/plain": [
       "Retrieving MaterialsDoc documents:   0%|          | 0/1 [00:00<?, ?it/s]"
      ]
     },
     "metadata": {},
     "output_type": "display_data"
    },
    {
     "name": "stderr",
     "output_type": "stream",
     "text": [
      "\r",
      " 82%|████████████████████████████████████████████████████████████████████████▏               | 73/89 [04:18<02:52, 10.79s/it]"
     ]
    },
    {
     "data": {
      "application/vnd.jupyter.widget-view+json": {
       "model_id": "cd53110c097f4e43834dcad6b927183b",
       "version_major": 2,
       "version_minor": 0
      },
      "text/plain": [
       "Retrieving MaterialsDoc documents:   0%|          | 0/6 [00:00<?, ?it/s]"
      ]
     },
     "metadata": {},
     "output_type": "display_data"
    },
    {
     "data": {
      "application/vnd.jupyter.widget-view+json": {
       "model_id": "ea41d740ab8c4a83a3c17b2a760bd54c",
       "version_major": 2,
       "version_minor": 0
      },
      "text/plain": [
       "Retrieving MaterialsDoc documents:   0%|          | 0/1 [00:00<?, ?it/s]"
      ]
     },
     "metadata": {},
     "output_type": "display_data"
    },
    {
     "name": "stderr",
     "output_type": "stream",
     "text": [
      "\r",
      " 83%|█████████████████████████████████████████████████████████████████████████▏              | 74/89 [04:19<01:55,  7.71s/it]"
     ]
    },
    {
     "data": {
      "application/vnd.jupyter.widget-view+json": {
       "model_id": "ef724f16854a45c5b47183bf4ea6e069",
       "version_major": 2,
       "version_minor": 0
      },
      "text/plain": [
       "Retrieving MaterialsDoc documents:   0%|          | 0/2 [00:00<?, ?it/s]"
      ]
     },
     "metadata": {},
     "output_type": "display_data"
    },
    {
     "data": {
      "application/vnd.jupyter.widget-view+json": {
       "model_id": "19d655818e884c2dbf6d8eb87f6337df",
       "version_major": 2,
       "version_minor": 0
      },
      "text/plain": [
       "Retrieving MaterialsDoc documents:   0%|          | 0/1 [00:00<?, ?it/s]"
      ]
     },
     "metadata": {},
     "output_type": "display_data"
    },
    {
     "name": "stderr",
     "output_type": "stream",
     "text": [
      "\r",
      " 84%|██████████████████████████████████████████████████████████████████████████▏             | 75/89 [04:20<01:18,  5.61s/it]"
     ]
    },
    {
     "data": {
      "application/vnd.jupyter.widget-view+json": {
       "model_id": "33ab5d8137d94453b4d5ae3af99ae780",
       "version_major": 2,
       "version_minor": 0
      },
      "text/plain": [
       "Retrieving MaterialsDoc documents:   0%|          | 0/5 [00:00<?, ?it/s]"
      ]
     },
     "metadata": {},
     "output_type": "display_data"
    },
    {
     "data": {
      "application/vnd.jupyter.widget-view+json": {
       "model_id": "0a7caab8d8714a8ea8af692dee29d698",
       "version_major": 2,
       "version_minor": 0
      },
      "text/plain": [
       "Retrieving MaterialsDoc documents:   0%|          | 0/1 [00:00<?, ?it/s]"
      ]
     },
     "metadata": {},
     "output_type": "display_data"
    },
    {
     "data": {
      "application/vnd.jupyter.widget-view+json": {
       "model_id": "e1523167828d4760b10edceb4ed88762",
       "version_major": 2,
       "version_minor": 0
      },
      "text/plain": [
       "Retrieving MaterialsDoc documents:   0%|          | 0/1 [00:00<?, ?it/s]"
      ]
     },
     "metadata": {},
     "output_type": "display_data"
    },
    {
     "data": {
      "application/vnd.jupyter.widget-view+json": {
       "model_id": "478a071b966c4135a0fcf669870494d3",
       "version_major": 2,
       "version_minor": 0
      },
      "text/plain": [
       "Retrieving MaterialsDoc documents:   0%|          | 0/1 [00:00<?, ?it/s]"
      ]
     },
     "metadata": {},
     "output_type": "display_data"
    },
    {
     "name": "stderr",
     "output_type": "stream",
     "text": [
      "\r",
      " 85%|███████████████████████████████████████████████████████████████████████████▏            | 76/89 [04:21<00:54,  4.23s/it]"
     ]
    },
    {
     "data": {
      "application/vnd.jupyter.widget-view+json": {
       "model_id": "40ff05b43ace42c28f2c104f365454bc",
       "version_major": 2,
       "version_minor": 0
      },
      "text/plain": [
       "Retrieving MaterialsDoc documents:   0%|          | 0/12 [00:00<?, ?it/s]"
      ]
     },
     "metadata": {},
     "output_type": "display_data"
    },
    {
     "data": {
      "application/vnd.jupyter.widget-view+json": {
       "model_id": "83be80fdd3674b328afbb7f67a2f1843",
       "version_major": 2,
       "version_minor": 0
      },
      "text/plain": [
       "Retrieving MaterialsDoc documents:   0%|          | 0/1 [00:00<?, ?it/s]"
      ]
     },
     "metadata": {},
     "output_type": "display_data"
    },
    {
     "data": {
      "application/vnd.jupyter.widget-view+json": {
       "model_id": "7cafa86d08e848c8a3869958ff0859e5",
       "version_major": 2,
       "version_minor": 0
      },
      "text/plain": [
       "Retrieving MaterialsDoc documents:   0%|          | 0/1 [00:00<?, ?it/s]"
      ]
     },
     "metadata": {},
     "output_type": "display_data"
    },
    {
     "name": "stderr",
     "output_type": "stream",
     "text": [
      "\r",
      " 87%|████████████████████████████████████████████████████████████████████████████▏           | 77/89 [04:21<00:37,  3.14s/it]"
     ]
    },
    {
     "data": {
      "application/vnd.jupyter.widget-view+json": {
       "model_id": "198b95fd72fd4d689cebde18162c2e15",
       "version_major": 2,
       "version_minor": 0
      },
      "text/plain": [
       "Retrieving MaterialsDoc documents:   0%|          | 0/4 [00:00<?, ?it/s]"
      ]
     },
     "metadata": {},
     "output_type": "display_data"
    },
    {
     "data": {
      "application/vnd.jupyter.widget-view+json": {
       "model_id": "0a3752a2de694c7fabeb93159b0a7e97",
       "version_major": 2,
       "version_minor": 0
      },
      "text/plain": [
       "Retrieving MaterialsDoc documents:   0%|          | 0/1 [00:00<?, ?it/s]"
      ]
     },
     "metadata": {},
     "output_type": "display_data"
    },
    {
     "name": "stderr",
     "output_type": "stream",
     "text": [
      "\r",
      " 88%|█████████████████████████████████████████████████████████████████████████████           | 78/89 [04:23<00:30,  2.76s/it]"
     ]
    },
    {
     "data": {
      "application/vnd.jupyter.widget-view+json": {
       "model_id": "e181be50acf149958605dce14f1770c0",
       "version_major": 2,
       "version_minor": 0
      },
      "text/plain": [
       "Retrieving MaterialsDoc documents:   0%|          | 0/11 [00:00<?, ?it/s]"
      ]
     },
     "metadata": {},
     "output_type": "display_data"
    },
    {
     "data": {
      "application/vnd.jupyter.widget-view+json": {
       "model_id": "994161c3218446b2be28b6dfebd0c66e",
       "version_major": 2,
       "version_minor": 0
      },
      "text/plain": [
       "Retrieving MaterialsDoc documents:   0%|          | 0/1 [00:00<?, ?it/s]"
      ]
     },
     "metadata": {},
     "output_type": "display_data"
    },
    {
     "name": "stderr",
     "output_type": "stream",
     "text": [
      "\r",
      " 89%|██████████████████████████████████████████████████████████████████████████████          | 79/89 [04:24<00:21,  2.13s/it]"
     ]
    },
    {
     "data": {
      "application/vnd.jupyter.widget-view+json": {
       "model_id": "11ff8152f08e4b62aaae09152641afd0",
       "version_major": 2,
       "version_minor": 0
      },
      "text/plain": [
       "Retrieving MaterialsDoc documents:   0%|          | 0/5 [00:00<?, ?it/s]"
      ]
     },
     "metadata": {},
     "output_type": "display_data"
    },
    {
     "data": {
      "application/vnd.jupyter.widget-view+json": {
       "model_id": "d31cb902e65c4a768b275f0905c5a6f6",
       "version_major": 2,
       "version_minor": 0
      },
      "text/plain": [
       "Retrieving MaterialsDoc documents:   0%|          | 0/1 [00:00<?, ?it/s]"
      ]
     },
     "metadata": {},
     "output_type": "display_data"
    },
    {
     "name": "stderr",
     "output_type": "stream",
     "text": [
      "\r",
      " 90%|███████████████████████████████████████████████████████████████████████████████         | 80/89 [04:26<00:18,  2.00s/it]"
     ]
    },
    {
     "data": {
      "application/vnd.jupyter.widget-view+json": {
       "model_id": "d26fed5965b3442ba4af4954df62ee95",
       "version_major": 2,
       "version_minor": 0
      },
      "text/plain": [
       "Retrieving MaterialsDoc documents:   0%|          | 0/4 [00:00<?, ?it/s]"
      ]
     },
     "metadata": {},
     "output_type": "display_data"
    },
    {
     "data": {
      "application/vnd.jupyter.widget-view+json": {
       "model_id": "deb32108a4004b5391ea9554de95f2ca",
       "version_major": 2,
       "version_minor": 0
      },
      "text/plain": [
       "Retrieving MaterialsDoc documents:   0%|          | 0/1 [00:00<?, ?it/s]"
      ]
     },
     "metadata": {},
     "output_type": "display_data"
    },
    {
     "name": "stderr",
     "output_type": "stream",
     "text": [
      "\r",
      " 91%|████████████████████████████████████████████████████████████████████████████████        | 81/89 [04:26<00:12,  1.58s/it]"
     ]
    },
    {
     "data": {
      "application/vnd.jupyter.widget-view+json": {
       "model_id": "ebf3c05c8ad044039231452bd0dbb2e0",
       "version_major": 2,
       "version_minor": 0
      },
      "text/plain": [
       "Retrieving MaterialsDoc documents:   0%|          | 0/2 [00:00<?, ?it/s]"
      ]
     },
     "metadata": {},
     "output_type": "display_data"
    },
    {
     "data": {
      "application/vnd.jupyter.widget-view+json": {
       "model_id": "d5274960da964e1aa78d325da94f6020",
       "version_major": 2,
       "version_minor": 0
      },
      "text/plain": [
       "Retrieving MaterialsDoc documents:   0%|          | 0/1 [00:00<?, ?it/s]"
      ]
     },
     "metadata": {},
     "output_type": "display_data"
    },
    {
     "name": "stderr",
     "output_type": "stream",
     "text": [
      "\r",
      " 92%|█████████████████████████████████████████████████████████████████████████████████       | 82/89 [04:27<00:09,  1.33s/it]"
     ]
    },
    {
     "data": {
      "application/vnd.jupyter.widget-view+json": {
       "model_id": "903e2e19a4604f4b8ce59a84ad117414",
       "version_major": 2,
       "version_minor": 0
      },
      "text/plain": [
       "Retrieving MaterialsDoc documents:   0%|          | 0/9 [00:00<?, ?it/s]"
      ]
     },
     "metadata": {},
     "output_type": "display_data"
    },
    {
     "data": {
      "application/vnd.jupyter.widget-view+json": {
       "model_id": "5c5f1d18c09a487cb68d5c88e4018998",
       "version_major": 2,
       "version_minor": 0
      },
      "text/plain": [
       "Retrieving MaterialsDoc documents:   0%|          | 0/1 [00:00<?, ?it/s]"
      ]
     },
     "metadata": {},
     "output_type": "display_data"
    },
    {
     "data": {
      "application/vnd.jupyter.widget-view+json": {
       "model_id": "d95d59870f6347f3a2a02ecc31e2c88d",
       "version_major": 2,
       "version_minor": 0
      },
      "text/plain": [
       "Retrieving MaterialsDoc documents:   0%|          | 0/1 [00:00<?, ?it/s]"
      ]
     },
     "metadata": {},
     "output_type": "display_data"
    },
    {
     "name": "stderr",
     "output_type": "stream",
     "text": [
      "\r",
      " 93%|██████████████████████████████████████████████████████████████████████████████████      | 83/89 [04:28<00:07,  1.23s/it]"
     ]
    },
    {
     "data": {
      "application/vnd.jupyter.widget-view+json": {
       "model_id": "9183f0c54ce0414c98c1c54e48b50fc8",
       "version_major": 2,
       "version_minor": 0
      },
      "text/plain": [
       "Retrieving MaterialsDoc documents:   0%|          | 0/14 [00:00<?, ?it/s]"
      ]
     },
     "metadata": {},
     "output_type": "display_data"
    },
    {
     "data": {
      "application/vnd.jupyter.widget-view+json": {
       "model_id": "631087ad2d374c43a5e4ae3b2473342e",
       "version_major": 2,
       "version_minor": 0
      },
      "text/plain": [
       "Retrieving MaterialsDoc documents:   0%|          | 0/1 [00:00<?, ?it/s]"
      ]
     },
     "metadata": {},
     "output_type": "display_data"
    },
    {
     "name": "stderr",
     "output_type": "stream",
     "text": [
      "\r",
      " 94%|███████████████████████████████████████████████████████████████████████████████████     | 84/89 [04:29<00:06,  1.22s/it]"
     ]
    },
    {
     "data": {
      "application/vnd.jupyter.widget-view+json": {
       "model_id": "f06ea4a8a3324fd8baec8314425910f1",
       "version_major": 2,
       "version_minor": 0
      },
      "text/plain": [
       "Retrieving MaterialsDoc documents:   0%|          | 0/15 [00:00<?, ?it/s]"
      ]
     },
     "metadata": {},
     "output_type": "display_data"
    },
    {
     "data": {
      "application/vnd.jupyter.widget-view+json": {
       "model_id": "def8034e2b3f4a37a156de5aa485e37c",
       "version_major": 2,
       "version_minor": 0
      },
      "text/plain": [
       "Retrieving MaterialsDoc documents:   0%|          | 0/1 [00:00<?, ?it/s]"
      ]
     },
     "metadata": {},
     "output_type": "display_data"
    },
    {
     "name": "stderr",
     "output_type": "stream",
     "text": [
      "\r",
      " 96%|████████████████████████████████████████████████████████████████████████████████████    | 85/89 [04:30<00:04,  1.01s/it]"
     ]
    },
    {
     "data": {
      "application/vnd.jupyter.widget-view+json": {
       "model_id": "22972cf909e148a79162903b36d9e40d",
       "version_major": 2,
       "version_minor": 0
      },
      "text/plain": [
       "Retrieving MaterialsDoc documents:   0%|          | 0/20 [00:00<?, ?it/s]"
      ]
     },
     "metadata": {},
     "output_type": "display_data"
    },
    {
     "data": {
      "application/vnd.jupyter.widget-view+json": {
       "model_id": "dc69f6c9bb704e53ab7ec3cd5ed86d84",
       "version_major": 2,
       "version_minor": 0
      },
      "text/plain": [
       "Retrieving MaterialsDoc documents:   0%|          | 0/1 [00:00<?, ?it/s]"
      ]
     },
     "metadata": {},
     "output_type": "display_data"
    },
    {
     "name": "stderr",
     "output_type": "stream",
     "text": [
      "\r",
      " 97%|█████████████████████████████████████████████████████████████████████████████████████   | 86/89 [04:30<00:02,  1.20it/s]"
     ]
    },
    {
     "data": {
      "application/vnd.jupyter.widget-view+json": {
       "model_id": "ce1f53ae0bfa4cd799a1eb9a54fef77c",
       "version_major": 2,
       "version_minor": 0
      },
      "text/plain": [
       "Retrieving MaterialsDoc documents:   0%|          | 0/11 [00:00<?, ?it/s]"
      ]
     },
     "metadata": {},
     "output_type": "display_data"
    },
    {
     "data": {
      "application/vnd.jupyter.widget-view+json": {
       "model_id": "32784987983e4385b37bc9bb89901e6c",
       "version_major": 2,
       "version_minor": 0
      },
      "text/plain": [
       "Retrieving MaterialsDoc documents:   0%|          | 0/1 [00:00<?, ?it/s]"
      ]
     },
     "metadata": {},
     "output_type": "display_data"
    },
    {
     "data": {
      "application/vnd.jupyter.widget-view+json": {
       "model_id": "d560bae1d5ce44f882b7ed6eaa131add",
       "version_major": 2,
       "version_minor": 0
      },
      "text/plain": [
       "Retrieving MaterialsDoc documents:   0%|          | 0/1 [00:00<?, ?it/s]"
      ]
     },
     "metadata": {},
     "output_type": "display_data"
    },
    {
     "data": {
      "application/vnd.jupyter.widget-view+json": {
       "model_id": "cf46535dc9d545419a43965f6b1d146a",
       "version_major": 2,
       "version_minor": 0
      },
      "text/plain": [
       "Retrieving MaterialsDoc documents:   0%|          | 0/1 [00:00<?, ?it/s]"
      ]
     },
     "metadata": {},
     "output_type": "display_data"
    },
    {
     "data": {
      "application/vnd.jupyter.widget-view+json": {
       "model_id": "4fe05b21ffeb425f81450df60dd68fd5",
       "version_major": 2,
       "version_minor": 0
      },
      "text/plain": [
       "Retrieving MaterialsDoc documents:   0%|          | 0/1 [00:00<?, ?it/s]"
      ]
     },
     "metadata": {},
     "output_type": "display_data"
    },
    {
     "data": {
      "application/vnd.jupyter.widget-view+json": {
       "model_id": "46dfe20d0e9444a4aff94cc6d5de4510",
       "version_major": 2,
       "version_minor": 0
      },
      "text/plain": [
       "Retrieving MaterialsDoc documents:   0%|          | 0/1 [00:00<?, ?it/s]"
      ]
     },
     "metadata": {},
     "output_type": "display_data"
    },
    {
     "data": {
      "application/vnd.jupyter.widget-view+json": {
       "model_id": "50bf7e5fd2bd4b428b7a3e4c74a8e3d8",
       "version_major": 2,
       "version_minor": 0
      },
      "text/plain": [
       "Retrieving MaterialsDoc documents:   0%|          | 0/1 [00:00<?, ?it/s]"
      ]
     },
     "metadata": {},
     "output_type": "display_data"
    },
    {
     "data": {
      "application/vnd.jupyter.widget-view+json": {
       "model_id": "b985891feeb84c9ea633f3157cf26aa6",
       "version_major": 2,
       "version_minor": 0
      },
      "text/plain": [
       "Retrieving MaterialsDoc documents:   0%|          | 0/1 [00:00<?, ?it/s]"
      ]
     },
     "metadata": {},
     "output_type": "display_data"
    },
    {
     "data": {
      "application/vnd.jupyter.widget-view+json": {
       "model_id": "1bc19016a8e9478c9381c55c1428dbcc",
       "version_major": 2,
       "version_minor": 0
      },
      "text/plain": [
       "Retrieving MaterialsDoc documents:   0%|          | 0/1 [00:00<?, ?it/s]"
      ]
     },
     "metadata": {},
     "output_type": "display_data"
    },
    {
     "data": {
      "application/vnd.jupyter.widget-view+json": {
       "model_id": "9a2971a0a58b43abbfcdadb6e830e3e5",
       "version_major": 2,
       "version_minor": 0
      },
      "text/plain": [
       "Retrieving MaterialsDoc documents:   0%|          | 0/1 [00:00<?, ?it/s]"
      ]
     },
     "metadata": {},
     "output_type": "display_data"
    },
    {
     "data": {
      "application/vnd.jupyter.widget-view+json": {
       "model_id": "4679ee6b4dcf4e928b00ae6eb05300fe",
       "version_major": 2,
       "version_minor": 0
      },
      "text/plain": [
       "Retrieving MaterialsDoc documents:   0%|          | 0/1 [00:00<?, ?it/s]"
      ]
     },
     "metadata": {},
     "output_type": "display_data"
    },
    {
     "data": {
      "application/vnd.jupyter.widget-view+json": {
       "model_id": "10cfc9997ece44c08a10bbe6891f6b25",
       "version_major": 2,
       "version_minor": 0
      },
      "text/plain": [
       "Retrieving MaterialsDoc documents:   0%|          | 0/1 [00:00<?, ?it/s]"
      ]
     },
     "metadata": {},
     "output_type": "display_data"
    },
    {
     "name": "stderr",
     "output_type": "stream",
     "text": [
      "Traceback (most recent call last):\n",
      "  File \"/var/folders/ql/m5k56v8n5sz5880n5sksmc9w0000gn/T/ipykernel_7049/617359052.py\", line 67, in <module>\n",
      "    raise RuntimeError\n",
      "RuntimeError\n",
      "\r",
      " 98%|██████████████████████████████████████████████████████████████████████████████████████  | 87/89 [04:32<00:02,  1.22s/it]"
     ]
    },
    {
     "data": {
      "application/vnd.jupyter.widget-view+json": {
       "model_id": "48d198db17154f2eb0491d21f168de7a",
       "version_major": 2,
       "version_minor": 0
      },
      "text/plain": [
       "Retrieving MaterialsDoc documents:   0%|          | 0/6 [00:00<?, ?it/s]"
      ]
     },
     "metadata": {},
     "output_type": "display_data"
    },
    {
     "data": {
      "application/vnd.jupyter.widget-view+json": {
       "model_id": "edb558906f9742cf932d2759c0d62941",
       "version_major": 2,
       "version_minor": 0
      },
      "text/plain": [
       "Retrieving MaterialsDoc documents:   0%|          | 0/1 [00:00<?, ?it/s]"
      ]
     },
     "metadata": {},
     "output_type": "display_data"
    },
    {
     "name": "stderr",
     "output_type": "stream",
     "text": [
      "\r",
      " 99%|███████████████████████████████████████████████████████████████████████████████████████ | 88/89 [04:32<00:00,  1.05it/s]"
     ]
    },
    {
     "data": {
      "application/vnd.jupyter.widget-view+json": {
       "model_id": "a760f27e876a427b96ea52298acc7c67",
       "version_major": 2,
       "version_minor": 0
      },
      "text/plain": [
       "Retrieving MaterialsDoc documents:   0%|          | 0/6 [00:00<?, ?it/s]"
      ]
     },
     "metadata": {},
     "output_type": "display_data"
    },
    {
     "data": {
      "application/vnd.jupyter.widget-view+json": {
       "model_id": "a3bd17c7f03b4cefb88b1aaf5dc58a65",
       "version_major": 2,
       "version_minor": 0
      },
      "text/plain": [
       "Retrieving MaterialsDoc documents:   0%|          | 0/1 [00:00<?, ?it/s]"
      ]
     },
     "metadata": {},
     "output_type": "display_data"
    },
    {
     "data": {
      "application/vnd.jupyter.widget-view+json": {
       "model_id": "0f120397b62c4619b6708eb538037067",
       "version_major": 2,
       "version_minor": 0
      },
      "text/plain": [
       "Retrieving MaterialsDoc documents:   0%|          | 0/1 [00:00<?, ?it/s]"
      ]
     },
     "metadata": {},
     "output_type": "display_data"
    },
    {
     "data": {
      "application/vnd.jupyter.widget-view+json": {
       "model_id": "4b25e53098854cbc964f198f1f9904aa",
       "version_major": 2,
       "version_minor": 0
      },
      "text/plain": [
       "Retrieving MaterialsDoc documents:   0%|          | 0/1 [00:00<?, ?it/s]"
      ]
     },
     "metadata": {},
     "output_type": "display_data"
    },
    {
     "name": "stderr",
     "output_type": "stream",
     "text": [
      "100%|████████████████████████████████████████████████████████████████████████████████████████| 89/89 [04:34<00:00,  3.09s/it]\n"
     ]
    }
   ],
   "source": [
    "predicted = []\n",
    "mp = []\n",
    "mpr = MPRester()\n",
    "\n",
    "# Load the pre-trained M3GNet Potential\n",
    "model, d = M3GNet.load(\"M3GNet-MP-2021.2.8-PES\", include_json=True)\n",
    "metadata = d[\"metadata\"]\n",
    "data_std = metadata[\"data_std\"]\n",
    "data_mean = metadata[\"data_mean\"]\n",
    "element_refs = metadata[\"element_refs\"]\n",
    "# create the potential class\n",
    "pot = Potential(model, data_std=data_std, element_refs=element_refs)\n",
    "# create the M3GNet Relaxer\n",
    "relaxer = Relaxer(potential=pot)\n",
    "\n",
    "for formula, v in tqdm(data.iterrows(), total=len(data)):\n",
    "    formula = formula.split()[0]\n",
    "    c = Composition(formula)\n",
    "    els = sorted(c.elements)\n",
    "    cs = v[\"Crystal structure\"]\n",
    "\n",
    "    # We initialize all the crystals with an arbitrary lattice constant of 5 angstroms.\n",
    "    if \"Zinc blende\" in cs:\n",
    "        s = Structure.from_spacegroup(\"F-43m\", Lattice.cubic(4.5), [els[0], els[1]], [[0, 0, 0], [0.25, 0.25, 0.75]])\n",
    "    elif \"Halite\" in cs:\n",
    "        s = Structure.from_spacegroup(\"Fm-3m\", Lattice.cubic(4.5), [els[0], els[1]], [[0, 0, 0], [0.5, 0, 0]])\n",
    "    elif \"Caesium chloride\" in cs:\n",
    "        s = Structure.from_spacegroup(\"Pm-3m\", Lattice.cubic(4.5), [els[0], els[1]], [[0, 0, 0], [0.5, 0.5, 0.5]])\n",
    "    elif \"Cubic perovskite\" in cs:\n",
    "        s = Structure(\n",
    "            Lattice.cubic(5),\n",
    "            [els[0], els[1], els[2], els[2], els[2]],\n",
    "            [[0.0, 0.0, 0.0], [0.5, 0.5, 0.5], [0.5, 0.5, 0], [0.0, 0.5, 0.5], [0.5, 0, 0.5]],\n",
    "        )\n",
    "    elif \"Diamond\" in cs:\n",
    "        s = Structure.from_spacegroup(\"Fd-3m\", Lattice.cubic(5), [els[0]], [[0.25, 0.75, 0.25]])\n",
    "    elif \"BCC\" in cs:\n",
    "        s = Structure(Lattice.cubic(4.5), [els[0]] * 2, [[0.0, 0.0, 0.0], [0.5, 0.5, 0.5]])\n",
    "    elif \"FCC\" in cs:\n",
    "        s = Structure(Lattice.cubic(4.5), [els[0]] * 4, [[0.0, 0.0, 0.0], [0.5, 0.5, 0], [0.0, 0.5, 0.5], [0.5, 0, 0.5]])\n",
    "    else:\n",
    "        predicted.append(0)\n",
    "        mp.append(0)\n",
    "        continue\n",
    "\n",
    "    # print(s.composition.reduced_formula)\n",
    "    relax_results = relaxer.relax(s, fmax=0.01)\n",
    "\n",
    "    final_structure = relax_results[\"final_structure\"]\n",
    "\n",
    "    predicted.append(final_structure.lattice.a)\n",
    "\n",
    "    try:\n",
    "        mids = mpr.get_material_ids(s.composition.reduced_formula)\n",
    "        for i in mids:\n",
    "            try:\n",
    "                structure = mpr.get_structure_by_material_id(i)\n",
    "                sga = SpacegroupAnalyzer(structure)\n",
    "                sga2 = SpacegroupAnalyzer(final_structure)\n",
    "                if sga.get_space_group_number() == sga2.get_space_group_number():\n",
    "                    conv = sga.get_conventional_standard_structure()\n",
    "                    mp.append(conv.lattice.a)\n",
    "                    break\n",
    "            except Exception:\n",
    "                pass\n",
    "        else:\n",
    "            raise RuntimeError\n",
    "    except Exception:\n",
    "        mp.append(0)\n",
    "        traceback.print_exc()\n",
    "\n",
    "data[\"MP a (Å)\"] = mp\n",
    "data[\"Predicted a (Å)\"] = predicted"
   ]
  },
  {
   "cell_type": "code",
   "execution_count": null,
   "id": "8cdd6407",
   "metadata": {},
   "outputs": [],
   "source": [
    "data[\"% error vs Expt\"] = (data[\"Predicted a (Å)\"] - data[\"a (Å)\"]) / data[\"a (Å)\"]\n",
    "data[\"% error vs MP\"] = (data[\"Predicted a (Å)\"] - data[\"MP a (Å)\"]) / data[\"MP a (Å)\"]"
   ]
  },
  {
   "cell_type": "code",
   "execution_count": null,
   "id": "b71312dc",
   "metadata": {},
   "outputs": [
    {
     "data": {
      "text/html": [
       "<style type=\"text/css\">\n",
       "#T_1b734_row0_col1 {\n",
       "  background-color: #76aad0;\n",
       "  color: #f1f1f1;\n",
       "}\n",
       "#T_1b734_row0_col2 {\n",
       "  background-color: #056caa;\n",
       "  color: #f1f1f1;\n",
       "}\n",
       "#T_1b734_row0_col3 {\n",
       "  background-color: #4697c4;\n",
       "  color: #f1f1f1;\n",
       "}\n",
       "#T_1b734_row0_col4, #T_1b734_row26_col1, #T_1b734_row68_col2, #T_1b734_row68_col3 {\n",
       "  background-color: #023858;\n",
       "  color: #f1f1f1;\n",
       "}\n",
       "#T_1b734_row0_col5, #T_1b734_row1_col5, #T_1b734_row2_col5, #T_1b734_row3_col5, #T_1b734_row4_col5, #T_1b734_row5_col5, #T_1b734_row6_col5, #T_1b734_row7_col5, #T_1b734_row8_col5, #T_1b734_row9_col5, #T_1b734_row10_col5, #T_1b734_row11_col5, #T_1b734_row12_col5, #T_1b734_row13_col5, #T_1b734_row14_col5, #T_1b734_row15_col5, #T_1b734_row16_col5, #T_1b734_row17_col5, #T_1b734_row18_col5, #T_1b734_row19_col5, #T_1b734_row20_col5, #T_1b734_row21_col5, #T_1b734_row22_col5, #T_1b734_row23_col5, #T_1b734_row24_col5, #T_1b734_row25_col5, #T_1b734_row26_col5, #T_1b734_row27_col5, #T_1b734_row28_col5, #T_1b734_row29_col5, #T_1b734_row30_col5, #T_1b734_row31_col5, #T_1b734_row32_col5, #T_1b734_row33_col5, #T_1b734_row34_col5, #T_1b734_row35_col5, #T_1b734_row36_col5, #T_1b734_row37_col5, #T_1b734_row38_col5, #T_1b734_row39_col5, #T_1b734_row40_col5, #T_1b734_row41_col5, #T_1b734_row42_col5, #T_1b734_row43_col5, #T_1b734_row44_col5, #T_1b734_row45_col5, #T_1b734_row46_col5, #T_1b734_row47_col5, #T_1b734_row48_col5, #T_1b734_row49_col5, #T_1b734_row50_col5, #T_1b734_row51_col5, #T_1b734_row52_col5, #T_1b734_row53_col5, #T_1b734_row54_col5, #T_1b734_row55_col5, #T_1b734_row56_col5, #T_1b734_row57_col5, #T_1b734_row58_col5, #T_1b734_row59_col5, #T_1b734_row60_col5, #T_1b734_row61_col5, #T_1b734_row62_col5, #T_1b734_row63_col5, #T_1b734_row64_col5, #T_1b734_row65_col5, #T_1b734_row66_col5, #T_1b734_row67_col5, #T_1b734_row68_col5, #T_1b734_row69_col5, #T_1b734_row70_col5, #T_1b734_row71_col5, #T_1b734_row72_col5, #T_1b734_row73_col5, #T_1b734_row74_col5, #T_1b734_row75_col5, #T_1b734_row76_col5, #T_1b734_row77_col5, #T_1b734_row78_col5, #T_1b734_row79_col5, #T_1b734_row80_col5, #T_1b734_row81_col5, #T_1b734_row82_col5, #T_1b734_row83_col5, #T_1b734_row84_col5, #T_1b734_row85_col5, #T_1b734_row86_col5, #T_1b734_row87_col5, #T_1b734_row88_col5 {\n",
       "  background-color: #000000;\n",
       "  color: #f1f1f1;\n",
       "}\n",
       "#T_1b734_row1_col1 {\n",
       "  background-color: #d1d2e6;\n",
       "  color: #000000;\n",
       "}\n",
       "#T_1b734_row1_col2, #T_1b734_row86_col3 {\n",
       "  background-color: #589ec8;\n",
       "  color: #f1f1f1;\n",
       "}\n",
       "#T_1b734_row1_col3, #T_1b734_row7_col3 {\n",
       "  background-color: #c5cce3;\n",
       "  color: #000000;\n",
       "}\n",
       "#T_1b734_row1_col4, #T_1b734_row16_col4, #T_1b734_row23_col4, #T_1b734_row34_col4, #T_1b734_row68_col4 {\n",
       "  background-color: #034871;\n",
       "  color: #f1f1f1;\n",
       "}\n",
       "#T_1b734_row2_col1 {\n",
       "  background-color: #d2d3e7;\n",
       "  color: #000000;\n",
       "}\n",
       "#T_1b734_row2_col2, #T_1b734_row12_col1 {\n",
       "  background-color: #5c9fc9;\n",
       "  color: #f1f1f1;\n",
       "}\n",
       "#T_1b734_row2_col3, #T_1b734_row19_col1, #T_1b734_row82_col1 {\n",
       "  background-color: #cdd0e5;\n",
       "  color: #000000;\n",
       "}\n",
       "#T_1b734_row2_col4, #T_1b734_row8_col4, #T_1b734_row46_col4, #T_1b734_row51_col4, #T_1b734_row66_col2, #T_1b734_row70_col4, #T_1b734_row79_col4, #T_1b734_row82_col4, #T_1b734_row84_col4 {\n",
       "  background-color: #045483;\n",
       "  color: #f1f1f1;\n",
       "}\n",
       "#T_1b734_row3_col1, #T_1b734_row4_col3, #T_1b734_row7_col2, #T_1b734_row28_col1, #T_1b734_row29_col3, #T_1b734_row31_col1, #T_1b734_row67_col1, #T_1b734_row81_col2, #T_1b734_row84_col3 {\n",
       "  background-color: #549cc7;\n",
       "  color: #f1f1f1;\n",
       "}\n",
       "#T_1b734_row3_col2, #T_1b734_row31_col2 {\n",
       "  background-color: #056dab;\n",
       "  color: #f1f1f1;\n",
       "}\n",
       "#T_1b734_row3_col3, #T_1b734_row9_col2, #T_1b734_row67_col3 {\n",
       "  background-color: #3b92c1;\n",
       "  color: #f1f1f1;\n",
       "}\n",
       "#T_1b734_row3_col4, #T_1b734_row42_col4, #T_1b734_row49_col4, #T_1b734_row61_col4, #T_1b734_row67_col4, #T_1b734_row69_col4 {\n",
       "  background-color: #034d79;\n",
       "  color: #f1f1f1;\n",
       "}\n",
       "#T_1b734_row4_col1, #T_1b734_row29_col1 {\n",
       "  background-color: #67a4cc;\n",
       "  color: #f1f1f1;\n",
       "}\n",
       "#T_1b734_row4_col2, #T_1b734_row17_col4, #T_1b734_row29_col2 {\n",
       "  background-color: #0872b1;\n",
       "  color: #f1f1f1;\n",
       "}\n",
       "#T_1b734_row4_col4, #T_1b734_row11_col4, #T_1b734_row24_col4, #T_1b734_row29_col4, #T_1b734_row48_col4, #T_1b734_row55_col4, #T_1b734_row68_col1, #T_1b734_row75_col4, #T_1b734_row83_col4, #T_1b734_row86_col4 {\n",
       "  background-color: #03517e;\n",
       "  color: #f1f1f1;\n",
       "}\n",
       "#T_1b734_row5_col1 {\n",
       "  background-color: #2786bb;\n",
       "  color: #f1f1f1;\n",
       "}\n",
       "#T_1b734_row5_col2 {\n",
       "  background-color: #046097;\n",
       "  color: #f1f1f1;\n",
       "}\n",
       "#T_1b734_row5_col3, #T_1b734_row6_col2, #T_1b734_row30_col3 {\n",
       "  background-color: #0f76b3;\n",
       "  color: #f1f1f1;\n",
       "}\n",
       "#T_1b734_row5_col4, #T_1b734_row14_col4, #T_1b734_row35_col4, #T_1b734_row39_col4, #T_1b734_row40_col4, #T_1b734_row41_col4, #T_1b734_row42_col3, #T_1b734_row47_col4, #T_1b734_row52_col4, #T_1b734_row57_col4, #T_1b734_row62_col4 {\n",
       "  background-color: #034c78;\n",
       "  color: #f1f1f1;\n",
       "}\n",
       "#T_1b734_row6_col1, #T_1b734_row24_col2 {\n",
       "  background-color: #79abd0;\n",
       "  color: #f1f1f1;\n",
       "}\n",
       "#T_1b734_row6_col3, #T_1b734_row19_col3, #T_1b734_row51_col1, #T_1b734_row79_col1, #T_1b734_row81_col3 {\n",
       "  background-color: #c6cce3;\n",
       "  color: #000000;\n",
       "}\n",
       "#T_1b734_row6_col4, #T_1b734_row69_col2 {\n",
       "  background-color: #6da6cd;\n",
       "  color: #f1f1f1;\n",
       "}\n",
       "#T_1b734_row7_col1, #T_1b734_row64_col3 {\n",
       "  background-color: #d2d2e7;\n",
       "  color: #000000;\n",
       "}\n",
       "#T_1b734_row7_col4, #T_1b734_row15_col4, #T_1b734_row36_col4 {\n",
       "  background-color: #03476f;\n",
       "  color: #f1f1f1;\n",
       "}\n",
       "#T_1b734_row8_col1 {\n",
       "  background-color: #e6e2ef;\n",
       "  color: #000000;\n",
       "}\n",
       "#T_1b734_row8_col2, #T_1b734_row46_col3 {\n",
       "  background-color: #78abd0;\n",
       "  color: #f1f1f1;\n",
       "}\n",
       "#T_1b734_row8_col3, #T_1b734_row24_col3 {\n",
       "  background-color: #e3e0ee;\n",
       "  color: #000000;\n",
       "}\n",
       "#T_1b734_row9_col1 {\n",
       "  background-color: #b3c3de;\n",
       "  color: #000000;\n",
       "}\n",
       "#T_1b734_row9_col3 {\n",
       "  background-color: #a9bfdc;\n",
       "  color: #000000;\n",
       "}\n",
       "#T_1b734_row9_col4, #T_1b734_row32_col4, #T_1b734_row36_col2, #T_1b734_row59_col4, #T_1b734_row78_col4 {\n",
       "  background-color: #045382;\n",
       "  color: #f1f1f1;\n",
       "}\n",
       "#T_1b734_row10_col1 {\n",
       "  background-color: #8eb3d5;\n",
       "  color: #000000;\n",
       "}\n",
       "#T_1b734_row10_col2, #T_1b734_row26_col2, #T_1b734_row26_col4, #T_1b734_row27_col1, #T_1b734_row27_col3, #T_1b734_row43_col2, #T_1b734_row61_col2 {\n",
       "  background-color: #fff7fb;\n",
       "  color: #000000;\n",
       "}\n",
       "#T_1b734_row10_col3 {\n",
       "  background-color: #94b6d7;\n",
       "  color: #000000;\n",
       "}\n",
       "#T_1b734_row10_col4, #T_1b734_row39_col3, #T_1b734_row72_col2 {\n",
       "  background-color: #04639b;\n",
       "  color: #f1f1f1;\n",
       "}\n",
       "#T_1b734_row11_col1, #T_1b734_row59_col3 {\n",
       "  background-color: #e8e4f0;\n",
       "  color: #000000;\n",
       "}\n",
       "#T_1b734_row11_col2 {\n",
       "  background-color: #7bacd1;\n",
       "  color: #f1f1f1;\n",
       "}\n",
       "#T_1b734_row11_col3 {\n",
       "  background-color: #e4e1ef;\n",
       "  color: #000000;\n",
       "}\n",
       "#T_1b734_row12_col2, #T_1b734_row39_col1, #T_1b734_row40_col3, #T_1b734_row53_col2 {\n",
       "  background-color: #056fae;\n",
       "  color: #f1f1f1;\n",
       "}\n",
       "#T_1b734_row12_col3 {\n",
       "  background-color: #509ac6;\n",
       "  color: #f1f1f1;\n",
       "}\n",
       "#T_1b734_row12_col4, #T_1b734_row73_col4 {\n",
       "  background-color: #04598c;\n",
       "  color: #f1f1f1;\n",
       "}\n",
       "#T_1b734_row13_col1 {\n",
       "  background-color: #dfddec;\n",
       "  color: #000000;\n",
       "}\n",
       "#T_1b734_row13_col2, #T_1b734_row86_col1 {\n",
       "  background-color: #6ba5cd;\n",
       "  color: #f1f1f1;\n",
       "}\n",
       "#T_1b734_row13_col3, #T_1b734_row64_col1 {\n",
       "  background-color: #d9d8ea;\n",
       "  color: #000000;\n",
       "}\n",
       "#T_1b734_row13_col4, #T_1b734_row22_col4, #T_1b734_row31_col4, #T_1b734_row54_col4, #T_1b734_row66_col4, #T_1b734_row74_col4 {\n",
       "  background-color: #034a74;\n",
       "  color: #f1f1f1;\n",
       "}\n",
       "#T_1b734_row14_col1 {\n",
       "  background-color: #4295c3;\n",
       "  color: #f1f1f1;\n",
       "}\n",
       "#T_1b734_row14_col2, #T_1b734_row35_col2, #T_1b734_row85_col4 {\n",
       "  background-color: #0567a2;\n",
       "  color: #f1f1f1;\n",
       "}\n",
       "#T_1b734_row14_col3 {\n",
       "  background-color: #2987bc;\n",
       "  color: #f1f1f1;\n",
       "}\n",
       "#T_1b734_row15_col1, #T_1b734_row20_col1, #T_1b734_row34_col1 {\n",
       "  background-color: #2d8abd;\n",
       "  color: #f1f1f1;\n",
       "}\n",
       "#T_1b734_row15_col2, #T_1b734_row30_col2, #T_1b734_row66_col3 {\n",
       "  background-color: #046299;\n",
       "  color: #f1f1f1;\n",
       "}\n",
       "#T_1b734_row15_col3, #T_1b734_row41_col2 {\n",
       "  background-color: #1077b4;\n",
       "  color: #f1f1f1;\n",
       "}\n",
       "#T_1b734_row16_col1, #T_1b734_row36_col1, #T_1b734_row38_col2 {\n",
       "  background-color: #0c74b2;\n",
       "  color: #f1f1f1;\n",
       "}\n",
       "#T_1b734_row16_col2, #T_1b734_row65_col3, #T_1b734_row72_col4, #T_1b734_row77_col4, #T_1b734_row81_col4 {\n",
       "  background-color: #045687;\n",
       "  color: #f1f1f1;\n",
       "}\n",
       "#T_1b734_row16_col3 {\n",
       "  background-color: #05659f;\n",
       "  color: #f1f1f1;\n",
       "}\n",
       "#T_1b734_row17_col1, #T_1b734_row44_col2, #T_1b734_row60_col3 {\n",
       "  background-color: #81aed2;\n",
       "  color: #f1f1f1;\n",
       "}\n",
       "#T_1b734_row17_col2, #T_1b734_row48_col1 {\n",
       "  background-color: #328dbf;\n",
       "  color: #f1f1f1;\n",
       "}\n",
       "#T_1b734_row17_col3, #T_1b734_row18_col2, #T_1b734_row54_col3, #T_1b734_row87_col3 {\n",
       "  background-color: #9cb9d9;\n",
       "  color: #000000;\n",
       "}\n",
       "#T_1b734_row18_col1, #T_1b734_row18_col3 {\n",
       "  background-color: #fef6fb;\n",
       "  color: #000000;\n",
       "}\n",
       "#T_1b734_row18_col4, #T_1b734_row27_col4, #T_1b734_row62_col2 {\n",
       "  background-color: #045788;\n",
       "  color: #f1f1f1;\n",
       "}\n",
       "#T_1b734_row19_col2, #T_1b734_row49_col2, #T_1b734_row51_col2, #T_1b734_row58_col2 {\n",
       "  background-color: #529bc7;\n",
       "  color: #f1f1f1;\n",
       "}\n",
       "#T_1b734_row19_col4, #T_1b734_row39_col2 {\n",
       "  background-color: #045585;\n",
       "  color: #f1f1f1;\n",
       "}\n",
       "#T_1b734_row20_col2 {\n",
       "  background-color: #045f95;\n",
       "  color: #f1f1f1;\n",
       "}\n",
       "#T_1b734_row20_col3, #T_1b734_row63_col2, #T_1b734_row73_col2, #T_1b734_row74_col2 {\n",
       "  background-color: #65a3cb;\n",
       "  color: #f1f1f1;\n",
       "}\n",
       "#T_1b734_row20_col4, #T_1b734_row60_col2, #T_1b734_row61_col3 {\n",
       "  background-color: #2182b9;\n",
       "  color: #f1f1f1;\n",
       "}\n",
       "#T_1b734_row21_col1, #T_1b734_row43_col3 {\n",
       "  background-color: #ced0e6;\n",
       "  color: #000000;\n",
       "}\n",
       "#T_1b734_row21_col2, #T_1b734_row53_col1, #T_1b734_row71_col3, #T_1b734_row82_col2 {\n",
       "  background-color: #569dc8;\n",
       "  color: #f1f1f1;\n",
       "}\n",
       "#T_1b734_row21_col3 {\n",
       "  background-color: #c2cbe2;\n",
       "  color: #000000;\n",
       "}\n",
       "#T_1b734_row21_col4, #T_1b734_row30_col4, #T_1b734_row60_col4, #T_1b734_row63_col4, #T_1b734_row65_col2 {\n",
       "  background-color: #034973;\n",
       "  color: #f1f1f1;\n",
       "}\n",
       "#T_1b734_row22_col1, #T_1b734_row87_col2 {\n",
       "  background-color: #308cbe;\n",
       "  color: #f1f1f1;\n",
       "}\n",
       "#T_1b734_row22_col2, #T_1b734_row36_col3, #T_1b734_row65_col1 {\n",
       "  background-color: #04649e;\n",
       "  color: #f1f1f1;\n",
       "}\n",
       "#T_1b734_row22_col3 {\n",
       "  background-color: #167bb6;\n",
       "  color: #f1f1f1;\n",
       "}\n",
       "#T_1b734_row23_col1, #T_1b734_row57_col3, #T_1b734_row88_col1 {\n",
       "  background-color: #b0c2de;\n",
       "  color: #000000;\n",
       "}\n",
       "#T_1b734_row23_col2 {\n",
       "  background-color: #348ebf;\n",
       "  color: #f1f1f1;\n",
       "}\n",
       "#T_1b734_row23_col3 {\n",
       "  background-color: #9fbad9;\n",
       "  color: #000000;\n",
       "}\n",
       "#T_1b734_row24_col1 {\n",
       "  background-color: #e7e3f0;\n",
       "  color: #000000;\n",
       "}\n",
       "#T_1b734_row25_col1, #T_1b734_row25_col3 {\n",
       "  background-color: #adc1dd;\n",
       "  color: #000000;\n",
       "}\n",
       "#T_1b734_row25_col2, #T_1b734_row35_col1 {\n",
       "  background-color: #3f93c2;\n",
       "  color: #f1f1f1;\n",
       "}\n",
       "#T_1b734_row25_col4 {\n",
       "  background-color: #045e93;\n",
       "  color: #f1f1f1;\n",
       "}\n",
       "#T_1b734_row26_col3 {\n",
       "  background-color: #d4d4e8;\n",
       "  color: #000000;\n",
       "}\n",
       "#T_1b734_row27_col2 {\n",
       "  background-color: #a1bbda;\n",
       "  color: #000000;\n",
       "}\n",
       "#T_1b734_row28_col2 {\n",
       "  background-color: #056ba7;\n",
       "  color: #f1f1f1;\n",
       "}\n",
       "#T_1b734_row28_col3, #T_1b734_row54_col2 {\n",
       "  background-color: #3991c1;\n",
       "  color: #f1f1f1;\n",
       "}\n",
       "#T_1b734_row28_col4, #T_1b734_row64_col4, #T_1b734_row65_col4 {\n",
       "  background-color: #034b76;\n",
       "  color: #f1f1f1;\n",
       "}\n",
       "#T_1b734_row30_col1 {\n",
       "  background-color: #2a88bc;\n",
       "  color: #f1f1f1;\n",
       "}\n",
       "#T_1b734_row31_col3, #T_1b734_row32_col2, #T_1b734_row52_col1 {\n",
       "  background-color: #358fc0;\n",
       "  color: #f1f1f1;\n",
       "}\n",
       "#T_1b734_row32_col1, #T_1b734_row33_col3 {\n",
       "  background-color: #abbfdc;\n",
       "  color: #000000;\n",
       "}\n",
       "#T_1b734_row32_col3 {\n",
       "  background-color: #a2bcda;\n",
       "  color: #000000;\n",
       "}\n",
       "#T_1b734_row33_col1, #T_1b734_row57_col1 {\n",
       "  background-color: #bcc7e1;\n",
       "  color: #000000;\n",
       "}\n",
       "#T_1b734_row33_col2, #T_1b734_row53_col3, #T_1b734_row70_col2 {\n",
       "  background-color: #3d93c2;\n",
       "  color: #f1f1f1;\n",
       "}\n",
       "#T_1b734_row33_col4 {\n",
       "  background-color: #03446a;\n",
       "  color: #f1f1f1;\n",
       "}\n",
       "#T_1b734_row34_col2 {\n",
       "  background-color: #04629a;\n",
       "  color: #f1f1f1;\n",
       "}\n",
       "#T_1b734_row34_col3 {\n",
       "  background-color: #1278b4;\n",
       "  color: #f1f1f1;\n",
       "}\n",
       "#T_1b734_row35_col3 {\n",
       "  background-color: #2685bb;\n",
       "  color: #f1f1f1;\n",
       "}\n",
       "#T_1b734_row37_col1, #T_1b734_row74_col1 {\n",
       "  background-color: #dcdaeb;\n",
       "  color: #000000;\n",
       "}\n",
       "#T_1b734_row37_col2, #T_1b734_row71_col1 {\n",
       "  background-color: #69a5cc;\n",
       "  color: #f1f1f1;\n",
       "}\n",
       "#T_1b734_row37_col3 {\n",
       "  background-color: #d7d6e9;\n",
       "  color: #000000;\n",
       "}\n",
       "#T_1b734_row37_col4, #T_1b734_row45_col4, #T_1b734_row50_col4, #T_1b734_row88_col4 {\n",
       "  background-color: #034f7d;\n",
       "  color: #f1f1f1;\n",
       "}\n",
       "#T_1b734_row38_col1 {\n",
       "  background-color: #7dacd1;\n",
       "  color: #f1f1f1;\n",
       "}\n",
       "#T_1b734_row38_col3 {\n",
       "  background-color: #60a1ca;\n",
       "  color: #f1f1f1;\n",
       "}\n",
       "#T_1b734_row38_col4 {\n",
       "  background-color: #03466e;\n",
       "  color: #f1f1f1;\n",
       "}\n",
       "#T_1b734_row40_col1 {\n",
       "  background-color: #1b7eb7;\n",
       "  color: #f1f1f1;\n",
       "}\n",
       "#T_1b734_row40_col2, #T_1b734_row42_col1 {\n",
       "  background-color: #045e94;\n",
       "  color: #f1f1f1;\n",
       "}\n",
       "#T_1b734_row41_col1 {\n",
       "  background-color: #73a9cf;\n",
       "  color: #f1f1f1;\n",
       "}\n",
       "#T_1b734_row41_col3, #T_1b734_row47_col2 {\n",
       "  background-color: #5a9ec9;\n",
       "  color: #f1f1f1;\n",
       "}\n",
       "#T_1b734_row42_col2 {\n",
       "  background-color: #034369;\n",
       "  color: #f1f1f1;\n",
       "}\n",
       "#T_1b734_row43_col1, #T_1b734_row73_col1, #T_1b734_row74_col3 {\n",
       "  background-color: #d5d5e8;\n",
       "  color: #000000;\n",
       "}\n",
       "#T_1b734_row43_col4, #T_1b734_row53_col4 {\n",
       "  background-color: #034e7b;\n",
       "  color: #f1f1f1;\n",
       "}\n",
       "#T_1b734_row44_col1 {\n",
       "  background-color: #ece7f2;\n",
       "  color: #000000;\n",
       "}\n",
       "#T_1b734_row44_col3, #T_1b734_row59_col1 {\n",
       "  background-color: #ebe6f2;\n",
       "  color: #000000;\n",
       "}\n",
       "#T_1b734_row44_col4, #T_1b734_row55_col2 {\n",
       "  background-color: #045a8d;\n",
       "  color: #f1f1f1;\n",
       "}\n",
       "#T_1b734_row45_col1, #T_1b734_row64_col2, #T_1b734_row84_col1 {\n",
       "  background-color: #63a2cb;\n",
       "  color: #f1f1f1;\n",
       "}\n",
       "#T_1b734_row45_col2, #T_1b734_row71_col2 {\n",
       "  background-color: #0a73b2;\n",
       "  color: #f1f1f1;\n",
       "}\n",
       "#T_1b734_row45_col3, #T_1b734_row79_col2 {\n",
       "  background-color: #4e9ac6;\n",
       "  color: #f1f1f1;\n",
       "}\n",
       "#T_1b734_row46_col1 {\n",
       "  background-color: #83afd3;\n",
       "  color: #f1f1f1;\n",
       "}\n",
       "#T_1b734_row46_col2 {\n",
       "  background-color: #1c7fb8;\n",
       "  color: #f1f1f1;\n",
       "}\n",
       "#T_1b734_row47_col1, #T_1b734_row63_col3, #T_1b734_row73_col3 {\n",
       "  background-color: #d3d4e7;\n",
       "  color: #000000;\n",
       "}\n",
       "#T_1b734_row47_col3 {\n",
       "  background-color: #cacee5;\n",
       "  color: #000000;\n",
       "}\n",
       "#T_1b734_row48_col2 {\n",
       "  background-color: #0566a0;\n",
       "  color: #f1f1f1;\n",
       "}\n",
       "#T_1b734_row48_col3, #T_1b734_row52_col3, #T_1b734_row72_col3, #T_1b734_row77_col2 {\n",
       "  background-color: #1e80b8;\n",
       "  color: #f1f1f1;\n",
       "}\n",
       "#T_1b734_row49_col1, #T_1b734_row82_col3 {\n",
       "  background-color: #c8cde4;\n",
       "  color: #000000;\n",
       "}\n",
       "#T_1b734_row49_col3 {\n",
       "  background-color: #bfc9e1;\n",
       "  color: #000000;\n",
       "}\n",
       "#T_1b734_row50_col1 {\n",
       "  background-color: #f7f0f7;\n",
       "  color: #000000;\n",
       "}\n",
       "#T_1b734_row50_col2, #T_1b734_row83_col2 {\n",
       "  background-color: #91b5d6;\n",
       "  color: #000000;\n",
       "}\n",
       "#T_1b734_row50_col3 {\n",
       "  background-color: #f5eef6;\n",
       "  color: #000000;\n",
       "}\n",
       "#T_1b734_row51_col3 {\n",
       "  background-color: #c1cae2;\n",
       "  color: #000000;\n",
       "}\n",
       "#T_1b734_row52_col2 {\n",
       "  background-color: #0567a1;\n",
       "  color: #f1f1f1;\n",
       "}\n",
       "#T_1b734_row54_col1, #T_1b734_row70_col3 {\n",
       "  background-color: #acc0dd;\n",
       "  color: #000000;\n",
       "}\n",
       "#T_1b734_row55_col1, #T_1b734_row62_col1, #T_1b734_row84_col2, #T_1b734_row86_col2 {\n",
       "  background-color: #0d75b3;\n",
       "  color: #f1f1f1;\n",
       "}\n",
       "#T_1b734_row55_col3 {\n",
       "  background-color: #056aa6;\n",
       "  color: #f1f1f1;\n",
       "}\n",
       "#T_1b734_row56_col1 {\n",
       "  background-color: #f2ecf5;\n",
       "  color: #000000;\n",
       "}\n",
       "#T_1b734_row56_col2 {\n",
       "  background-color: #88b1d4;\n",
       "  color: #000000;\n",
       "}\n",
       "#T_1b734_row56_col3, #T_1b734_row75_col3 {\n",
       "  background-color: #f0eaf4;\n",
       "  color: #000000;\n",
       "}\n",
       "#T_1b734_row56_col4, #T_1b734_row71_col4, #T_1b734_row76_col4, #T_1b734_row87_col4 {\n",
       "  background-color: #045280;\n",
       "  color: #f1f1f1;\n",
       "}\n",
       "#T_1b734_row57_col2, #T_1b734_row76_col2 {\n",
       "  background-color: #4094c3;\n",
       "  color: #f1f1f1;\n",
       "}\n",
       "#T_1b734_row58_col1, #T_1b734_row58_col3, #T_1b734_row78_col3, #T_1b734_row85_col3 {\n",
       "  background-color: #b9c6e0;\n",
       "  color: #000000;\n",
       "}\n",
       "#T_1b734_row58_col4 {\n",
       "  background-color: #045c90;\n",
       "  color: #f1f1f1;\n",
       "}\n",
       "#T_1b734_row59_col2 {\n",
       "  background-color: #80aed2;\n",
       "  color: #f1f1f1;\n",
       "}\n",
       "#T_1b734_row60_col1 {\n",
       "  background-color: #96b6d7;\n",
       "  color: #000000;\n",
       "}\n",
       "#T_1b734_row61_col1, #T_1b734_row88_col2 {\n",
       "  background-color: #3790c0;\n",
       "  color: #f1f1f1;\n",
       "}\n",
       "#T_1b734_row62_col3 {\n",
       "  background-color: #0568a3;\n",
       "  color: #f1f1f1;\n",
       "}\n",
       "#T_1b734_row63_col1 {\n",
       "  background-color: #dbdaeb;\n",
       "  color: #000000;\n",
       "}\n",
       "#T_1b734_row66_col1 {\n",
       "  background-color: #056faf;\n",
       "  color: #f1f1f1;\n",
       "}\n",
       "#T_1b734_row67_col2 {\n",
       "  background-color: #056dac;\n",
       "  color: #f1f1f1;\n",
       "}\n",
       "#T_1b734_row69_col1 {\n",
       "  background-color: #dedcec;\n",
       "  color: #000000;\n",
       "}\n",
       "#T_1b734_row69_col3 {\n",
       "  background-color: #d8d7e9;\n",
       "  color: #000000;\n",
       "}\n",
       "#T_1b734_row70_col1 {\n",
       "  background-color: #b4c4df;\n",
       "  color: #000000;\n",
       "}\n",
       "#T_1b734_row72_col1 {\n",
       "  background-color: #2c89bd;\n",
       "  color: #f1f1f1;\n",
       "}\n",
       "#T_1b734_row75_col1 {\n",
       "  background-color: #f1ebf5;\n",
       "  color: #000000;\n",
       "}\n",
       "#T_1b734_row75_col2, #T_1b734_row77_col1 {\n",
       "  background-color: #89b1d4;\n",
       "  color: #000000;\n",
       "}\n",
       "#T_1b734_row76_col1 {\n",
       "  background-color: #b8c6e0;\n",
       "  color: #000000;\n",
       "}\n",
       "#T_1b734_row76_col3, #T_1b734_row85_col1 {\n",
       "  background-color: #afc1dd;\n",
       "  color: #000000;\n",
       "}\n",
       "#T_1b734_row77_col3 {\n",
       "  background-color: #7eadd1;\n",
       "  color: #f1f1f1;\n",
       "}\n",
       "#T_1b734_row78_col1, #T_1b734_row79_col3 {\n",
       "  background-color: #c0c9e2;\n",
       "  color: #000000;\n",
       "}\n",
       "#T_1b734_row78_col2, #T_1b734_row85_col2 {\n",
       "  background-color: #4897c4;\n",
       "  color: #f1f1f1;\n",
       "}\n",
       "#T_1b734_row80_col1 {\n",
       "  background-color: #faf2f8;\n",
       "  color: #000000;\n",
       "}\n",
       "#T_1b734_row80_col2 {\n",
       "  background-color: #9ab8d8;\n",
       "  color: #000000;\n",
       "}\n",
       "#T_1b734_row80_col3 {\n",
       "  background-color: #faf3f9;\n",
       "  color: #000000;\n",
       "}\n",
       "#T_1b734_row80_col4 {\n",
       "  background-color: #045b8f;\n",
       "  color: #f1f1f1;\n",
       "}\n",
       "#T_1b734_row81_col1 {\n",
       "  background-color: #cccfe5;\n",
       "  color: #000000;\n",
       "}\n",
       "#T_1b734_row83_col1 {\n",
       "  background-color: #f6eff7;\n",
       "  color: #000000;\n",
       "}\n",
       "#T_1b734_row83_col3 {\n",
       "  background-color: #f4eef6;\n",
       "  color: #000000;\n",
       "}\n",
       "#T_1b734_row87_col1 {\n",
       "  background-color: #a7bddb;\n",
       "  color: #000000;\n",
       "}\n",
       "#T_1b734_row88_col3 {\n",
       "  background-color: #a5bddb;\n",
       "  color: #000000;\n",
       "}\n",
       "</style>\n",
       "<table id=\"T_1b734\">\n",
       "  <thead>\n",
       "    <tr>\n",
       "      <th class=\"blank level0\" >&nbsp;</th>\n",
       "      <th id=\"T_1b734_level0_col0\" class=\"col_heading level0 col0\" >Crystal structure</th>\n",
       "      <th id=\"T_1b734_level0_col1\" class=\"col_heading level0 col1\" >a (Å)</th>\n",
       "      <th id=\"T_1b734_level0_col2\" class=\"col_heading level0 col2\" >MP a (Å)</th>\n",
       "      <th id=\"T_1b734_level0_col3\" class=\"col_heading level0 col3\" >Predicted a (Å)</th>\n",
       "      <th id=\"T_1b734_level0_col4\" class=\"col_heading level0 col4\" >% error vs Expt</th>\n",
       "      <th id=\"T_1b734_level0_col5\" class=\"col_heading level0 col5\" >% error vs MP</th>\n",
       "    </tr>\n",
       "    <tr>\n",
       "      <th class=\"index_name level0\" >Material</th>\n",
       "      <th class=\"blank col0\" >&nbsp;</th>\n",
       "      <th class=\"blank col1\" >&nbsp;</th>\n",
       "      <th class=\"blank col2\" >&nbsp;</th>\n",
       "      <th class=\"blank col3\" >&nbsp;</th>\n",
       "      <th class=\"blank col4\" >&nbsp;</th>\n",
       "      <th class=\"blank col5\" >&nbsp;</th>\n",
       "    </tr>\n",
       "  </thead>\n",
       "  <tbody>\n",
       "    <tr>\n",
       "      <th id=\"T_1b734_level0_row0\" class=\"row_heading level0 row0\" >Ac</th>\n",
       "      <td id=\"T_1b734_row0_col0\" class=\"data row0 col0\" >FCC</td>\n",
       "      <td id=\"T_1b734_row0_col1\" class=\"data row0 col1\" >5.310000</td>\n",
       "      <td id=\"T_1b734_row0_col2\" class=\"data row0 col2\" >5.696211</td>\n",
       "      <td id=\"T_1b734_row0_col3\" class=\"data row0 col3\" >5.613508</td>\n",
       "      <td id=\"T_1b734_row0_col4\" class=\"data row0 col4\" >5.72%</td>\n",
       "      <td id=\"T_1b734_row0_col5\" class=\"data row0 col5\" >-1.45%</td>\n",
       "    </tr>\n",
       "    <tr>\n",
       "      <th id=\"T_1b734_level0_row1\" class=\"row_heading level0 row1\" >Ag</th>\n",
       "      <td id=\"T_1b734_row1_col0\" class=\"data row1 col0\" >FCC</td>\n",
       "      <td id=\"T_1b734_row1_col1\" class=\"data row1 col1\" >4.079000</td>\n",
       "      <td id=\"T_1b734_row1_col2\" class=\"data row1 col2\" >4.104356</td>\n",
       "      <td id=\"T_1b734_row1_col3\" class=\"data row1 col3\" >4.172203</td>\n",
       "      <td id=\"T_1b734_row1_col4\" class=\"data row1 col4\" >2.28%</td>\n",
       "      <td id=\"T_1b734_row1_col5\" class=\"data row1 col5\" >1.65%</td>\n",
       "    </tr>\n",
       "    <tr>\n",
       "      <th id=\"T_1b734_level0_row2\" class=\"row_heading level0 row2\" >Al</th>\n",
       "      <td id=\"T_1b734_row2_col0\" class=\"data row2 col0\" >FCC</td>\n",
       "      <td id=\"T_1b734_row2_col1\" class=\"data row2 col1\" >4.046000</td>\n",
       "      <td id=\"T_1b734_row2_col2\" class=\"data row2 col2\" >4.038930</td>\n",
       "      <td id=\"T_1b734_row2_col3\" class=\"data row2 col3\" >4.046954</td>\n",
       "      <td id=\"T_1b734_row2_col4\" class=\"data row2 col4\" >0.02%</td>\n",
       "      <td id=\"T_1b734_row2_col5\" class=\"data row2 col5\" >0.20%</td>\n",
       "    </tr>\n",
       "    <tr>\n",
       "      <th id=\"T_1b734_level0_row3\" class=\"row_heading level0 row3\" >AlAs</th>\n",
       "      <td id=\"T_1b734_row3_col0\" class=\"data row3 col0\" >Zinc blende (FCC)</td>\n",
       "      <td id=\"T_1b734_row3_col1\" class=\"data row3 col1\" >5.660500</td>\n",
       "      <td id=\"T_1b734_row3_col2\" class=\"data row3 col2\" >5.675802</td>\n",
       "      <td id=\"T_1b734_row3_col3\" class=\"data row3 col3\" >5.730905</td>\n",
       "      <td id=\"T_1b734_row3_col4\" class=\"data row3 col4\" >1.24%</td>\n",
       "      <td id=\"T_1b734_row3_col5\" class=\"data row3 col5\" >0.97%</td>\n",
       "    </tr>\n",
       "    <tr>\n",
       "      <th id=\"T_1b734_level0_row4\" class=\"row_heading level0 row4\" >AlP</th>\n",
       "      <td id=\"T_1b734_row4_col0\" class=\"data row4 col0\" >Zinc blende (FCC)</td>\n",
       "      <td id=\"T_1b734_row4_col1\" class=\"data row4 col1\" >5.451000</td>\n",
       "      <td id=\"T_1b734_row4_col2\" class=\"data row4 col2\" >5.472967</td>\n",
       "      <td id=\"T_1b734_row4_col3\" class=\"data row4 col3\" >5.489397</td>\n",
       "      <td id=\"T_1b734_row4_col4\" class=\"data row4 col4\" >0.70%</td>\n",
       "      <td id=\"T_1b734_row4_col5\" class=\"data row4 col5\" >0.30%</td>\n",
       "    </tr>\n",
       "    <tr>\n",
       "      <th id=\"T_1b734_level0_row5\" class=\"row_heading level0 row5\" >AlSb</th>\n",
       "      <td id=\"T_1b734_row5_col0\" class=\"data row5 col0\" >Zinc blende (FCC)</td>\n",
       "      <td id=\"T_1b734_row5_col1\" class=\"data row5 col1\" >6.135500</td>\n",
       "      <td id=\"T_1b734_row5_col2\" class=\"data row5 col2\" >6.185042</td>\n",
       "      <td id=\"T_1b734_row5_col3\" class=\"data row5 col3\" >6.228938</td>\n",
       "      <td id=\"T_1b734_row5_col4\" class=\"data row5 col4\" >1.52%</td>\n",
       "      <td id=\"T_1b734_row5_col5\" class=\"data row5 col5\" >0.71%</td>\n",
       "    </tr>\n",
       "    <tr>\n",
       "      <th id=\"T_1b734_level0_row6\" class=\"row_heading level0 row6\" >Ar</th>\n",
       "      <td id=\"T_1b734_row6_col0\" class=\"data row6 col0\" >FCC</td>\n",
       "      <td id=\"T_1b734_row6_col1\" class=\"data row6 col1\" >5.260000</td>\n",
       "      <td id=\"T_1b734_row6_col2\" class=\"data row6 col2\" >5.363160</td>\n",
       "      <td id=\"T_1b734_row6_col3\" class=\"data row6 col3\" >4.145401</td>\n",
       "      <td id=\"T_1b734_row6_col4\" class=\"data row6 col4\" >-21.19%</td>\n",
       "      <td id=\"T_1b734_row6_col5\" class=\"data row6 col5\" >-22.71%</td>\n",
       "    </tr>\n",
       "    <tr>\n",
       "      <th id=\"T_1b734_level0_row7\" class=\"row_heading level0 row7\" >Au</th>\n",
       "      <td id=\"T_1b734_row7_col0\" class=\"data row7 col0\" >FCC</td>\n",
       "      <td id=\"T_1b734_row7_col1\" class=\"data row7 col1\" >4.065000</td>\n",
       "      <td id=\"T_1b734_row7_col2\" class=\"data row7 col2\" >4.171289</td>\n",
       "      <td id=\"T_1b734_row7_col3\" class=\"data row7 col3\" >4.168613</td>\n",
       "      <td id=\"T_1b734_row7_col4\" class=\"data row7 col4\" >2.55%</td>\n",
       "      <td id=\"T_1b734_row7_col5\" class=\"data row7 col5\" >-0.06%</td>\n",
       "    </tr>\n",
       "    <tr>\n",
       "      <th id=\"T_1b734_level0_row8\" class=\"row_heading level0 row8\" >BN</th>\n",
       "      <td id=\"T_1b734_row8_col0\" class=\"data row8 col0\" >Zinc blende (FCC)</td>\n",
       "      <td id=\"T_1b734_row8_col1\" class=\"data row8 col1\" >3.615000</td>\n",
       "      <td id=\"T_1b734_row8_col2\" class=\"data row8 col2\" >3.626002</td>\n",
       "      <td id=\"T_1b734_row8_col3\" class=\"data row8 col3\" >3.615134</td>\n",
       "      <td id=\"T_1b734_row8_col4\" class=\"data row8 col4\" >0.00%</td>\n",
       "      <td id=\"T_1b734_row8_col5\" class=\"data row8 col5\" >-0.30%</td>\n",
       "    </tr>\n",
       "    <tr>\n",
       "      <th id=\"T_1b734_level0_row9\" class=\"row_heading level0 row9\" >BP</th>\n",
       "      <td id=\"T_1b734_row9_col0\" class=\"data row9 col0\" >Zinc blende (FCC)</td>\n",
       "      <td id=\"T_1b734_row9_col1\" class=\"data row9 col1\" >4.538000</td>\n",
       "      <td id=\"T_1b734_row9_col2\" class=\"data row9 col2\" >4.532145</td>\n",
       "      <td id=\"T_1b734_row9_col3\" class=\"data row9 col3\" >4.543347</td>\n",
       "      <td id=\"T_1b734_row9_col4\" class=\"data row9 col4\" >0.12%</td>\n",
       "      <td id=\"T_1b734_row9_col5\" class=\"data row9 col5\" >0.25%</td>\n",
       "    </tr>\n",
       "    <tr>\n",
       "      <th id=\"T_1b734_level0_row10\" class=\"row_heading level0 row10\" >Ba</th>\n",
       "      <td id=\"T_1b734_row10_col0\" class=\"data row10 col0\" >BCC</td>\n",
       "      <td id=\"T_1b734_row10_col1\" class=\"data row10 col1\" >5.020000</td>\n",
       "      <td id=\"T_1b734_row10_col2\" class=\"data row10 col2\" >0.000000</td>\n",
       "      <td id=\"T_1b734_row10_col3\" class=\"data row10 col3\" >4.814511</td>\n",
       "      <td id=\"T_1b734_row10_col4\" class=\"data row10 col4\" >-4.09%</td>\n",
       "      <td id=\"T_1b734_row10_col5\" class=\"data row10 col5\" >inf%</td>\n",
       "    </tr>\n",
       "    <tr>\n",
       "      <th id=\"T_1b734_level0_row11\" class=\"row_heading level0 row11\" >C (diamond)</th>\n",
       "      <td id=\"T_1b734_row11_col0\" class=\"data row11 col0\" >Diamond (FCC)</td>\n",
       "      <td id=\"T_1b734_row11_col1\" class=\"data row11 col1\" >3.567000</td>\n",
       "      <td id=\"T_1b734_row11_col2\" class=\"data row11 col2\" >3.560745</td>\n",
       "      <td id=\"T_1b734_row11_col3\" class=\"data row11 col3\" >3.590531</td>\n",
       "      <td id=\"T_1b734_row11_col4\" class=\"data row11 col4\" >0.66%</td>\n",
       "      <td id=\"T_1b734_row11_col5\" class=\"data row11 col5\" >0.84%</td>\n",
       "    </tr>\n",
       "    <tr>\n",
       "      <th id=\"T_1b734_level0_row12\" class=\"row_heading level0 row12\" >Ca</th>\n",
       "      <td id=\"T_1b734_row12_col0\" class=\"data row12 col0\" >FCC</td>\n",
       "      <td id=\"T_1b734_row12_col1\" class=\"data row12 col1\" >5.580000</td>\n",
       "      <td id=\"T_1b734_row12_col2\" class=\"data row12 col2\" >5.576816</td>\n",
       "      <td id=\"T_1b734_row12_col3\" class=\"data row12 col3\" >5.513572</td>\n",
       "      <td id=\"T_1b734_row12_col4\" class=\"data row12 col4\" >-1.19%</td>\n",
       "      <td id=\"T_1b734_row12_col5\" class=\"data row12 col5\" >-1.13%</td>\n",
       "    </tr>\n",
       "    <tr>\n",
       "      <th id=\"T_1b734_level0_row13\" class=\"row_heading level0 row13\" >CaVO3</th>\n",
       "      <td id=\"T_1b734_row13_col0\" class=\"data row13 col0\" >Cubic perovskite</td>\n",
       "      <td id=\"T_1b734_row13_col1\" class=\"data row13 col1\" >3.767000</td>\n",
       "      <td id=\"T_1b734_row13_col2\" class=\"data row13 col2\" >3.830406</td>\n",
       "      <td id=\"T_1b734_row13_col3\" class=\"data row13 col3\" >3.840966</td>\n",
       "      <td id=\"T_1b734_row13_col4\" class=\"data row13 col4\" >1.96%</td>\n",
       "      <td id=\"T_1b734_row13_col5\" class=\"data row13 col5\" >0.28%</td>\n",
       "    </tr>\n",
       "    <tr>\n",
       "      <th id=\"T_1b734_level0_row14\" class=\"row_heading level0 row14\" >CdS</th>\n",
       "      <td id=\"T_1b734_row14_col0\" class=\"data row14 col0\" >Zinc blende (FCC)</td>\n",
       "      <td id=\"T_1b734_row14_col1\" class=\"data row14 col1\" >5.832000</td>\n",
       "      <td id=\"T_1b734_row14_col2\" class=\"data row14 col2\" >5.885907</td>\n",
       "      <td id=\"T_1b734_row14_col3\" class=\"data row14 col3\" >5.922216</td>\n",
       "      <td id=\"T_1b734_row14_col4\" class=\"data row14 col4\" >1.55%</td>\n",
       "      <td id=\"T_1b734_row14_col5\" class=\"data row14 col5\" >0.62%</td>\n",
       "    </tr>\n",
       "    <tr>\n",
       "      <th id=\"T_1b734_level0_row15\" class=\"row_heading level0 row15\" >CdSe</th>\n",
       "      <td id=\"T_1b734_row15_col0\" class=\"data row15 col0\" >Zinc blende (FCC)</td>\n",
       "      <td id=\"T_1b734_row15_col1\" class=\"data row15 col1\" >6.050000</td>\n",
       "      <td id=\"T_1b734_row15_col2\" class=\"data row15 col2\" >6.140542</td>\n",
       "      <td id=\"T_1b734_row15_col3\" class=\"data row15 col3\" >6.211245</td>\n",
       "      <td id=\"T_1b734_row15_col4\" class=\"data row15 col4\" >2.67%</td>\n",
       "      <td id=\"T_1b734_row15_col5\" class=\"data row15 col5\" >1.15%</td>\n",
       "    </tr>\n",
       "    <tr>\n",
       "      <th id=\"T_1b734_level0_row16\" class=\"row_heading level0 row16\" >CdTe</th>\n",
       "      <td id=\"T_1b734_row16_col0\" class=\"data row16 col0\" >Zinc blende (FCC)</td>\n",
       "      <td id=\"T_1b734_row16_col1\" class=\"data row16 col1\" >6.482000</td>\n",
       "      <td id=\"T_1b734_row16_col2\" class=\"data row16 col2\" >6.564227</td>\n",
       "      <td id=\"T_1b734_row16_col3\" class=\"data row16 col3\" >6.630309</td>\n",
       "      <td id=\"T_1b734_row16_col4\" class=\"data row16 col4\" >2.29%</td>\n",
       "      <td id=\"T_1b734_row16_col5\" class=\"data row16 col5\" >1.01%</td>\n",
       "    </tr>\n",
       "    <tr>\n",
       "      <th id=\"T_1b734_level0_row17\" class=\"row_heading level0 row17\" >Ce</th>\n",
       "      <td id=\"T_1b734_row17_col0\" class=\"data row17 col0\" >FCC</td>\n",
       "      <td id=\"T_1b734_row17_col1\" class=\"data row17 col1\" >5.160000</td>\n",
       "      <td id=\"T_1b734_row17_col2\" class=\"data row17 col2\" >4.672429</td>\n",
       "      <td id=\"T_1b734_row17_col3\" class=\"data row17 col3\" >4.712238</td>\n",
       "      <td id=\"T_1b734_row17_col4\" class=\"data row17 col4\" >-8.68%</td>\n",
       "      <td id=\"T_1b734_row17_col5\" class=\"data row17 col5\" >0.85%</td>\n",
       "    </tr>\n",
       "    <tr>\n",
       "      <th id=\"T_1b734_level0_row18\" class=\"row_heading level0 row18\" >Cr</th>\n",
       "      <td id=\"T_1b734_row18_col0\" class=\"data row18 col0\" >BCC</td>\n",
       "      <td id=\"T_1b734_row18_col1\" class=\"data row18 col1\" >2.880000</td>\n",
       "      <td id=\"T_1b734_row18_col2\" class=\"data row18 col2\" >2.968899</td>\n",
       "      <td id=\"T_1b734_row18_col3\" class=\"data row18 col3\" >2.859300</td>\n",
       "      <td id=\"T_1b734_row18_col4\" class=\"data row18 col4\" >-0.72%</td>\n",
       "      <td id=\"T_1b734_row18_col5\" class=\"data row18 col5\" >-3.69%</td>\n",
       "    </tr>\n",
       "    <tr>\n",
       "      <th id=\"T_1b734_level0_row19\" class=\"row_heading level0 row19\" >CrN</th>\n",
       "      <td id=\"T_1b734_row19_col0\" class=\"data row19 col0\" >Halite</td>\n",
       "      <td id=\"T_1b734_row19_col1\" class=\"data row19 col1\" >4.149000</td>\n",
       "      <td id=\"T_1b734_row19_col2\" class=\"data row19 col2\" >4.190855</td>\n",
       "      <td id=\"T_1b734_row19_col3\" class=\"data row19 col3\" >4.142035</td>\n",
       "      <td id=\"T_1b734_row19_col4\" class=\"data row19 col4\" >-0.17%</td>\n",
       "      <td id=\"T_1b734_row19_col5\" class=\"data row19 col5\" >-1.16%</td>\n",
       "    </tr>\n",
       "    <tr>\n",
       "      <th id=\"T_1b734_level0_row20\" class=\"row_heading level0 row20\" >Cs</th>\n",
       "      <td id=\"T_1b734_row20_col0\" class=\"data row20 col0\" >BCC</td>\n",
       "      <td id=\"T_1b734_row20_col1\" class=\"data row20 col1\" >6.050000</td>\n",
       "      <td id=\"T_1b734_row20_col2\" class=\"data row20 col2\" >6.256930</td>\n",
       "      <td id=\"T_1b734_row20_col3\" class=\"data row20 col3\" >5.318184</td>\n",
       "      <td id=\"T_1b734_row20_col4\" class=\"data row20 col4\" >-12.10%</td>\n",
       "      <td id=\"T_1b734_row20_col5\" class=\"data row20 col5\" >-15.00%</td>\n",
       "    </tr>\n",
       "    <tr>\n",
       "      <th id=\"T_1b734_level0_row21\" class=\"row_heading level0 row21\" >CsCl</th>\n",
       "      <td id=\"T_1b734_row21_col0\" class=\"data row21 col0\" >Caesium chloride</td>\n",
       "      <td id=\"T_1b734_row21_col1\" class=\"data row21 col1\" >4.123000</td>\n",
       "      <td id=\"T_1b734_row21_col2\" class=\"data row21 col2\" >4.143698</td>\n",
       "      <td id=\"T_1b734_row21_col3\" class=\"data row21 col3\" >4.211410</td>\n",
       "      <td id=\"T_1b734_row21_col4\" class=\"data row21 col4\" >2.14%</td>\n",
       "      <td id=\"T_1b734_row21_col5\" class=\"data row21 col5\" >1.63%</td>\n",
       "    </tr>\n",
       "    <tr>\n",
       "      <th id=\"T_1b734_level0_row22\" class=\"row_heading level0 row22\" >CsF</th>\n",
       "      <td id=\"T_1b734_row22_col0\" class=\"data row22 col0\" >Halite</td>\n",
       "      <td id=\"T_1b734_row22_col1\" class=\"data row22 col1\" >6.020000</td>\n",
       "      <td id=\"T_1b734_row22_col2\" class=\"data row22 col2\" >6.012279</td>\n",
       "      <td id=\"T_1b734_row22_col3\" class=\"data row22 col3\" >6.135397</td>\n",
       "      <td id=\"T_1b734_row22_col4\" class=\"data row22 col4\" >1.92%</td>\n",
       "      <td id=\"T_1b734_row22_col5\" class=\"data row22 col5\" >2.05%</td>\n",
       "    </tr>\n",
       "    <tr>\n",
       "      <th id=\"T_1b734_level0_row23\" class=\"row_heading level0 row23\" >CsI</th>\n",
       "      <td id=\"T_1b734_row23_col0\" class=\"data row23 col0\" >Caesium chloride</td>\n",
       "      <td id=\"T_1b734_row23_col1\" class=\"data row23 col1\" >4.567000</td>\n",
       "      <td id=\"T_1b734_row23_col2\" class=\"data row23 col2\" >4.665212</td>\n",
       "      <td id=\"T_1b734_row23_col3\" class=\"data row23 col3\" >4.679304</td>\n",
       "      <td id=\"T_1b734_row23_col4\" class=\"data row23 col4\" >2.46%</td>\n",
       "      <td id=\"T_1b734_row23_col5\" class=\"data row23 col5\" >0.30%</td>\n",
       "    </tr>\n",
       "    <tr>\n",
       "      <th id=\"T_1b734_level0_row24\" class=\"row_heading level0 row24\" >Cu</th>\n",
       "      <td id=\"T_1b734_row24_col0\" class=\"data row24 col0\" >FCC</td>\n",
       "      <td id=\"T_1b734_row24_col1\" class=\"data row24 col1\" >3.597000</td>\n",
       "      <td id=\"T_1b734_row24_col2\" class=\"data row24 col2\" >3.577431</td>\n",
       "      <td id=\"T_1b734_row24_col3\" class=\"data row24 col3\" >3.616886</td>\n",
       "      <td id=\"T_1b734_row24_col4\" class=\"data row24 col4\" >0.55%</td>\n",
       "      <td id=\"T_1b734_row24_col5\" class=\"data row24 col5\" >1.10%</td>\n",
       "    </tr>\n",
       "    <tr>\n",
       "      <th id=\"T_1b734_level0_row25\" class=\"row_heading level0 row25\" >Eu</th>\n",
       "      <td id=\"T_1b734_row25_col0\" class=\"data row25 col0\" >BCC</td>\n",
       "      <td id=\"T_1b734_row25_col1\" class=\"data row25 col1\" >4.610000</td>\n",
       "      <td id=\"T_1b734_row25_col2\" class=\"data row25 col2\" >4.487602</td>\n",
       "      <td id=\"T_1b734_row25_col3\" class=\"data row25 col3\" >4.496991</td>\n",
       "      <td id=\"T_1b734_row25_col4\" class=\"data row25 col4\" >-2.45%</td>\n",
       "      <td id=\"T_1b734_row25_col5\" class=\"data row25 col5\" >0.21%</td>\n",
       "    </tr>\n",
       "    <tr>\n",
       "      <th id=\"T_1b734_level0_row26\" class=\"row_heading level0 row26\" >EuTiO3</th>\n",
       "      <td id=\"T_1b734_row26_col0\" class=\"data row26 col0\" >Cubic perovskite</td>\n",
       "      <td id=\"T_1b734_row26_col1\" class=\"data row26 col1\" >7.810000</td>\n",
       "      <td id=\"T_1b734_row26_col2\" class=\"data row26 col2\" >0.000000</td>\n",
       "      <td id=\"T_1b734_row26_col3\" class=\"data row26 col3\" >3.932595</td>\n",
       "      <td id=\"T_1b734_row26_col4\" class=\"data row26 col4\" >-49.65%</td>\n",
       "      <td id=\"T_1b734_row26_col5\" class=\"data row26 col5\" >inf%</td>\n",
       "    </tr>\n",
       "    <tr>\n",
       "      <th id=\"T_1b734_level0_row27\" class=\"row_heading level0 row27\" >Fe</th>\n",
       "      <td id=\"T_1b734_row27_col0\" class=\"data row27 col0\" >BCC</td>\n",
       "      <td id=\"T_1b734_row27_col1\" class=\"data row27 col1\" >2.856000</td>\n",
       "      <td id=\"T_1b734_row27_col2\" class=\"data row27 col2\" >2.863035</td>\n",
       "      <td id=\"T_1b734_row27_col3\" class=\"data row27 col3\" >2.838155</td>\n",
       "      <td id=\"T_1b734_row27_col4\" class=\"data row27 col4\" >-0.62%</td>\n",
       "      <td id=\"T_1b734_row27_col5\" class=\"data row27 col5\" >-0.87%</td>\n",
       "    </tr>\n",
       "    <tr>\n",
       "      <th id=\"T_1b734_level0_row28\" class=\"row_heading level0 row28\" >GaAs</th>\n",
       "      <td id=\"T_1b734_row28_col0\" class=\"data row28 col0\" >Zinc blende (FCC)</td>\n",
       "      <td id=\"T_1b734_row28_col1\" class=\"data row28 col1\" >5.653000</td>\n",
       "      <td id=\"T_1b734_row28_col2\" class=\"data row28 col2\" >5.750182</td>\n",
       "      <td id=\"T_1b734_row28_col3\" class=\"data row28 col3\" >5.744502</td>\n",
       "      <td id=\"T_1b734_row28_col4\" class=\"data row28 col4\" >1.62%</td>\n",
       "      <td id=\"T_1b734_row28_col5\" class=\"data row28 col5\" >-0.10%</td>\n",
       "    </tr>\n",
       "    <tr>\n",
       "      <th id=\"T_1b734_level0_row29\" class=\"row_heading level0 row29\" >GaP</th>\n",
       "      <td id=\"T_1b734_row29_col0\" class=\"data row29 col0\" >Zinc blende (FCC)</td>\n",
       "      <td id=\"T_1b734_row29_col1\" class=\"data row29 col1\" >5.450500</td>\n",
       "      <td id=\"T_1b734_row29_col2\" class=\"data row29 col2\" >5.451625</td>\n",
       "      <td id=\"T_1b734_row29_col3\" class=\"data row29 col3\" >5.488140</td>\n",
       "      <td id=\"T_1b734_row29_col4\" class=\"data row29 col4\" >0.69%</td>\n",
       "      <td id=\"T_1b734_row29_col5\" class=\"data row29 col5\" >0.67%</td>\n",
       "    </tr>\n",
       "    <tr>\n",
       "      <th id=\"T_1b734_level0_row30\" class=\"row_heading level0 row30\" >GaSb</th>\n",
       "      <td id=\"T_1b734_row30_col0\" class=\"data row30 col0\" >Zinc blende (FCC)</td>\n",
       "      <td id=\"T_1b734_row30_col1\" class=\"data row30 col1\" >6.095900</td>\n",
       "      <td id=\"T_1b734_row30_col2\" class=\"data row30 col2\" >6.137209</td>\n",
       "      <td id=\"T_1b734_row30_col3\" class=\"data row30 col3\" >6.228623</td>\n",
       "      <td id=\"T_1b734_row30_col4\" class=\"data row30 col4\" >2.18%</td>\n",
       "      <td id=\"T_1b734_row30_col5\" class=\"data row30 col5\" >1.49%</td>\n",
       "    </tr>\n",
       "    <tr>\n",
       "      <th id=\"T_1b734_level0_row31\" class=\"row_heading level0 row31\" >Ge</th>\n",
       "      <td id=\"T_1b734_row31_col0\" class=\"data row31 col0\" >Diamond (FCC)</td>\n",
       "      <td id=\"T_1b734_row31_col1\" class=\"data row31 col1\" >5.658000</td>\n",
       "      <td id=\"T_1b734_row31_col2\" class=\"data row31 col2\" >5.674854</td>\n",
       "      <td id=\"T_1b734_row31_col3\" class=\"data row31 col3\" >5.771785</td>\n",
       "      <td id=\"T_1b734_row31_col4\" class=\"data row31 col4\" >2.01%</td>\n",
       "      <td id=\"T_1b734_row31_col5\" class=\"data row31 col5\" >1.71%</td>\n",
       "    </tr>\n",
       "    <tr>\n",
       "      <th id=\"T_1b734_level0_row32\" class=\"row_heading level0 row32\" >HfC0.99</th>\n",
       "      <td id=\"T_1b734_row32_col0\" class=\"data row32 col0\" >Halite</td>\n",
       "      <td id=\"T_1b734_row32_col1\" class=\"data row32 col1\" >4.640000</td>\n",
       "      <td id=\"T_1b734_row32_col2\" class=\"data row32 col2\" >4.634278</td>\n",
       "      <td id=\"T_1b734_row32_col3\" class=\"data row32 col3\" >4.644392</td>\n",
       "      <td id=\"T_1b734_row32_col4\" class=\"data row32 col4\" >0.09%</td>\n",
       "      <td id=\"T_1b734_row32_col5\" class=\"data row32 col5\" >0.22%</td>\n",
       "    </tr>\n",
       "    <tr>\n",
       "      <th id=\"T_1b734_level0_row33\" class=\"row_heading level0 row33\" >HfN</th>\n",
       "      <td id=\"T_1b734_row33_col0\" class=\"data row33 col0\" >Halite</td>\n",
       "      <td id=\"T_1b734_row33_col1\" class=\"data row33 col1\" >4.392000</td>\n",
       "      <td id=\"T_1b734_row33_col2\" class=\"data row33 col2\" >4.511720</td>\n",
       "      <td id=\"T_1b734_row33_col3\" class=\"data row33 col3\" >4.535371</td>\n",
       "      <td id=\"T_1b734_row33_col4\" class=\"data row33 col4\" >3.26%</td>\n",
       "      <td id=\"T_1b734_row33_col5\" class=\"data row33 col5\" >0.52%</td>\n",
       "    </tr>\n",
       "    <tr>\n",
       "      <th id=\"T_1b734_level0_row34\" class=\"row_heading level0 row34\" >InAs</th>\n",
       "      <td id=\"T_1b734_row34_col0\" class=\"data row34 col0\" >Zinc blende (FCC)</td>\n",
       "      <td id=\"T_1b734_row34_col1\" class=\"data row34 col1\" >6.058300</td>\n",
       "      <td id=\"T_1b734_row34_col2\" class=\"data row34 col2\" >6.107123</td>\n",
       "      <td id=\"T_1b734_row34_col3\" class=\"data row34 col3\" >6.198173</td>\n",
       "      <td id=\"T_1b734_row34_col4\" class=\"data row34 col4\" >2.31%</td>\n",
       "      <td id=\"T_1b734_row34_col5\" class=\"data row34 col5\" >1.49%</td>\n",
       "    </tr>\n",
       "    <tr>\n",
       "      <th id=\"T_1b734_level0_row35\" class=\"row_heading level0 row35\" >InP</th>\n",
       "      <td id=\"T_1b734_row35_col0\" class=\"data row35 col0\" >Zinc blende (FCC)</td>\n",
       "      <td id=\"T_1b734_row35_col1\" class=\"data row35 col1\" >5.869000</td>\n",
       "      <td id=\"T_1b734_row35_col2\" class=\"data row35 col2\" >5.903953</td>\n",
       "      <td id=\"T_1b734_row35_col3\" class=\"data row35 col3\" >5.961731</td>\n",
       "      <td id=\"T_1b734_row35_col4\" class=\"data row35 col4\" >1.58%</td>\n",
       "      <td id=\"T_1b734_row35_col5\" class=\"data row35 col5\" >0.98%</td>\n",
       "    </tr>\n",
       "    <tr>\n",
       "      <th id=\"T_1b734_level0_row36\" class=\"row_heading level0 row36\" >InSb</th>\n",
       "      <td id=\"T_1b734_row36_col0\" class=\"data row36 col0\" >Zinc blende (FCC)</td>\n",
       "      <td id=\"T_1b734_row36_col1\" class=\"data row36 col1\" >6.479000</td>\n",
       "      <td id=\"T_1b734_row36_col2\" class=\"data row36 col2\" >6.633221</td>\n",
       "      <td id=\"T_1b734_row36_col3\" class=\"data row36 col3\" >6.653125</td>\n",
       "      <td id=\"T_1b734_row36_col4\" class=\"data row36 col4\" >2.69%</td>\n",
       "      <td id=\"T_1b734_row36_col5\" class=\"data row36 col5\" >0.30%</td>\n",
       "    </tr>\n",
       "    <tr>\n",
       "      <th id=\"T_1b734_level0_row37\" class=\"row_heading level0 row37\" >Ir</th>\n",
       "      <td id=\"T_1b734_row37_col0\" class=\"data row37 col0\" >FCC</td>\n",
       "      <td id=\"T_1b734_row37_col1\" class=\"data row37 col1\" >3.840000</td>\n",
       "      <td id=\"T_1b734_row37_col2\" class=\"data row37 col2\" >3.853929</td>\n",
       "      <td id=\"T_1b734_row37_col3\" class=\"data row37 col3\" >3.872626</td>\n",
       "      <td id=\"T_1b734_row37_col4\" class=\"data row37 col4\" >0.85%</td>\n",
       "      <td id=\"T_1b734_row37_col5\" class=\"data row37 col5\" >0.49%</td>\n",
       "    </tr>\n",
       "    <tr>\n",
       "      <th id=\"T_1b734_level0_row38\" class=\"row_heading level0 row38\" >K</th>\n",
       "      <td id=\"T_1b734_row38_col0\" class=\"data row38 col0\" >BCC</td>\n",
       "      <td id=\"T_1b734_row38_col1\" class=\"data row38 col1\" >5.230000</td>\n",
       "      <td id=\"T_1b734_row38_col2\" class=\"data row38 col2\" >5.395117</td>\n",
       "      <td id=\"T_1b734_row38_col3\" class=\"data row38 col3\" >5.377263</td>\n",
       "      <td id=\"T_1b734_row38_col4\" class=\"data row38 col4\" >2.82%</td>\n",
       "      <td id=\"T_1b734_row38_col5\" class=\"data row38 col5\" >-0.33%</td>\n",
       "    </tr>\n",
       "    <tr>\n",
       "      <th id=\"T_1b734_level0_row39\" class=\"row_heading level0 row39\" >KBr</th>\n",
       "      <td id=\"T_1b734_row39_col0\" class=\"data row39 col0\" >Halite</td>\n",
       "      <td id=\"T_1b734_row39_col1\" class=\"data row39 col1\" >6.600000</td>\n",
       "      <td id=\"T_1b734_row39_col2\" class=\"data row39 col2\" >6.589082</td>\n",
       "      <td id=\"T_1b734_row39_col3\" class=\"data row39 col3\" >6.698631</td>\n",
       "      <td id=\"T_1b734_row39_col4\" class=\"data row39 col4\" >1.49%</td>\n",
       "      <td id=\"T_1b734_row39_col5\" class=\"data row39 col5\" >1.66%</td>\n",
       "    </tr>\n",
       "    <tr>\n",
       "      <th id=\"T_1b734_level0_row40\" class=\"row_heading level0 row40\" >KCl</th>\n",
       "      <td id=\"T_1b734_row40_col0\" class=\"data row40 col0\" >Halite</td>\n",
       "      <td id=\"T_1b734_row40_col1\" class=\"data row40 col1\" >6.290000</td>\n",
       "      <td id=\"T_1b734_row40_col2\" class=\"data row40 col2\" >6.283743</td>\n",
       "      <td id=\"T_1b734_row40_col3\" class=\"data row40 col3\" >6.389114</td>\n",
       "      <td id=\"T_1b734_row40_col4\" class=\"data row40 col4\" >1.58%</td>\n",
       "      <td id=\"T_1b734_row40_col5\" class=\"data row40 col5\" >1.68%</td>\n",
       "    </tr>\n",
       "    <tr>\n",
       "      <th id=\"T_1b734_level0_row41\" class=\"row_heading level0 row41\" >KF</th>\n",
       "      <td id=\"T_1b734_row41_col0\" class=\"data row41 col0\" >Halite</td>\n",
       "      <td id=\"T_1b734_row41_col1\" class=\"data row41 col1\" >5.340000</td>\n",
       "      <td id=\"T_1b734_row41_col2\" class=\"data row41 col2\" >5.308827</td>\n",
       "      <td id=\"T_1b734_row41_col3\" class=\"data row41 col3\" >5.425351</td>\n",
       "      <td id=\"T_1b734_row41_col4\" class=\"data row41 col4\" >1.60%</td>\n",
       "      <td id=\"T_1b734_row41_col5\" class=\"data row41 col5\" >2.19%</td>\n",
       "    </tr>\n",
       "    <tr>\n",
       "      <th id=\"T_1b734_level0_row42\" class=\"row_heading level0 row42\" >KI</th>\n",
       "      <td id=\"T_1b734_row42_col0\" class=\"data row42 col0\" >Halite</td>\n",
       "      <td id=\"T_1b734_row42_col1\" class=\"data row42 col1\" >7.070000</td>\n",
       "      <td id=\"T_1b734_row42_col2\" class=\"data row42 col2\" >7.084871</td>\n",
       "      <td id=\"T_1b734_row42_col3\" class=\"data row42 col3\" >7.164688</td>\n",
       "      <td id=\"T_1b734_row42_col4\" class=\"data row42 col4\" >1.34%</td>\n",
       "      <td id=\"T_1b734_row42_col5\" class=\"data row42 col5\" >1.13%</td>\n",
       "    </tr>\n",
       "    <tr>\n",
       "      <th id=\"T_1b734_level0_row43\" class=\"row_heading level0 row43\" >KTaO3</th>\n",
       "      <td id=\"T_1b734_row43_col0\" class=\"data row43 col0\" >Cubic perovskite</td>\n",
       "      <td id=\"T_1b734_row43_col1\" class=\"data row43 col1\" >3.988500</td>\n",
       "      <td id=\"T_1b734_row43_col2\" class=\"data row43 col2\" >0.000000</td>\n",
       "      <td id=\"T_1b734_row43_col3\" class=\"data row43 col3\" >4.035274</td>\n",
       "      <td id=\"T_1b734_row43_col4\" class=\"data row43 col4\" >1.17%</td>\n",
       "      <td id=\"T_1b734_row43_col5\" class=\"data row43 col5\" >inf%</td>\n",
       "    </tr>\n",
       "    <tr>\n",
       "      <th id=\"T_1b734_level0_row44\" class=\"row_heading level0 row44\" >Li</th>\n",
       "      <td id=\"T_1b734_row44_col0\" class=\"data row44 col0\" >BCC</td>\n",
       "      <td id=\"T_1b734_row44_col1\" class=\"data row44 col1\" >3.490000</td>\n",
       "      <td id=\"T_1b734_row44_col2\" class=\"data row44 col2\" >3.439312</td>\n",
       "      <td id=\"T_1b734_row44_col3\" class=\"data row44 col3\" >3.444487</td>\n",
       "      <td id=\"T_1b734_row44_col4\" class=\"data row44 col4\" >-1.30%</td>\n",
       "      <td id=\"T_1b734_row44_col5\" class=\"data row44 col5\" >0.15%</td>\n",
       "    </tr>\n",
       "    <tr>\n",
       "      <th id=\"T_1b734_level0_row45\" class=\"row_heading level0 row45\" >LiBr</th>\n",
       "      <td id=\"T_1b734_row45_col0\" class=\"data row45 col0\" >Halite</td>\n",
       "      <td id=\"T_1b734_row45_col1\" class=\"data row45 col1\" >5.500000</td>\n",
       "      <td id=\"T_1b734_row45_col2\" class=\"data row45 col2\" >5.445381</td>\n",
       "      <td id=\"T_1b734_row45_col3\" class=\"data row45 col3\" >5.542445</td>\n",
       "      <td id=\"T_1b734_row45_col4\" class=\"data row45 col4\" >0.77%</td>\n",
       "      <td id=\"T_1b734_row45_col5\" class=\"data row45 col5\" >1.78%</td>\n",
       "    </tr>\n",
       "    <tr>\n",
       "      <th id=\"T_1b734_level0_row46\" class=\"row_heading level0 row46\" >LiCl</th>\n",
       "      <td id=\"T_1b734_row46_col0\" class=\"data row46 col0\" >Halite</td>\n",
       "      <td id=\"T_1b734_row46_col1\" class=\"data row46 col1\" >5.140000</td>\n",
       "      <td id=\"T_1b734_row46_col2\" class=\"data row46 col2\" >5.084245</td>\n",
       "      <td id=\"T_1b734_row46_col3\" class=\"data row46 col3\" >5.137603</td>\n",
       "      <td id=\"T_1b734_row46_col4\" class=\"data row46 col4\" >-0.05%</td>\n",
       "      <td id=\"T_1b734_row46_col5\" class=\"data row46 col5\" >1.05%</td>\n",
       "    </tr>\n",
       "    <tr>\n",
       "      <th id=\"T_1b734_level0_row47\" class=\"row_heading level0 row47\" >LiF</th>\n",
       "      <td id=\"T_1b734_row47_col0\" class=\"data row47 col0\" >Halite</td>\n",
       "      <td id=\"T_1b734_row47_col1\" class=\"data row47 col1\" >4.030000</td>\n",
       "      <td id=\"T_1b734_row47_col2\" class=\"data row47 col2\" >4.083427</td>\n",
       "      <td id=\"T_1b734_row47_col3\" class=\"data row47 col3\" >4.089020</td>\n",
       "      <td id=\"T_1b734_row47_col4\" class=\"data row47 col4\" >1.46%</td>\n",
       "      <td id=\"T_1b734_row47_col5\" class=\"data row47 col5\" >0.14%</td>\n",
       "    </tr>\n",
       "    <tr>\n",
       "      <th id=\"T_1b734_level0_row48\" class=\"row_heading level0 row48\" >LiI</th>\n",
       "      <td id=\"T_1b734_row48_col0\" class=\"data row48 col0\" >Halite</td>\n",
       "      <td id=\"T_1b734_row48_col1\" class=\"data row48 col1\" >6.010000</td>\n",
       "      <td id=\"T_1b734_row48_col2\" class=\"data row48 col2\" >5.968355</td>\n",
       "      <td id=\"T_1b734_row48_col3\" class=\"data row48 col3\" >6.053774</td>\n",
       "      <td id=\"T_1b734_row48_col4\" class=\"data row48 col4\" >0.73%</td>\n",
       "      <td id=\"T_1b734_row48_col5\" class=\"data row48 col5\" >1.43%</td>\n",
       "    </tr>\n",
       "    <tr>\n",
       "      <th id=\"T_1b734_level0_row49\" class=\"row_heading level0 row49\" >MgO</th>\n",
       "      <td id=\"T_1b734_row49_col0\" class=\"data row49 col0\" >Halite (FCC)</td>\n",
       "      <td id=\"T_1b734_row49_col1\" class=\"data row49 col1\" >4.212000</td>\n",
       "      <td id=\"T_1b734_row49_col2\" class=\"data row49 col2\" >4.194003</td>\n",
       "      <td id=\"T_1b734_row49_col3\" class=\"data row49 col3\" >4.264568</td>\n",
       "      <td id=\"T_1b734_row49_col4\" class=\"data row49 col4\" >1.25%</td>\n",
       "      <td id=\"T_1b734_row49_col5\" class=\"data row49 col5\" >1.68%</td>\n",
       "    </tr>\n",
       "    <tr>\n",
       "      <th id=\"T_1b734_level0_row50\" class=\"row_heading level0 row50\" >Mo</th>\n",
       "      <td id=\"T_1b734_row50_col0\" class=\"data row50 col0\" >BCC</td>\n",
       "      <td id=\"T_1b734_row50_col1\" class=\"data row50 col1\" >3.142000</td>\n",
       "      <td id=\"T_1b734_row50_col2\" class=\"data row50 col2\" >3.167618</td>\n",
       "      <td id=\"T_1b734_row50_col3\" class=\"data row50 col3\" >3.166742</td>\n",
       "      <td id=\"T_1b734_row50_col4\" class=\"data row50 col4\" >0.79%</td>\n",
       "      <td id=\"T_1b734_row50_col5\" class=\"data row50 col5\" >-0.03%</td>\n",
       "    </tr>\n",
       "    <tr>\n",
       "      <th id=\"T_1b734_level0_row51\" class=\"row_heading level0 row51\" >Na</th>\n",
       "      <td id=\"T_1b734_row51_col0\" class=\"data row51 col0\" >BCC</td>\n",
       "      <td id=\"T_1b734_row51_col1\" class=\"data row51 col1\" >4.230000</td>\n",
       "      <td id=\"T_1b734_row51_col2\" class=\"data row51 col2\" >4.208054</td>\n",
       "      <td id=\"T_1b734_row51_col3\" class=\"data row51 col3\" >4.226154</td>\n",
       "      <td id=\"T_1b734_row51_col4\" class=\"data row51 col4\" >-0.09%</td>\n",
       "      <td id=\"T_1b734_row51_col5\" class=\"data row51 col5\" >0.43%</td>\n",
       "    </tr>\n",
       "    <tr>\n",
       "      <th id=\"T_1b734_level0_row52\" class=\"row_heading level0 row52\" >NaBr</th>\n",
       "      <td id=\"T_1b734_row52_col0\" class=\"data row52 col0\" >Halite</td>\n",
       "      <td id=\"T_1b734_row52_col1\" class=\"data row52 col1\" >5.970000</td>\n",
       "      <td id=\"T_1b734_row52_col2\" class=\"data row52 col2\" >5.923085</td>\n",
       "      <td id=\"T_1b734_row52_col3\" class=\"data row52 col3\" >6.060649</td>\n",
       "      <td id=\"T_1b734_row52_col4\" class=\"data row52 col4\" >1.52%</td>\n",
       "      <td id=\"T_1b734_row52_col5\" class=\"data row52 col5\" >2.32%</td>\n",
       "    </tr>\n",
       "    <tr>\n",
       "      <th id=\"T_1b734_level0_row53\" class=\"row_heading level0 row53\" >NaCl</th>\n",
       "      <td id=\"T_1b734_row53_col0\" class=\"data row53 col0\" >Halite</td>\n",
       "      <td id=\"T_1b734_row53_col1\" class=\"data row53 col1\" >5.640000</td>\n",
       "      <td id=\"T_1b734_row53_col2\" class=\"data row53 col2\" >5.588126</td>\n",
       "      <td id=\"T_1b734_row53_col3\" class=\"data row53 col3\" >5.697209</td>\n",
       "      <td id=\"T_1b734_row53_col4\" class=\"data row53 col4\" >1.01%</td>\n",
       "      <td id=\"T_1b734_row53_col5\" class=\"data row53 col5\" >1.95%</td>\n",
       "    </tr>\n",
       "    <tr>\n",
       "      <th id=\"T_1b734_level0_row54\" class=\"row_heading level0 row54\" >NaF</th>\n",
       "      <td id=\"T_1b734_row54_col0\" class=\"data row54 col0\" >Halite</td>\n",
       "      <td id=\"T_1b734_row54_col1\" class=\"data row54 col1\" >4.630000</td>\n",
       "      <td id=\"T_1b734_row54_col2\" class=\"data row54 col2\" >4.571789</td>\n",
       "      <td id=\"T_1b734_row54_col3\" class=\"data row54 col3\" >4.716607</td>\n",
       "      <td id=\"T_1b734_row54_col4\" class=\"data row54 col4\" >1.87%</td>\n",
       "      <td id=\"T_1b734_row54_col5\" class=\"data row54 col5\" >3.17%</td>\n",
       "    </tr>\n",
       "    <tr>\n",
       "      <th id=\"T_1b734_level0_row55\" class=\"row_heading level0 row55\" >NaI</th>\n",
       "      <td id=\"T_1b734_row55_col0\" class=\"data row55 col0\" >Halite</td>\n",
       "      <td id=\"T_1b734_row55_col1\" class=\"data row55 col1\" >6.470000</td>\n",
       "      <td id=\"T_1b734_row55_col2\" class=\"data row55 col2\" >6.437313</td>\n",
       "      <td id=\"T_1b734_row55_col3\" class=\"data row55 col3\" >6.506101</td>\n",
       "      <td id=\"T_1b734_row55_col4\" class=\"data row55 col4\" >0.56%</td>\n",
       "      <td id=\"T_1b734_row55_col5\" class=\"data row55 col5\" >1.07%</td>\n",
       "    </tr>\n",
       "    <tr>\n",
       "      <th id=\"T_1b734_level0_row56\" class=\"row_heading level0 row56\" >Nb</th>\n",
       "      <td id=\"T_1b734_row56_col0\" class=\"data row56 col0\" >BCC</td>\n",
       "      <td id=\"T_1b734_row56_col1\" class=\"data row56 col1\" >3.300800</td>\n",
       "      <td id=\"T_1b734_row56_col2\" class=\"data row56 col2\" >3.317632</td>\n",
       "      <td id=\"T_1b734_row56_col3\" class=\"data row56 col3\" >3.317783</td>\n",
       "      <td id=\"T_1b734_row56_col4\" class=\"data row56 col4\" >0.51%</td>\n",
       "      <td id=\"T_1b734_row56_col5\" class=\"data row56 col5\" >0.00%</td>\n",
       "    </tr>\n",
       "    <tr>\n",
       "      <th id=\"T_1b734_level0_row57\" class=\"row_heading level0 row57\" >NbN</th>\n",
       "      <td id=\"T_1b734_row57_col0\" class=\"data row57 col0\" >Halite</td>\n",
       "      <td id=\"T_1b734_row57_col1\" class=\"data row57 col1\" >4.392000</td>\n",
       "      <td id=\"T_1b734_row57_col2\" class=\"data row57 col2\" >4.452468</td>\n",
       "      <td id=\"T_1b734_row57_col3\" class=\"data row57 col3\" >4.454411</td>\n",
       "      <td id=\"T_1b734_row57_col4\" class=\"data row57 col4\" >1.42%</td>\n",
       "      <td id=\"T_1b734_row57_col5\" class=\"data row57 col5\" >0.04%</td>\n",
       "    </tr>\n",
       "    <tr>\n",
       "      <th id=\"T_1b734_level0_row58\" class=\"row_heading level0 row58\" >Ne</th>\n",
       "      <td id=\"T_1b734_row58_col0\" class=\"data row58 col0\" >FCC</td>\n",
       "      <td id=\"T_1b734_row58_col1\" class=\"data row58 col1\" >4.430000</td>\n",
       "      <td id=\"T_1b734_row58_col2\" class=\"data row58 col2\" >4.195020</td>\n",
       "      <td id=\"T_1b734_row58_col3\" class=\"data row58 col3\" >4.338519</td>\n",
       "      <td id=\"T_1b734_row58_col4\" class=\"data row58 col4\" >-2.07%</td>\n",
       "      <td id=\"T_1b734_row58_col5\" class=\"data row58 col5\" >3.42%</td>\n",
       "    </tr>\n",
       "    <tr>\n",
       "      <th id=\"T_1b734_level0_row59\" class=\"row_heading level0 row59\" >Ni</th>\n",
       "      <td id=\"T_1b734_row59_col0\" class=\"data row59 col0\" >FCC</td>\n",
       "      <td id=\"T_1b734_row59_col1\" class=\"data row59 col1\" >3.499000</td>\n",
       "      <td id=\"T_1b734_row59_col2\" class=\"data row59 col2\" >3.475146</td>\n",
       "      <td id=\"T_1b734_row59_col3\" class=\"data row59 col3\" >3.503366</td>\n",
       "      <td id=\"T_1b734_row59_col4\" class=\"data row59 col4\" >0.12%</td>\n",
       "      <td id=\"T_1b734_row59_col5\" class=\"data row59 col5\" >0.81%</td>\n",
       "    </tr>\n",
       "    <tr>\n",
       "      <th id=\"T_1b734_level0_row60\" class=\"row_heading level0 row60\" >Pb</th>\n",
       "      <td id=\"T_1b734_row60_col0\" class=\"data row60 col0\" >FCC</td>\n",
       "      <td id=\"T_1b734_row60_col1\" class=\"data row60 col1\" >4.920000</td>\n",
       "      <td id=\"T_1b734_row60_col2\" class=\"data row60 col2\" >4.989509</td>\n",
       "      <td id=\"T_1b734_row60_col3\" class=\"data row60 col3\" >5.025697</td>\n",
       "      <td id=\"T_1b734_row60_col4\" class=\"data row60 col4\" >2.15%</td>\n",
       "      <td id=\"T_1b734_row60_col5\" class=\"data row60 col5\" >0.73%</td>\n",
       "    </tr>\n",
       "    <tr>\n",
       "      <th id=\"T_1b734_level0_row61\" class=\"row_heading level0 row61\" >PbS</th>\n",
       "      <td id=\"T_1b734_row61_col0\" class=\"data row61 col0\" >Halite (FCC)</td>\n",
       "      <td id=\"T_1b734_row61_col1\" class=\"data row61 col1\" >5.936200</td>\n",
       "      <td id=\"T_1b734_row61_col2\" class=\"data row61 col2\" >0.000000</td>\n",
       "      <td id=\"T_1b734_row61_col3\" class=\"data row61 col3\" >6.010332</td>\n",
       "      <td id=\"T_1b734_row61_col4\" class=\"data row61 col4\" >1.25%</td>\n",
       "      <td id=\"T_1b734_row61_col5\" class=\"data row61 col5\" >inf%</td>\n",
       "    </tr>\n",
       "    <tr>\n",
       "      <th id=\"T_1b734_level0_row62\" class=\"row_heading level0 row62\" >PbTe</th>\n",
       "      <td id=\"T_1b734_row62_col0\" class=\"data row62 col0\" >Halite (FCC)</td>\n",
       "      <td id=\"T_1b734_row62_col1\" class=\"data row62 col1\" >6.462000</td>\n",
       "      <td id=\"T_1b734_row62_col2\" class=\"data row62 col2\" >6.541794</td>\n",
       "      <td id=\"T_1b734_row62_col3\" class=\"data row62 col3\" >6.560341</td>\n",
       "      <td id=\"T_1b734_row62_col4\" class=\"data row62 col4\" >1.52%</td>\n",
       "      <td id=\"T_1b734_row62_col5\" class=\"data row62 col5\" >0.28%</td>\n",
       "    </tr>\n",
       "    <tr>\n",
       "      <th id=\"T_1b734_level0_row63\" class=\"row_heading level0 row63\" >Pd</th>\n",
       "      <td id=\"T_1b734_row63_col0\" class=\"data row63 col0\" >FCC</td>\n",
       "      <td id=\"T_1b734_row63_col1\" class=\"data row63 col1\" >3.859000</td>\n",
       "      <td id=\"T_1b734_row63_col2\" class=\"data row63 col2\" >3.917302</td>\n",
       "      <td id=\"T_1b734_row63_col3\" class=\"data row63 col3\" >3.938261</td>\n",
       "      <td id=\"T_1b734_row63_col4\" class=\"data row63 col4\" >2.05%</td>\n",
       "      <td id=\"T_1b734_row63_col5\" class=\"data row63 col5\" >0.54%</td>\n",
       "    </tr>\n",
       "    <tr>\n",
       "      <th id=\"T_1b734_level0_row64\" class=\"row_heading level0 row64\" >Pt</th>\n",
       "      <td id=\"T_1b734_row64_col0\" class=\"data row64 col0\" >FCC</td>\n",
       "      <td id=\"T_1b734_row64_col1\" class=\"data row64 col1\" >3.912000</td>\n",
       "      <td id=\"T_1b734_row64_col2\" class=\"data row64 col2\" >3.943150</td>\n",
       "      <td id=\"T_1b734_row64_col3\" class=\"data row64 col3\" >3.976443</td>\n",
       "      <td id=\"T_1b734_row64_col4\" class=\"data row64 col4\" >1.65%</td>\n",
       "      <td id=\"T_1b734_row64_col5\" class=\"data row64 col5\" >0.84%</td>\n",
       "    </tr>\n",
       "    <tr>\n",
       "      <th id=\"T_1b734_level0_row65\" class=\"row_heading level0 row65\" >RbBr</th>\n",
       "      <td id=\"T_1b734_row65_col0\" class=\"data row65 col0\" >Halite</td>\n",
       "      <td id=\"T_1b734_row65_col1\" class=\"data row65 col1\" >6.890000</td>\n",
       "      <td id=\"T_1b734_row65_col2\" class=\"data row65 col2\" >6.911901</td>\n",
       "      <td id=\"T_1b734_row65_col3\" class=\"data row65 col3\" >7.001376</td>\n",
       "      <td id=\"T_1b734_row65_col4\" class=\"data row65 col4\" >1.62%</td>\n",
       "      <td id=\"T_1b734_row65_col5\" class=\"data row65 col5\" >1.29%</td>\n",
       "    </tr>\n",
       "    <tr>\n",
       "      <th id=\"T_1b734_level0_row66\" class=\"row_heading level0 row66\" >RbCl</th>\n",
       "      <td id=\"T_1b734_row66_col0\" class=\"data row66 col0\" >Halite</td>\n",
       "      <td id=\"T_1b734_row66_col1\" class=\"data row66 col1\" >6.590000</td>\n",
       "      <td id=\"T_1b734_row66_col2\" class=\"data row66 col2\" >6.617415</td>\n",
       "      <td id=\"T_1b734_row66_col3\" class=\"data row66 col3\" >6.721173</td>\n",
       "      <td id=\"T_1b734_row66_col4\" class=\"data row66 col4\" >1.99%</td>\n",
       "      <td id=\"T_1b734_row66_col5\" class=\"data row66 col5\" >1.57%</td>\n",
       "    </tr>\n",
       "    <tr>\n",
       "      <th id=\"T_1b734_level0_row67\" class=\"row_heading level0 row67\" >RbF</th>\n",
       "      <td id=\"T_1b734_row67_col0\" class=\"data row67 col0\" >Halite</td>\n",
       "      <td id=\"T_1b734_row67_col1\" class=\"data row67 col1\" >5.650000</td>\n",
       "      <td id=\"T_1b734_row67_col2\" class=\"data row67 col2\" >5.632284</td>\n",
       "      <td id=\"T_1b734_row67_col3\" class=\"data row67 col3\" >5.722590</td>\n",
       "      <td id=\"T_1b734_row67_col4\" class=\"data row67 col4\" >1.28%</td>\n",
       "      <td id=\"T_1b734_row67_col5\" class=\"data row67 col5\" >1.60%</td>\n",
       "    </tr>\n",
       "    <tr>\n",
       "      <th id=\"T_1b734_level0_row68\" class=\"row_heading level0 row68\" >RbI</th>\n",
       "      <td id=\"T_1b734_row68_col0\" class=\"data row68 col0\" >Halite</td>\n",
       "      <td id=\"T_1b734_row68_col1\" class=\"data row68 col1\" >7.350000</td>\n",
       "      <td id=\"T_1b734_row68_col2\" class=\"data row68 col2\" >7.382335</td>\n",
       "      <td id=\"T_1b734_row68_col3\" class=\"data row68 col3\" >7.525812</td>\n",
       "      <td id=\"T_1b734_row68_col4\" class=\"data row68 col4\" >2.39%</td>\n",
       "      <td id=\"T_1b734_row68_col5\" class=\"data row68 col5\" >1.94%</td>\n",
       "    </tr>\n",
       "    <tr>\n",
       "      <th id=\"T_1b734_level0_row69\" class=\"row_heading level0 row69\" >Rh</th>\n",
       "      <td id=\"T_1b734_row69_col0\" class=\"data row69 col0\" >FCC</td>\n",
       "      <td id=\"T_1b734_row69_col1\" class=\"data row69 col1\" >3.800000</td>\n",
       "      <td id=\"T_1b734_row69_col2\" class=\"data row69 col2\" >3.805972</td>\n",
       "      <td id=\"T_1b734_row69_col3\" class=\"data row69 col3\" >3.846733</td>\n",
       "      <td id=\"T_1b734_row69_col4\" class=\"data row69 col4\" >1.23%</td>\n",
       "      <td id=\"T_1b734_row69_col5\" class=\"data row69 col5\" >1.07%</td>\n",
       "    </tr>\n",
       "    <tr>\n",
       "      <th id=\"T_1b734_level0_row70\" class=\"row_heading level0 row70\" >ScN</th>\n",
       "      <td id=\"T_1b734_row70_col0\" class=\"data row70 col0\" >Halite</td>\n",
       "      <td id=\"T_1b734_row70_col1\" class=\"data row70 col1\" >4.520000</td>\n",
       "      <td id=\"T_1b734_row70_col2\" class=\"data row70 col2\" >4.510944</td>\n",
       "      <td id=\"T_1b734_row70_col3\" class=\"data row70 col3\" >4.516923</td>\n",
       "      <td id=\"T_1b734_row70_col4\" class=\"data row70 col4\" >-0.07%</td>\n",
       "      <td id=\"T_1b734_row70_col5\" class=\"data row70 col5\" >0.13%</td>\n",
       "    </tr>\n",
       "    <tr>\n",
       "      <th id=\"T_1b734_level0_row71\" class=\"row_heading level0 row71\" >Si</th>\n",
       "      <td id=\"T_1b734_row71_col0\" class=\"data row71 col0\" >Diamond (FCC)</td>\n",
       "      <td id=\"T_1b734_row71_col1\" class=\"data row71 col1\" >5.431021</td>\n",
       "      <td id=\"T_1b734_row71_col2\" class=\"data row71 col2\" >5.443702</td>\n",
       "      <td id=\"T_1b734_row71_col3\" class=\"data row71 col3\" >5.458414</td>\n",
       "      <td id=\"T_1b734_row71_col4\" class=\"data row71 col4\" >0.50%</td>\n",
       "      <td id=\"T_1b734_row71_col5\" class=\"data row71 col5\" >0.27%</td>\n",
       "    </tr>\n",
       "    <tr>\n",
       "      <th id=\"T_1b734_level0_row72\" class=\"row_heading level0 row72\" >Sr</th>\n",
       "      <td id=\"T_1b734_row72_col0\" class=\"data row72 col0\" >FCC</td>\n",
       "      <td id=\"T_1b734_row72_col1\" class=\"data row72 col1\" >6.080000</td>\n",
       "      <td id=\"T_1b734_row72_col2\" class=\"data row72 col2\" >6.067206</td>\n",
       "      <td id=\"T_1b734_row72_col3\" class=\"data row72 col3\" >6.054884</td>\n",
       "      <td id=\"T_1b734_row72_col4\" class=\"data row72 col4\" >-0.41%</td>\n",
       "      <td id=\"T_1b734_row72_col5\" class=\"data row72 col5\" >-0.20%</td>\n",
       "    </tr>\n",
       "    <tr>\n",
       "      <th id=\"T_1b734_level0_row73\" class=\"row_heading level0 row73\" >SrTiO3</th>\n",
       "      <td id=\"T_1b734_row73_col0\" class=\"data row73 col0\" >Cubic perovskite</td>\n",
       "      <td id=\"T_1b734_row73_col1\" class=\"data row73 col1\" >3.988050</td>\n",
       "      <td id=\"T_1b734_row73_col2\" class=\"data row73 col2\" >3.912701</td>\n",
       "      <td id=\"T_1b734_row73_col3\" class=\"data row73 col3\" >3.944839</td>\n",
       "      <td id=\"T_1b734_row73_col4\" class=\"data row73 col4\" >-1.08%</td>\n",
       "      <td id=\"T_1b734_row73_col5\" class=\"data row73 col5\" >0.82%</td>\n",
       "    </tr>\n",
       "    <tr>\n",
       "      <th id=\"T_1b734_level0_row74\" class=\"row_heading level0 row74\" >SrVO3</th>\n",
       "      <td id=\"T_1b734_row74_col0\" class=\"data row74 col0\" >Cubic perovskite</td>\n",
       "      <td id=\"T_1b734_row74_col1\" class=\"data row74 col1\" >3.838000</td>\n",
       "      <td id=\"T_1b734_row74_col2\" class=\"data row74 col2\" >3.900891</td>\n",
       "      <td id=\"T_1b734_row74_col3\" class=\"data row74 col3\" >3.911846</td>\n",
       "      <td id=\"T_1b734_row74_col4\" class=\"data row74 col4\" >1.92%</td>\n",
       "      <td id=\"T_1b734_row74_col5\" class=\"data row74 col5\" >0.28%</td>\n",
       "    </tr>\n",
       "    <tr>\n",
       "      <th id=\"T_1b734_level0_row75\" class=\"row_heading level0 row75\" >Ta</th>\n",
       "      <td id=\"T_1b734_row75_col0\" class=\"data row75 col0\" >BCC</td>\n",
       "      <td id=\"T_1b734_row75_col1\" class=\"data row75 col1\" >3.305800</td>\n",
       "      <td id=\"T_1b734_row75_col2\" class=\"data row75 col2\" >3.309856</td>\n",
       "      <td id=\"T_1b734_row75_col3\" class=\"data row75 col3\" >3.326660</td>\n",
       "      <td id=\"T_1b734_row75_col4\" class=\"data row75 col4\" >0.63%</td>\n",
       "      <td id=\"T_1b734_row75_col5\" class=\"data row75 col5\" >0.51%</td>\n",
       "    </tr>\n",
       "    <tr>\n",
       "      <th id=\"T_1b734_level0_row76\" class=\"row_heading level0 row76\" >TaC0.99</th>\n",
       "      <td id=\"T_1b734_row76_col0\" class=\"data row76 col0\" >Halite</td>\n",
       "      <td id=\"T_1b734_row76_col1\" class=\"data row76 col1\" >4.456000</td>\n",
       "      <td id=\"T_1b734_row76_col2\" class=\"data row76 col2\" >4.467795</td>\n",
       "      <td id=\"T_1b734_row76_col3\" class=\"data row76 col3\" >4.474708</td>\n",
       "      <td id=\"T_1b734_row76_col4\" class=\"data row76 col4\" >0.42%</td>\n",
       "      <td id=\"T_1b734_row76_col5\" class=\"data row76 col5\" >0.15%</td>\n",
       "    </tr>\n",
       "    <tr>\n",
       "      <th id=\"T_1b734_level0_row77\" class=\"row_heading level0 row77\" >Th</th>\n",
       "      <td id=\"T_1b734_row77_col0\" class=\"data row77 col0\" >FCC</td>\n",
       "      <td id=\"T_1b734_row77_col1\" class=\"data row77 col1\" >5.080000</td>\n",
       "      <td id=\"T_1b734_row77_col2\" class=\"data row77 col2\" >5.047255</td>\n",
       "      <td id=\"T_1b734_row77_col3\" class=\"data row77 col3\" >5.055762</td>\n",
       "      <td id=\"T_1b734_row77_col4\" class=\"data row77 col4\" >-0.48%</td>\n",
       "      <td id=\"T_1b734_row77_col5\" class=\"data row77 col5\" >0.17%</td>\n",
       "    </tr>\n",
       "    <tr>\n",
       "      <th id=\"T_1b734_level0_row78\" class=\"row_heading level0 row78\" >TiC</th>\n",
       "      <td id=\"T_1b734_row78_col0\" class=\"data row78 col0\" >Halite</td>\n",
       "      <td id=\"T_1b734_row78_col1\" class=\"data row78 col1\" >4.328000</td>\n",
       "      <td id=\"T_1b734_row78_col2\" class=\"data row78 col2\" >4.331438</td>\n",
       "      <td id=\"T_1b734_row78_col3\" class=\"data row78 col3\" >4.337783</td>\n",
       "      <td id=\"T_1b734_row78_col4\" class=\"data row78 col4\" >0.23%</td>\n",
       "      <td id=\"T_1b734_row78_col5\" class=\"data row78 col5\" >0.15%</td>\n",
       "    </tr>\n",
       "    <tr>\n",
       "      <th id=\"T_1b734_level0_row79\" class=\"row_heading level0 row79\" >TiN</th>\n",
       "      <td id=\"T_1b734_row79_col0\" class=\"data row79 col0\" >Halite</td>\n",
       "      <td id=\"T_1b734_row79_col1\" class=\"data row79 col1\" >4.249000</td>\n",
       "      <td id=\"T_1b734_row79_col2\" class=\"data row79 col2\" >4.241247</td>\n",
       "      <td id=\"T_1b734_row79_col3\" class=\"data row79 col3\" >4.246024</td>\n",
       "      <td id=\"T_1b734_row79_col4\" class=\"data row79 col4\" >-0.07%</td>\n",
       "      <td id=\"T_1b734_row79_col5\" class=\"data row79 col5\" >0.11%</td>\n",
       "    </tr>\n",
       "    <tr>\n",
       "      <th id=\"T_1b734_level0_row80\" class=\"row_heading level0 row80\" >V</th>\n",
       "      <td id=\"T_1b734_row80_col0\" class=\"data row80 col0\" >BCC</td>\n",
       "      <td id=\"T_1b734_row80_col1\" class=\"data row80 col1\" >3.039900</td>\n",
       "      <td id=\"T_1b734_row80_col2\" class=\"data row80 col2\" >2.982399</td>\n",
       "      <td id=\"T_1b734_row80_col3\" class=\"data row80 col3\" >2.985185</td>\n",
       "      <td id=\"T_1b734_row80_col4\" class=\"data row80 col4\" >-1.80%</td>\n",
       "      <td id=\"T_1b734_row80_col5\" class=\"data row80 col5\" >0.09%</td>\n",
       "    </tr>\n",
       "    <tr>\n",
       "      <th id=\"T_1b734_level0_row81\" class=\"row_heading level0 row81\" >VC0.97</th>\n",
       "      <td id=\"T_1b734_row81_col0\" class=\"data row81 col0\" >Halite</td>\n",
       "      <td id=\"T_1b734_row81_col1\" class=\"data row81 col1\" >4.166000</td>\n",
       "      <td id=\"T_1b734_row81_col2\" class=\"data row81 col2\" >4.161946</td>\n",
       "      <td id=\"T_1b734_row81_col3\" class=\"data row81 col3\" >4.145138</td>\n",
       "      <td id=\"T_1b734_row81_col4\" class=\"data row81 col4\" >-0.50%</td>\n",
       "      <td id=\"T_1b734_row81_col5\" class=\"data row81 col5\" >-0.40%</td>\n",
       "    </tr>\n",
       "    <tr>\n",
       "      <th id=\"T_1b734_level0_row82\" class=\"row_heading level0 row82\" >VN</th>\n",
       "      <td id=\"T_1b734_row82_col0\" class=\"data row82 col0\" >Halite</td>\n",
       "      <td id=\"T_1b734_row82_col1\" class=\"data row82 col1\" >4.136000</td>\n",
       "      <td id=\"T_1b734_row82_col2\" class=\"data row82 col2\" >4.124930</td>\n",
       "      <td id=\"T_1b734_row82_col3\" class=\"data row82 col3\" >4.131446</td>\n",
       "      <td id=\"T_1b734_row82_col4\" class=\"data row82 col4\" >-0.11%</td>\n",
       "      <td id=\"T_1b734_row82_col5\" class=\"data row82 col5\" >0.16%</td>\n",
       "    </tr>\n",
       "    <tr>\n",
       "      <th id=\"T_1b734_level0_row83\" class=\"row_heading level0 row83\" >W</th>\n",
       "      <td id=\"T_1b734_row83_col0\" class=\"data row83 col0\" >BCC</td>\n",
       "      <td id=\"T_1b734_row83_col1\" class=\"data row83 col1\" >3.155000</td>\n",
       "      <td id=\"T_1b734_row83_col2\" class=\"data row83 col2\" >3.170316</td>\n",
       "      <td id=\"T_1b734_row83_col3\" class=\"data row83 col3\" >3.178230</td>\n",
       "      <td id=\"T_1b734_row83_col4\" class=\"data row83 col4\" >0.74%</td>\n",
       "      <td id=\"T_1b734_row83_col5\" class=\"data row83 col5\" >0.25%</td>\n",
       "    </tr>\n",
       "    <tr>\n",
       "      <th id=\"T_1b734_level0_row84\" class=\"row_heading level0 row84\" >Yb</th>\n",
       "      <td id=\"T_1b734_row84_col0\" class=\"data row84 col0\" >FCC</td>\n",
       "      <td id=\"T_1b734_row84_col1\" class=\"data row84 col1\" >5.490000</td>\n",
       "      <td id=\"T_1b734_row84_col2\" class=\"data row84 col2\" >5.387257</td>\n",
       "      <td id=\"T_1b734_row84_col3\" class=\"data row84 col3\" >5.483943</td>\n",
       "      <td id=\"T_1b734_row84_col4\" class=\"data row84 col4\" >-0.11%</td>\n",
       "      <td id=\"T_1b734_row84_col5\" class=\"data row84 col5\" >1.79%</td>\n",
       "    </tr>\n",
       "    <tr>\n",
       "      <th id=\"T_1b734_level0_row85\" class=\"row_heading level0 row85\" >ZnO</th>\n",
       "      <td id=\"T_1b734_row85_col0\" class=\"data row85 col0\" >Halite (FCC)</td>\n",
       "      <td id=\"T_1b734_row85_col1\" class=\"data row85 col1\" >4.580000</td>\n",
       "      <td id=\"T_1b734_row85_col2\" class=\"data row85 col2\" >4.338884</td>\n",
       "      <td id=\"T_1b734_row85_col3\" class=\"data row85 col3\" >4.334630</td>\n",
       "      <td id=\"T_1b734_row85_col4\" class=\"data row85 col4\" >-5.36%</td>\n",
       "      <td id=\"T_1b734_row85_col5\" class=\"data row85 col5\" >-0.10%</td>\n",
       "    </tr>\n",
       "    <tr>\n",
       "      <th id=\"T_1b734_level0_row86\" class=\"row_heading level0 row86\" >ZnS</th>\n",
       "      <td id=\"T_1b734_row86_col0\" class=\"data row86 col0\" >Zinc blende (FCC)</td>\n",
       "      <td id=\"T_1b734_row86_col1\" class=\"data row86 col1\" >5.420000</td>\n",
       "      <td id=\"T_1b734_row86_col2\" class=\"data row86 col2\" >5.387366</td>\n",
       "      <td id=\"T_1b734_row86_col3\" class=\"data row86 col3\" >5.453956</td>\n",
       "      <td id=\"T_1b734_row86_col4\" class=\"data row86 col4\" >0.63%</td>\n",
       "      <td id=\"T_1b734_row86_col5\" class=\"data row86 col5\" >1.24%</td>\n",
       "    </tr>\n",
       "    <tr>\n",
       "      <th id=\"T_1b734_level0_row87\" class=\"row_heading level0 row87\" >ZrC0.97</th>\n",
       "      <td id=\"T_1b734_row87_col0\" class=\"data row87 col0\" >Halite</td>\n",
       "      <td id=\"T_1b734_row87_col1\" class=\"data row87 col1\" >4.698000</td>\n",
       "      <td id=\"T_1b734_row87_col2\" class=\"data row87 col2\" >4.712866</td>\n",
       "      <td id=\"T_1b734_row87_col3\" class=\"data row87 col3\" >4.717641</td>\n",
       "      <td id=\"T_1b734_row87_col4\" class=\"data row87 col4\" >0.42%</td>\n",
       "      <td id=\"T_1b734_row87_col5\" class=\"data row87 col5\" >0.10%</td>\n",
       "    </tr>\n",
       "    <tr>\n",
       "      <th id=\"T_1b734_level0_row88\" class=\"row_heading level0 row88\" >ZrN</th>\n",
       "      <td id=\"T_1b734_row88_col0\" class=\"data row88 col0\" >Halite</td>\n",
       "      <td id=\"T_1b734_row88_col1\" class=\"data row88 col1\" >4.577000</td>\n",
       "      <td id=\"T_1b734_row88_col2\" class=\"data row88 col2\" >4.588531</td>\n",
       "      <td id=\"T_1b734_row88_col3\" class=\"data row88 col3\" >4.612292</td>\n",
       "      <td id=\"T_1b734_row88_col4\" class=\"data row88 col4\" >0.77%</td>\n",
       "      <td id=\"T_1b734_row88_col5\" class=\"data row88 col5\" >0.52%</td>\n",
       "    </tr>\n",
       "  </tbody>\n",
       "</table>\n"
      ],
      "text/plain": [
       "<pandas.io.formats.style.Styler at 0x2955c47c0>"
      ]
     },
     "execution_count": null,
     "metadata": {},
     "output_type": "execute_result"
    }
   ],
   "source": [
    "data.sort_index().style.format({\"% error vs Expt\": \"{:,.2%}\", \"% error vs MP\": \"{:,.2%}\"}).background_gradient()"
   ]
  },
  {
   "cell_type": "code",
   "execution_count": null,
   "id": "423e7893",
   "metadata": {},
   "outputs": [
    {
     "data": {
      "text/plain": [
       "<Axes: >"
      ]
     },
     "execution_count": null,
     "metadata": {},
     "output_type": "execute_result"
    },
    {
     "data": {
      "image/png": "[encoded data removed]",
      "text/plain": [
       "<Figure size 640x480 with 1 Axes>"
      ]
     },
     "metadata": {},
     "output_type": "display_data"
    }
   ],
   "source": [
    "data[\"% error vs MP\"].replace([np.inf, -np.inf], np.nan).dropna().hist(bins=20)"
   ]
  },
  {
   "cell_type": "code",
   "execution_count": null,
   "id": "ee8c2871",
   "metadata": {},
   "outputs": [],
   "source": [
    "# This generates a pretty markdown table output.\n",
    "\n",
    "# df = data.sort_values(\"% error vs MP\", key=abs).replace([np.inf, -np.inf], np.nan).dropna()\n",
    "# df[\"% error vs MP\"] = [f\"{v*100:.3f}%\" for v in df[\"% error vs MP\"]]\n",
    "# df[\"% error vs Expt\"] = [f\"{v*100:.3f}%\" for v in df[\"% error vs Expt\"]]\n",
    "# print(df.to_markdown())"
   ]
  }
 ],
 "metadata": {
  "kernelspec": {
   "display_name": "Python 3 (ipykernel)",
   "language": "python",
   "name": "python3"
  },
  "language_info": {
   "codemirror_mode": {
    "name": "ipython",
    "version": 3
   },
   "file_extension": ".py",
   "mimetype": "text/x-python",
   "name": "python",
   "nbconvert_exporter": "python",
   "pygments_lexer": "ipython3",
   "version": "3.9.16"
  },
  "vscode": {
   "interpreter": {
    "hash": "95e5cb0dae99d6911ce19b14750141ca4ad955f9302739260772daefb06054c0"
   }
  }
 },
 "nbformat": 4,
 "nbformat_minor": 5
}
